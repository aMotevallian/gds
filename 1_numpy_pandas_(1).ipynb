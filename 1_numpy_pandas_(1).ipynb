{
  "cells": [
    {
      "cell_type": "markdown",
      "metadata": {
        "id": "view-in-github",
        "colab_type": "text"
      },
      "source": [
        "<a href=\"https://colab.research.google.com/github/aMotevallian/gds/blob/main/1_numpy_pandas_(1).ipynb\" target=\"_parent\"><img src=\"https://colab.research.google.com/assets/colab-badge.svg\" alt=\"Open In Colab\"/></a>"
      ]
    },
    {
      "cell_type": "markdown",
      "id": "f8a0e5d3-822e-4dff-bc9c-810fce62df8d",
      "metadata": {
        "id": "f8a0e5d3-822e-4dff-bc9c-810fce62df8d"
      },
      "source": [
        "# Setting up the environment\n",
        "\n",
        "1. Setup virtual environment \n",
        "\n",
        "    One of the followings:\n",
        "\n",
        "    a. \n",
        "    ```cms\n",
        "    python -m venv gdsenv\n",
        "    source gdsenv/bin/activate\n",
        "    ```\n",
        "    \n",
        "    b. \n",
        "    ```cmd\n",
        "    brew install pyenv\n",
        "    pyenv install 3.10.0\n",
        "    pyenv virtualenv 3.10.0 gdsenv\n",
        "    pyenv activate gdsenv\n",
        "\n",
        "    ```"
      ]
    },
    {
      "cell_type": "markdown",
      "id": "0f89157a-0e9d-4525-9478-63fc2848ca1c",
      "metadata": {
        "id": "0f89157a-0e9d-4525-9478-63fc2848ca1c"
      },
      "source": [
        "2. Install needed packages"
      ]
    },
    {
      "cell_type": "code",
      "execution_count": null,
      "id": "12cfa3c5-165e-4340-a77c-fcf61038d52c",
      "metadata": {
        "tags": [],
        "colab": {
          "base_uri": "https://localhost:8080/",
          "height": 1000
        },
        "id": "12cfa3c5-165e-4340-a77c-fcf61038d52c",
        "outputId": "abd3f160-7b9c-4ee6-ff6b-6a9d815fcfcb"
      },
      "outputs": [
        {
          "output_type": "stream",
          "name": "stdout",
          "text": [
            "Looking in indexes: https://pypi.org/simple, https://us-python.pkg.dev/colab-wheels/public/simple/\n",
            "Requirement already satisfied: pip in /usr/local/lib/python3.8/dist-packages (22.0.4)\n",
            "Collecting pip\n",
            "  Downloading pip-23.0.1-py3-none-any.whl (2.1 MB)\n",
            "\u001b[2K     \u001b[90m━━━━━━━━━━━━━━━━━━━━━━━━━━━━━━━━━━━━━━━━\u001b[0m \u001b[32m2.1/2.1 MB\u001b[0m \u001b[31m23.9 MB/s\u001b[0m eta \u001b[36m0:00:00\u001b[0m\n",
            "\u001b[?25hInstalling collected packages: pip\n",
            "  Attempting uninstall: pip\n",
            "    Found existing installation: pip 22.0.4\n",
            "    Uninstalling pip-22.0.4:\n",
            "      Successfully uninstalled pip-22.0.4\n",
            "Successfully installed pip-23.0.1\n",
            "Looking in indexes: https://pypi.org/simple, https://us-python.pkg.dev/colab-wheels/public/simple/\n",
            "Collecting jupyterlab\n",
            "  Downloading jupyterlab-3.6.1-py3-none-any.whl (8.9 MB)\n",
            "\u001b[2K     \u001b[90m━━━━━━━━━━━━━━━━━━━━━━━━━━━━━━━━━━━━━━━━\u001b[0m \u001b[32m8.9/8.9 MB\u001b[0m \u001b[31m50.1 MB/s\u001b[0m eta \u001b[36m0:00:00\u001b[0m\n",
            "\u001b[?25hRequirement already satisfied: ipython in /usr/local/lib/python3.8/dist-packages (from jupyterlab) (7.9.0)\n",
            "Requirement already satisfied: notebook<7 in /usr/local/lib/python3.8/dist-packages (from jupyterlab) (6.3.0)\n",
            "Collecting jupyter-server<3,>=1.16.0\n",
            "  Downloading jupyter_server-2.3.0-py3-none-any.whl (365 kB)\n",
            "\u001b[2K     \u001b[90m━━━━━━━━━━━━━━━━━━━━━━━━━━━━━━━━━━━━━━\u001b[0m \u001b[32m365.8/365.8 kB\u001b[0m \u001b[31m30.9 MB/s\u001b[0m eta \u001b[36m0:00:00\u001b[0m\n",
            "\u001b[?25hRequirement already satisfied: jinja2>=2.1 in /usr/local/lib/python3.8/dist-packages (from jupyterlab) (3.1.2)\n",
            "Collecting nbclassic\n",
            "  Downloading nbclassic-0.5.2-py3-none-any.whl (10.0 MB)\n",
            "\u001b[2K     \u001b[90m━━━━━━━━━━━━━━━━━━━━━━━━━━━━━━━━━━━━━━━━\u001b[0m \u001b[32m10.0/10.0 MB\u001b[0m \u001b[31m77.7 MB/s\u001b[0m eta \u001b[36m0:00:00\u001b[0m\n",
            "\u001b[?25hRequirement already satisfied: tornado>=6.1.0 in /usr/local/lib/python3.8/dist-packages (from jupyterlab) (6.2)\n",
            "Requirement already satisfied: jupyter-core in /usr/local/lib/python3.8/dist-packages (from jupyterlab) (5.2.0)\n",
            "Requirement already satisfied: tomli in /usr/local/lib/python3.8/dist-packages (from jupyterlab) (2.0.1)\n",
            "Collecting jupyterlab-server~=2.19\n",
            "  Downloading jupyterlab_server-2.19.0-py3-none-any.whl (56 kB)\n",
            "\u001b[2K     \u001b[90m━━━━━━━━━━━━━━━━━━━━━━━━━━━━━━━━━━━━━━━━\u001b[0m \u001b[32m56.4/56.4 kB\u001b[0m \u001b[31m6.4 MB/s\u001b[0m eta \u001b[36m0:00:00\u001b[0m\n",
            "\u001b[?25hRequirement already satisfied: packaging in /usr/local/lib/python3.8/dist-packages (from jupyterlab) (23.0)\n",
            "Collecting jupyter-ydoc~=0.2.2\n",
            "  Downloading jupyter_ydoc-0.2.2-py3-none-any.whl (5.6 kB)\n",
            "Collecting jupyter-server-ydoc<0.7.0,>=0.6.0\n",
            "  Downloading jupyter_server_ydoc-0.6.1-py3-none-any.whl (11 kB)\n",
            "Requirement already satisfied: MarkupSafe>=2.0 in /usr/local/lib/python3.8/dist-packages (from jinja2>=2.1->jupyterlab) (2.1.2)\n",
            "Requirement already satisfied: nbconvert>=6.4.4 in /usr/local/lib/python3.8/dist-packages (from jupyter-server<3,>=1.16.0->jupyterlab) (6.5.4)\n",
            "Collecting jupyter-events>=0.4.0\n",
            "  Downloading jupyter_events-0.6.3-py3-none-any.whl (18 kB)\n",
            "Collecting pyzmq>=24\n",
            "  Downloading pyzmq-25.0.0-cp38-cp38-manylinux_2_12_x86_64.manylinux2010_x86_64.whl (1.1 MB)\n",
            "\u001b[2K     \u001b[90m━━━━━━━━━━━━━━━━━━━━━━━━━━━━━━━━━━━━━━━━\u001b[0m \u001b[32m1.1/1.1 MB\u001b[0m \u001b[31m22.0 MB/s\u001b[0m eta \u001b[36m0:00:00\u001b[0m\n",
            "\u001b[?25hCollecting jupyter-client>=7.4.4\n",
            "  Downloading jupyter_client-8.0.3-py3-none-any.whl (102 kB)\n",
            "\u001b[2K     \u001b[90m━━━━━━━━━━━━━━━━━━━━━━━━━━━━━━━━━━━━━━\u001b[0m \u001b[32m102.7/102.7 kB\u001b[0m \u001b[31m12.8 MB/s\u001b[0m eta \u001b[36m0:00:00\u001b[0m\n",
            "\u001b[?25hRequirement already satisfied: nbformat>=5.3.0 in /usr/local/lib/python3.8/dist-packages (from jupyter-server<3,>=1.16.0->jupyterlab) (5.7.3)\n",
            "Requirement already satisfied: prometheus-client in /usr/local/lib/python3.8/dist-packages (from jupyter-server<3,>=1.16.0->jupyterlab) (0.16.0)\n",
            "Requirement already satisfied: send2trash in /usr/local/lib/python3.8/dist-packages (from jupyter-server<3,>=1.16.0->jupyterlab) (1.8.0)\n",
            "Requirement already satisfied: traitlets>=5.6.0 in /usr/local/lib/python3.8/dist-packages (from jupyter-server<3,>=1.16.0->jupyterlab) (5.7.1)\n",
            "Collecting websocket-client\n",
            "  Downloading websocket_client-1.5.1-py3-none-any.whl (55 kB)\n",
            "\u001b[2K     \u001b[90m━━━━━━━━━━━━━━━━━━━━━━━━━━━━━━━━━━━━━━━━\u001b[0m \u001b[32m55.9/55.9 kB\u001b[0m \u001b[31m4.4 MB/s\u001b[0m eta \u001b[36m0:00:00\u001b[0m\n",
            "\u001b[?25hRequirement already satisfied: terminado>=0.8.3 in /usr/local/lib/python3.8/dist-packages (from jupyter-server<3,>=1.16.0->jupyterlab) (0.13.3)\n",
            "Collecting jupyter-server-terminals\n",
            "  Downloading jupyter_server_terminals-0.4.4-py3-none-any.whl (13 kB)\n",
            "Collecting anyio>=3.1.0\n",
            "  Downloading anyio-3.6.2-py3-none-any.whl (80 kB)\n",
            "\u001b[2K     \u001b[90m━━━━━━━━━━━━━━━━━━━━━━━━━━━━━━━━━━━━━━━━\u001b[0m \u001b[32m80.6/80.6 kB\u001b[0m \u001b[31m9.5 MB/s\u001b[0m eta \u001b[36m0:00:00\u001b[0m\n",
            "\u001b[?25hRequirement already satisfied: argon2-cffi in /usr/local/lib/python3.8/dist-packages (from jupyter-server<3,>=1.16.0->jupyterlab) (21.3.0)\n",
            "Requirement already satisfied: platformdirs>=2.5 in /usr/local/lib/python3.8/dist-packages (from jupyter-core->jupyterlab) (3.0.0)\n",
            "Collecting jupyter-server-fileid<1,>=0.6.0\n",
            "  Downloading jupyter_server_fileid-0.8.0-py3-none-any.whl (15 kB)\n",
            "Collecting ypy-websocket<0.9.0,>=0.8.2\n",
            "  Downloading ypy_websocket-0.8.4-py3-none-any.whl (10 kB)\n",
            "Collecting y-py<0.6.0,>=0.5.3\n",
            "  Downloading y_py-0.5.9-cp38-cp38-manylinux_2_17_x86_64.manylinux2014_x86_64.whl (1.6 MB)\n",
            "\u001b[2K     \u001b[90m━━━━━━━━━━━━━━━━━━━━━━━━━━━━━━━━━━━━━━━━\u001b[0m \u001b[32m1.6/1.6 MB\u001b[0m \u001b[31m44.6 MB/s\u001b[0m eta \u001b[36m0:00:00\u001b[0m\n",
            "\u001b[?25hRequirement already satisfied: importlib-metadata>=3.6 in /usr/local/lib/python3.8/dist-packages (from jupyter-ydoc~=0.2.2->jupyterlab) (6.0.0)\n",
            "Collecting requests>=2.28\n",
            "  Downloading requests-2.28.2-py3-none-any.whl (62 kB)\n",
            "\u001b[2K     \u001b[90m━━━━━━━━━━━━━━━━━━━━━━━━━━━━━━━━━━━━━━━━\u001b[0m \u001b[32m62.8/62.8 kB\u001b[0m \u001b[31m6.6 MB/s\u001b[0m eta \u001b[36m0:00:00\u001b[0m\n",
            "\u001b[?25hRequirement already satisfied: babel>=2.10 in /usr/local/lib/python3.8/dist-packages (from jupyterlab-server~=2.19->jupyterlab) (2.12.1)\n",
            "Collecting jsonschema>=4.17.3\n",
            "  Downloading jsonschema-4.17.3-py3-none-any.whl (90 kB)\n",
            "\u001b[2K     \u001b[90m━━━━━━━━━━━━━━━━━━━━━━━━━━━━━━━━━━━━━━━━\u001b[0m \u001b[32m90.4/90.4 kB\u001b[0m \u001b[31m4.4 MB/s\u001b[0m eta \u001b[36m0:00:00\u001b[0m\n",
            "\u001b[?25hCollecting json5>=0.9.0\n",
            "  Downloading json5-0.9.11-py2.py3-none-any.whl (19 kB)\n",
            "Requirement already satisfied: ipython-genutils in /usr/local/lib/python3.8/dist-packages (from notebook<7->jupyterlab) (0.2.0)\n",
            "Requirement already satisfied: ipykernel in /usr/local/lib/python3.8/dist-packages (from notebook<7->jupyterlab) (5.3.4)\n",
            "Requirement already satisfied: pickleshare in /usr/local/lib/python3.8/dist-packages (from ipython->jupyterlab) (0.7.5)\n",
            "Requirement already satisfied: decorator in /usr/local/lib/python3.8/dist-packages (from ipython->jupyterlab) (4.4.2)\n",
            "Requirement already satisfied: setuptools>=18.5 in /usr/local/lib/python3.8/dist-packages (from ipython->jupyterlab) (57.4.0)\n",
            "Requirement already satisfied: pygments in /usr/local/lib/python3.8/dist-packages (from ipython->jupyterlab) (2.6.1)\n",
            "Requirement already satisfied: prompt-toolkit<2.1.0,>=2.0.0 in /usr/local/lib/python3.8/dist-packages (from ipython->jupyterlab) (2.0.10)\n",
            "Requirement already satisfied: pexpect in /usr/local/lib/python3.8/dist-packages (from ipython->jupyterlab) (4.8.0)\n",
            "Collecting jedi>=0.10\n",
            "  Downloading jedi-0.18.2-py2.py3-none-any.whl (1.6 MB)\n",
            "\u001b[2K     \u001b[90m━━━━━━━━━━━━━━━━━━━━━━━━━━━━━━━━━━━━━━━━\u001b[0m \u001b[32m1.6/1.6 MB\u001b[0m \u001b[31m22.3 MB/s\u001b[0m eta \u001b[36m0:00:00\u001b[0m\n",
            "\u001b[?25hRequirement already satisfied: backcall in /usr/local/lib/python3.8/dist-packages (from ipython->jupyterlab) (0.2.0)\n",
            "Collecting nest-asyncio>=1.5\n",
            "  Downloading nest_asyncio-1.5.6-py3-none-any.whl (5.2 kB)\n",
            "Collecting notebook-shim>=0.1.0\n",
            "  Downloading notebook_shim-0.2.2-py3-none-any.whl (13 kB)\n",
            "Collecting sniffio>=1.1\n",
            "  Downloading sniffio-1.3.0-py3-none-any.whl (10 kB)\n",
            "Requirement already satisfied: idna>=2.8 in /usr/local/lib/python3.8/dist-packages (from anyio>=3.1.0->jupyter-server<3,>=1.16.0->jupyterlab) (2.10)\n",
            "Requirement already satisfied: pytz>=2015.7 in /usr/local/lib/python3.8/dist-packages (from babel>=2.10->jupyterlab-server~=2.19->jupyterlab) (2022.7.1)\n",
            "Requirement already satisfied: zipp>=0.5 in /usr/local/lib/python3.8/dist-packages (from importlib-metadata>=3.6->jupyter-ydoc~=0.2.2->jupyterlab) (3.15.0)\n",
            "Requirement already satisfied: parso<0.9.0,>=0.8.0 in /usr/local/lib/python3.8/dist-packages (from jedi>=0.10->ipython->jupyterlab) (0.8.3)\n",
            "Requirement already satisfied: importlib-resources>=1.4.0 in /usr/local/lib/python3.8/dist-packages (from jsonschema>=4.17.3->jupyterlab-server~=2.19->jupyterlab) (5.12.0)\n",
            "Requirement already satisfied: pyrsistent!=0.17.0,!=0.17.1,!=0.17.2,>=0.14.0 in /usr/local/lib/python3.8/dist-packages (from jsonschema>=4.17.3->jupyterlab-server~=2.19->jupyterlab) (0.19.3)\n",
            "Collecting pkgutil-resolve-name>=1.3.10\n",
            "  Downloading pkgutil_resolve_name-1.3.10-py3-none-any.whl (4.7 kB)\n",
            "Requirement already satisfied: attrs>=17.4.0 in /usr/local/lib/python3.8/dist-packages (from jsonschema>=4.17.3->jupyterlab-server~=2.19->jupyterlab) (22.2.0)\n",
            "Requirement already satisfied: python-dateutil>=2.8.2 in /usr/local/lib/python3.8/dist-packages (from jupyter-client>=7.4.4->jupyter-server<3,>=1.16.0->jupyterlab) (2.8.2)\n",
            "Collecting rfc3986-validator>=0.1.1\n",
            "  Downloading rfc3986_validator-0.1.1-py2.py3-none-any.whl (4.2 kB)\n",
            "Collecting rfc3339-validator\n",
            "  Downloading rfc3339_validator-0.1.4-py2.py3-none-any.whl (3.5 kB)\n",
            "Requirement already satisfied: jsonschema[format-nongpl]>=3.2.0 in /usr/local/lib/python3.8/dist-packages (from jupyter-events>=0.4.0->jupyter-server<3,>=1.16.0->jupyterlab) (4.3.3)\n",
            "Requirement already satisfied: pyyaml>=5.3 in /usr/local/lib/python3.8/dist-packages (from jupyter-events>=0.4.0->jupyter-server<3,>=1.16.0->jupyterlab) (6.0)\n",
            "Collecting python-json-logger>=2.0.4\n",
            "  Downloading python_json_logger-2.0.7-py3-none-any.whl (8.1 kB)\n",
            "Requirement already satisfied: mistune<2,>=0.8.1 in /usr/local/lib/python3.8/dist-packages (from nbconvert>=6.4.4->jupyter-server<3,>=1.16.0->jupyterlab) (0.8.4)\n",
            "Requirement already satisfied: lxml in /usr/local/lib/python3.8/dist-packages (from nbconvert>=6.4.4->jupyter-server<3,>=1.16.0->jupyterlab) (4.9.2)\n",
            "Requirement already satisfied: pandocfilters>=1.4.1 in /usr/local/lib/python3.8/dist-packages (from nbconvert>=6.4.4->jupyter-server<3,>=1.16.0->jupyterlab) (1.5.0)\n",
            "Requirement already satisfied: defusedxml in /usr/local/lib/python3.8/dist-packages (from nbconvert>=6.4.4->jupyter-server<3,>=1.16.0->jupyterlab) (0.7.1)\n",
            "Requirement already satisfied: beautifulsoup4 in /usr/local/lib/python3.8/dist-packages (from nbconvert>=6.4.4->jupyter-server<3,>=1.16.0->jupyterlab) (4.6.3)\n",
            "Requirement already satisfied: tinycss2 in /usr/local/lib/python3.8/dist-packages (from nbconvert>=6.4.4->jupyter-server<3,>=1.16.0->jupyterlab) (1.2.1)\n",
            "Requirement already satisfied: entrypoints>=0.2.2 in /usr/local/lib/python3.8/dist-packages (from nbconvert>=6.4.4->jupyter-server<3,>=1.16.0->jupyterlab) (0.4)\n",
            "Requirement already satisfied: nbclient>=0.5.0 in /usr/local/lib/python3.8/dist-packages (from nbconvert>=6.4.4->jupyter-server<3,>=1.16.0->jupyterlab) (0.7.2)\n",
            "Requirement already satisfied: bleach in /usr/local/lib/python3.8/dist-packages (from nbconvert>=6.4.4->jupyter-server<3,>=1.16.0->jupyterlab) (6.0.0)\n",
            "Requirement already satisfied: jupyterlab-pygments in /usr/local/lib/python3.8/dist-packages (from nbconvert>=6.4.4->jupyter-server<3,>=1.16.0->jupyterlab) (0.2.2)\n",
            "Requirement already satisfied: fastjsonschema in /usr/local/lib/python3.8/dist-packages (from nbformat>=5.3.0->jupyter-server<3,>=1.16.0->jupyterlab) (2.16.3)\n",
            "Requirement already satisfied: wcwidth in /usr/local/lib/python3.8/dist-packages (from prompt-toolkit<2.1.0,>=2.0.0->ipython->jupyterlab) (0.2.6)\n",
            "Requirement already satisfied: six>=1.9.0 in /usr/local/lib/python3.8/dist-packages (from prompt-toolkit<2.1.0,>=2.0.0->ipython->jupyterlab) (1.15.0)\n",
            "Requirement already satisfied: certifi>=2017.4.17 in /usr/local/lib/python3.8/dist-packages (from requests>=2.28->jupyterlab-server~=2.19->jupyterlab) (2022.12.7)\n",
            "Requirement already satisfied: charset-normalizer<4,>=2 in /usr/local/lib/python3.8/dist-packages (from requests>=2.28->jupyterlab-server~=2.19->jupyterlab) (3.0.1)\n",
            "Requirement already satisfied: urllib3<1.27,>=1.21.1 in /usr/local/lib/python3.8/dist-packages (from requests>=2.28->jupyterlab-server~=2.19->jupyterlab) (1.26.14)\n",
            "Requirement already satisfied: ptyprocess in /usr/local/lib/python3.8/dist-packages (from terminado>=0.8.3->jupyter-server<3,>=1.16.0->jupyterlab) (0.7.0)\n",
            "Collecting aiosqlite<1,>=0.17.0\n",
            "  Downloading aiosqlite-0.18.0-py3-none-any.whl (15 kB)\n",
            "Collecting aiofiles<23,>=22.1.0\n",
            "  Downloading aiofiles-22.1.0-py3-none-any.whl (14 kB)\n",
            "Collecting ypy-websocket<0.9.0,>=0.8.2\n",
            "  Downloading ypy_websocket-0.8.3-py3-none-any.whl (10 kB)\n",
            "  Downloading ypy_websocket-0.8.2-py3-none-any.whl (10 kB)\n",
            "Requirement already satisfied: argon2-cffi-bindings in /usr/local/lib/python3.8/dist-packages (from argon2-cffi->jupyter-server<3,>=1.16.0->jupyterlab) (21.2.0)\n",
            "\u001b[33mWARNING: jsonschema 4.3.3 does not provide the extra 'format-nongpl'\u001b[0m\u001b[33m\n",
            "\u001b[0mCollecting isoduration\n",
            "  Downloading isoduration-20.11.0-py3-none-any.whl (11 kB)\n",
            "Collecting webcolors>=1.11\n",
            "  Downloading webcolors-1.12-py3-none-any.whl (9.9 kB)\n",
            "Collecting uri-template\n",
            "  Downloading uri_template-1.2.0-py3-none-any.whl (10 kB)\n",
            "Collecting jsonpointer>1.13\n",
            "  Downloading jsonpointer-2.3-py2.py3-none-any.whl (7.8 kB)\n",
            "Collecting fqdn\n",
            "  Downloading fqdn-1.5.1-py3-none-any.whl (9.1 kB)\n",
            "Requirement already satisfied: cffi>=1.0.1 in /usr/local/lib/python3.8/dist-packages (from argon2-cffi-bindings->argon2-cffi->jupyter-server<3,>=1.16.0->jupyterlab) (1.15.1)\n",
            "Requirement already satisfied: webencodings in /usr/local/lib/python3.8/dist-packages (from bleach->nbconvert>=6.4.4->jupyter-server<3,>=1.16.0->jupyterlab) (0.5.1)\n",
            "Requirement already satisfied: pycparser in /usr/local/lib/python3.8/dist-packages (from cffi>=1.0.1->argon2-cffi-bindings->argon2-cffi->jupyter-server<3,>=1.16.0->jupyterlab) (2.21)\n",
            "Collecting arrow>=0.15.0\n",
            "  Downloading arrow-1.2.3-py3-none-any.whl (66 kB)\n",
            "\u001b[2K     \u001b[90m━━━━━━━━━━━━━━━━━━━━━━━━━━━━━━━━━━━━━━━━\u001b[0m \u001b[32m66.4/66.4 kB\u001b[0m \u001b[31m7.4 MB/s\u001b[0m eta \u001b[36m0:00:00\u001b[0m\n",
            "\u001b[?25hInstalling collected packages: y-py, json5, websocket-client, webcolors, uri-template, sniffio, rfc3986-validator, rfc3339-validator, requests, pyzmq, python-json-logger, pkgutil-resolve-name, nest-asyncio, jsonpointer, jedi, fqdn, aiosqlite, aiofiles, ypy-websocket, jupyter-ydoc, jupyter-server-terminals, jupyter-client, jsonschema, arrow, anyio, isoduration, jupyter-events, jupyter-server, notebook-shim, jupyterlab-server, jupyter-server-fileid, nbclassic, jupyter-server-ydoc, jupyterlab\n",
            "  Attempting uninstall: requests\n",
            "    Found existing installation: requests 2.25.1\n",
            "    Uninstalling requests-2.25.1:\n",
            "      Successfully uninstalled requests-2.25.1\n",
            "  Attempting uninstall: pyzmq\n",
            "    Found existing installation: pyzmq 23.2.1\n",
            "    Uninstalling pyzmq-23.2.1:\n",
            "      Successfully uninstalled pyzmq-23.2.1\n",
            "  Attempting uninstall: jupyter-client\n",
            "    Found existing installation: jupyter-client 6.1.12\n",
            "    Uninstalling jupyter-client-6.1.12:\n",
            "      Successfully uninstalled jupyter-client-6.1.12\n",
            "  Attempting uninstall: jsonschema\n",
            "    Found existing installation: jsonschema 4.3.3\n",
            "    Uninstalling jsonschema-4.3.3:\n",
            "      Successfully uninstalled jsonschema-4.3.3\n",
            "Successfully installed aiofiles-22.1.0 aiosqlite-0.18.0 anyio-3.6.2 arrow-1.2.3 fqdn-1.5.1 isoduration-20.11.0 jedi-0.18.2 json5-0.9.11 jsonpointer-2.3 jsonschema-4.17.3 jupyter-client-8.0.3 jupyter-events-0.6.3 jupyter-server-2.3.0 jupyter-server-fileid-0.8.0 jupyter-server-terminals-0.4.4 jupyter-server-ydoc-0.6.1 jupyter-ydoc-0.2.2 jupyterlab-3.6.1 jupyterlab-server-2.19.0 nbclassic-0.5.2 nest-asyncio-1.5.6 notebook-shim-0.2.2 pkgutil-resolve-name-1.3.10 python-json-logger-2.0.7 pyzmq-25.0.0 requests-2.28.2 rfc3339-validator-0.1.4 rfc3986-validator-0.1.1 sniffio-1.3.0 uri-template-1.2.0 webcolors-1.12 websocket-client-1.5.1 y-py-0.5.9 ypy-websocket-0.8.2\n",
            "\u001b[33mWARNING: Running pip as the 'root' user can result in broken permissions and conflicting behaviour with the system package manager. It is recommended to use a virtual environment instead: https://pip.pypa.io/warnings/venv\u001b[0m\u001b[33m\n",
            "\u001b[0m"
          ]
        },
        {
          "output_type": "display_data",
          "data": {
            "application/vnd.colab-display-data+json": {
              "pip_warning": {
                "packages": [
                  "zmq"
                ]
              }
            }
          },
          "metadata": {}
        },
        {
          "output_type": "stream",
          "name": "stdout",
          "text": [
            "Looking in indexes: https://pypi.org/simple, https://us-python.pkg.dev/colab-wheels/public/simple/\n",
            "Requirement already satisfied: pandas in /usr/local/lib/python3.8/dist-packages (1.3.5)\n",
            "Requirement already satisfied: numpy>=1.17.3 in /usr/local/lib/python3.8/dist-packages (from pandas) (1.22.4)\n",
            "Requirement already satisfied: python-dateutil>=2.7.3 in /usr/local/lib/python3.8/dist-packages (from pandas) (2.8.2)\n",
            "Requirement already satisfied: pytz>=2017.3 in /usr/local/lib/python3.8/dist-packages (from pandas) (2022.7.1)\n",
            "Requirement already satisfied: six>=1.5 in /usr/local/lib/python3.8/dist-packages (from python-dateutil>=2.7.3->pandas) (1.15.0)\n",
            "\u001b[33mWARNING: Running pip as the 'root' user can result in broken permissions and conflicting behaviour with the system package manager. It is recommended to use a virtual environment instead: https://pip.pypa.io/warnings/venv\u001b[0m\u001b[33m\n",
            "\u001b[0mLooking in indexes: https://pypi.org/simple, https://us-python.pkg.dev/colab-wheels/public/simple/\n",
            "Requirement already satisfied: scikit-learn in /usr/local/lib/python3.8/dist-packages (1.2.1)\n",
            "Requirement already satisfied: threadpoolctl>=2.0.0 in /usr/local/lib/python3.8/dist-packages (from scikit-learn) (3.1.0)\n",
            "Requirement already satisfied: scipy>=1.3.2 in /usr/local/lib/python3.8/dist-packages (from scikit-learn) (1.10.1)\n",
            "Requirement already satisfied: joblib>=1.1.1 in /usr/local/lib/python3.8/dist-packages (from scikit-learn) (1.2.0)\n",
            "Requirement already satisfied: numpy>=1.17.3 in /usr/local/lib/python3.8/dist-packages (from scikit-learn) (1.22.4)\n",
            "\u001b[33mWARNING: Running pip as the 'root' user can result in broken permissions and conflicting behaviour with the system package manager. It is recommended to use a virtual environment instead: https://pip.pypa.io/warnings/venv\u001b[0m\u001b[33m\n",
            "\u001b[0mLooking in indexes: https://pypi.org/simple, https://us-python.pkg.dev/colab-wheels/public/simple/\n",
            "Requirement already satisfied: matplotlib in /usr/local/lib/python3.8/dist-packages (3.5.3)\n",
            "Requirement already satisfied: packaging>=20.0 in /usr/local/lib/python3.8/dist-packages (from matplotlib) (23.0)\n",
            "Requirement already satisfied: kiwisolver>=1.0.1 in /usr/local/lib/python3.8/dist-packages (from matplotlib) (1.4.4)\n",
            "Requirement already satisfied: python-dateutil>=2.7 in /usr/local/lib/python3.8/dist-packages (from matplotlib) (2.8.2)\n",
            "Requirement already satisfied: cycler>=0.10 in /usr/local/lib/python3.8/dist-packages (from matplotlib) (0.11.0)\n",
            "Requirement already satisfied: numpy>=1.17 in /usr/local/lib/python3.8/dist-packages (from matplotlib) (1.22.4)\n",
            "Requirement already satisfied: fonttools>=4.22.0 in /usr/local/lib/python3.8/dist-packages (from matplotlib) (4.38.0)\n",
            "Requirement already satisfied: pillow>=6.2.0 in /usr/local/lib/python3.8/dist-packages (from matplotlib) (8.4.0)\n",
            "Requirement already satisfied: pyparsing>=2.2.1 in /usr/local/lib/python3.8/dist-packages (from matplotlib) (3.0.9)\n",
            "Requirement already satisfied: six>=1.5 in /usr/local/lib/python3.8/dist-packages (from python-dateutil>=2.7->matplotlib) (1.15.0)\n",
            "\u001b[33mWARNING: Running pip as the 'root' user can result in broken permissions and conflicting behaviour with the system package manager. It is recommended to use a virtual environment instead: https://pip.pypa.io/warnings/venv\u001b[0m\u001b[33m\n",
            "\u001b[0mLooking in indexes: https://pypi.org/simple, https://us-python.pkg.dev/colab-wheels/public/simple/\n",
            "Requirement already satisfied: seaborn in /usr/local/lib/python3.8/dist-packages (0.11.2)\n",
            "Requirement already satisfied: scipy>=1.0 in /usr/local/lib/python3.8/dist-packages (from seaborn) (1.10.1)\n",
            "Requirement already satisfied: numpy>=1.15 in /usr/local/lib/python3.8/dist-packages (from seaborn) (1.22.4)\n",
            "Requirement already satisfied: matplotlib>=2.2 in /usr/local/lib/python3.8/dist-packages (from seaborn) (3.5.3)\n",
            "Requirement already satisfied: pandas>=0.23 in /usr/local/lib/python3.8/dist-packages (from seaborn) (1.3.5)\n",
            "Requirement already satisfied: packaging>=20.0 in /usr/local/lib/python3.8/dist-packages (from matplotlib>=2.2->seaborn) (23.0)\n",
            "Requirement already satisfied: fonttools>=4.22.0 in /usr/local/lib/python3.8/dist-packages (from matplotlib>=2.2->seaborn) (4.38.0)\n",
            "Requirement already satisfied: cycler>=0.10 in /usr/local/lib/python3.8/dist-packages (from matplotlib>=2.2->seaborn) (0.11.0)\n",
            "Requirement already satisfied: pillow>=6.2.0 in /usr/local/lib/python3.8/dist-packages (from matplotlib>=2.2->seaborn) (8.4.0)\n",
            "Requirement already satisfied: pyparsing>=2.2.1 in /usr/local/lib/python3.8/dist-packages (from matplotlib>=2.2->seaborn) (3.0.9)\n",
            "Requirement already satisfied: python-dateutil>=2.7 in /usr/local/lib/python3.8/dist-packages (from matplotlib>=2.2->seaborn) (2.8.2)\n",
            "Requirement already satisfied: kiwisolver>=1.0.1 in /usr/local/lib/python3.8/dist-packages (from matplotlib>=2.2->seaborn) (1.4.4)\n",
            "Requirement already satisfied: pytz>=2017.3 in /usr/local/lib/python3.8/dist-packages (from pandas>=0.23->seaborn) (2022.7.1)\n",
            "Requirement already satisfied: six>=1.5 in /usr/local/lib/python3.8/dist-packages (from python-dateutil>=2.7->matplotlib>=2.2->seaborn) (1.15.0)\n",
            "\u001b[33mWARNING: Running pip as the 'root' user can result in broken permissions and conflicting behaviour with the system package manager. It is recommended to use a virtual environment instead: https://pip.pypa.io/warnings/venv\u001b[0m\u001b[33m\n",
            "\u001b[0m"
          ]
        }
      ],
      "source": [
        "!pip install -U pip\n",
        "!pip install jupyterlab\n",
        "!pip install pandas\n",
        "!pip install scikit-learn\n",
        "!pip install matplotlib\n",
        "!pip install seaborn"
      ]
    },
    {
      "cell_type": "markdown",
      "id": "24b5de99-9fe8-409e-834e-68ad0906e9a2",
      "metadata": {
        "id": "24b5de99-9fe8-409e-834e-68ad0906e9a2"
      },
      "source": [
        "3. launch the notebook:\n",
        "```cmd \n",
        "jupyter lab\n",
        "```"
      ]
    },
    {
      "cell_type": "markdown",
      "id": "bf99e853-0bd5-481f-9b19-33edf2885c43",
      "metadata": {
        "id": "bf99e853-0bd5-481f-9b19-33edf2885c43"
      },
      "source": [
        "# 1. NumPy"
      ]
    },
    {
      "cell_type": "markdown",
      "id": "ebc855e5-83ee-4c8b-a6e9-f315f2017626",
      "metadata": {
        "id": "ebc855e5-83ee-4c8b-a6e9-f315f2017626"
      },
      "source": [
        "## 1.1 Array creation"
      ]
    },
    {
      "cell_type": "code",
      "execution_count": null,
      "id": "7b914434-f726-4f4e-ac62-ffdd7aff8ff4",
      "metadata": {
        "id": "7b914434-f726-4f4e-ac62-ffdd7aff8ff4"
      },
      "outputs": [],
      "source": [
        "import numpy as np"
      ]
    },
    {
      "cell_type": "code",
      "execution_count": null,
      "id": "948b3b67-693a-45e4-9eb0-bafb68a38d9c",
      "metadata": {
        "colab": {
          "base_uri": "https://localhost:8080/"
        },
        "id": "948b3b67-693a-45e4-9eb0-bafb68a38d9c",
        "outputId": "28bd5dac-7677-4135-adb4-27d8caecd4aa"
      },
      "outputs": [
        {
          "output_type": "execute_result",
          "data": {
            "text/plain": [
              "array([1, 4, 2, 5, 3])"
            ]
          },
          "metadata": {},
          "execution_count": 3
        }
      ],
      "source": [
        "np.array([1, 4, 2, 5, 3])"
      ]
    },
    {
      "cell_type": "code",
      "execution_count": null,
      "id": "f22fac97-2952-461a-9c44-7243c37ff637",
      "metadata": {
        "colab": {
          "base_uri": "https://localhost:8080/"
        },
        "id": "f22fac97-2952-461a-9c44-7243c37ff637",
        "outputId": "14068d36-ab35-414f-f5e0-24eac7b02207"
      },
      "outputs": [
        {
          "output_type": "execute_result",
          "data": {
            "text/plain": [
              "array([1., 2., 3., 4.], dtype=float32)"
            ]
          },
          "metadata": {},
          "execution_count": 4
        }
      ],
      "source": [
        "np.array([1, 2, 3, 4], dtype='float32')"
      ]
    },
    {
      "cell_type": "code",
      "execution_count": null,
      "id": "8b0a1ed9-91fd-44e8-922e-6f58e560ddcb",
      "metadata": {
        "colab": {
          "base_uri": "https://localhost:8080/"
        },
        "id": "8b0a1ed9-91fd-44e8-922e-6f58e560ddcb",
        "outputId": "c13a83b6-0fe1-417a-9d7a-f87a45ee6987"
      },
      "outputs": [
        {
          "output_type": "execute_result",
          "data": {
            "text/plain": [
              "array([[2, 3, 4],\n",
              "       [4, 5, 6],\n",
              "       [6, 7, 8]])"
            ]
          },
          "metadata": {},
          "execution_count": 5
        }
      ],
      "source": [
        "# nested lists result in multi-dimensional arrays\n",
        "np.array([range(i, i + 3) for i in [2, 4, 6]])"
      ]
    },
    {
      "cell_type": "code",
      "execution_count": null,
      "id": "97c99d7d-f8de-45a3-b712-12daef3a9d3a",
      "metadata": {
        "colab": {
          "base_uri": "https://localhost:8080/"
        },
        "id": "97c99d7d-f8de-45a3-b712-12daef3a9d3a",
        "outputId": "b399b450-43b3-4677-ea32-a712baf49e68"
      },
      "outputs": [
        {
          "output_type": "execute_result",
          "data": {
            "text/plain": [
              "array([0, 0, 0, 0, 0, 0, 0, 0, 0, 0])"
            ]
          },
          "metadata": {},
          "execution_count": 6
        }
      ],
      "source": [
        "# Create a length-10 integer array filled with zeros\n",
        "np.zeros(10, dtype=int)"
      ]
    },
    {
      "cell_type": "code",
      "execution_count": null,
      "id": "b60f45d1-8341-49b2-8e6e-6a636bbd69c6",
      "metadata": {
        "colab": {
          "base_uri": "https://localhost:8080/"
        },
        "id": "b60f45d1-8341-49b2-8e6e-6a636bbd69c6",
        "outputId": "172ad65f-da55-45ec-cb47-9daf219bbdb0"
      },
      "outputs": [
        {
          "output_type": "execute_result",
          "data": {
            "text/plain": [
              "array([[1., 1., 1., 1., 1.],\n",
              "       [1., 1., 1., 1., 1.],\n",
              "       [1., 1., 1., 1., 1.]])"
            ]
          },
          "metadata": {},
          "execution_count": 7
        }
      ],
      "source": [
        "# Create a 3x5 floating-point array filled with ones\n",
        "np.ones((3, 5), dtype=float)"
      ]
    },
    {
      "cell_type": "code",
      "execution_count": null,
      "id": "0a31de3a-f35d-4676-891a-9bdbcada44fe",
      "metadata": {
        "colab": {
          "base_uri": "https://localhost:8080/"
        },
        "id": "0a31de3a-f35d-4676-891a-9bdbcada44fe",
        "outputId": "381588ef-8772-4af1-fd54-e7646740ede1"
      },
      "outputs": [
        {
          "output_type": "execute_result",
          "data": {
            "text/plain": [
              "array([ 0,  2,  4,  6,  8, 10, 12, 14, 16, 18])"
            ]
          },
          "metadata": {},
          "execution_count": 8
        }
      ],
      "source": [
        "# Create an array filled with a linear sequence\n",
        "# Starting at 0, ending at 20, stepping by 2\n",
        "# (this is similar to the built-in range() function)\n",
        "np.arange(start=0, stop=20, step=2)"
      ]
    },
    {
      "cell_type": "code",
      "execution_count": null,
      "id": "7e2336b8-3328-4f69-95d1-019b3e841f8b",
      "metadata": {
        "colab": {
          "base_uri": "https://localhost:8080/"
        },
        "id": "7e2336b8-3328-4f69-95d1-019b3e841f8b",
        "outputId": "7fb1572b-0211-4da9-d9fb-9c27e10463ab"
      },
      "outputs": [
        {
          "output_type": "execute_result",
          "data": {
            "text/plain": [
              "array([0.  , 0.25, 0.5 , 0.75, 1.  ])"
            ]
          },
          "metadata": {},
          "execution_count": 9
        }
      ],
      "source": [
        "# Create an array of five values evenly spaced between 0 and 1\n",
        "np.linspace(start=0, stop=1, num=5)"
      ]
    },
    {
      "cell_type": "code",
      "execution_count": null,
      "id": "216fe9f0-6360-4ce2-a26b-34b5cbe20073",
      "metadata": {
        "colab": {
          "base_uri": "https://localhost:8080/"
        },
        "id": "216fe9f0-6360-4ce2-a26b-34b5cbe20073",
        "outputId": "7634f5ee-640d-494d-eb61-c22e07e773f8"
      },
      "outputs": [
        {
          "output_type": "execute_result",
          "data": {
            "text/plain": [
              "array([[0.04415124, 0.80778024, 0.7109868 ],\n",
              "       [0.71689177, 0.90220221, 0.09110736],\n",
              "       [0.26602429, 0.93162527, 0.10137429]])"
            ]
          },
          "metadata": {},
          "execution_count": 10
        }
      ],
      "source": [
        "# Create a 3x3 array of uniformly distributed\n",
        "# random values between 0 and 1\n",
        "np.random.random(size=(3, 3))"
      ]
    },
    {
      "cell_type": "code",
      "execution_count": null,
      "id": "27902900-b07c-4176-b12a-b0543a081ca3",
      "metadata": {
        "colab": {
          "base_uri": "https://localhost:8080/"
        },
        "id": "27902900-b07c-4176-b12a-b0543a081ca3",
        "outputId": "d00440e4-672d-4ad7-fc6e-f83adeed29df"
      },
      "outputs": [
        {
          "output_type": "execute_result",
          "data": {
            "text/plain": [
              "array([[1, 0, 2],\n",
              "       [4, 2, 9],\n",
              "       [0, 4, 9]])"
            ]
          },
          "metadata": {},
          "execution_count": 11
        }
      ],
      "source": [
        "# Create a 3x3 array of random integers in the interval [0, 10)\n",
        "np.random.randint(low=0, high=10, size=(3, 3))"
      ]
    },
    {
      "cell_type": "code",
      "execution_count": null,
      "id": "e0778ada-ef11-4574-b339-e3940e150a92",
      "metadata": {
        "colab": {
          "base_uri": "https://localhost:8080/"
        },
        "id": "e0778ada-ef11-4574-b339-e3940e150a92",
        "outputId": "eb1b9963-c110-491c-c74b-af0077709a5c"
      },
      "outputs": [
        {
          "output_type": "execute_result",
          "data": {
            "text/plain": [
              "array([[1., 0., 0.],\n",
              "       [0., 1., 0.],\n",
              "       [0., 0., 1.]])"
            ]
          },
          "metadata": {},
          "execution_count": 12
        }
      ],
      "source": [
        "# Create a 3x3 identity matrix\n",
        "np.eye(3)"
      ]
    },
    {
      "cell_type": "markdown",
      "id": "95dfc7c9-a963-4546-b446-d1e04defaa87",
      "metadata": {
        "id": "95dfc7c9-a963-4546-b446-d1e04defaa87"
      },
      "source": [
        "## 1.2 Arrays: basics"
      ]
    },
    {
      "cell_type": "code",
      "execution_count": null,
      "id": "f88b04c7-479e-4a48-819a-4fb480d41aee",
      "metadata": {
        "colab": {
          "base_uri": "https://localhost:8080/"
        },
        "id": "f88b04c7-479e-4a48-819a-4fb480d41aee",
        "outputId": "006a994a-469b-4b7f-ab89-5017a9f6e498"
      },
      "outputs": [
        {
          "output_type": "stream",
          "name": "stdout",
          "text": [
            "A ndim:  3\n",
            "A shape: (3, 4, 5)\n",
            "A size:  60\n",
            "dtype: int64\n",
            "\n",
            "itemsize: 8 bytes\n",
            "nbytes: 480 bytes = itemsize x size (480)\n"
          ]
        }
      ],
      "source": [
        "A = np.random.randint(10, size=(3, 4, 5))  # Three-dimensional array\n",
        "\n",
        "print(\"A ndim: \", A.ndim)\n",
        "print(\"A shape:\", A.shape)\n",
        "print(\"A size: \", A.size)\n",
        "print(\"dtype:\", A.dtype)\n",
        "print()\n",
        "print(\"itemsize:\", A.itemsize, \"bytes\")\n",
        "print(\"nbytes:\", A.nbytes, \"bytes\", \"=\", f\"itemsize x size ({A.itemsize * A.size})\")"
      ]
    },
    {
      "cell_type": "markdown",
      "id": "44221776-8340-47c8-b891-0e769addc787",
      "metadata": {
        "id": "44221776-8340-47c8-b891-0e769addc787"
      },
      "source": [
        "### Indexing"
      ]
    },
    {
      "cell_type": "code",
      "execution_count": null,
      "id": "7e0dc642-5b57-4d27-aec5-29164b678eff",
      "metadata": {
        "id": "7e0dc642-5b57-4d27-aec5-29164b678eff"
      },
      "outputs": [],
      "source": [
        "X = np.random.randint(10, size=10)\n",
        "Y = np.random.randint(10, size=(5, 10))"
      ]
    },
    {
      "cell_type": "code",
      "execution_count": null,
      "id": "de6b544f-c6b5-494b-8ae0-0c0bfb64ca34",
      "metadata": {
        "colab": {
          "base_uri": "https://localhost:8080/"
        },
        "id": "de6b544f-c6b5-494b-8ae0-0c0bfb64ca34",
        "outputId": "14c3d64e-d2da-470c-805c-b46a9ea8ebf9"
      },
      "outputs": [
        {
          "output_type": "stream",
          "name": "stdout",
          "text": [
            "X = [0 6 1 6 0 2 3 1 3 4]\n",
            "Y = \n",
            " [[9 6 1 0 7 1 2 9 3 2]\n",
            " [7 4 1 0 7 4 2 9 2 0]\n",
            " [7 8 0 5 3 5 4 8 2 1]\n",
            " [6 0 2 7 5 3 1 2 9 8]\n",
            " [9 2 2 8 3 0 9 8 3 0]]\n",
            "\n",
            "X[6] = 3\n",
            "Y[2, 3] = 5\n",
            "Y[2, -1] = 1\n"
          ]
        }
      ],
      "source": [
        "print(\"X =\",  X)\n",
        "print(\"Y = \\n\", Y)\n",
        "print()\n",
        "print(f\"X[6] = {X[6]}\")\n",
        "print(f\"Y[2, 3] = {Y[2, 3]}\")\n",
        "print(f\"Y[2, -1] = {Y[2, -1]}\")"
      ]
    },
    {
      "cell_type": "markdown",
      "id": "55f1fd82-3630-4f4c-84b6-ae6466be7a3d",
      "metadata": {
        "id": "55f1fd82-3630-4f4c-84b6-ae6466be7a3d"
      },
      "source": [
        "### Slicing"
      ]
    },
    {
      "cell_type": "code",
      "execution_count": null,
      "id": "efff8cf2-d647-4c39-99c5-eab4b5860dcf",
      "metadata": {
        "colab": {
          "base_uri": "https://localhost:8080/"
        },
        "id": "efff8cf2-d647-4c39-99c5-eab4b5860dcf",
        "outputId": "2d5cb1b0-3511-4079-8dcc-cda923a45e18"
      },
      "outputs": [
        {
          "output_type": "stream",
          "name": "stdout",
          "text": [
            "X[3: 8] =  [6 0 2 3 1]\n",
            "X[3: -1: 2] =  [6 2 1]\n",
            "Y[:: 1] =  [6 4 8 0 2]\n",
            "Y[2:4, 1: 4] = \n",
            " [[8 0 5]\n",
            " [0 2 7]]\n"
          ]
        }
      ],
      "source": [
        "# X[start:stop:step]\n",
        "print(\"X[3: 8] = \", X[3: 8])\n",
        "print(\"X[3: -1: 2] = \", X[3: -1: 2])\n",
        "print(\"Y[:: 1] = \", Y[:, 1])\n",
        "print(\"Y[2:4, 1: 4] = \\n\", Y[2:4, 1: 4])"
      ]
    },
    {
      "cell_type": "code",
      "execution_count": null,
      "id": "e02d15e6-5660-4a47-a89f-d6655a95af0c",
      "metadata": {
        "colab": {
          "base_uri": "https://localhost:8080/"
        },
        "id": "e02d15e6-5660-4a47-a89f-d6655a95af0c",
        "outputId": "c943e9df-90f8-4e86-8a0b-777252d2dad7"
      },
      "outputs": [
        {
          "output_type": "execute_result",
          "data": {
            "text/plain": [
              "array([[ 0,  1,  2,  3],\n",
              "       [ 4,  5,  6,  7],\n",
              "       [ 8,  9, 10, 11]])"
            ]
          },
          "metadata": {},
          "execution_count": 24
        }
      ],
      "source": [
        "X = np.arange(12).reshape((3, 4))\n",
        "X"
      ]
    },
    {
      "cell_type": "code",
      "execution_count": null,
      "id": "4f2aba64-0c64-4c8b-abf8-7526ab93f965",
      "metadata": {
        "id": "4f2aba64-0c64-4c8b-abf8-7526ab93f965",
        "outputId": "758259ba-44a6-444f-d9dd-f38e8eb559c1"
      },
      "outputs": [
        {
          "data": {
            "text/plain": [
              "array([[ 6,  4,  5],\n",
              "       [10,  8,  9]])"
            ]
          },
          "execution_count": 34,
          "metadata": {},
          "output_type": "execute_result"
        }
      ],
      "source": [
        "X[1:, [2, 0, 1]]"
      ]
    },
    {
      "cell_type": "markdown",
      "id": "3876c9ab-024d-4f59-83d4-4380036c2bc9",
      "metadata": {
        "id": "3876c9ab-024d-4f59-83d4-4380036c2bc9"
      },
      "source": [
        "## 1.3 Performance issues"
      ]
    },
    {
      "cell_type": "markdown",
      "id": "947a30ab-ba6e-41ab-8357-ed44a521040f",
      "metadata": {
        "id": "947a30ab-ba6e-41ab-8357-ed44a521040f"
      },
      "source": [
        "### Loops"
      ]
    },
    {
      "cell_type": "code",
      "execution_count": null,
      "id": "597cad48-266f-47c7-8f37-128ce1154b36",
      "metadata": {
        "id": "597cad48-266f-47c7-8f37-128ce1154b36"
      },
      "outputs": [],
      "source": [
        "np.random.seed(0)\n",
        "\n",
        "def compute_reciprocals(values):\n",
        "    output = np.empty(len(values))\n",
        "    for i in range(len(values)):\n",
        "        output[i] = 1.0 / values[i]\n",
        "    return \n",
        "\n",
        "big_array = np.random.randint(1, 100, size=1000000)"
      ]
    },
    {
      "cell_type": "code",
      "execution_count": null,
      "id": "5805fe55-6c47-4e31-bbb7-898fb6f40a24",
      "metadata": {
        "colab": {
          "base_uri": "https://localhost:8080/"
        },
        "id": "5805fe55-6c47-4e31-bbb7-898fb6f40a24",
        "outputId": "baf898d9-1525-457c-9f47-4b782f03e1d5"
      },
      "outputs": [
        {
          "output_type": "stream",
          "name": "stdout",
          "text": [
            "3.57 s ± 1.01 s per loop (mean ± std. dev. of 7 runs, 1 loop each)\n"
          ]
        }
      ],
      "source": [
        "%timeit compute_reciprocals(big_array)"
      ]
    },
    {
      "cell_type": "markdown",
      "id": "6d90e90a-37fb-4d6b-835d-23158723f004",
      "metadata": {
        "id": "6d90e90a-37fb-4d6b-835d-23158723f004"
      },
      "source": [
        "### Universal functions\n",
        "\n",
        "Pushing loops into the compiled layer."
      ]
    },
    {
      "cell_type": "code",
      "execution_count": null,
      "id": "8a7fa690-1f85-4a9e-b95e-5387c71eeab4",
      "metadata": {
        "colab": {
          "base_uri": "https://localhost:8080/"
        },
        "id": "8a7fa690-1f85-4a9e-b95e-5387c71eeab4",
        "outputId": "305ac12b-3f8d-461c-c64b-52e3fc93d371"
      },
      "outputs": [
        {
          "output_type": "stream",
          "name": "stdout",
          "text": [
            "1.43 ms ± 103 µs per loop (mean ± std. dev. of 7 runs, 1000 loops each)\n"
          ]
        }
      ],
      "source": [
        "%timeit (1.0 / big_array)"
      ]
    },
    {
      "cell_type": "code",
      "execution_count": null,
      "id": "1e322b47-f423-4476-aaaa-940f3772ed9b",
      "metadata": {
        "colab": {
          "base_uri": "https://localhost:8080/"
        },
        "id": "1e322b47-f423-4476-aaaa-940f3772ed9b",
        "outputId": "f015eee5-6862-43dd-b7fc-aec3f15729bd"
      },
      "outputs": [
        {
          "output_type": "stream",
          "name": "stdout",
          "text": [
            "x     = [0 1 2 3]\n",
            "x + 5 = [5 6 7 8]\n",
            "x * 2 = [0 2 4 6]\n",
            "x // 2 = [0 0 1 1]\n"
          ]
        }
      ],
      "source": [
        "x = np.arange(4)\n",
        "print(\"x     =\", x)\n",
        "print(\"x + 5 =\", x + 5)\n",
        "print(\"x * 2 =\", x * 2)\n",
        "print(\"x // 2 =\", x // 2)  # floor division"
      ]
    },
    {
      "cell_type": "code",
      "execution_count": null,
      "id": "562b70a2-cd74-48a0-b9ed-9d5ba26b5efc",
      "metadata": {
        "colab": {
          "base_uri": "https://localhost:8080/"
        },
        "id": "562b70a2-cd74-48a0-b9ed-9d5ba26b5efc",
        "outputId": "11e90a9d-9176-4a8d-c73f-3a0a42f0f56f"
      },
      "outputs": [
        {
          "output_type": "stream",
          "name": "stdout",
          "text": [
            "theta      =  [0.         1.57079633 3.14159265]\n",
            "sin(theta) =  [0.0000000e+00 1.0000000e+00 1.2246468e-16]\n",
            "cos(theta) =  [ 1.000000e+00  6.123234e-17 -1.000000e+00]\n",
            "tan(theta) =  [ 0.00000000e+00  1.63312394e+16 -1.22464680e-16]\n"
          ]
        }
      ],
      "source": [
        "theta = np.linspace(0, np.pi, 3)\n",
        "\n",
        "print(\"theta      = \", theta)\n",
        "print(\"sin(theta) = \", np.sin(theta))\n",
        "print(\"cos(theta) = \", np.cos(theta))\n",
        "print(\"tan(theta) = \", np.tan(theta))"
      ]
    },
    {
      "cell_type": "markdown",
      "id": "0f08d549-905c-454a-b6f3-f5f37388d3d6",
      "metadata": {
        "id": "0f08d549-905c-454a-b6f3-f5f37388d3d6"
      },
      "source": [
        "And a lot more mathematical functions"
      ]
    },
    {
      "cell_type": "markdown",
      "id": "e89158bf-5d06-41c4-a8c0-bbf4ca824eab",
      "metadata": {
        "id": "e89158bf-5d06-41c4-a8c0-bbf4ca824eab"
      },
      "source": [
        "### Broadcasting"
      ]
    },
    {
      "cell_type": "markdown",
      "id": "ef9c8063-76ea-4c80-bf2a-f24dcea3e402",
      "metadata": {
        "id": "ef9c8063-76ea-4c80-bf2a-f24dcea3e402"
      },
      "source": [
        "Allows binary operations to be performed on arrays of different sizes"
      ]
    },
    {
      "cell_type": "code",
      "execution_count": null,
      "id": "a8709bfd-422a-4f20-b025-cfa2365a9fbb",
      "metadata": {
        "colab": {
          "base_uri": "https://localhost:8080/"
        },
        "id": "a8709bfd-422a-4f20-b025-cfa2365a9fbb",
        "outputId": "4de62f0b-1889-442f-9fa5-e3b82b643742"
      },
      "outputs": [
        {
          "output_type": "stream",
          "name": "stdout",
          "text": [
            "[0 1 2]\n",
            "[[0]\n",
            " [1]\n",
            " [2]]\n"
          ]
        }
      ],
      "source": [
        "a = np.arange(3)\n",
        "b = a.reshape(3, 1)\n",
        "\n",
        "print(a)\n",
        "print(b)"
      ]
    },
    {
      "cell_type": "code",
      "execution_count": null,
      "id": "f4d0fc27-f109-422f-94f6-555465cc97d0",
      "metadata": {
        "colab": {
          "base_uri": "https://localhost:8080/"
        },
        "id": "f4d0fc27-f109-422f-94f6-555465cc97d0",
        "outputId": "dbc580e6-4a4a-4baf-b630-ed1f54240283"
      },
      "outputs": [
        {
          "output_type": "execute_result",
          "data": {
            "text/plain": [
              "array([[0, 1, 2],\n",
              "       [1, 2, 3],\n",
              "       [2, 3, 4]])"
            ]
          },
          "metadata": {},
          "execution_count": 32
        }
      ],
      "source": [
        "a + b"
      ]
    },
    {
      "cell_type": "markdown",
      "id": "73d23917-835d-4f87-bbbb-36ba29120517",
      "metadata": {
        "id": "73d23917-835d-4f87-bbbb-36ba29120517"
      },
      "source": [
        "![image info](./imgs/broadcasting.png)"
      ]
    },
    {
      "cell_type": "markdown",
      "id": "97c3071e-8890-4af3-9ca9-ea7379c66845",
      "metadata": {
        "id": "97c3071e-8890-4af3-9ca9-ea7379c66845"
      },
      "source": [
        "The light boxes are the broadcasted values."
      ]
    },
    {
      "cell_type": "markdown",
      "id": "ab07975e-4357-4304-8d54-ea355cc9b376",
      "metadata": {
        "id": "ab07975e-4357-4304-8d54-ea355cc9b376"
      },
      "source": [
        "#### It is not always possible"
      ]
    },
    {
      "cell_type": "code",
      "execution_count": null,
      "id": "42ebafd0-b1b8-4e8a-a244-2e9c2fb3fa89",
      "metadata": {
        "colab": {
          "base_uri": "https://localhost:8080/"
        },
        "id": "42ebafd0-b1b8-4e8a-a244-2e9c2fb3fa89",
        "outputId": "769d79f9-0afd-48d5-9dd4-a87466d0022c"
      },
      "outputs": [
        {
          "output_type": "stream",
          "name": "stdout",
          "text": [
            "[[1. 1.]\n",
            " [1. 1.]\n",
            " [1. 1.]]\n",
            "[0 1 2]\n"
          ]
        }
      ],
      "source": [
        "a = np.ones((3, 2))\n",
        "b = np.arange(3)\n",
        "\n",
        "print(a)\n",
        "print(b)"
      ]
    },
    {
      "cell_type": "code",
      "execution_count": null,
      "id": "a6f5d579-8a7e-43bf-8681-fe5721a5f903",
      "metadata": {
        "colab": {
          "base_uri": "https://localhost:8080/",
          "height": 169
        },
        "id": "a6f5d579-8a7e-43bf-8681-fe5721a5f903",
        "outputId": "7705967c-e8f6-4afe-d6da-2fd195e978f4"
      },
      "outputs": [
        {
          "output_type": "error",
          "ename": "ValueError",
          "evalue": "ignored",
          "traceback": [
            "\u001b[0;31m---------------------------------------------------------------------------\u001b[0m",
            "\u001b[0;31mValueError\u001b[0m                                Traceback (most recent call last)",
            "\u001b[0;32m<ipython-input-34-bd58363a63fc>\u001b[0m in \u001b[0;36m<module>\u001b[0;34m\u001b[0m\n\u001b[0;32m----> 1\u001b[0;31m \u001b[0ma\u001b[0m \u001b[0;34m+\u001b[0m \u001b[0mb\u001b[0m\u001b[0;34m\u001b[0m\u001b[0;34m\u001b[0m\u001b[0m\n\u001b[0m",
            "\u001b[0;31mValueError\u001b[0m: operands could not be broadcast together with shapes (3,2) (3,) "
          ]
        }
      ],
      "source": [
        "a + b"
      ]
    },
    {
      "cell_type": "markdown",
      "id": "9067cf2e-b624-47e3-8315-c21a007f6aa3",
      "metadata": {
        "id": "9067cf2e-b624-47e3-8315-c21a007f6aa3"
      },
      "source": [
        "## Example"
      ]
    },
    {
      "cell_type": "code",
      "execution_count": null,
      "id": "18fae5e0-a626-4265-8f17-2af911c8f424",
      "metadata": {
        "colab": {
          "base_uri": "https://localhost:8080/"
        },
        "id": "18fae5e0-a626-4265-8f17-2af911c8f424",
        "outputId": "f6399309-8884-4867-b030-dde4918bf894"
      },
      "outputs": [
        {
          "data": {
            "text/plain": [
              "(100, 2)"
            ]
          },
          "execution_count": 36,
          "metadata": {},
          "output_type": "execute_result"
        }
      ],
      "source": [
        "mean = [0, 0]\n",
        "cov = [[1, 2],\n",
        "       [2, 5]]\n",
        "X = np.random.multivariate_normal(mean, cov, 100)\n",
        "X.shape"
      ]
    },
    {
      "cell_type": "code",
      "execution_count": null,
      "id": "6b134697-a28e-44f9-8ed3-b89320287718",
      "metadata": {
        "colab": {
          "base_uri": "https://localhost:8080/",
          "height": 286
        },
        "id": "6b134697-a28e-44f9-8ed3-b89320287718",
        "outputId": "096a4ee8-7af3-466a-a51e-3c9c6a173071"
      },
      "outputs": [
        {
          "output_type": "execute_result",
          "data": {
            "text/plain": [
              "<matplotlib.collections.PathCollection at 0x7fab738d7700>"
            ]
          },
          "metadata": {},
          "execution_count": 37
        },
        {
          "output_type": "display_data",
          "data": {
            "text/plain": [
              "<Figure size 432x288 with 1 Axes>"
            ],
            "image/png": "[encoded data removed]"
          },
          "metadata": {}
        }
      ],
      "source": [
        "%matplotlib inline\n",
        "\n",
        "rand = np.random.RandomState(0)\n",
        "\n",
        "mean = [0, 0]\n",
        "cov = [[1, 2],\n",
        "       [2, 5]]\n",
        "X = rand.multivariate_normal(mean, cov, 100)\n",
        "\n",
        "import matplotlib.pyplot as plt\n",
        "import seaborn; seaborn.set()  # for plot styling\n",
        "\n",
        "plt.scatter(X[:, 0], X[:, 1])"
      ]
    },
    {
      "cell_type": "code",
      "execution_count": null,
      "id": "426ba736-3e48-4f9f-a858-08cebe04a9be",
      "metadata": {
        "colab": {
          "base_uri": "https://localhost:8080/"
        },
        "id": "426ba736-3e48-4f9f-a858-08cebe04a9be",
        "outputId": "e0c27974-2abb-4121-f7d3-efe296ac2535"
      },
      "outputs": [
        {
          "output_type": "execute_result",
          "data": {
            "text/plain": [
              "(20, 2)"
            ]
          },
          "metadata": {},
          "execution_count": 38
        }
      ],
      "source": [
        "indices = np.random.choice(X.shape[0], 20, replace=False)\n",
        "selection = X[indices]  # fancy indexing here\n",
        "selection.shape"
      ]
    },
    {
      "cell_type": "code",
      "execution_count": null,
      "id": "9a99df84-4881-4515-8455-41f859577ab7",
      "metadata": {
        "colab": {
          "base_uri": "https://localhost:8080/",
          "height": 286
        },
        "id": "9a99df84-4881-4515-8455-41f859577ab7",
        "outputId": "a31bb80b-9e06-4a10-bbc5-bea5dd28ed28"
      },
      "outputs": [
        {
          "output_type": "execute_result",
          "data": {
            "text/plain": [
              "<matplotlib.collections.PathCollection at 0x7fab70f95970>"
            ]
          },
          "metadata": {},
          "execution_count": 39
        },
        {
          "output_type": "display_data",
          "data": {
            "text/plain": [
              "<Figure size 432x288 with 1 Axes>"
            ],
            "image/png": "[encoded data removed]"
          },
          "metadata": {}
        }
      ],
      "source": [
        "plt.scatter(X[:, 0], X[:, 1], alpha=0.3)\n",
        "plt.scatter(\n",
        "    selection[:, 0], selection[:, 1], s=50, c='green'\n",
        ")"
      ]
    },
    {
      "cell_type": "markdown",
      "id": "81c249e7-c1a8-43e2-9816-649e04b2efab",
      "metadata": {
        "tags": [],
        "id": "81c249e7-c1a8-43e2-9816-649e04b2efab"
      },
      "source": [
        "# 2. Pandas"
      ]
    },
    {
      "cell_type": "code",
      "execution_count": null,
      "id": "b1671161-70fc-4bf8-837f-2f621aa6946c",
      "metadata": {
        "id": "b1671161-70fc-4bf8-837f-2f621aa6946c"
      },
      "outputs": [],
      "source": [
        "import pandas as pd"
      ]
    },
    {
      "cell_type": "markdown",
      "id": "9c74dbc9-b8d0-4deb-a40e-b16974ffc056",
      "metadata": {
        "id": "9c74dbc9-b8d0-4deb-a40e-b16974ffc056"
      },
      "source": [
        "## 2.1 Series\n",
        "One dimensional objects"
      ]
    },
    {
      "cell_type": "code",
      "execution_count": null,
      "id": "bc3a9509-6312-44f8-aef4-646e0c645e5a",
      "metadata": {
        "colab": {
          "base_uri": "https://localhost:8080/"
        },
        "id": "bc3a9509-6312-44f8-aef4-646e0c645e5a",
        "outputId": "fc3d94e3-c517-4228-f08b-91b6c59ea3b6"
      },
      "outputs": [
        {
          "output_type": "execute_result",
          "data": {
            "text/plain": [
              "0    0.25\n",
              "1    0.50\n",
              "2    0.75\n",
              "3    1.00\n",
              "dtype: float64"
            ]
          },
          "metadata": {},
          "execution_count": 41
        }
      ],
      "source": [
        "data = pd.Series([0.25, 0.5, 0.75, 1.0])\n",
        "data"
      ]
    },
    {
      "cell_type": "code",
      "execution_count": null,
      "id": "6755e712-2d69-437e-a137-3bc7a5520b0a",
      "metadata": {
        "colab": {
          "base_uri": "https://localhost:8080/"
        },
        "id": "6755e712-2d69-437e-a137-3bc7a5520b0a",
        "outputId": "5cfca894-9565-43c5-cebc-462446e45f08"
      },
      "outputs": [
        {
          "output_type": "stream",
          "name": "stdout",
          "text": [
            "data.values: [0.25 0.5  0.75 1.  ]\n",
            "data.index: RangeIndex(start=0, stop=4, step=1)\n",
            "data[1]: 0.5\n",
            "data[1:3]:\n",
            " 1    0.50\n",
            "2    0.75\n",
            "dtype: float64\n"
          ]
        }
      ],
      "source": [
        "print(\"data.values:\", data.values)\n",
        "print(\"data.index:\", data.index)\n",
        "print(\"data[1]:\", data[1])\n",
        "print(\"data[1:3]:\\n\", data[1:3])"
      ]
    },
    {
      "cell_type": "markdown",
      "id": "ee3a64e5-76f3-44bd-8eb2-a1952269452c",
      "metadata": {
        "id": "ee3a64e5-76f3-44bd-8eb2-a1952269452c"
      },
      "source": [
        "#### Index objet"
      ]
    },
    {
      "cell_type": "code",
      "execution_count": null,
      "id": "05dfb834-3a00-4768-a356-274ff7057618",
      "metadata": {
        "colab": {
          "base_uri": "https://localhost:8080/"
        },
        "id": "05dfb834-3a00-4768-a356-274ff7057618",
        "outputId": "ad87943d-75b2-47eb-b0ef-f7f320ffe315"
      },
      "outputs": [
        {
          "output_type": "stream",
          "name": "stdout",
          "text": [
            "a    0.25\n",
            "b    0.50\n",
            "c    0.75\n",
            "d    1.00\n",
            "dtype: float64\n",
            "2    0.25\n",
            "5    0.50\n",
            "7    0.75\n",
            "3    1.00\n",
            "dtype: float64\n"
          ]
        }
      ],
      "source": [
        "data = pd.Series(\n",
        "    [0.25, 0.5, 0.75, 1.0],index=['a', 'b', 'c', 'd']\n",
        ")\n",
        "print(data)\n",
        "\n",
        "# index can be anything\n",
        "data = pd.Series([0.25, 0.5, 0.75, 1.0],\n",
        "                 index=[2, 5, 7, 3])\n",
        "print(data)"
      ]
    },
    {
      "cell_type": "markdown",
      "id": "fbb94015-bae8-4569-9a7f-745bc54585d2",
      "metadata": {
        "id": "fbb94015-bae8-4569-9a7f-745bc54585d2"
      },
      "source": [
        "**Note that indeices are not sorted**"
      ]
    },
    {
      "cell_type": "markdown",
      "id": "2c3b898f-c65d-42e7-8738-bce022ff6edd",
      "metadata": {
        "id": "2c3b898f-c65d-42e7-8738-bce022ff6edd"
      },
      "source": [
        "#### Construction via dicationary "
      ]
    },
    {
      "cell_type": "code",
      "execution_count": null,
      "id": "30ad03be-11c2-4275-b5b6-7a55511fb319",
      "metadata": {
        "colab": {
          "base_uri": "https://localhost:8080/"
        },
        "id": "30ad03be-11c2-4275-b5b6-7a55511fb319",
        "outputId": "1667f888-b254-4467-ea98-bf2af226d9b6"
      },
      "outputs": [
        {
          "output_type": "execute_result",
          "data": {
            "text/plain": [
              "California    38332521\n",
              "Texas         26448193\n",
              "New York      19651127\n",
              "Florida       19552860\n",
              "Illinois      12882135\n",
              "dtype: int64"
            ]
          },
          "metadata": {},
          "execution_count": 44
        }
      ],
      "source": [
        "population_dict = {'California': 38332521,\n",
        "                   'Texas': 26448193,\n",
        "                   'New York': 19651127,\n",
        "                   'Florida': 19552860,\n",
        "                   'Illinois': 12882135}\n",
        "population = pd.Series(population_dict)\n",
        "population"
      ]
    },
    {
      "cell_type": "code",
      "execution_count": null,
      "id": "4a662b35-c9a5-457c-bb01-172615d259f5",
      "metadata": {
        "colab": {
          "base_uri": "https://localhost:8080/"
        },
        "id": "4a662b35-c9a5-457c-bb01-172615d259f5",
        "outputId": "c52e19e5-d646-4977-bf50-2c1f2d1127e4"
      },
      "outputs": [
        {
          "output_type": "execute_result",
          "data": {
            "text/plain": [
              "California    38332521\n",
              "Texas         26448193\n",
              "New York      19651127\n",
              "dtype: int64"
            ]
          },
          "metadata": {},
          "execution_count": 45
        }
      ],
      "source": [
        "population['California':'New York']"
      ]
    },
    {
      "cell_type": "markdown",
      "id": "a3724e40-994c-4cb9-a705-b12725b4ea54",
      "metadata": {
        "id": "a3724e40-994c-4cb9-a705-b12725b4ea54"
      },
      "source": [
        "## 2.2  DataFrames"
      ]
    },
    {
      "cell_type": "markdown",
      "id": "c5736392-f8d2-4229-82bd-3dd1c0324470",
      "metadata": {
        "id": "c5736392-f8d2-4229-82bd-3dd1c0324470"
      },
      "source": [
        "### From series"
      ]
    },
    {
      "cell_type": "code",
      "execution_count": null,
      "id": "24ac0113-2d2d-4b75-b7e2-772e5767f865",
      "metadata": {
        "colab": {
          "base_uri": "https://localhost:8080/",
          "height": 206
        },
        "id": "24ac0113-2d2d-4b75-b7e2-772e5767f865",
        "outputId": "8fa8cbca-f74e-4443-df04-d5ac650b5c7d"
      },
      "outputs": [
        {
          "output_type": "execute_result",
          "data": {
            "text/plain": [
              "            population    area\n",
              "California    38332521  423967\n",
              "Texas         26448193  695662\n",
              "New York      19651127  141297\n",
              "Florida       19552860  170312\n",
              "Illinois      12882135  149995"
            ],
            "text/html": [
              "\n",
              "  <div id=\"df-6a1efcfb-61dd-4d99-a68b-eb16565c2318\">\n",
              "    <div class=\"colab-df-container\">\n",
              "      <div>\n",
              "<style scoped>\n",
              "    .dataframe tbody tr th:only-of-type {\n",
              "        vertical-align: middle;\n",
              "    }\n",
              "\n",
              "    .dataframe tbody tr th {\n",
              "        vertical-align: top;\n",
              "    }\n",
              "\n",
              "    .dataframe thead th {\n",
              "        text-align: right;\n",
              "    }\n",
              "</style>\n",
              "<table border=\"1\" class=\"dataframe\">\n",
              "  <thead>\n",
              "    <tr style=\"text-align: right;\">\n",
              "      <th></th>\n",
              "      <th>population</th>\n",
              "      <th>area</th>\n",
              "    </tr>\n",
              "  </thead>\n",
              "  <tbody>\n",
              "    <tr>\n",
              "      <th>California</th>\n",
              "      <td>38332521</td>\n",
              "      <td>423967</td>\n",
              "    </tr>\n",
              "    <tr>\n",
              "      <th>Texas</th>\n",
              "      <td>26448193</td>\n",
              "      <td>695662</td>\n",
              "    </tr>\n",
              "    <tr>\n",
              "      <th>New York</th>\n",
              "      <td>19651127</td>\n",
              "      <td>141297</td>\n",
              "    </tr>\n",
              "    <tr>\n",
              "      <th>Florida</th>\n",
              "      <td>19552860</td>\n",
              "      <td>170312</td>\n",
              "    </tr>\n",
              "    <tr>\n",
              "      <th>Illinois</th>\n",
              "      <td>12882135</td>\n",
              "      <td>149995</td>\n",
              "    </tr>\n",
              "  </tbody>\n",
              "</table>\n",
              "</div>\n",
              "      <button class=\"colab-df-convert\" onclick=\"convertToInteractive('df-6a1efcfb-61dd-4d99-a68b-eb16565c2318')\"\n",
              "              title=\"Convert this dataframe to an interactive table.\"\n",
              "              style=\"display:none;\">\n",
              "        \n",
              "  <svg xmlns=\"http://www.w3.org/2000/svg\" height=\"24px\"viewBox=\"0 0 24 24\"\n",
              "       width=\"24px\">\n",
              "    <path d=\"M0 0h24v24H0V0z\" fill=\"none\"/>\n",
              "    <path d=\"M18.56 5.44l.94 2.06.94-2.06 2.06-.94-2.06-.94-.94-2.06-.94 2.06-2.06.94zm-11 1L8.5 8.5l.94-2.06 2.06-.94-2.06-.94L8.5 2.5l-.94 2.06-2.06.94zm10 10l.94 2.06.94-2.06 2.06-.94-2.06-.94-.94-2.06-.94 2.06-2.06.94z\"/><path d=\"M17.41 7.96l-1.37-1.37c-.4-.4-.92-.59-1.43-.59-.52 0-1.04.2-1.43.59L10.3 9.45l-7.72 7.72c-.78.78-.78 2.05 0 2.83L4 21.41c.39.39.9.59 1.41.59.51 0 1.02-.2 1.41-.59l7.78-7.78 2.81-2.81c.8-.78.8-2.07 0-2.86zM5.41 20L4 18.59l7.72-7.72 1.47 1.35L5.41 20z\"/>\n",
              "  </svg>\n",
              "      </button>\n",
              "      \n",
              "  <style>\n",
              "    .colab-df-container {\n",
              "      display:flex;\n",
              "      flex-wrap:wrap;\n",
              "      gap: 12px;\n",
              "    }\n",
              "\n",
              "    .colab-df-convert {\n",
              "      background-color: #E8F0FE;\n",
              "      border: none;\n",
              "      border-radius: 50%;\n",
              "      cursor: pointer;\n",
              "      display: none;\n",
              "      fill: #1967D2;\n",
              "      height: 32px;\n",
              "      padding: 0 0 0 0;\n",
              "      width: 32px;\n",
              "    }\n",
              "\n",
              "    .colab-df-convert:hover {\n",
              "      background-color: #E2EBFA;\n",
              "      box-shadow: 0px 1px 2px rgba(60, 64, 67, 0.3), 0px 1px 3px 1px rgba(60, 64, 67, 0.15);\n",
              "      fill: #174EA6;\n",
              "    }\n",
              "\n",
              "    [theme=dark] .colab-df-convert {\n",
              "      background-color: #3B4455;\n",
              "      fill: #D2E3FC;\n",
              "    }\n",
              "\n",
              "    [theme=dark] .colab-df-convert:hover {\n",
              "      background-color: #434B5C;\n",
              "      box-shadow: 0px 1px 3px 1px rgba(0, 0, 0, 0.15);\n",
              "      filter: drop-shadow(0px 1px 2px rgba(0, 0, 0, 0.3));\n",
              "      fill: #FFFFFF;\n",
              "    }\n",
              "  </style>\n",
              "\n",
              "      <script>\n",
              "        const buttonEl =\n",
              "          document.querySelector('#df-6a1efcfb-61dd-4d99-a68b-eb16565c2318 button.colab-df-convert');\n",
              "        buttonEl.style.display =\n",
              "          google.colab.kernel.accessAllowed ? 'block' : 'none';\n",
              "\n",
              "        async function convertToInteractive(key) {\n",
              "          const element = document.querySelector('#df-6a1efcfb-61dd-4d99-a68b-eb16565c2318');\n",
              "          const dataTable =\n",
              "            await google.colab.kernel.invokeFunction('convertToInteractive',\n",
              "                                                     [key], {});\n",
              "          if (!dataTable) return;\n",
              "\n",
              "          const docLinkHtml = 'Like what you see? Visit the ' +\n",
              "            '<a target=\"_blank\" href=https://colab.research.google.com/notebooks/data_table.ipynb>data table notebook</a>'\n",
              "            + ' to learn more about interactive tables.';\n",
              "          element.innerHTML = '';\n",
              "          dataTable['output_type'] = 'display_data';\n",
              "          await google.colab.output.renderOutput(dataTable, element);\n",
              "          const docLink = document.createElement('div');\n",
              "          docLink.innerHTML = docLinkHtml;\n",
              "          element.appendChild(docLink);\n",
              "        }\n",
              "      </script>\n",
              "    </div>\n",
              "  </div>\n",
              "  "
            ]
          },
          "metadata": {},
          "execution_count": 46
        }
      ],
      "source": [
        "area_dict = {'California': 423967, 'Texas': 695662, 'New York': 141297,\n",
        "             'Florida': 170312, 'Illinois': 149995}\n",
        "area = pd.Series(area_dict)\n",
        "\n",
        "states = pd.DataFrame({'population': population,\n",
        "                       'area': area})\n",
        "states"
      ]
    },
    {
      "cell_type": "code",
      "execution_count": null,
      "id": "c1ce09c4-7eb9-46ee-a78a-1547660ae50f",
      "metadata": {
        "colab": {
          "base_uri": "https://localhost:8080/"
        },
        "id": "c1ce09c4-7eb9-46ee-a78a-1547660ae50f",
        "outputId": "8030eba3-9224-4412-f874-e661465da82c"
      },
      "outputs": [
        {
          "output_type": "stream",
          "name": "stdout",
          "text": [
            "states.index: Index(['California', 'Texas', 'New York', 'Florida', 'Illinois'], dtype='object')\n",
            "states.columns: Index(['population', 'area'], dtype='object')\n",
            "states['area']: \n",
            " California    423967\n",
            "Texas         695662\n",
            "New York      141297\n",
            "Florida       170312\n",
            "Illinois      149995\n",
            "Name: area, dtype: int64\n"
          ]
        }
      ],
      "source": [
        "print(\"states.index:\", states.index)\n",
        "print(\"states.columns:\", states.columns)\n",
        "print(\"states['area']: \\n\", states['area'])"
      ]
    },
    {
      "cell_type": "markdown",
      "id": "df57d547-1643-4945-9a67-bac9b03fb86d",
      "metadata": {
        "id": "df57d547-1643-4945-9a67-bac9b03fb86d"
      },
      "source": [
        "### From 2-dim numpy"
      ]
    },
    {
      "cell_type": "code",
      "execution_count": null,
      "id": "fb321c08-325b-49f9-a582-3b76dea0a806",
      "metadata": {
        "colab": {
          "base_uri": "https://localhost:8080/",
          "height": 143
        },
        "id": "fb321c08-325b-49f9-a582-3b76dea0a806",
        "outputId": "fc3eed8b-c793-4ac4-83c4-7f2d993e96c6"
      },
      "outputs": [
        {
          "output_type": "execute_result",
          "data": {
            "text/plain": [
              "          A         B\n",
              "a  0.943579  0.269374\n",
              "b  0.357560  0.291402\n",
              "c  0.018703  0.798175"
            ],
            "text/html": [
              "\n",
              "  <div id=\"df-8f1421ee-e01d-4a66-aa3c-ebea1bd49efc\">\n",
              "    <div class=\"colab-df-container\">\n",
              "      <div>\n",
              "<style scoped>\n",
              "    .dataframe tbody tr th:only-of-type {\n",
              "        vertical-align: middle;\n",
              "    }\n",
              "\n",
              "    .dataframe tbody tr th {\n",
              "        vertical-align: top;\n",
              "    }\n",
              "\n",
              "    .dataframe thead th {\n",
              "        text-align: right;\n",
              "    }\n",
              "</style>\n",
              "<table border=\"1\" class=\"dataframe\">\n",
              "  <thead>\n",
              "    <tr style=\"text-align: right;\">\n",
              "      <th></th>\n",
              "      <th>A</th>\n",
              "      <th>B</th>\n",
              "    </tr>\n",
              "  </thead>\n",
              "  <tbody>\n",
              "    <tr>\n",
              "      <th>a</th>\n",
              "      <td>0.943579</td>\n",
              "      <td>0.269374</td>\n",
              "    </tr>\n",
              "    <tr>\n",
              "      <th>b</th>\n",
              "      <td>0.357560</td>\n",
              "      <td>0.291402</td>\n",
              "    </tr>\n",
              "    <tr>\n",
              "      <th>c</th>\n",
              "      <td>0.018703</td>\n",
              "      <td>0.798175</td>\n",
              "    </tr>\n",
              "  </tbody>\n",
              "</table>\n",
              "</div>\n",
              "      <button class=\"colab-df-convert\" onclick=\"convertToInteractive('df-8f1421ee-e01d-4a66-aa3c-ebea1bd49efc')\"\n",
              "              title=\"Convert this dataframe to an interactive table.\"\n",
              "              style=\"display:none;\">\n",
              "        \n",
              "  <svg xmlns=\"http://www.w3.org/2000/svg\" height=\"24px\"viewBox=\"0 0 24 24\"\n",
              "       width=\"24px\">\n",
              "    <path d=\"M0 0h24v24H0V0z\" fill=\"none\"/>\n",
              "    <path d=\"M18.56 5.44l.94 2.06.94-2.06 2.06-.94-2.06-.94-.94-2.06-.94 2.06-2.06.94zm-11 1L8.5 8.5l.94-2.06 2.06-.94-2.06-.94L8.5 2.5l-.94 2.06-2.06.94zm10 10l.94 2.06.94-2.06 2.06-.94-2.06-.94-.94-2.06-.94 2.06-2.06.94z\"/><path d=\"M17.41 7.96l-1.37-1.37c-.4-.4-.92-.59-1.43-.59-.52 0-1.04.2-1.43.59L10.3 9.45l-7.72 7.72c-.78.78-.78 2.05 0 2.83L4 21.41c.39.39.9.59 1.41.59.51 0 1.02-.2 1.41-.59l7.78-7.78 2.81-2.81c.8-.78.8-2.07 0-2.86zM5.41 20L4 18.59l7.72-7.72 1.47 1.35L5.41 20z\"/>\n",
              "  </svg>\n",
              "      </button>\n",
              "      \n",
              "  <style>\n",
              "    .colab-df-container {\n",
              "      display:flex;\n",
              "      flex-wrap:wrap;\n",
              "      gap: 12px;\n",
              "    }\n",
              "\n",
              "    .colab-df-convert {\n",
              "      background-color: #E8F0FE;\n",
              "      border: none;\n",
              "      border-radius: 50%;\n",
              "      cursor: pointer;\n",
              "      display: none;\n",
              "      fill: #1967D2;\n",
              "      height: 32px;\n",
              "      padding: 0 0 0 0;\n",
              "      width: 32px;\n",
              "    }\n",
              "\n",
              "    .colab-df-convert:hover {\n",
              "      background-color: #E2EBFA;\n",
              "      box-shadow: 0px 1px 2px rgba(60, 64, 67, 0.3), 0px 1px 3px 1px rgba(60, 64, 67, 0.15);\n",
              "      fill: #174EA6;\n",
              "    }\n",
              "\n",
              "    [theme=dark] .colab-df-convert {\n",
              "      background-color: #3B4455;\n",
              "      fill: #D2E3FC;\n",
              "    }\n",
              "\n",
              "    [theme=dark] .colab-df-convert:hover {\n",
              "      background-color: #434B5C;\n",
              "      box-shadow: 0px 1px 3px 1px rgba(0, 0, 0, 0.15);\n",
              "      filter: drop-shadow(0px 1px 2px rgba(0, 0, 0, 0.3));\n",
              "      fill: #FFFFFF;\n",
              "    }\n",
              "  </style>\n",
              "\n",
              "      <script>\n",
              "        const buttonEl =\n",
              "          document.querySelector('#df-8f1421ee-e01d-4a66-aa3c-ebea1bd49efc button.colab-df-convert');\n",
              "        buttonEl.style.display =\n",
              "          google.colab.kernel.accessAllowed ? 'block' : 'none';\n",
              "\n",
              "        async function convertToInteractive(key) {\n",
              "          const element = document.querySelector('#df-8f1421ee-e01d-4a66-aa3c-ebea1bd49efc');\n",
              "          const dataTable =\n",
              "            await google.colab.kernel.invokeFunction('convertToInteractive',\n",
              "                                                     [key], {});\n",
              "          if (!dataTable) return;\n",
              "\n",
              "          const docLinkHtml = 'Like what you see? Visit the ' +\n",
              "            '<a target=\"_blank\" href=https://colab.research.google.com/notebooks/data_table.ipynb>data table notebook</a>'\n",
              "            + ' to learn more about interactive tables.';\n",
              "          element.innerHTML = '';\n",
              "          dataTable['output_type'] = 'display_data';\n",
              "          await google.colab.output.renderOutput(dataTable, element);\n",
              "          const docLink = document.createElement('div');\n",
              "          docLink.innerHTML = docLinkHtml;\n",
              "          element.appendChild(docLink);\n",
              "        }\n",
              "      </script>\n",
              "    </div>\n",
              "  </div>\n",
              "  "
            ]
          },
          "metadata": {},
          "execution_count": 48
        }
      ],
      "source": [
        "pd.DataFrame(data=np.random.rand(3, 2), columns=['A', 'B'], index=['a', 'b', 'c'])"
      ]
    },
    {
      "cell_type": "markdown",
      "id": "a2313236-cae8-4f0c-b20b-15f977801769",
      "metadata": {
        "id": "a2313236-cae8-4f0c-b20b-15f977801769"
      },
      "source": [
        "### From dictionaries "
      ]
    },
    {
      "cell_type": "code",
      "execution_count": null,
      "id": "ee4013d3-6d8b-427c-a9c8-ed537e09fa4f",
      "metadata": {
        "colab": {
          "base_uri": "https://localhost:8080/",
          "height": 143
        },
        "id": "ee4013d3-6d8b-427c-a9c8-ed537e09fa4f",
        "outputId": "c9c3aadd-ed62-4c2a-a41b-200fdb867daa"
      },
      "outputs": [
        {
          "output_type": "execute_result",
          "data": {
            "text/plain": [
              "   col1  col2\n",
              "0     1    11\n",
              "1     2    22\n",
              "2     3    33"
            ],
            "text/html": [
              "\n",
              "  <div id=\"df-8bf4ddd3-cd08-4bc0-9534-c9e14db03283\">\n",
              "    <div class=\"colab-df-container\">\n",
              "      <div>\n",
              "<style scoped>\n",
              "    .dataframe tbody tr th:only-of-type {\n",
              "        vertical-align: middle;\n",
              "    }\n",
              "\n",
              "    .dataframe tbody tr th {\n",
              "        vertical-align: top;\n",
              "    }\n",
              "\n",
              "    .dataframe thead th {\n",
              "        text-align: right;\n",
              "    }\n",
              "</style>\n",
              "<table border=\"1\" class=\"dataframe\">\n",
              "  <thead>\n",
              "    <tr style=\"text-align: right;\">\n",
              "      <th></th>\n",
              "      <th>col1</th>\n",
              "      <th>col2</th>\n",
              "    </tr>\n",
              "  </thead>\n",
              "  <tbody>\n",
              "    <tr>\n",
              "      <th>0</th>\n",
              "      <td>1</td>\n",
              "      <td>11</td>\n",
              "    </tr>\n",
              "    <tr>\n",
              "      <th>1</th>\n",
              "      <td>2</td>\n",
              "      <td>22</td>\n",
              "    </tr>\n",
              "    <tr>\n",
              "      <th>2</th>\n",
              "      <td>3</td>\n",
              "      <td>33</td>\n",
              "    </tr>\n",
              "  </tbody>\n",
              "</table>\n",
              "</div>\n",
              "      <button class=\"colab-df-convert\" onclick=\"convertToInteractive('df-8bf4ddd3-cd08-4bc0-9534-c9e14db03283')\"\n",
              "              title=\"Convert this dataframe to an interactive table.\"\n",
              "              style=\"display:none;\">\n",
              "        \n",
              "  <svg xmlns=\"http://www.w3.org/2000/svg\" height=\"24px\"viewBox=\"0 0 24 24\"\n",
              "       width=\"24px\">\n",
              "    <path d=\"M0 0h24v24H0V0z\" fill=\"none\"/>\n",
              "    <path d=\"M18.56 5.44l.94 2.06.94-2.06 2.06-.94-2.06-.94-.94-2.06-.94 2.06-2.06.94zm-11 1L8.5 8.5l.94-2.06 2.06-.94-2.06-.94L8.5 2.5l-.94 2.06-2.06.94zm10 10l.94 2.06.94-2.06 2.06-.94-2.06-.94-.94-2.06-.94 2.06-2.06.94z\"/><path d=\"M17.41 7.96l-1.37-1.37c-.4-.4-.92-.59-1.43-.59-.52 0-1.04.2-1.43.59L10.3 9.45l-7.72 7.72c-.78.78-.78 2.05 0 2.83L4 21.41c.39.39.9.59 1.41.59.51 0 1.02-.2 1.41-.59l7.78-7.78 2.81-2.81c.8-.78.8-2.07 0-2.86zM5.41 20L4 18.59l7.72-7.72 1.47 1.35L5.41 20z\"/>\n",
              "  </svg>\n",
              "      </button>\n",
              "      \n",
              "  <style>\n",
              "    .colab-df-container {\n",
              "      display:flex;\n",
              "      flex-wrap:wrap;\n",
              "      gap: 12px;\n",
              "    }\n",
              "\n",
              "    .colab-df-convert {\n",
              "      background-color: #E8F0FE;\n",
              "      border: none;\n",
              "      border-radius: 50%;\n",
              "      cursor: pointer;\n",
              "      display: none;\n",
              "      fill: #1967D2;\n",
              "      height: 32px;\n",
              "      padding: 0 0 0 0;\n",
              "      width: 32px;\n",
              "    }\n",
              "\n",
              "    .colab-df-convert:hover {\n",
              "      background-color: #E2EBFA;\n",
              "      box-shadow: 0px 1px 2px rgba(60, 64, 67, 0.3), 0px 1px 3px 1px rgba(60, 64, 67, 0.15);\n",
              "      fill: #174EA6;\n",
              "    }\n",
              "\n",
              "    [theme=dark] .colab-df-convert {\n",
              "      background-color: #3B4455;\n",
              "      fill: #D2E3FC;\n",
              "    }\n",
              "\n",
              "    [theme=dark] .colab-df-convert:hover {\n",
              "      background-color: #434B5C;\n",
              "      box-shadow: 0px 1px 3px 1px rgba(0, 0, 0, 0.15);\n",
              "      filter: drop-shadow(0px 1px 2px rgba(0, 0, 0, 0.3));\n",
              "      fill: #FFFFFF;\n",
              "    }\n",
              "  </style>\n",
              "\n",
              "      <script>\n",
              "        const buttonEl =\n",
              "          document.querySelector('#df-8bf4ddd3-cd08-4bc0-9534-c9e14db03283 button.colab-df-convert');\n",
              "        buttonEl.style.display =\n",
              "          google.colab.kernel.accessAllowed ? 'block' : 'none';\n",
              "\n",
              "        async function convertToInteractive(key) {\n",
              "          const element = document.querySelector('#df-8bf4ddd3-cd08-4bc0-9534-c9e14db03283');\n",
              "          const dataTable =\n",
              "            await google.colab.kernel.invokeFunction('convertToInteractive',\n",
              "                                                     [key], {});\n",
              "          if (!dataTable) return;\n",
              "\n",
              "          const docLinkHtml = 'Like what you see? Visit the ' +\n",
              "            '<a target=\"_blank\" href=https://colab.research.google.com/notebooks/data_table.ipynb>data table notebook</a>'\n",
              "            + ' to learn more about interactive tables.';\n",
              "          element.innerHTML = '';\n",
              "          dataTable['output_type'] = 'display_data';\n",
              "          await google.colab.output.renderOutput(dataTable, element);\n",
              "          const docLink = document.createElement('div');\n",
              "          docLink.innerHTML = docLinkHtml;\n",
              "          element.appendChild(docLink);\n",
              "        }\n",
              "      </script>\n",
              "    </div>\n",
              "  </div>\n",
              "  "
            ]
          },
          "metadata": {},
          "execution_count": 49
        }
      ],
      "source": [
        "pd.DataFrame({\"col1\": [1, 2, 3], \"col2\": [11, 22, 33]}) "
      ]
    },
    {
      "cell_type": "markdown",
      "id": "0f3e54bb-870b-4eb9-a592-1ef5c5de34a6",
      "metadata": {
        "id": "0f3e54bb-870b-4eb9-a592-1ef5c5de34a6"
      },
      "source": [
        "### From csv and ..."
      ]
    },
    {
      "cell_type": "code",
      "execution_count": null,
      "id": "b321250b-bd49-4122-b720-01079ea99e3e",
      "metadata": {
        "colab": {
          "base_uri": "https://localhost:8080/",
          "height": 336
        },
        "id": "b321250b-bd49-4122-b720-01079ea99e3e",
        "outputId": "faab8d63-92d4-42d9-f808-8f8c27d72403"
      },
      "outputs": [
        {
          "output_type": "error",
          "ename": "FileNotFoundError",
          "evalue": "ignored",
          "traceback": [
            "\u001b[0;31m---------------------------------------------------------------------------\u001b[0m",
            "\u001b[0;31mFileNotFoundError\u001b[0m                         Traceback (most recent call last)",
            "\u001b[0;32m<ipython-input-50-7b3cc2a102be>\u001b[0m in \u001b[0;36m<module>\u001b[0;34m\u001b[0m\n\u001b[0;32m----> 1\u001b[0;31m \u001b[0mcinema_df\u001b[0m \u001b[0;34m=\u001b[0m \u001b[0mpd\u001b[0m\u001b[0;34m.\u001b[0m\u001b[0mread_csv\u001b[0m\u001b[0;34m(\u001b[0m\u001b[0;34m\"./data/cinema.csv\"\u001b[0m\u001b[0;34m)\u001b[0m\u001b[0;34m\u001b[0m\u001b[0;34m\u001b[0m\u001b[0m\n\u001b[0m\u001b[1;32m      2\u001b[0m \u001b[0mcinema_df\u001b[0m\u001b[0;34m.\u001b[0m\u001b[0mhead\u001b[0m\u001b[0;34m(\u001b[0m\u001b[0;36m2\u001b[0m\u001b[0;34m)\u001b[0m\u001b[0;34m\u001b[0m\u001b[0;34m\u001b[0m\u001b[0m\n",
            "\u001b[0;32m/usr/local/lib/python3.8/dist-packages/pandas/util/_decorators.py\u001b[0m in \u001b[0;36mwrapper\u001b[0;34m(*args, **kwargs)\u001b[0m\n\u001b[1;32m    309\u001b[0m                     \u001b[0mstacklevel\u001b[0m\u001b[0;34m=\u001b[0m\u001b[0mstacklevel\u001b[0m\u001b[0;34m,\u001b[0m\u001b[0;34m\u001b[0m\u001b[0;34m\u001b[0m\u001b[0m\n\u001b[1;32m    310\u001b[0m                 )\n\u001b[0;32m--> 311\u001b[0;31m             \u001b[0;32mreturn\u001b[0m \u001b[0mfunc\u001b[0m\u001b[0;34m(\u001b[0m\u001b[0;34m*\u001b[0m\u001b[0margs\u001b[0m\u001b[0;34m,\u001b[0m \u001b[0;34m**\u001b[0m\u001b[0mkwargs\u001b[0m\u001b[0;34m)\u001b[0m\u001b[0;34m\u001b[0m\u001b[0;34m\u001b[0m\u001b[0m\n\u001b[0m\u001b[1;32m    312\u001b[0m \u001b[0;34m\u001b[0m\u001b[0m\n\u001b[1;32m    313\u001b[0m         \u001b[0;32mreturn\u001b[0m \u001b[0mwrapper\u001b[0m\u001b[0;34m\u001b[0m\u001b[0;34m\u001b[0m\u001b[0m\n",
            "\u001b[0;32m/usr/local/lib/python3.8/dist-packages/pandas/io/parsers/readers.py\u001b[0m in \u001b[0;36mread_csv\u001b[0;34m(filepath_or_buffer, sep, delimiter, header, names, index_col, usecols, squeeze, prefix, mangle_dupe_cols, dtype, engine, converters, true_values, false_values, skipinitialspace, skiprows, skipfooter, nrows, na_values, keep_default_na, na_filter, verbose, skip_blank_lines, parse_dates, infer_datetime_format, keep_date_col, date_parser, dayfirst, cache_dates, iterator, chunksize, compression, thousands, decimal, lineterminator, quotechar, quoting, doublequote, escapechar, comment, encoding, encoding_errors, dialect, error_bad_lines, warn_bad_lines, on_bad_lines, delim_whitespace, low_memory, memory_map, float_precision, storage_options)\u001b[0m\n\u001b[1;32m    584\u001b[0m     \u001b[0mkwds\u001b[0m\u001b[0;34m.\u001b[0m\u001b[0mupdate\u001b[0m\u001b[0;34m(\u001b[0m\u001b[0mkwds_defaults\u001b[0m\u001b[0;34m)\u001b[0m\u001b[0;34m\u001b[0m\u001b[0;34m\u001b[0m\u001b[0m\n\u001b[1;32m    585\u001b[0m \u001b[0;34m\u001b[0m\u001b[0m\n\u001b[0;32m--> 586\u001b[0;31m     \u001b[0;32mreturn\u001b[0m \u001b[0m_read\u001b[0m\u001b[0;34m(\u001b[0m\u001b[0mfilepath_or_buffer\u001b[0m\u001b[0;34m,\u001b[0m \u001b[0mkwds\u001b[0m\u001b[0;34m)\u001b[0m\u001b[0;34m\u001b[0m\u001b[0;34m\u001b[0m\u001b[0m\n\u001b[0m\u001b[1;32m    587\u001b[0m \u001b[0;34m\u001b[0m\u001b[0m\n\u001b[1;32m    588\u001b[0m \u001b[0;34m\u001b[0m\u001b[0m\n",
            "\u001b[0;32m/usr/local/lib/python3.8/dist-packages/pandas/io/parsers/readers.py\u001b[0m in \u001b[0;36m_read\u001b[0;34m(filepath_or_buffer, kwds)\u001b[0m\n\u001b[1;32m    480\u001b[0m \u001b[0;34m\u001b[0m\u001b[0m\n\u001b[1;32m    481\u001b[0m     \u001b[0;31m# Create the parser.\u001b[0m\u001b[0;34m\u001b[0m\u001b[0;34m\u001b[0m\u001b[0;34m\u001b[0m\u001b[0m\n\u001b[0;32m--> 482\u001b[0;31m     \u001b[0mparser\u001b[0m \u001b[0;34m=\u001b[0m \u001b[0mTextFileReader\u001b[0m\u001b[0;34m(\u001b[0m\u001b[0mfilepath_or_buffer\u001b[0m\u001b[0;34m,\u001b[0m \u001b[0;34m**\u001b[0m\u001b[0mkwds\u001b[0m\u001b[0;34m)\u001b[0m\u001b[0;34m\u001b[0m\u001b[0;34m\u001b[0m\u001b[0m\n\u001b[0m\u001b[1;32m    483\u001b[0m \u001b[0;34m\u001b[0m\u001b[0m\n\u001b[1;32m    484\u001b[0m     \u001b[0;32mif\u001b[0m \u001b[0mchunksize\u001b[0m \u001b[0;32mor\u001b[0m \u001b[0miterator\u001b[0m\u001b[0;34m:\u001b[0m\u001b[0;34m\u001b[0m\u001b[0;34m\u001b[0m\u001b[0m\n",
            "\u001b[0;32m/usr/local/lib/python3.8/dist-packages/pandas/io/parsers/readers.py\u001b[0m in \u001b[0;36m__init__\u001b[0;34m(self, f, engine, **kwds)\u001b[0m\n\u001b[1;32m    809\u001b[0m             \u001b[0mself\u001b[0m\u001b[0;34m.\u001b[0m\u001b[0moptions\u001b[0m\u001b[0;34m[\u001b[0m\u001b[0;34m\"has_index_names\"\u001b[0m\u001b[0;34m]\u001b[0m \u001b[0;34m=\u001b[0m \u001b[0mkwds\u001b[0m\u001b[0;34m[\u001b[0m\u001b[0;34m\"has_index_names\"\u001b[0m\u001b[0;34m]\u001b[0m\u001b[0;34m\u001b[0m\u001b[0;34m\u001b[0m\u001b[0m\n\u001b[1;32m    810\u001b[0m \u001b[0;34m\u001b[0m\u001b[0m\n\u001b[0;32m--> 811\u001b[0;31m         \u001b[0mself\u001b[0m\u001b[0;34m.\u001b[0m\u001b[0m_engine\u001b[0m \u001b[0;34m=\u001b[0m \u001b[0mself\u001b[0m\u001b[0;34m.\u001b[0m\u001b[0m_make_engine\u001b[0m\u001b[0;34m(\u001b[0m\u001b[0mself\u001b[0m\u001b[0;34m.\u001b[0m\u001b[0mengine\u001b[0m\u001b[0;34m)\u001b[0m\u001b[0;34m\u001b[0m\u001b[0;34m\u001b[0m\u001b[0m\n\u001b[0m\u001b[1;32m    812\u001b[0m \u001b[0;34m\u001b[0m\u001b[0m\n\u001b[1;32m    813\u001b[0m     \u001b[0;32mdef\u001b[0m \u001b[0mclose\u001b[0m\u001b[0;34m(\u001b[0m\u001b[0mself\u001b[0m\u001b[0;34m)\u001b[0m\u001b[0;34m:\u001b[0m\u001b[0;34m\u001b[0m\u001b[0;34m\u001b[0m\u001b[0m\n",
            "\u001b[0;32m/usr/local/lib/python3.8/dist-packages/pandas/io/parsers/readers.py\u001b[0m in \u001b[0;36m_make_engine\u001b[0;34m(self, engine)\u001b[0m\n\u001b[1;32m   1038\u001b[0m             )\n\u001b[1;32m   1039\u001b[0m         \u001b[0;31m# error: Too many arguments for \"ParserBase\"\u001b[0m\u001b[0;34m\u001b[0m\u001b[0;34m\u001b[0m\u001b[0;34m\u001b[0m\u001b[0m\n\u001b[0;32m-> 1040\u001b[0;31m         \u001b[0;32mreturn\u001b[0m \u001b[0mmapping\u001b[0m\u001b[0;34m[\u001b[0m\u001b[0mengine\u001b[0m\u001b[0;34m]\u001b[0m\u001b[0;34m(\u001b[0m\u001b[0mself\u001b[0m\u001b[0;34m.\u001b[0m\u001b[0mf\u001b[0m\u001b[0;34m,\u001b[0m \u001b[0;34m**\u001b[0m\u001b[0mself\u001b[0m\u001b[0;34m.\u001b[0m\u001b[0moptions\u001b[0m\u001b[0;34m)\u001b[0m  \u001b[0;31m# type: ignore[call-arg]\u001b[0m\u001b[0;34m\u001b[0m\u001b[0;34m\u001b[0m\u001b[0m\n\u001b[0m\u001b[1;32m   1041\u001b[0m \u001b[0;34m\u001b[0m\u001b[0m\n\u001b[1;32m   1042\u001b[0m     \u001b[0;32mdef\u001b[0m \u001b[0m_failover_to_python\u001b[0m\u001b[0;34m(\u001b[0m\u001b[0mself\u001b[0m\u001b[0;34m)\u001b[0m\u001b[0;34m:\u001b[0m\u001b[0;34m\u001b[0m\u001b[0;34m\u001b[0m\u001b[0m\n",
            "\u001b[0;32m/usr/local/lib/python3.8/dist-packages/pandas/io/parsers/c_parser_wrapper.py\u001b[0m in \u001b[0;36m__init__\u001b[0;34m(self, src, **kwds)\u001b[0m\n\u001b[1;32m     49\u001b[0m \u001b[0;34m\u001b[0m\u001b[0m\n\u001b[1;32m     50\u001b[0m         \u001b[0;31m# open handles\u001b[0m\u001b[0;34m\u001b[0m\u001b[0;34m\u001b[0m\u001b[0;34m\u001b[0m\u001b[0m\n\u001b[0;32m---> 51\u001b[0;31m         \u001b[0mself\u001b[0m\u001b[0;34m.\u001b[0m\u001b[0m_open_handles\u001b[0m\u001b[0;34m(\u001b[0m\u001b[0msrc\u001b[0m\u001b[0;34m,\u001b[0m \u001b[0mkwds\u001b[0m\u001b[0;34m)\u001b[0m\u001b[0;34m\u001b[0m\u001b[0;34m\u001b[0m\u001b[0m\n\u001b[0m\u001b[1;32m     52\u001b[0m         \u001b[0;32massert\u001b[0m \u001b[0mself\u001b[0m\u001b[0;34m.\u001b[0m\u001b[0mhandles\u001b[0m \u001b[0;32mis\u001b[0m \u001b[0;32mnot\u001b[0m \u001b[0;32mNone\u001b[0m\u001b[0;34m\u001b[0m\u001b[0;34m\u001b[0m\u001b[0m\n\u001b[1;32m     53\u001b[0m \u001b[0;34m\u001b[0m\u001b[0m\n",
            "\u001b[0;32m/usr/local/lib/python3.8/dist-packages/pandas/io/parsers/base_parser.py\u001b[0m in \u001b[0;36m_open_handles\u001b[0;34m(self, src, kwds)\u001b[0m\n\u001b[1;32m    220\u001b[0m         \u001b[0mLet\u001b[0m \u001b[0mthe\u001b[0m \u001b[0mreaders\u001b[0m \u001b[0mopen\u001b[0m \u001b[0mIOHandles\u001b[0m \u001b[0mafter\u001b[0m \u001b[0mthey\u001b[0m \u001b[0mare\u001b[0m \u001b[0mdone\u001b[0m \u001b[0;32mwith\u001b[0m \u001b[0mtheir\u001b[0m \u001b[0mpotential\u001b[0m \u001b[0mraises\u001b[0m\u001b[0;34m.\u001b[0m\u001b[0;34m\u001b[0m\u001b[0;34m\u001b[0m\u001b[0m\n\u001b[1;32m    221\u001b[0m         \"\"\"\n\u001b[0;32m--> 222\u001b[0;31m         self.handles = get_handle(\n\u001b[0m\u001b[1;32m    223\u001b[0m             \u001b[0msrc\u001b[0m\u001b[0;34m,\u001b[0m\u001b[0;34m\u001b[0m\u001b[0;34m\u001b[0m\u001b[0m\n\u001b[1;32m    224\u001b[0m             \u001b[0;34m\"r\"\u001b[0m\u001b[0;34m,\u001b[0m\u001b[0;34m\u001b[0m\u001b[0;34m\u001b[0m\u001b[0m\n",
            "\u001b[0;32m/usr/local/lib/python3.8/dist-packages/pandas/io/common.py\u001b[0m in \u001b[0;36mget_handle\u001b[0;34m(path_or_buf, mode, encoding, compression, memory_map, is_text, errors, storage_options)\u001b[0m\n\u001b[1;32m    700\u001b[0m         \u001b[0;32mif\u001b[0m \u001b[0mioargs\u001b[0m\u001b[0;34m.\u001b[0m\u001b[0mencoding\u001b[0m \u001b[0;32mand\u001b[0m \u001b[0;34m\"b\"\u001b[0m \u001b[0;32mnot\u001b[0m \u001b[0;32min\u001b[0m \u001b[0mioargs\u001b[0m\u001b[0;34m.\u001b[0m\u001b[0mmode\u001b[0m\u001b[0;34m:\u001b[0m\u001b[0;34m\u001b[0m\u001b[0;34m\u001b[0m\u001b[0m\n\u001b[1;32m    701\u001b[0m             \u001b[0;31m# Encoding\u001b[0m\u001b[0;34m\u001b[0m\u001b[0;34m\u001b[0m\u001b[0;34m\u001b[0m\u001b[0m\n\u001b[0;32m--> 702\u001b[0;31m             handle = open(\n\u001b[0m\u001b[1;32m    703\u001b[0m                 \u001b[0mhandle\u001b[0m\u001b[0;34m,\u001b[0m\u001b[0;34m\u001b[0m\u001b[0;34m\u001b[0m\u001b[0m\n\u001b[1;32m    704\u001b[0m                 \u001b[0mioargs\u001b[0m\u001b[0;34m.\u001b[0m\u001b[0mmode\u001b[0m\u001b[0;34m,\u001b[0m\u001b[0;34m\u001b[0m\u001b[0;34m\u001b[0m\u001b[0m\n",
            "\u001b[0;31mFileNotFoundError\u001b[0m: [Errno 2] No such file or directory: './data/cinema.csv'"
          ]
        }
      ],
      "source": [
        "cinema_df = pd.read_csv(\"./data/cinema.csv\")\n",
        "cinema_df.head(2)"
      ]
    },
    {
      "cell_type": "markdown",
      "id": "b52ddcd6-bc9b-4362-8a70-25aa261a16be",
      "metadata": {
        "id": "b52ddcd6-bc9b-4362-8a70-25aa261a16be"
      },
      "source": [
        "### 💀 Exercise\n",
        "\n",
        "- Extract columns. \n",
        "- Remove redundant columns. \n",
        "- Cleanup (rename) columns."
      ]
    },
    {
      "cell_type": "code",
      "execution_count": null,
      "id": "5586d974-5150-45e0-8e76-f80ce5474174",
      "metadata": {
        "id": "5586d974-5150-45e0-8e76-f80ce5474174"
      },
      "outputs": [],
      "source": [
        "cinema_df = cinema_df.drop(columns=[' year'])"
      ]
    },
    {
      "cell_type": "code",
      "execution_count": null,
      "id": "1f203eb4-8c55-46b8-95a8-c203d9fc1e09",
      "metadata": {
        "id": "1f203eb4-8c55-46b8-95a8-c203d9fc1e09"
      },
      "outputs": [],
      "source": [
        "cinema_df = cinema_df.rename(columns={c: c.strip() for c in cinema_df.columns})"
      ]
    },
    {
      "cell_type": "code",
      "execution_count": null,
      "id": "c838a98a-e172-4e6a-abea-ee88532fe1da",
      "metadata": {
        "id": "c838a98a-e172-4e6a-abea-ee88532fe1da",
        "outputId": "89552161-f586-43a1-cbba-8673223722b7"
      },
      "outputs": [
        {
          "data": {
            "text/plain": [
              "Index(['title', 'year', 'cinema_link', 'stars', 'wikipediaLink', 'sale',\n",
              "       'duration', 'poster', 'language'],\n",
              "      dtype='object')"
            ]
          },
          "execution_count": 61,
          "metadata": {},
          "output_type": "execute_result"
        }
      ],
      "source": [
        "cinema_df.columns"
      ]
    },
    {
      "cell_type": "markdown",
      "id": "d7710f5a-c0e1-4a3f-8e82-ba6464d95c16",
      "metadata": {
        "id": "d7710f5a-c0e1-4a3f-8e82-ba6464d95c16"
      },
      "source": [
        "### Indexers: loc, iloc"
      ]
    },
    {
      "cell_type": "code",
      "execution_count": null,
      "id": "01de0b57-8f87-4ceb-9201-ff543c512c21",
      "metadata": {
        "colab": {
          "base_uri": "https://localhost:8080/",
          "height": 206
        },
        "id": "01de0b57-8f87-4ceb-9201-ff543c512c21",
        "outputId": "a15f8c16-2707-4dc2-9a05-84f24d9356f8"
      },
      "outputs": [
        {
          "output_type": "execute_result",
          "data": {
            "text/plain": [
              "            population    area\n",
              "California    38332521  423967\n",
              "Texas         26448193  695662\n",
              "New York      19651127  141297\n",
              "Florida       19552860  170312\n",
              "Illinois      12882135  149995"
            ],
            "text/html": [
              "\n",
              "  <div id=\"df-fcd477b5-6c25-4827-9f02-e69b0b5f65b6\">\n",
              "    <div class=\"colab-df-container\">\n",
              "      <div>\n",
              "<style scoped>\n",
              "    .dataframe tbody tr th:only-of-type {\n",
              "        vertical-align: middle;\n",
              "    }\n",
              "\n",
              "    .dataframe tbody tr th {\n",
              "        vertical-align: top;\n",
              "    }\n",
              "\n",
              "    .dataframe thead th {\n",
              "        text-align: right;\n",
              "    }\n",
              "</style>\n",
              "<table border=\"1\" class=\"dataframe\">\n",
              "  <thead>\n",
              "    <tr style=\"text-align: right;\">\n",
              "      <th></th>\n",
              "      <th>population</th>\n",
              "      <th>area</th>\n",
              "    </tr>\n",
              "  </thead>\n",
              "  <tbody>\n",
              "    <tr>\n",
              "      <th>California</th>\n",
              "      <td>38332521</td>\n",
              "      <td>423967</td>\n",
              "    </tr>\n",
              "    <tr>\n",
              "      <th>Texas</th>\n",
              "      <td>26448193</td>\n",
              "      <td>695662</td>\n",
              "    </tr>\n",
              "    <tr>\n",
              "      <th>New York</th>\n",
              "      <td>19651127</td>\n",
              "      <td>141297</td>\n",
              "    </tr>\n",
              "    <tr>\n",
              "      <th>Florida</th>\n",
              "      <td>19552860</td>\n",
              "      <td>170312</td>\n",
              "    </tr>\n",
              "    <tr>\n",
              "      <th>Illinois</th>\n",
              "      <td>12882135</td>\n",
              "      <td>149995</td>\n",
              "    </tr>\n",
              "  </tbody>\n",
              "</table>\n",
              "</div>\n",
              "      <button class=\"colab-df-convert\" onclick=\"convertToInteractive('df-fcd477b5-6c25-4827-9f02-e69b0b5f65b6')\"\n",
              "              title=\"Convert this dataframe to an interactive table.\"\n",
              "              style=\"display:none;\">\n",
              "        \n",
              "  <svg xmlns=\"http://www.w3.org/2000/svg\" height=\"24px\"viewBox=\"0 0 24 24\"\n",
              "       width=\"24px\">\n",
              "    <path d=\"M0 0h24v24H0V0z\" fill=\"none\"/>\n",
              "    <path d=\"M18.56 5.44l.94 2.06.94-2.06 2.06-.94-2.06-.94-.94-2.06-.94 2.06-2.06.94zm-11 1L8.5 8.5l.94-2.06 2.06-.94-2.06-.94L8.5 2.5l-.94 2.06-2.06.94zm10 10l.94 2.06.94-2.06 2.06-.94-2.06-.94-.94-2.06-.94 2.06-2.06.94z\"/><path d=\"M17.41 7.96l-1.37-1.37c-.4-.4-.92-.59-1.43-.59-.52 0-1.04.2-1.43.59L10.3 9.45l-7.72 7.72c-.78.78-.78 2.05 0 2.83L4 21.41c.39.39.9.59 1.41.59.51 0 1.02-.2 1.41-.59l7.78-7.78 2.81-2.81c.8-.78.8-2.07 0-2.86zM5.41 20L4 18.59l7.72-7.72 1.47 1.35L5.41 20z\"/>\n",
              "  </svg>\n",
              "      </button>\n",
              "      \n",
              "  <style>\n",
              "    .colab-df-container {\n",
              "      display:flex;\n",
              "      flex-wrap:wrap;\n",
              "      gap: 12px;\n",
              "    }\n",
              "\n",
              "    .colab-df-convert {\n",
              "      background-color: #E8F0FE;\n",
              "      border: none;\n",
              "      border-radius: 50%;\n",
              "      cursor: pointer;\n",
              "      display: none;\n",
              "      fill: #1967D2;\n",
              "      height: 32px;\n",
              "      padding: 0 0 0 0;\n",
              "      width: 32px;\n",
              "    }\n",
              "\n",
              "    .colab-df-convert:hover {\n",
              "      background-color: #E2EBFA;\n",
              "      box-shadow: 0px 1px 2px rgba(60, 64, 67, 0.3), 0px 1px 3px 1px rgba(60, 64, 67, 0.15);\n",
              "      fill: #174EA6;\n",
              "    }\n",
              "\n",
              "    [theme=dark] .colab-df-convert {\n",
              "      background-color: #3B4455;\n",
              "      fill: #D2E3FC;\n",
              "    }\n",
              "\n",
              "    [theme=dark] .colab-df-convert:hover {\n",
              "      background-color: #434B5C;\n",
              "      box-shadow: 0px 1px 3px 1px rgba(0, 0, 0, 0.15);\n",
              "      filter: drop-shadow(0px 1px 2px rgba(0, 0, 0, 0.3));\n",
              "      fill: #FFFFFF;\n",
              "    }\n",
              "  </style>\n",
              "\n",
              "      <script>\n",
              "        const buttonEl =\n",
              "          document.querySelector('#df-fcd477b5-6c25-4827-9f02-e69b0b5f65b6 button.colab-df-convert');\n",
              "        buttonEl.style.display =\n",
              "          google.colab.kernel.accessAllowed ? 'block' : 'none';\n",
              "\n",
              "        async function convertToInteractive(key) {\n",
              "          const element = document.querySelector('#df-fcd477b5-6c25-4827-9f02-e69b0b5f65b6');\n",
              "          const dataTable =\n",
              "            await google.colab.kernel.invokeFunction('convertToInteractive',\n",
              "                                                     [key], {});\n",
              "          if (!dataTable) return;\n",
              "\n",
              "          const docLinkHtml = 'Like what you see? Visit the ' +\n",
              "            '<a target=\"_blank\" href=https://colab.research.google.com/notebooks/data_table.ipynb>data table notebook</a>'\n",
              "            + ' to learn more about interactive tables.';\n",
              "          element.innerHTML = '';\n",
              "          dataTable['output_type'] = 'display_data';\n",
              "          await google.colab.output.renderOutput(dataTable, element);\n",
              "          const docLink = document.createElement('div');\n",
              "          docLink.innerHTML = docLinkHtml;\n",
              "          element.appendChild(docLink);\n",
              "        }\n",
              "      </script>\n",
              "    </div>\n",
              "  </div>\n",
              "  "
            ]
          },
          "metadata": {},
          "execution_count": 51
        }
      ],
      "source": [
        "states"
      ]
    },
    {
      "cell_type": "code",
      "execution_count": null,
      "id": "a3cb6794-e5d6-467e-91b4-778f4d78deb9",
      "metadata": {
        "colab": {
          "base_uri": "https://localhost:8080/",
          "height": 143
        },
        "id": "a3cb6794-e5d6-467e-91b4-778f4d78deb9",
        "outputId": "63f0a7f8-20cb-41b9-9b52-b402fabfd3ad"
      },
      "outputs": [
        {
          "output_type": "execute_result",
          "data": {
            "text/plain": [
              "            population\n",
              "California    38332521\n",
              "Texas         26448193\n",
              "New York      19651127"
            ],
            "text/html": [
              "\n",
              "  <div id=\"df-5ee8b467-cc1e-4001-afe4-cc3428d3fe23\">\n",
              "    <div class=\"colab-df-container\">\n",
              "      <div>\n",
              "<style scoped>\n",
              "    .dataframe tbody tr th:only-of-type {\n",
              "        vertical-align: middle;\n",
              "    }\n",
              "\n",
              "    .dataframe tbody tr th {\n",
              "        vertical-align: top;\n",
              "    }\n",
              "\n",
              "    .dataframe thead th {\n",
              "        text-align: right;\n",
              "    }\n",
              "</style>\n",
              "<table border=\"1\" class=\"dataframe\">\n",
              "  <thead>\n",
              "    <tr style=\"text-align: right;\">\n",
              "      <th></th>\n",
              "      <th>population</th>\n",
              "    </tr>\n",
              "  </thead>\n",
              "  <tbody>\n",
              "    <tr>\n",
              "      <th>California</th>\n",
              "      <td>38332521</td>\n",
              "    </tr>\n",
              "    <tr>\n",
              "      <th>Texas</th>\n",
              "      <td>26448193</td>\n",
              "    </tr>\n",
              "    <tr>\n",
              "      <th>New York</th>\n",
              "      <td>19651127</td>\n",
              "    </tr>\n",
              "  </tbody>\n",
              "</table>\n",
              "</div>\n",
              "      <button class=\"colab-df-convert\" onclick=\"convertToInteractive('df-5ee8b467-cc1e-4001-afe4-cc3428d3fe23')\"\n",
              "              title=\"Convert this dataframe to an interactive table.\"\n",
              "              style=\"display:none;\">\n",
              "        \n",
              "  <svg xmlns=\"http://www.w3.org/2000/svg\" height=\"24px\"viewBox=\"0 0 24 24\"\n",
              "       width=\"24px\">\n",
              "    <path d=\"M0 0h24v24H0V0z\" fill=\"none\"/>\n",
              "    <path d=\"M18.56 5.44l.94 2.06.94-2.06 2.06-.94-2.06-.94-.94-2.06-.94 2.06-2.06.94zm-11 1L8.5 8.5l.94-2.06 2.06-.94-2.06-.94L8.5 2.5l-.94 2.06-2.06.94zm10 10l.94 2.06.94-2.06 2.06-.94-2.06-.94-.94-2.06-.94 2.06-2.06.94z\"/><path d=\"M17.41 7.96l-1.37-1.37c-.4-.4-.92-.59-1.43-.59-.52 0-1.04.2-1.43.59L10.3 9.45l-7.72 7.72c-.78.78-.78 2.05 0 2.83L4 21.41c.39.39.9.59 1.41.59.51 0 1.02-.2 1.41-.59l7.78-7.78 2.81-2.81c.8-.78.8-2.07 0-2.86zM5.41 20L4 18.59l7.72-7.72 1.47 1.35L5.41 20z\"/>\n",
              "  </svg>\n",
              "      </button>\n",
              "      \n",
              "  <style>\n",
              "    .colab-df-container {\n",
              "      display:flex;\n",
              "      flex-wrap:wrap;\n",
              "      gap: 12px;\n",
              "    }\n",
              "\n",
              "    .colab-df-convert {\n",
              "      background-color: #E8F0FE;\n",
              "      border: none;\n",
              "      border-radius: 50%;\n",
              "      cursor: pointer;\n",
              "      display: none;\n",
              "      fill: #1967D2;\n",
              "      height: 32px;\n",
              "      padding: 0 0 0 0;\n",
              "      width: 32px;\n",
              "    }\n",
              "\n",
              "    .colab-df-convert:hover {\n",
              "      background-color: #E2EBFA;\n",
              "      box-shadow: 0px 1px 2px rgba(60, 64, 67, 0.3), 0px 1px 3px 1px rgba(60, 64, 67, 0.15);\n",
              "      fill: #174EA6;\n",
              "    }\n",
              "\n",
              "    [theme=dark] .colab-df-convert {\n",
              "      background-color: #3B4455;\n",
              "      fill: #D2E3FC;\n",
              "    }\n",
              "\n",
              "    [theme=dark] .colab-df-convert:hover {\n",
              "      background-color: #434B5C;\n",
              "      box-shadow: 0px 1px 3px 1px rgba(0, 0, 0, 0.15);\n",
              "      filter: drop-shadow(0px 1px 2px rgba(0, 0, 0, 0.3));\n",
              "      fill: #FFFFFF;\n",
              "    }\n",
              "  </style>\n",
              "\n",
              "      <script>\n",
              "        const buttonEl =\n",
              "          document.querySelector('#df-5ee8b467-cc1e-4001-afe4-cc3428d3fe23 button.colab-df-convert');\n",
              "        buttonEl.style.display =\n",
              "          google.colab.kernel.accessAllowed ? 'block' : 'none';\n",
              "\n",
              "        async function convertToInteractive(key) {\n",
              "          const element = document.querySelector('#df-5ee8b467-cc1e-4001-afe4-cc3428d3fe23');\n",
              "          const dataTable =\n",
              "            await google.colab.kernel.invokeFunction('convertToInteractive',\n",
              "                                                     [key], {});\n",
              "          if (!dataTable) return;\n",
              "\n",
              "          const docLinkHtml = 'Like what you see? Visit the ' +\n",
              "            '<a target=\"_blank\" href=https://colab.research.google.com/notebooks/data_table.ipynb>data table notebook</a>'\n",
              "            + ' to learn more about interactive tables.';\n",
              "          element.innerHTML = '';\n",
              "          dataTable['output_type'] = 'display_data';\n",
              "          await google.colab.output.renderOutput(dataTable, element);\n",
              "          const docLink = document.createElement('div');\n",
              "          docLink.innerHTML = docLinkHtml;\n",
              "          element.appendChild(docLink);\n",
              "        }\n",
              "      </script>\n",
              "    </div>\n",
              "  </div>\n",
              "  "
            ]
          },
          "metadata": {},
          "execution_count": 52
        }
      ],
      "source": [
        "states.loc[\"California\": \"New York\", [\"population\"]]"
      ]
    },
    {
      "cell_type": "code",
      "execution_count": null,
      "id": "c75d5bb1-6cb4-4aeb-948b-e7eb234a62af",
      "metadata": {
        "colab": {
          "base_uri": "https://localhost:8080/"
        },
        "id": "c75d5bb1-6cb4-4aeb-948b-e7eb234a62af",
        "outputId": "66367ea4-e873-4ec9-99c4-8338504c0c07"
      },
      "outputs": [
        {
          "output_type": "execute_result",
          "data": {
            "text/plain": [
              "California    38332521\n",
              "Texas         26448193\n",
              "Name: population, dtype: int64"
            ]
          },
          "metadata": {},
          "execution_count": 53
        }
      ],
      "source": [
        "states.iloc[0: 2, 0]"
      ]
    },
    {
      "cell_type": "code",
      "execution_count": null,
      "id": "4021fd35-477b-4b5b-95dc-48e2b49a2433",
      "metadata": {
        "colab": {
          "base_uri": "https://localhost:8080/",
          "height": 112
        },
        "id": "4021fd35-477b-4b5b-95dc-48e2b49a2433",
        "outputId": "d93d5157-260a-462c-bc68-532aae2f02a0"
      },
      "outputs": [
        {
          "output_type": "execute_result",
          "data": {
            "text/plain": [
              "            population\n",
              "California    38332521\n",
              "Texas         26448193"
            ],
            "text/html": [
              "\n",
              "  <div id=\"df-24e71d54-5076-440d-83c1-47db6005838f\">\n",
              "    <div class=\"colab-df-container\">\n",
              "      <div>\n",
              "<style scoped>\n",
              "    .dataframe tbody tr th:only-of-type {\n",
              "        vertical-align: middle;\n",
              "    }\n",
              "\n",
              "    .dataframe tbody tr th {\n",
              "        vertical-align: top;\n",
              "    }\n",
              "\n",
              "    .dataframe thead th {\n",
              "        text-align: right;\n",
              "    }\n",
              "</style>\n",
              "<table border=\"1\" class=\"dataframe\">\n",
              "  <thead>\n",
              "    <tr style=\"text-align: right;\">\n",
              "      <th></th>\n",
              "      <th>population</th>\n",
              "    </tr>\n",
              "  </thead>\n",
              "  <tbody>\n",
              "    <tr>\n",
              "      <th>California</th>\n",
              "      <td>38332521</td>\n",
              "    </tr>\n",
              "    <tr>\n",
              "      <th>Texas</th>\n",
              "      <td>26448193</td>\n",
              "    </tr>\n",
              "  </tbody>\n",
              "</table>\n",
              "</div>\n",
              "      <button class=\"colab-df-convert\" onclick=\"convertToInteractive('df-24e71d54-5076-440d-83c1-47db6005838f')\"\n",
              "              title=\"Convert this dataframe to an interactive table.\"\n",
              "              style=\"display:none;\">\n",
              "        \n",
              "  <svg xmlns=\"http://www.w3.org/2000/svg\" height=\"24px\"viewBox=\"0 0 24 24\"\n",
              "       width=\"24px\">\n",
              "    <path d=\"M0 0h24v24H0V0z\" fill=\"none\"/>\n",
              "    <path d=\"M18.56 5.44l.94 2.06.94-2.06 2.06-.94-2.06-.94-.94-2.06-.94 2.06-2.06.94zm-11 1L8.5 8.5l.94-2.06 2.06-.94-2.06-.94L8.5 2.5l-.94 2.06-2.06.94zm10 10l.94 2.06.94-2.06 2.06-.94-2.06-.94-.94-2.06-.94 2.06-2.06.94z\"/><path d=\"M17.41 7.96l-1.37-1.37c-.4-.4-.92-.59-1.43-.59-.52 0-1.04.2-1.43.59L10.3 9.45l-7.72 7.72c-.78.78-.78 2.05 0 2.83L4 21.41c.39.39.9.59 1.41.59.51 0 1.02-.2 1.41-.59l7.78-7.78 2.81-2.81c.8-.78.8-2.07 0-2.86zM5.41 20L4 18.59l7.72-7.72 1.47 1.35L5.41 20z\"/>\n",
              "  </svg>\n",
              "      </button>\n",
              "      \n",
              "  <style>\n",
              "    .colab-df-container {\n",
              "      display:flex;\n",
              "      flex-wrap:wrap;\n",
              "      gap: 12px;\n",
              "    }\n",
              "\n",
              "    .colab-df-convert {\n",
              "      background-color: #E8F0FE;\n",
              "      border: none;\n",
              "      border-radius: 50%;\n",
              "      cursor: pointer;\n",
              "      display: none;\n",
              "      fill: #1967D2;\n",
              "      height: 32px;\n",
              "      padding: 0 0 0 0;\n",
              "      width: 32px;\n",
              "    }\n",
              "\n",
              "    .colab-df-convert:hover {\n",
              "      background-color: #E2EBFA;\n",
              "      box-shadow: 0px 1px 2px rgba(60, 64, 67, 0.3), 0px 1px 3px 1px rgba(60, 64, 67, 0.15);\n",
              "      fill: #174EA6;\n",
              "    }\n",
              "\n",
              "    [theme=dark] .colab-df-convert {\n",
              "      background-color: #3B4455;\n",
              "      fill: #D2E3FC;\n",
              "    }\n",
              "\n",
              "    [theme=dark] .colab-df-convert:hover {\n",
              "      background-color: #434B5C;\n",
              "      box-shadow: 0px 1px 3px 1px rgba(0, 0, 0, 0.15);\n",
              "      filter: drop-shadow(0px 1px 2px rgba(0, 0, 0, 0.3));\n",
              "      fill: #FFFFFF;\n",
              "    }\n",
              "  </style>\n",
              "\n",
              "      <script>\n",
              "        const buttonEl =\n",
              "          document.querySelector('#df-24e71d54-5076-440d-83c1-47db6005838f button.colab-df-convert');\n",
              "        buttonEl.style.display =\n",
              "          google.colab.kernel.accessAllowed ? 'block' : 'none';\n",
              "\n",
              "        async function convertToInteractive(key) {\n",
              "          const element = document.querySelector('#df-24e71d54-5076-440d-83c1-47db6005838f');\n",
              "          const dataTable =\n",
              "            await google.colab.kernel.invokeFunction('convertToInteractive',\n",
              "                                                     [key], {});\n",
              "          if (!dataTable) return;\n",
              "\n",
              "          const docLinkHtml = 'Like what you see? Visit the ' +\n",
              "            '<a target=\"_blank\" href=https://colab.research.google.com/notebooks/data_table.ipynb>data table notebook</a>'\n",
              "            + ' to learn more about interactive tables.';\n",
              "          element.innerHTML = '';\n",
              "          dataTable['output_type'] = 'display_data';\n",
              "          await google.colab.output.renderOutput(dataTable, element);\n",
              "          const docLink = document.createElement('div');\n",
              "          docLink.innerHTML = docLinkHtml;\n",
              "          element.appendChild(docLink);\n",
              "        }\n",
              "      </script>\n",
              "    </div>\n",
              "  </div>\n",
              "  "
            ]
          },
          "metadata": {},
          "execution_count": 54
        }
      ],
      "source": [
        "states.iloc[0: 2, [0]]"
      ]
    },
    {
      "cell_type": "markdown",
      "id": "9190c572-b106-47a3-b69a-26aeed0cfbe8",
      "metadata": {
        "id": "9190c572-b106-47a3-b69a-26aeed0cfbe8"
      },
      "source": [
        "### Value assignment "
      ]
    },
    {
      "cell_type": "code",
      "execution_count": null,
      "id": "530fd3a8-d429-425f-beec-f7eb174b2e60",
      "metadata": {
        "colab": {
          "base_uri": "https://localhost:8080/",
          "height": 206
        },
        "id": "530fd3a8-d429-425f-beec-f7eb174b2e60",
        "outputId": "502d75d0-545c-4258-cafe-6cc841879ae1"
      },
      "outputs": [
        {
          "output_type": "execute_result",
          "data": {
            "text/plain": [
              "            population    area     density\n",
              "California    38332521  423967   90.413926\n",
              "Texas         26448193  695662   38.018740\n",
              "New York      19651127  141297  139.076746\n",
              "Florida       19552860  170312  114.806121\n",
              "Illinois      12882135  149995   85.883763"
            ],
            "text/html": [
              "\n",
              "  <div id=\"df-3293b88d-7d31-4a30-b2d3-5bd510488a47\">\n",
              "    <div class=\"colab-df-container\">\n",
              "      <div>\n",
              "<style scoped>\n",
              "    .dataframe tbody tr th:only-of-type {\n",
              "        vertical-align: middle;\n",
              "    }\n",
              "\n",
              "    .dataframe tbody tr th {\n",
              "        vertical-align: top;\n",
              "    }\n",
              "\n",
              "    .dataframe thead th {\n",
              "        text-align: right;\n",
              "    }\n",
              "</style>\n",
              "<table border=\"1\" class=\"dataframe\">\n",
              "  <thead>\n",
              "    <tr style=\"text-align: right;\">\n",
              "      <th></th>\n",
              "      <th>population</th>\n",
              "      <th>area</th>\n",
              "      <th>density</th>\n",
              "    </tr>\n",
              "  </thead>\n",
              "  <tbody>\n",
              "    <tr>\n",
              "      <th>California</th>\n",
              "      <td>38332521</td>\n",
              "      <td>423967</td>\n",
              "      <td>90.413926</td>\n",
              "    </tr>\n",
              "    <tr>\n",
              "      <th>Texas</th>\n",
              "      <td>26448193</td>\n",
              "      <td>695662</td>\n",
              "      <td>38.018740</td>\n",
              "    </tr>\n",
              "    <tr>\n",
              "      <th>New York</th>\n",
              "      <td>19651127</td>\n",
              "      <td>141297</td>\n",
              "      <td>139.076746</td>\n",
              "    </tr>\n",
              "    <tr>\n",
              "      <th>Florida</th>\n",
              "      <td>19552860</td>\n",
              "      <td>170312</td>\n",
              "      <td>114.806121</td>\n",
              "    </tr>\n",
              "    <tr>\n",
              "      <th>Illinois</th>\n",
              "      <td>12882135</td>\n",
              "      <td>149995</td>\n",
              "      <td>85.883763</td>\n",
              "    </tr>\n",
              "  </tbody>\n",
              "</table>\n",
              "</div>\n",
              "      <button class=\"colab-df-convert\" onclick=\"convertToInteractive('df-3293b88d-7d31-4a30-b2d3-5bd510488a47')\"\n",
              "              title=\"Convert this dataframe to an interactive table.\"\n",
              "              style=\"display:none;\">\n",
              "        \n",
              "  <svg xmlns=\"http://www.w3.org/2000/svg\" height=\"24px\"viewBox=\"0 0 24 24\"\n",
              "       width=\"24px\">\n",
              "    <path d=\"M0 0h24v24H0V0z\" fill=\"none\"/>\n",
              "    <path d=\"M18.56 5.44l.94 2.06.94-2.06 2.06-.94-2.06-.94-.94-2.06-.94 2.06-2.06.94zm-11 1L8.5 8.5l.94-2.06 2.06-.94-2.06-.94L8.5 2.5l-.94 2.06-2.06.94zm10 10l.94 2.06.94-2.06 2.06-.94-2.06-.94-.94-2.06-.94 2.06-2.06.94z\"/><path d=\"M17.41 7.96l-1.37-1.37c-.4-.4-.92-.59-1.43-.59-.52 0-1.04.2-1.43.59L10.3 9.45l-7.72 7.72c-.78.78-.78 2.05 0 2.83L4 21.41c.39.39.9.59 1.41.59.51 0 1.02-.2 1.41-.59l7.78-7.78 2.81-2.81c.8-.78.8-2.07 0-2.86zM5.41 20L4 18.59l7.72-7.72 1.47 1.35L5.41 20z\"/>\n",
              "  </svg>\n",
              "      </button>\n",
              "      \n",
              "  <style>\n",
              "    .colab-df-container {\n",
              "      display:flex;\n",
              "      flex-wrap:wrap;\n",
              "      gap: 12px;\n",
              "    }\n",
              "\n",
              "    .colab-df-convert {\n",
              "      background-color: #E8F0FE;\n",
              "      border: none;\n",
              "      border-radius: 50%;\n",
              "      cursor: pointer;\n",
              "      display: none;\n",
              "      fill: #1967D2;\n",
              "      height: 32px;\n",
              "      padding: 0 0 0 0;\n",
              "      width: 32px;\n",
              "    }\n",
              "\n",
              "    .colab-df-convert:hover {\n",
              "      background-color: #E2EBFA;\n",
              "      box-shadow: 0px 1px 2px rgba(60, 64, 67, 0.3), 0px 1px 3px 1px rgba(60, 64, 67, 0.15);\n",
              "      fill: #174EA6;\n",
              "    }\n",
              "\n",
              "    [theme=dark] .colab-df-convert {\n",
              "      background-color: #3B4455;\n",
              "      fill: #D2E3FC;\n",
              "    }\n",
              "\n",
              "    [theme=dark] .colab-df-convert:hover {\n",
              "      background-color: #434B5C;\n",
              "      box-shadow: 0px 1px 3px 1px rgba(0, 0, 0, 0.15);\n",
              "      filter: drop-shadow(0px 1px 2px rgba(0, 0, 0, 0.3));\n",
              "      fill: #FFFFFF;\n",
              "    }\n",
              "  </style>\n",
              "\n",
              "      <script>\n",
              "        const buttonEl =\n",
              "          document.querySelector('#df-3293b88d-7d31-4a30-b2d3-5bd510488a47 button.colab-df-convert');\n",
              "        buttonEl.style.display =\n",
              "          google.colab.kernel.accessAllowed ? 'block' : 'none';\n",
              "\n",
              "        async function convertToInteractive(key) {\n",
              "          const element = document.querySelector('#df-3293b88d-7d31-4a30-b2d3-5bd510488a47');\n",
              "          const dataTable =\n",
              "            await google.colab.kernel.invokeFunction('convertToInteractive',\n",
              "                                                     [key], {});\n",
              "          if (!dataTable) return;\n",
              "\n",
              "          const docLinkHtml = 'Like what you see? Visit the ' +\n",
              "            '<a target=\"_blank\" href=https://colab.research.google.com/notebooks/data_table.ipynb>data table notebook</a>'\n",
              "            + ' to learn more about interactive tables.';\n",
              "          element.innerHTML = '';\n",
              "          dataTable['output_type'] = 'display_data';\n",
              "          await google.colab.output.renderOutput(dataTable, element);\n",
              "          const docLink = document.createElement('div');\n",
              "          docLink.innerHTML = docLinkHtml;\n",
              "          element.appendChild(docLink);\n",
              "        }\n",
              "      </script>\n",
              "    </div>\n",
              "  </div>\n",
              "  "
            ]
          },
          "metadata": {},
          "execution_count": 55
        }
      ],
      "source": [
        "states['density'] = states['population'] / states['area']\n",
        "states"
      ]
    },
    {
      "cell_type": "code",
      "execution_count": null,
      "id": "e355f7a7-734b-49cf-9115-616b1d66fbd8",
      "metadata": {
        "id": "e355f7a7-734b-49cf-9115-616b1d66fbd8"
      },
      "outputs": [],
      "source": [
        "states.drop(columns=[\"density\"], inplace=True)"
      ]
    },
    {
      "cell_type": "code",
      "execution_count": null,
      "id": "6f239c8b-f391-4b63-9d88-57c1be5e4a62",
      "metadata": {
        "colab": {
          "base_uri": "https://localhost:8080/",
          "height": 206
        },
        "id": "6f239c8b-f391-4b63-9d88-57c1be5e4a62",
        "outputId": "ea81e038-aeba-446d-b547-6e216dc08337"
      },
      "outputs": [
        {
          "output_type": "execute_result",
          "data": {
            "text/plain": [
              "            population    area\n",
              "California    38332521  423967\n",
              "Texas         26448193  695662\n",
              "New York      19651127  141297\n",
              "Florida       19552860  170312\n",
              "Illinois      12882135  149995"
            ],
            "text/html": [
              "\n",
              "  <div id=\"df-b7fc0a81-6220-4258-9ac9-666dacdce9e3\">\n",
              "    <div class=\"colab-df-container\">\n",
              "      <div>\n",
              "<style scoped>\n",
              "    .dataframe tbody tr th:only-of-type {\n",
              "        vertical-align: middle;\n",
              "    }\n",
              "\n",
              "    .dataframe tbody tr th {\n",
              "        vertical-align: top;\n",
              "    }\n",
              "\n",
              "    .dataframe thead th {\n",
              "        text-align: right;\n",
              "    }\n",
              "</style>\n",
              "<table border=\"1\" class=\"dataframe\">\n",
              "  <thead>\n",
              "    <tr style=\"text-align: right;\">\n",
              "      <th></th>\n",
              "      <th>population</th>\n",
              "      <th>area</th>\n",
              "    </tr>\n",
              "  </thead>\n",
              "  <tbody>\n",
              "    <tr>\n",
              "      <th>California</th>\n",
              "      <td>38332521</td>\n",
              "      <td>423967</td>\n",
              "    </tr>\n",
              "    <tr>\n",
              "      <th>Texas</th>\n",
              "      <td>26448193</td>\n",
              "      <td>695662</td>\n",
              "    </tr>\n",
              "    <tr>\n",
              "      <th>New York</th>\n",
              "      <td>19651127</td>\n",
              "      <td>141297</td>\n",
              "    </tr>\n",
              "    <tr>\n",
              "      <th>Florida</th>\n",
              "      <td>19552860</td>\n",
              "      <td>170312</td>\n",
              "    </tr>\n",
              "    <tr>\n",
              "      <th>Illinois</th>\n",
              "      <td>12882135</td>\n",
              "      <td>149995</td>\n",
              "    </tr>\n",
              "  </tbody>\n",
              "</table>\n",
              "</div>\n",
              "      <button class=\"colab-df-convert\" onclick=\"convertToInteractive('df-b7fc0a81-6220-4258-9ac9-666dacdce9e3')\"\n",
              "              title=\"Convert this dataframe to an interactive table.\"\n",
              "              style=\"display:none;\">\n",
              "        \n",
              "  <svg xmlns=\"http://www.w3.org/2000/svg\" height=\"24px\"viewBox=\"0 0 24 24\"\n",
              "       width=\"24px\">\n",
              "    <path d=\"M0 0h24v24H0V0z\" fill=\"none\"/>\n",
              "    <path d=\"M18.56 5.44l.94 2.06.94-2.06 2.06-.94-2.06-.94-.94-2.06-.94 2.06-2.06.94zm-11 1L8.5 8.5l.94-2.06 2.06-.94-2.06-.94L8.5 2.5l-.94 2.06-2.06.94zm10 10l.94 2.06.94-2.06 2.06-.94-2.06-.94-.94-2.06-.94 2.06-2.06.94z\"/><path d=\"M17.41 7.96l-1.37-1.37c-.4-.4-.92-.59-1.43-.59-.52 0-1.04.2-1.43.59L10.3 9.45l-7.72 7.72c-.78.78-.78 2.05 0 2.83L4 21.41c.39.39.9.59 1.41.59.51 0 1.02-.2 1.41-.59l7.78-7.78 2.81-2.81c.8-.78.8-2.07 0-2.86zM5.41 20L4 18.59l7.72-7.72 1.47 1.35L5.41 20z\"/>\n",
              "  </svg>\n",
              "      </button>\n",
              "      \n",
              "  <style>\n",
              "    .colab-df-container {\n",
              "      display:flex;\n",
              "      flex-wrap:wrap;\n",
              "      gap: 12px;\n",
              "    }\n",
              "\n",
              "    .colab-df-convert {\n",
              "      background-color: #E8F0FE;\n",
              "      border: none;\n",
              "      border-radius: 50%;\n",
              "      cursor: pointer;\n",
              "      display: none;\n",
              "      fill: #1967D2;\n",
              "      height: 32px;\n",
              "      padding: 0 0 0 0;\n",
              "      width: 32px;\n",
              "    }\n",
              "\n",
              "    .colab-df-convert:hover {\n",
              "      background-color: #E2EBFA;\n",
              "      box-shadow: 0px 1px 2px rgba(60, 64, 67, 0.3), 0px 1px 3px 1px rgba(60, 64, 67, 0.15);\n",
              "      fill: #174EA6;\n",
              "    }\n",
              "\n",
              "    [theme=dark] .colab-df-convert {\n",
              "      background-color: #3B4455;\n",
              "      fill: #D2E3FC;\n",
              "    }\n",
              "\n",
              "    [theme=dark] .colab-df-convert:hover {\n",
              "      background-color: #434B5C;\n",
              "      box-shadow: 0px 1px 3px 1px rgba(0, 0, 0, 0.15);\n",
              "      filter: drop-shadow(0px 1px 2px rgba(0, 0, 0, 0.3));\n",
              "      fill: #FFFFFF;\n",
              "    }\n",
              "  </style>\n",
              "\n",
              "      <script>\n",
              "        const buttonEl =\n",
              "          document.querySelector('#df-b7fc0a81-6220-4258-9ac9-666dacdce9e3 button.colab-df-convert');\n",
              "        buttonEl.style.display =\n",
              "          google.colab.kernel.accessAllowed ? 'block' : 'none';\n",
              "\n",
              "        async function convertToInteractive(key) {\n",
              "          const element = document.querySelector('#df-b7fc0a81-6220-4258-9ac9-666dacdce9e3');\n",
              "          const dataTable =\n",
              "            await google.colab.kernel.invokeFunction('convertToInteractive',\n",
              "                                                     [key], {});\n",
              "          if (!dataTable) return;\n",
              "\n",
              "          const docLinkHtml = 'Like what you see? Visit the ' +\n",
              "            '<a target=\"_blank\" href=https://colab.research.google.com/notebooks/data_table.ipynb>data table notebook</a>'\n",
              "            + ' to learn more about interactive tables.';\n",
              "          element.innerHTML = '';\n",
              "          dataTable['output_type'] = 'display_data';\n",
              "          await google.colab.output.renderOutput(dataTable, element);\n",
              "          const docLink = document.createElement('div');\n",
              "          docLink.innerHTML = docLinkHtml;\n",
              "          element.appendChild(docLink);\n",
              "        }\n",
              "      </script>\n",
              "    </div>\n",
              "  </div>\n",
              "  "
            ]
          },
          "metadata": {},
          "execution_count": 57
        }
      ],
      "source": [
        "states"
      ]
    },
    {
      "cell_type": "code",
      "execution_count": null,
      "id": "2578956f-46d4-4a19-803d-fc4b1cc2bf72",
      "metadata": {
        "colab": {
          "base_uri": "https://localhost:8080/",
          "height": 206
        },
        "id": "2578956f-46d4-4a19-803d-fc4b1cc2bf72",
        "outputId": "55893559-f258-44c6-ae98-0c0af955c5c5"
      },
      "outputs": [
        {
          "output_type": "execute_result",
          "data": {
            "text/plain": [
              "            population    area     density\n",
              "California    38332521  423967   90.413926\n",
              "Texas         26448193  695662   38.018740\n",
              "New York      19651127  141297  139.076746\n",
              "Florida       19552860  170312  114.806121\n",
              "Illinois      12882135  149995   85.883763"
            ],
            "text/html": [
              "\n",
              "  <div id=\"df-ccdef0d2-6835-4fa6-8824-820fe67ac981\">\n",
              "    <div class=\"colab-df-container\">\n",
              "      <div>\n",
              "<style scoped>\n",
              "    .dataframe tbody tr th:only-of-type {\n",
              "        vertical-align: middle;\n",
              "    }\n",
              "\n",
              "    .dataframe tbody tr th {\n",
              "        vertical-align: top;\n",
              "    }\n",
              "\n",
              "    .dataframe thead th {\n",
              "        text-align: right;\n",
              "    }\n",
              "</style>\n",
              "<table border=\"1\" class=\"dataframe\">\n",
              "  <thead>\n",
              "    <tr style=\"text-align: right;\">\n",
              "      <th></th>\n",
              "      <th>population</th>\n",
              "      <th>area</th>\n",
              "      <th>density</th>\n",
              "    </tr>\n",
              "  </thead>\n",
              "  <tbody>\n",
              "    <tr>\n",
              "      <th>California</th>\n",
              "      <td>38332521</td>\n",
              "      <td>423967</td>\n",
              "      <td>90.413926</td>\n",
              "    </tr>\n",
              "    <tr>\n",
              "      <th>Texas</th>\n",
              "      <td>26448193</td>\n",
              "      <td>695662</td>\n",
              "      <td>38.018740</td>\n",
              "    </tr>\n",
              "    <tr>\n",
              "      <th>New York</th>\n",
              "      <td>19651127</td>\n",
              "      <td>141297</td>\n",
              "      <td>139.076746</td>\n",
              "    </tr>\n",
              "    <tr>\n",
              "      <th>Florida</th>\n",
              "      <td>19552860</td>\n",
              "      <td>170312</td>\n",
              "      <td>114.806121</td>\n",
              "    </tr>\n",
              "    <tr>\n",
              "      <th>Illinois</th>\n",
              "      <td>12882135</td>\n",
              "      <td>149995</td>\n",
              "      <td>85.883763</td>\n",
              "    </tr>\n",
              "  </tbody>\n",
              "</table>\n",
              "</div>\n",
              "      <button class=\"colab-df-convert\" onclick=\"convertToInteractive('df-ccdef0d2-6835-4fa6-8824-820fe67ac981')\"\n",
              "              title=\"Convert this dataframe to an interactive table.\"\n",
              "              style=\"display:none;\">\n",
              "        \n",
              "  <svg xmlns=\"http://www.w3.org/2000/svg\" height=\"24px\"viewBox=\"0 0 24 24\"\n",
              "       width=\"24px\">\n",
              "    <path d=\"M0 0h24v24H0V0z\" fill=\"none\"/>\n",
              "    <path d=\"M18.56 5.44l.94 2.06.94-2.06 2.06-.94-2.06-.94-.94-2.06-.94 2.06-2.06.94zm-11 1L8.5 8.5l.94-2.06 2.06-.94-2.06-.94L8.5 2.5l-.94 2.06-2.06.94zm10 10l.94 2.06.94-2.06 2.06-.94-2.06-.94-.94-2.06-.94 2.06-2.06.94z\"/><path d=\"M17.41 7.96l-1.37-1.37c-.4-.4-.92-.59-1.43-.59-.52 0-1.04.2-1.43.59L10.3 9.45l-7.72 7.72c-.78.78-.78 2.05 0 2.83L4 21.41c.39.39.9.59 1.41.59.51 0 1.02-.2 1.41-.59l7.78-7.78 2.81-2.81c.8-.78.8-2.07 0-2.86zM5.41 20L4 18.59l7.72-7.72 1.47 1.35L5.41 20z\"/>\n",
              "  </svg>\n",
              "      </button>\n",
              "      \n",
              "  <style>\n",
              "    .colab-df-container {\n",
              "      display:flex;\n",
              "      flex-wrap:wrap;\n",
              "      gap: 12px;\n",
              "    }\n",
              "\n",
              "    .colab-df-convert {\n",
              "      background-color: #E8F0FE;\n",
              "      border: none;\n",
              "      border-radius: 50%;\n",
              "      cursor: pointer;\n",
              "      display: none;\n",
              "      fill: #1967D2;\n",
              "      height: 32px;\n",
              "      padding: 0 0 0 0;\n",
              "      width: 32px;\n",
              "    }\n",
              "\n",
              "    .colab-df-convert:hover {\n",
              "      background-color: #E2EBFA;\n",
              "      box-shadow: 0px 1px 2px rgba(60, 64, 67, 0.3), 0px 1px 3px 1px rgba(60, 64, 67, 0.15);\n",
              "      fill: #174EA6;\n",
              "    }\n",
              "\n",
              "    [theme=dark] .colab-df-convert {\n",
              "      background-color: #3B4455;\n",
              "      fill: #D2E3FC;\n",
              "    }\n",
              "\n",
              "    [theme=dark] .colab-df-convert:hover {\n",
              "      background-color: #434B5C;\n",
              "      box-shadow: 0px 1px 3px 1px rgba(0, 0, 0, 0.15);\n",
              "      filter: drop-shadow(0px 1px 2px rgba(0, 0, 0, 0.3));\n",
              "      fill: #FFFFFF;\n",
              "    }\n",
              "  </style>\n",
              "\n",
              "      <script>\n",
              "        const buttonEl =\n",
              "          document.querySelector('#df-ccdef0d2-6835-4fa6-8824-820fe67ac981 button.colab-df-convert');\n",
              "        buttonEl.style.display =\n",
              "          google.colab.kernel.accessAllowed ? 'block' : 'none';\n",
              "\n",
              "        async function convertToInteractive(key) {\n",
              "          const element = document.querySelector('#df-ccdef0d2-6835-4fa6-8824-820fe67ac981');\n",
              "          const dataTable =\n",
              "            await google.colab.kernel.invokeFunction('convertToInteractive',\n",
              "                                                     [key], {});\n",
              "          if (!dataTable) return;\n",
              "\n",
              "          const docLinkHtml = 'Like what you see? Visit the ' +\n",
              "            '<a target=\"_blank\" href=https://colab.research.google.com/notebooks/data_table.ipynb>data table notebook</a>'\n",
              "            + ' to learn more about interactive tables.';\n",
              "          element.innerHTML = '';\n",
              "          dataTable['output_type'] = 'display_data';\n",
              "          await google.colab.output.renderOutput(dataTable, element);\n",
              "          const docLink = document.createElement('div');\n",
              "          docLink.innerHTML = docLinkHtml;\n",
              "          element.appendChild(docLink);\n",
              "        }\n",
              "      </script>\n",
              "    </div>\n",
              "  </div>\n",
              "  "
            ]
          },
          "metadata": {},
          "execution_count": 58
        }
      ],
      "source": [
        "states_with_density = states.assign(\n",
        "    density=lambda df: df['population'] / df['area']\n",
        ")\n",
        "states_with_density"
      ]
    },
    {
      "cell_type": "markdown",
      "id": "58ba9d45-a8f0-4e50-95bd-daaa0eb302bd",
      "metadata": {
        "id": "58ba9d45-a8f0-4e50-95bd-daaa0eb302bd"
      },
      "source": [
        "### Apply function"
      ]
    },
    {
      "cell_type": "code",
      "execution_count": null,
      "id": "2a076aa9-0e81-434f-adb6-ea0b18aba9ac",
      "metadata": {
        "colab": {
          "base_uri": "https://localhost:8080/",
          "height": 206
        },
        "id": "2a076aa9-0e81-434f-adb6-ea0b18aba9ac",
        "outputId": "ba6f285e-99cb-4194-a1ea-0d99e34dcacc"
      },
      "outputs": [
        {
          "output_type": "execute_result",
          "data": {
            "text/plain": [
              "            population    area  area_km2\n",
              "California    38332521  423967   423.967\n",
              "Texas         26448193  695662   695.662\n",
              "New York      19651127  141297   141.297\n",
              "Florida       19552860  170312   170.312\n",
              "Illinois      12882135  149995   149.995"
            ],
            "text/html": [
              "\n",
              "  <div id=\"df-fd6de93c-afae-43e9-9e96-0ef9063c5223\">\n",
              "    <div class=\"colab-df-container\">\n",
              "      <div>\n",
              "<style scoped>\n",
              "    .dataframe tbody tr th:only-of-type {\n",
              "        vertical-align: middle;\n",
              "    }\n",
              "\n",
              "    .dataframe tbody tr th {\n",
              "        vertical-align: top;\n",
              "    }\n",
              "\n",
              "    .dataframe thead th {\n",
              "        text-align: right;\n",
              "    }\n",
              "</style>\n",
              "<table border=\"1\" class=\"dataframe\">\n",
              "  <thead>\n",
              "    <tr style=\"text-align: right;\">\n",
              "      <th></th>\n",
              "      <th>population</th>\n",
              "      <th>area</th>\n",
              "      <th>area_km2</th>\n",
              "    </tr>\n",
              "  </thead>\n",
              "  <tbody>\n",
              "    <tr>\n",
              "      <th>California</th>\n",
              "      <td>38332521</td>\n",
              "      <td>423967</td>\n",
              "      <td>423.967</td>\n",
              "    </tr>\n",
              "    <tr>\n",
              "      <th>Texas</th>\n",
              "      <td>26448193</td>\n",
              "      <td>695662</td>\n",
              "      <td>695.662</td>\n",
              "    </tr>\n",
              "    <tr>\n",
              "      <th>New York</th>\n",
              "      <td>19651127</td>\n",
              "      <td>141297</td>\n",
              "      <td>141.297</td>\n",
              "    </tr>\n",
              "    <tr>\n",
              "      <th>Florida</th>\n",
              "      <td>19552860</td>\n",
              "      <td>170312</td>\n",
              "      <td>170.312</td>\n",
              "    </tr>\n",
              "    <tr>\n",
              "      <th>Illinois</th>\n",
              "      <td>12882135</td>\n",
              "      <td>149995</td>\n",
              "      <td>149.995</td>\n",
              "    </tr>\n",
              "  </tbody>\n",
              "</table>\n",
              "</div>\n",
              "      <button class=\"colab-df-convert\" onclick=\"convertToInteractive('df-fd6de93c-afae-43e9-9e96-0ef9063c5223')\"\n",
              "              title=\"Convert this dataframe to an interactive table.\"\n",
              "              style=\"display:none;\">\n",
              "        \n",
              "  <svg xmlns=\"http://www.w3.org/2000/svg\" height=\"24px\"viewBox=\"0 0 24 24\"\n",
              "       width=\"24px\">\n",
              "    <path d=\"M0 0h24v24H0V0z\" fill=\"none\"/>\n",
              "    <path d=\"M18.56 5.44l.94 2.06.94-2.06 2.06-.94-2.06-.94-.94-2.06-.94 2.06-2.06.94zm-11 1L8.5 8.5l.94-2.06 2.06-.94-2.06-.94L8.5 2.5l-.94 2.06-2.06.94zm10 10l.94 2.06.94-2.06 2.06-.94-2.06-.94-.94-2.06-.94 2.06-2.06.94z\"/><path d=\"M17.41 7.96l-1.37-1.37c-.4-.4-.92-.59-1.43-.59-.52 0-1.04.2-1.43.59L10.3 9.45l-7.72 7.72c-.78.78-.78 2.05 0 2.83L4 21.41c.39.39.9.59 1.41.59.51 0 1.02-.2 1.41-.59l7.78-7.78 2.81-2.81c.8-.78.8-2.07 0-2.86zM5.41 20L4 18.59l7.72-7.72 1.47 1.35L5.41 20z\"/>\n",
              "  </svg>\n",
              "      </button>\n",
              "      \n",
              "  <style>\n",
              "    .colab-df-container {\n",
              "      display:flex;\n",
              "      flex-wrap:wrap;\n",
              "      gap: 12px;\n",
              "    }\n",
              "\n",
              "    .colab-df-convert {\n",
              "      background-color: #E8F0FE;\n",
              "      border: none;\n",
              "      border-radius: 50%;\n",
              "      cursor: pointer;\n",
              "      display: none;\n",
              "      fill: #1967D2;\n",
              "      height: 32px;\n",
              "      padding: 0 0 0 0;\n",
              "      width: 32px;\n",
              "    }\n",
              "\n",
              "    .colab-df-convert:hover {\n",
              "      background-color: #E2EBFA;\n",
              "      box-shadow: 0px 1px 2px rgba(60, 64, 67, 0.3), 0px 1px 3px 1px rgba(60, 64, 67, 0.15);\n",
              "      fill: #174EA6;\n",
              "    }\n",
              "\n",
              "    [theme=dark] .colab-df-convert {\n",
              "      background-color: #3B4455;\n",
              "      fill: #D2E3FC;\n",
              "    }\n",
              "\n",
              "    [theme=dark] .colab-df-convert:hover {\n",
              "      background-color: #434B5C;\n",
              "      box-shadow: 0px 1px 3px 1px rgba(0, 0, 0, 0.15);\n",
              "      filter: drop-shadow(0px 1px 2px rgba(0, 0, 0, 0.3));\n",
              "      fill: #FFFFFF;\n",
              "    }\n",
              "  </style>\n",
              "\n",
              "      <script>\n",
              "        const buttonEl =\n",
              "          document.querySelector('#df-fd6de93c-afae-43e9-9e96-0ef9063c5223 button.colab-df-convert');\n",
              "        buttonEl.style.display =\n",
              "          google.colab.kernel.accessAllowed ? 'block' : 'none';\n",
              "\n",
              "        async function convertToInteractive(key) {\n",
              "          const element = document.querySelector('#df-fd6de93c-afae-43e9-9e96-0ef9063c5223');\n",
              "          const dataTable =\n",
              "            await google.colab.kernel.invokeFunction('convertToInteractive',\n",
              "                                                     [key], {});\n",
              "          if (!dataTable) return;\n",
              "\n",
              "          const docLinkHtml = 'Like what you see? Visit the ' +\n",
              "            '<a target=\"_blank\" href=https://colab.research.google.com/notebooks/data_table.ipynb>data table notebook</a>'\n",
              "            + ' to learn more about interactive tables.';\n",
              "          element.innerHTML = '';\n",
              "          dataTable['output_type'] = 'display_data';\n",
              "          await google.colab.output.renderOutput(dataTable, element);\n",
              "          const docLink = document.createElement('div');\n",
              "          docLink.innerHTML = docLinkHtml;\n",
              "          element.appendChild(docLink);\n",
              "        }\n",
              "      </script>\n",
              "    </div>\n",
              "  </div>\n",
              "  "
            ]
          },
          "metadata": {},
          "execution_count": 59
        }
      ],
      "source": [
        "states.assign(\n",
        "    area_km2=lambda df: df['area'].apply(lambda x: x/1000)\n",
        ")"
      ]
    },
    {
      "cell_type": "markdown",
      "id": "ac054dfe-3411-472e-ae40-f5ef3b1f260c",
      "metadata": {
        "id": "ac054dfe-3411-472e-ae40-f5ef3b1f260c"
      },
      "source": [
        "### 💀 Exercise\n",
        "\n",
        "- Add a decade column to the cinema df."
      ]
    },
    {
      "cell_type": "markdown",
      "id": "85ba2e4a-633e-42f7-84f8-bbf76de4c289",
      "metadata": {
        "id": "85ba2e4a-633e-42f7-84f8-bbf76de4c289"
      },
      "source": [
        "### Index allignment"
      ]
    },
    {
      "cell_type": "code",
      "execution_count": null,
      "id": "41059dd6-7d83-45cc-b537-0ef26d7e2647",
      "metadata": {
        "colab": {
          "base_uri": "https://localhost:8080/"
        },
        "id": "41059dd6-7d83-45cc-b537-0ef26d7e2647",
        "outputId": "c89c19cd-f6db-49ba-c4e5-1b4749daa9b4"
      },
      "outputs": [
        {
          "output_type": "execute_result",
          "data": {
            "text/plain": [
              "0    NaN\n",
              "1    5.0\n",
              "2    9.0\n",
              "3    NaN\n",
              "dtype: float64"
            ]
          },
          "metadata": {},
          "execution_count": 60
        }
      ],
      "source": [
        "A = pd.Series([2, 4, 6], index=[0, 1, 2])\n",
        "B = pd.Series([1, 3, 5], index=[1, 2, 3])\n",
        "A + B"
      ]
    },
    {
      "cell_type": "code",
      "execution_count": null,
      "id": "373399ef-81cb-4cb4-9320-97cf6b2dd8ac",
      "metadata": {
        "colab": {
          "base_uri": "https://localhost:8080/"
        },
        "id": "373399ef-81cb-4cb4-9320-97cf6b2dd8ac",
        "outputId": "974c0076-c29d-4f9f-9fae-c39ac41467bd"
      },
      "outputs": [
        {
          "output_type": "execute_result",
          "data": {
            "text/plain": [
              "0    2.0\n",
              "1    5.0\n",
              "2    9.0\n",
              "3    5.0\n",
              "dtype: float64"
            ]
          },
          "metadata": {},
          "execution_count": 61
        }
      ],
      "source": [
        "A.add(B, fill_value=0)"
      ]
    },
    {
      "cell_type": "markdown",
      "id": "41810e5a-8aad-4b93-b4c7-e8b5528c1385",
      "metadata": {
        "id": "41810e5a-8aad-4b93-b4c7-e8b5528c1385"
      },
      "source": [
        "### Combining datasets"
      ]
    },
    {
      "cell_type": "markdown",
      "id": "558ae6b5-e711-4ea7-9665-dcb1f82c3bd8",
      "metadata": {
        "id": "558ae6b5-e711-4ea7-9665-dcb1f82c3bd8"
      },
      "source": [
        "The following is to just show dataframes side by side (not relevant for the course material)"
      ]
    },
    {
      "cell_type": "code",
      "execution_count": null,
      "id": "408981b8-0cdd-4b92-8722-cd96bf5070d6",
      "metadata": {
        "id": "408981b8-0cdd-4b92-8722-cd96bf5070d6"
      },
      "outputs": [],
      "source": [
        "from IPython.display import display_html\n",
        "from itertools import chain,cycle\n",
        "\n",
        "def display_dfs(dfs: list, captions: list, tablespacing=5):\n",
        "    output = \"\"\n",
        "    for (caption, df) in zip(captions, dfs):\n",
        "        output += (\n",
        "            df\n",
        "            .style.set_table_attributes(\"style='display:inline'\")\n",
        "            .set_caption(caption)._repr_html_()\n",
        "        )\n",
        "        output += tablespacing * \"\\xa0\"\n",
        "    display(HTML(output))\n",
        "\n",
        "def desplay_df_expr(*args):\n",
        "    display_dfs([eval(expr) for expr in args], [expr for expr in args])\n",
        "    \n",
        "def make_df(cols, indices):\n",
        "    data = {\n",
        "        col: [f\"{col}{i}\" for i in indices]\n",
        "        for col in cols\n",
        "    }\n",
        "    return pd.DataFrame(data, indices)\n"
      ]
    },
    {
      "cell_type": "markdown",
      "id": "fbe5a62f-234a-48bf-bde2-4e2494229f3a",
      "metadata": {
        "id": "fbe5a62f-234a-48bf-bde2-4e2494229f3a"
      },
      "source": [
        "#### Concatination"
      ]
    },
    {
      "cell_type": "code",
      "execution_count": null,
      "id": "0b6127c1-90e6-4d77-9e31-5b2fce7a17dd",
      "metadata": {
        "colab": {
          "base_uri": "https://localhost:8080/",
          "height": 371
        },
        "id": "0b6127c1-90e6-4d77-9e31-5b2fce7a17dd",
        "outputId": "df3c3bb0-3520-42eb-9ccc-6af044cde7e3"
      },
      "outputs": [
        {
          "output_type": "error",
          "ename": "NameError",
          "evalue": "ignored",
          "traceback": [
            "\u001b[0;31m---------------------------------------------------------------------------\u001b[0m",
            "\u001b[0;31mNameError\u001b[0m                                 Traceback (most recent call last)",
            "\u001b[0;32m<ipython-input-63-2718b9318f9e>\u001b[0m in \u001b[0;36m<module>\u001b[0;34m\u001b[0m\n\u001b[1;32m      1\u001b[0m \u001b[0mdf1\u001b[0m \u001b[0;34m=\u001b[0m \u001b[0mmake_df\u001b[0m\u001b[0;34m(\u001b[0m\u001b[0;34m'AB'\u001b[0m\u001b[0;34m,\u001b[0m \u001b[0;34m[\u001b[0m\u001b[0;36m0\u001b[0m\u001b[0;34m,\u001b[0m \u001b[0;36m1\u001b[0m\u001b[0;34m,\u001b[0m \u001b[0;36m2\u001b[0m\u001b[0;34m]\u001b[0m\u001b[0;34m)\u001b[0m\u001b[0;34m\u001b[0m\u001b[0;34m\u001b[0m\u001b[0m\n\u001b[1;32m      2\u001b[0m \u001b[0mdf2\u001b[0m \u001b[0;34m=\u001b[0m \u001b[0mmake_df\u001b[0m\u001b[0;34m(\u001b[0m\u001b[0;34m'AB'\u001b[0m\u001b[0;34m,\u001b[0m \u001b[0;34m[\u001b[0m\u001b[0;36m3\u001b[0m\u001b[0;34m,\u001b[0m \u001b[0;36m4\u001b[0m\u001b[0;34m]\u001b[0m\u001b[0;34m)\u001b[0m\u001b[0;34m\u001b[0m\u001b[0;34m\u001b[0m\u001b[0m\n\u001b[0;32m----> 3\u001b[0;31m \u001b[0mdesplay_df_expr\u001b[0m\u001b[0;34m(\u001b[0m\u001b[0;34m'df1'\u001b[0m\u001b[0;34m,\u001b[0m \u001b[0;34m'df2'\u001b[0m\u001b[0;34m,\u001b[0m \u001b[0;34m'pd.concat([df1, df2])'\u001b[0m\u001b[0;34m)\u001b[0m\u001b[0;34m\u001b[0m\u001b[0;34m\u001b[0m\u001b[0m\n\u001b[0m\u001b[1;32m      4\u001b[0m \u001b[0mdesplay_df_expr\u001b[0m\u001b[0;34m(\u001b[0m\u001b[0;34m'df1'\u001b[0m\u001b[0;34m,\u001b[0m \u001b[0;34m'df2'\u001b[0m\u001b[0;34m,\u001b[0m \u001b[0;34m'pd.concat([df1, df2], axis=1)'\u001b[0m\u001b[0;34m)\u001b[0m\u001b[0;34m\u001b[0m\u001b[0;34m\u001b[0m\u001b[0m\n",
            "\u001b[0;32m<ipython-input-62-824d40dcfc7e>\u001b[0m in \u001b[0;36mdesplay_df_expr\u001b[0;34m(*args)\u001b[0m\n\u001b[1;32m     14\u001b[0m \u001b[0;34m\u001b[0m\u001b[0m\n\u001b[1;32m     15\u001b[0m \u001b[0;32mdef\u001b[0m \u001b[0mdesplay_df_expr\u001b[0m\u001b[0;34m(\u001b[0m\u001b[0;34m*\u001b[0m\u001b[0margs\u001b[0m\u001b[0;34m)\u001b[0m\u001b[0;34m:\u001b[0m\u001b[0;34m\u001b[0m\u001b[0;34m\u001b[0m\u001b[0m\n\u001b[0;32m---> 16\u001b[0;31m     \u001b[0mdisplay_dfs\u001b[0m\u001b[0;34m(\u001b[0m\u001b[0;34m[\u001b[0m\u001b[0meval\u001b[0m\u001b[0;34m(\u001b[0m\u001b[0mexpr\u001b[0m\u001b[0;34m)\u001b[0m \u001b[0;32mfor\u001b[0m \u001b[0mexpr\u001b[0m \u001b[0;32min\u001b[0m \u001b[0margs\u001b[0m\u001b[0;34m]\u001b[0m\u001b[0;34m,\u001b[0m \u001b[0;34m[\u001b[0m\u001b[0mexpr\u001b[0m \u001b[0;32mfor\u001b[0m \u001b[0mexpr\u001b[0m \u001b[0;32min\u001b[0m \u001b[0margs\u001b[0m\u001b[0;34m]\u001b[0m\u001b[0;34m)\u001b[0m\u001b[0;34m\u001b[0m\u001b[0;34m\u001b[0m\u001b[0m\n\u001b[0m\u001b[1;32m     17\u001b[0m \u001b[0;34m\u001b[0m\u001b[0m\n\u001b[1;32m     18\u001b[0m \u001b[0;32mdef\u001b[0m \u001b[0mmake_df\u001b[0m\u001b[0;34m(\u001b[0m\u001b[0mcols\u001b[0m\u001b[0;34m,\u001b[0m \u001b[0mindices\u001b[0m\u001b[0;34m)\u001b[0m\u001b[0;34m:\u001b[0m\u001b[0;34m\u001b[0m\u001b[0;34m\u001b[0m\u001b[0m\n",
            "\u001b[0;32m<ipython-input-62-824d40dcfc7e>\u001b[0m in \u001b[0;36mdisplay_dfs\u001b[0;34m(dfs, captions, tablespacing)\u001b[0m\n\u001b[1;32m     11\u001b[0m         )\n\u001b[1;32m     12\u001b[0m         \u001b[0moutput\u001b[0m \u001b[0;34m+=\u001b[0m \u001b[0mtablespacing\u001b[0m \u001b[0;34m*\u001b[0m \u001b[0;34m\"\\xa0\"\u001b[0m\u001b[0;34m\u001b[0m\u001b[0;34m\u001b[0m\u001b[0m\n\u001b[0;32m---> 13\u001b[0;31m     \u001b[0mdisplay\u001b[0m\u001b[0;34m(\u001b[0m\u001b[0mHTML\u001b[0m\u001b[0;34m(\u001b[0m\u001b[0moutput\u001b[0m\u001b[0;34m)\u001b[0m\u001b[0;34m)\u001b[0m\u001b[0;34m\u001b[0m\u001b[0;34m\u001b[0m\u001b[0m\n\u001b[0m\u001b[1;32m     14\u001b[0m \u001b[0;34m\u001b[0m\u001b[0m\n\u001b[1;32m     15\u001b[0m \u001b[0;32mdef\u001b[0m \u001b[0mdesplay_df_expr\u001b[0m\u001b[0;34m(\u001b[0m\u001b[0;34m*\u001b[0m\u001b[0margs\u001b[0m\u001b[0;34m)\u001b[0m\u001b[0;34m:\u001b[0m\u001b[0;34m\u001b[0m\u001b[0;34m\u001b[0m\u001b[0m\n",
            "\u001b[0;31mNameError\u001b[0m: name 'HTML' is not defined"
          ]
        }
      ],
      "source": [
        "df1 = make_df('AB', [0, 1, 2])\n",
        "df2 = make_df('AB', [3, 4])\n",
        "desplay_df_expr('df1', 'df2', 'pd.concat([df1, df2])')\n",
        "desplay_df_expr('df1', 'df2', 'pd.concat([df1, df2], axis=1)')"
      ]
    },
    {
      "cell_type": "markdown",
      "id": "2f18d1fa-ca9e-44c8-9603-df42664cda7f",
      "metadata": {
        "id": "2f18d1fa-ca9e-44c8-9603-df42664cda7f"
      },
      "source": [
        "#### Joins"
      ]
    },
    {
      "cell_type": "markdown",
      "id": "2f63ced0-a7d6-4a15-82ca-ab68cd410457",
      "metadata": {
        "id": "2f63ced0-a7d6-4a15-82ca-ab68cd410457"
      },
      "source": [
        "![image info](./imgs/joins.png)"
      ]
    },
    {
      "cell_type": "code",
      "execution_count": null,
      "id": "73e0d715-1c04-4eb1-96db-7dc9af3f7304",
      "metadata": {
        "id": "73e0d715-1c04-4eb1-96db-7dc9af3f7304"
      },
      "outputs": [],
      "source": [
        "df1 = make_df(\"AB\", [0, 1, 2])\n",
        "df2 = make_df(\"AC\", [1, 2, 3, 4])"
      ]
    },
    {
      "cell_type": "code",
      "execution_count": null,
      "id": "1b16ba4a-538c-4fc7-98c8-f29ef5055e2b",
      "metadata": {
        "colab": {
          "base_uri": "https://localhost:8080/",
          "height": 318
        },
        "id": "1b16ba4a-538c-4fc7-98c8-f29ef5055e2b",
        "outputId": "108797fa-7af4-44a4-dc41-95e80ace4450"
      },
      "outputs": [
        {
          "output_type": "error",
          "ename": "NameError",
          "evalue": "ignored",
          "traceback": [
            "\u001b[0;31m---------------------------------------------------------------------------\u001b[0m",
            "\u001b[0;31mNameError\u001b[0m                                 Traceback (most recent call last)",
            "\u001b[0;32m<ipython-input-65-3b55c5c173b2>\u001b[0m in \u001b[0;36m<module>\u001b[0;34m\u001b[0m\n\u001b[0;32m----> 1\u001b[0;31m \u001b[0mdesplay_df_expr\u001b[0m\u001b[0;34m(\u001b[0m\u001b[0;34m'df1'\u001b[0m\u001b[0;34m,\u001b[0m \u001b[0;34m'df2'\u001b[0m\u001b[0;34m,\u001b[0m \u001b[0;34m'pd.merge(df1, df2, on=\"A\", how=\"outer\")'\u001b[0m\u001b[0;34m)\u001b[0m\u001b[0;34m\u001b[0m\u001b[0;34m\u001b[0m\u001b[0m\n\u001b[0m",
            "\u001b[0;32m<ipython-input-62-824d40dcfc7e>\u001b[0m in \u001b[0;36mdesplay_df_expr\u001b[0;34m(*args)\u001b[0m\n\u001b[1;32m     14\u001b[0m \u001b[0;34m\u001b[0m\u001b[0m\n\u001b[1;32m     15\u001b[0m \u001b[0;32mdef\u001b[0m \u001b[0mdesplay_df_expr\u001b[0m\u001b[0;34m(\u001b[0m\u001b[0;34m*\u001b[0m\u001b[0margs\u001b[0m\u001b[0;34m)\u001b[0m\u001b[0;34m:\u001b[0m\u001b[0;34m\u001b[0m\u001b[0;34m\u001b[0m\u001b[0m\n\u001b[0;32m---> 16\u001b[0;31m     \u001b[0mdisplay_dfs\u001b[0m\u001b[0;34m(\u001b[0m\u001b[0;34m[\u001b[0m\u001b[0meval\u001b[0m\u001b[0;34m(\u001b[0m\u001b[0mexpr\u001b[0m\u001b[0;34m)\u001b[0m \u001b[0;32mfor\u001b[0m \u001b[0mexpr\u001b[0m \u001b[0;32min\u001b[0m \u001b[0margs\u001b[0m\u001b[0;34m]\u001b[0m\u001b[0;34m,\u001b[0m \u001b[0;34m[\u001b[0m\u001b[0mexpr\u001b[0m \u001b[0;32mfor\u001b[0m \u001b[0mexpr\u001b[0m \u001b[0;32min\u001b[0m \u001b[0margs\u001b[0m\u001b[0;34m]\u001b[0m\u001b[0;34m)\u001b[0m\u001b[0;34m\u001b[0m\u001b[0;34m\u001b[0m\u001b[0m\n\u001b[0m\u001b[1;32m     17\u001b[0m \u001b[0;34m\u001b[0m\u001b[0m\n\u001b[1;32m     18\u001b[0m \u001b[0;32mdef\u001b[0m \u001b[0mmake_df\u001b[0m\u001b[0;34m(\u001b[0m\u001b[0mcols\u001b[0m\u001b[0;34m,\u001b[0m \u001b[0mindices\u001b[0m\u001b[0;34m)\u001b[0m\u001b[0;34m:\u001b[0m\u001b[0;34m\u001b[0m\u001b[0;34m\u001b[0m\u001b[0m\n",
            "\u001b[0;32m<ipython-input-62-824d40dcfc7e>\u001b[0m in \u001b[0;36mdisplay_dfs\u001b[0;34m(dfs, captions, tablespacing)\u001b[0m\n\u001b[1;32m     11\u001b[0m         )\n\u001b[1;32m     12\u001b[0m         \u001b[0moutput\u001b[0m \u001b[0;34m+=\u001b[0m \u001b[0mtablespacing\u001b[0m \u001b[0;34m*\u001b[0m \u001b[0;34m\"\\xa0\"\u001b[0m\u001b[0;34m\u001b[0m\u001b[0;34m\u001b[0m\u001b[0m\n\u001b[0;32m---> 13\u001b[0;31m     \u001b[0mdisplay\u001b[0m\u001b[0;34m(\u001b[0m\u001b[0mHTML\u001b[0m\u001b[0;34m(\u001b[0m\u001b[0moutput\u001b[0m\u001b[0;34m)\u001b[0m\u001b[0;34m)\u001b[0m\u001b[0;34m\u001b[0m\u001b[0;34m\u001b[0m\u001b[0m\n\u001b[0m\u001b[1;32m     14\u001b[0m \u001b[0;34m\u001b[0m\u001b[0m\n\u001b[1;32m     15\u001b[0m \u001b[0;32mdef\u001b[0m \u001b[0mdesplay_df_expr\u001b[0m\u001b[0;34m(\u001b[0m\u001b[0;34m*\u001b[0m\u001b[0margs\u001b[0m\u001b[0;34m)\u001b[0m\u001b[0;34m:\u001b[0m\u001b[0;34m\u001b[0m\u001b[0;34m\u001b[0m\u001b[0m\n",
            "\u001b[0;31mNameError\u001b[0m: name 'HTML' is not defined"
          ]
        }
      ],
      "source": [
        "desplay_df_expr('df1', 'df2', 'pd.merge(df1, df2, on=\"A\", how=\"outer\")')"
      ]
    },
    {
      "cell_type": "code",
      "execution_count": null,
      "id": "74af35ca-c77d-4071-bf73-18980e222bd5",
      "metadata": {
        "id": "74af35ca-c77d-4071-bf73-18980e222bd5"
      },
      "outputs": [],
      "source": [
        "desplay_df_expr('df1', 'df2', 'pd.merge(df1, df2, on=\"A\", how=\"right\")')"
      ]
    },
    {
      "cell_type": "code",
      "execution_count": null,
      "id": "88dbeed9-5d65-42fd-bc5a-718c02328578",
      "metadata": {
        "id": "88dbeed9-5d65-42fd-bc5a-718c02328578"
      },
      "outputs": [],
      "source": [
        "desplay_df_expr('df1', 'df2', 'pd.merge(df1, df2, on=\"A\", how=\"inner\")')"
      ]
    },
    {
      "cell_type": "markdown",
      "id": "5999f373-5a37-467c-a392-0954f0f61257",
      "metadata": {
        "id": "5999f373-5a37-467c-a392-0954f0f61257"
      },
      "source": [
        "### Aggregation and grouping"
      ]
    },
    {
      "cell_type": "markdown",
      "id": "9a0263ce-392f-4b3a-bd38-9d6fdd327374",
      "metadata": {
        "id": "9a0263ce-392f-4b3a-bd38-9d6fdd327374"
      },
      "source": [
        "#### 1. Simple aggregation"
      ]
    },
    {
      "cell_type": "code",
      "execution_count": null,
      "id": "ba6ee7ba-d8fe-4320-a02f-dcb9f1472ed3",
      "metadata": {
        "id": "ba6ee7ba-d8fe-4320-a02f-dcb9f1472ed3"
      },
      "outputs": [],
      "source": [
        "rng = np.random.RandomState(42)\n",
        "ser = pd.Series(rng.rand(5))\n",
        "ser"
      ]
    },
    {
      "cell_type": "code",
      "execution_count": null,
      "id": "ee5efa41-73d9-48cf-a109-41bc1db57b99",
      "metadata": {
        "id": "ee5efa41-73d9-48cf-a109-41bc1db57b99"
      },
      "outputs": [],
      "source": [
        "ser.mean()"
      ]
    },
    {
      "cell_type": "code",
      "execution_count": null,
      "id": "28a0c1cc-b15f-4877-a3be-6a3bea81b212",
      "metadata": {
        "id": "28a0c1cc-b15f-4877-a3be-6a3bea81b212"
      },
      "outputs": [],
      "source": [
        "df = pd.DataFrame({\n",
        "    'A': rng.rand(5),\n",
        "    'B': rng.rand(5)\n",
        "})\n",
        "df"
      ]
    },
    {
      "cell_type": "code",
      "execution_count": null,
      "id": "fd7912f0-e5d4-4bba-93b3-515aa64e256b",
      "metadata": {
        "id": "fd7912f0-e5d4-4bba-93b3-515aa64e256b"
      },
      "outputs": [],
      "source": [
        "df.mean()"
      ]
    },
    {
      "cell_type": "markdown",
      "id": "f1c2fea6-aa71-45ba-9e15-4f80b024cbd4",
      "metadata": {
        "id": "f1c2fea6-aa71-45ba-9e15-4f80b024cbd4"
      },
      "source": [
        "#### 2. Grouping"
      ]
    },
    {
      "cell_type": "markdown",
      "id": "ccc50170-4917-4f4a-8302-237e13a745eb",
      "metadata": {
        "id": "ccc50170-4917-4f4a-8302-237e13a745eb"
      },
      "source": [
        "![image info](./imgs/grouping.png)"
      ]
    },
    {
      "cell_type": "code",
      "execution_count": null,
      "id": "28253a2c-bc31-4056-b1ba-4165bef8d269",
      "metadata": {
        "id": "28253a2c-bc31-4056-b1ba-4165bef8d269",
        "outputId": "ff81d349-8275-4720-f410-2f898e74c711"
      },
      "outputs": [
        {
          "data": {
            "text/html": [
              "<div>\n",
              "<style scoped>\n",
              "    .dataframe tbody tr th:only-of-type {\n",
              "        vertical-align: middle;\n",
              "    }\n",
              "\n",
              "    .dataframe tbody tr th {\n",
              "        vertical-align: top;\n",
              "    }\n",
              "\n",
              "    .dataframe thead th {\n",
              "        text-align: right;\n",
              "    }\n",
              "</style>\n",
              "<table border=\"1\" class=\"dataframe\">\n",
              "  <thead>\n",
              "    <tr style=\"text-align: right;\">\n",
              "      <th></th>\n",
              "      <th>key</th>\n",
              "      <th>data</th>\n",
              "    </tr>\n",
              "  </thead>\n",
              "  <tbody>\n",
              "    <tr>\n",
              "      <th>0</th>\n",
              "      <td>A</td>\n",
              "      <td>0</td>\n",
              "    </tr>\n",
              "    <tr>\n",
              "      <th>1</th>\n",
              "      <td>B</td>\n",
              "      <td>1</td>\n",
              "    </tr>\n",
              "    <tr>\n",
              "      <th>2</th>\n",
              "      <td>C</td>\n",
              "      <td>2</td>\n",
              "    </tr>\n",
              "    <tr>\n",
              "      <th>3</th>\n",
              "      <td>A</td>\n",
              "      <td>3</td>\n",
              "    </tr>\n",
              "    <tr>\n",
              "      <th>4</th>\n",
              "      <td>B</td>\n",
              "      <td>4</td>\n",
              "    </tr>\n",
              "    <tr>\n",
              "      <th>5</th>\n",
              "      <td>C</td>\n",
              "      <td>5</td>\n",
              "    </tr>\n",
              "  </tbody>\n",
              "</table>\n",
              "</div>"
            ],
            "text/plain": [
              "  key  data\n",
              "0   A     0\n",
              "1   B     1\n",
              "2   C     2\n",
              "3   A     3\n",
              "4   B     4\n",
              "5   C     5"
            ]
          },
          "execution_count": 91,
          "metadata": {},
          "output_type": "execute_result"
        }
      ],
      "source": [
        "df = pd.DataFrame({'key': ['A', 'B', 'C', 'A', 'B', 'C'],\n",
        "                   'data': range(6)}, columns=['key', 'data'])\n",
        "df"
      ]
    },
    {
      "cell_type": "code",
      "execution_count": null,
      "id": "bf38e7dd-2750-4cf4-aea1-938c713337b7",
      "metadata": {
        "id": "bf38e7dd-2750-4cf4-aea1-938c713337b7",
        "outputId": "ed8fa8b7-87ea-445e-f889-aa6e280bfb7a"
      },
      "outputs": [
        {
          "data": {
            "text/html": [
              "<div>\n",
              "<style scoped>\n",
              "    .dataframe tbody tr th:only-of-type {\n",
              "        vertical-align: middle;\n",
              "    }\n",
              "\n",
              "    .dataframe tbody tr th {\n",
              "        vertical-align: top;\n",
              "    }\n",
              "\n",
              "    .dataframe thead th {\n",
              "        text-align: right;\n",
              "    }\n",
              "</style>\n",
              "<table border=\"1\" class=\"dataframe\">\n",
              "  <thead>\n",
              "    <tr style=\"text-align: right;\">\n",
              "      <th></th>\n",
              "      <th>data</th>\n",
              "    </tr>\n",
              "    <tr>\n",
              "      <th>key</th>\n",
              "      <th></th>\n",
              "    </tr>\n",
              "  </thead>\n",
              "  <tbody>\n",
              "    <tr>\n",
              "      <th>A</th>\n",
              "      <td>3</td>\n",
              "    </tr>\n",
              "    <tr>\n",
              "      <th>B</th>\n",
              "      <td>5</td>\n",
              "    </tr>\n",
              "    <tr>\n",
              "      <th>C</th>\n",
              "      <td>7</td>\n",
              "    </tr>\n",
              "  </tbody>\n",
              "</table>\n",
              "</div>"
            ],
            "text/plain": [
              "     data\n",
              "key      \n",
              "A       3\n",
              "B       5\n",
              "C       7"
            ]
          },
          "execution_count": 92,
          "metadata": {},
          "output_type": "execute_result"
        }
      ],
      "source": [
        "df.groupby('key').sum()"
      ]
    },
    {
      "cell_type": "code",
      "execution_count": null,
      "id": "e8ccab0c-af6c-4349-a09a-faa239762eda",
      "metadata": {
        "id": "e8ccab0c-af6c-4349-a09a-faa239762eda",
        "outputId": "4f5b06ed-bdc9-4f20-a047-e072776e553d"
      },
      "outputs": [
        {
          "data": {
            "text/html": [
              "<div>\n",
              "<style scoped>\n",
              "    .dataframe tbody tr th:only-of-type {\n",
              "        vertical-align: middle;\n",
              "    }\n",
              "\n",
              "    .dataframe tbody tr th {\n",
              "        vertical-align: top;\n",
              "    }\n",
              "\n",
              "    .dataframe thead th {\n",
              "        text-align: right;\n",
              "    }\n",
              "</style>\n",
              "<table border=\"1\" class=\"dataframe\">\n",
              "  <thead>\n",
              "    <tr style=\"text-align: right;\">\n",
              "      <th></th>\n",
              "      <th>key</th>\n",
              "      <th>data1</th>\n",
              "      <th>data2</th>\n",
              "    </tr>\n",
              "  </thead>\n",
              "  <tbody>\n",
              "    <tr>\n",
              "      <th>0</th>\n",
              "      <td>A</td>\n",
              "      <td>0</td>\n",
              "      <td>5</td>\n",
              "    </tr>\n",
              "    <tr>\n",
              "      <th>1</th>\n",
              "      <td>B</td>\n",
              "      <td>1</td>\n",
              "      <td>0</td>\n",
              "    </tr>\n",
              "    <tr>\n",
              "      <th>2</th>\n",
              "      <td>C</td>\n",
              "      <td>2</td>\n",
              "      <td>3</td>\n",
              "    </tr>\n",
              "    <tr>\n",
              "      <th>3</th>\n",
              "      <td>A</td>\n",
              "      <td>3</td>\n",
              "      <td>3</td>\n",
              "    </tr>\n",
              "    <tr>\n",
              "      <th>4</th>\n",
              "      <td>B</td>\n",
              "      <td>4</td>\n",
              "      <td>7</td>\n",
              "    </tr>\n",
              "    <tr>\n",
              "      <th>5</th>\n",
              "      <td>C</td>\n",
              "      <td>5</td>\n",
              "      <td>9</td>\n",
              "    </tr>\n",
              "  </tbody>\n",
              "</table>\n",
              "</div>"
            ],
            "text/plain": [
              "  key  data1  data2\n",
              "0   A      0      5\n",
              "1   B      1      0\n",
              "2   C      2      3\n",
              "3   A      3      3\n",
              "4   B      4      7\n",
              "5   C      5      9"
            ]
          },
          "execution_count": 93,
          "metadata": {},
          "output_type": "execute_result"
        }
      ],
      "source": [
        "rng = np.random.RandomState(0)\n",
        "df = pd.DataFrame({'key': ['A', 'B', 'C', 'A', 'B', 'C'],\n",
        "                   'data1': range(6),\n",
        "                   'data2': rng.randint(0, 10, 6)},\n",
        "                   columns = ['key', 'data1', 'data2'])\n",
        "df"
      ]
    },
    {
      "cell_type": "code",
      "execution_count": null,
      "id": "70bf6d71-3941-4cb7-9de5-1a0ba4aa0264",
      "metadata": {
        "id": "70bf6d71-3941-4cb7-9de5-1a0ba4aa0264",
        "outputId": "464a65a1-ba44-4287-cef6-737986c064ad"
      },
      "outputs": [
        {
          "data": {
            "text/html": [
              "<div>\n",
              "<style scoped>\n",
              "    .dataframe tbody tr th:only-of-type {\n",
              "        vertical-align: middle;\n",
              "    }\n",
              "\n",
              "    .dataframe tbody tr th {\n",
              "        vertical-align: top;\n",
              "    }\n",
              "\n",
              "    .dataframe thead th {\n",
              "        text-align: right;\n",
              "    }\n",
              "</style>\n",
              "<table border=\"1\" class=\"dataframe\">\n",
              "  <thead>\n",
              "    <tr style=\"text-align: right;\">\n",
              "      <th></th>\n",
              "      <th>data1</th>\n",
              "      <th>data2</th>\n",
              "    </tr>\n",
              "    <tr>\n",
              "      <th>key</th>\n",
              "      <th></th>\n",
              "      <th></th>\n",
              "    </tr>\n",
              "  </thead>\n",
              "  <tbody>\n",
              "    <tr>\n",
              "      <th>A</th>\n",
              "      <td>0</td>\n",
              "      <td>5</td>\n",
              "    </tr>\n",
              "    <tr>\n",
              "      <th>B</th>\n",
              "      <td>1</td>\n",
              "      <td>7</td>\n",
              "    </tr>\n",
              "    <tr>\n",
              "      <th>C</th>\n",
              "      <td>2</td>\n",
              "      <td>9</td>\n",
              "    </tr>\n",
              "  </tbody>\n",
              "</table>\n",
              "</div>"
            ],
            "text/plain": [
              "     data1  data2\n",
              "key              \n",
              "A        0      5\n",
              "B        1      7\n",
              "C        2      9"
            ]
          },
          "execution_count": 94,
          "metadata": {},
          "output_type": "execute_result"
        }
      ],
      "source": [
        "df.groupby('key').agg({\n",
        "    'data1': 'min',\n",
        "    'data2': 'max'\n",
        "})"
      ]
    },
    {
      "cell_type": "code",
      "execution_count": null,
      "id": "8c7abfad-46de-4636-ac3c-7f272d1b6bbc",
      "metadata": {
        "id": "8c7abfad-46de-4636-ac3c-7f272d1b6bbc",
        "outputId": "f5b5b530-f543-4d64-dcbc-2de250985365"
      },
      "outputs": [
        {
          "data": {
            "text/html": [
              "<div>\n",
              "<style scoped>\n",
              "    .dataframe tbody tr th:only-of-type {\n",
              "        vertical-align: middle;\n",
              "    }\n",
              "\n",
              "    .dataframe tbody tr th {\n",
              "        vertical-align: top;\n",
              "    }\n",
              "\n",
              "    .dataframe thead th {\n",
              "        text-align: right;\n",
              "    }\n",
              "</style>\n",
              "<table border=\"1\" class=\"dataframe\">\n",
              "  <thead>\n",
              "    <tr style=\"text-align: right;\">\n",
              "      <th></th>\n",
              "      <th>data1_min</th>\n",
              "      <th>data2_max</th>\n",
              "    </tr>\n",
              "    <tr>\n",
              "      <th>key</th>\n",
              "      <th></th>\n",
              "      <th></th>\n",
              "    </tr>\n",
              "  </thead>\n",
              "  <tbody>\n",
              "    <tr>\n",
              "      <th>A</th>\n",
              "      <td>0</td>\n",
              "      <td>5</td>\n",
              "    </tr>\n",
              "    <tr>\n",
              "      <th>B</th>\n",
              "      <td>1</td>\n",
              "      <td>7</td>\n",
              "    </tr>\n",
              "    <tr>\n",
              "      <th>C</th>\n",
              "      <td>2</td>\n",
              "      <td>9</td>\n",
              "    </tr>\n",
              "  </tbody>\n",
              "</table>\n",
              "</div>"
            ],
            "text/plain": [
              "     data1_min  data2_max\n",
              "key                      \n",
              "A            0          5\n",
              "B            1          7\n",
              "C            2          9"
            ]
          },
          "execution_count": 95,
          "metadata": {},
          "output_type": "execute_result"
        }
      ],
      "source": [
        "df.groupby('key').agg(\n",
        "    data1_min=('data1', 'min'),\n",
        "    data2_max=('data2', 'max')\n",
        ")"
      ]
    },
    {
      "cell_type": "code",
      "execution_count": null,
      "id": "917e4ee9-dee4-4a1a-8f81-f6ffb0969d0c",
      "metadata": {
        "id": "917e4ee9-dee4-4a1a-8f81-f6ffb0969d0c"
      },
      "outputs": [],
      "source": [
        "df.groupby('key').transform(lambda x: x - x.mean())"
      ]
    },
    {
      "cell_type": "markdown",
      "id": "6febc118-6ebe-4de5-94dd-8e871e5c72fb",
      "metadata": {
        "id": "6febc118-6ebe-4de5-94dd-8e871e5c72fb"
      },
      "source": [
        "### 💀 Exercise\n",
        "\n",
        "1. Which year/decade had the most production?\n",
        "2. What is the average sale over each decade? (considering only the available data)\n",
        "3. Plot the distribution of movie durations\n",
        "    - Hint: use `seaborn.histplot()`\n",
        "4. Who were the busiest star in each decade?\n",
        "    - Hint: You have to split each element of `stars` column with `،`. Then use `Counter`"
      ]
    },
    {
      "cell_type": "code",
      "source": [
        "cinema_df = pd.read_csv(\"cinema.csv\")\n",
        "cinema_df.head(2)"
      ],
      "metadata": {
        "colab": {
          "base_uri": "https://localhost:8080/",
          "height": 112
        },
        "id": "nEPZSWROrGoK",
        "outputId": "0161b92e-4807-472d-f88b-cc50f17a95e0"
      },
      "id": "nEPZSWROrGoK",
      "execution_count": null,
      "outputs": [
        {
          "output_type": "execute_result",
          "data": {
            "text/plain": [
              "                  title  year  \\\n",
              "0          انتقام برادر  1310   \n",
              "1  حاجی آقا اکتور سینما  1312   \n",
              "\n",
              "                                         cinema_link  \\\n",
              "0   http://www.cinema-theatre.com/performance_5/ف...   \n",
              "1   http://www.cinema-theatre.com/performance_6/ف...   \n",
              "\n",
              "                                               stars  wikipediaLink  sale  \\\n",
              "0  عبدالحسین لجستی ، رضا شهابی ، احمد مرادی ، کاظ...            NaN   NaN   \n",
              "1  حبیب اله مراد ، آسیا قسطانیان ، زما آگانیانس ،...            NaN   NaN   \n",
              "\n",
              "   duration  year  poster  language  \n",
              "0       NaN   NaN     NaN       NaN  \n",
              "1       NaN   NaN     NaN       NaN  "
            ],
            "text/html": [
              "\n",
              "  <div id=\"df-1ffbe549-19d4-451f-9f3e-338dbd108efe\">\n",
              "    <div class=\"colab-df-container\">\n",
              "      <div>\n",
              "<style scoped>\n",
              "    .dataframe tbody tr th:only-of-type {\n",
              "        vertical-align: middle;\n",
              "    }\n",
              "\n",
              "    .dataframe tbody tr th {\n",
              "        vertical-align: top;\n",
              "    }\n",
              "\n",
              "    .dataframe thead th {\n",
              "        text-align: right;\n",
              "    }\n",
              "</style>\n",
              "<table border=\"1\" class=\"dataframe\">\n",
              "  <thead>\n",
              "    <tr style=\"text-align: right;\">\n",
              "      <th></th>\n",
              "      <th>title</th>\n",
              "      <th>year</th>\n",
              "      <th>cinema_link</th>\n",
              "      <th>stars</th>\n",
              "      <th>wikipediaLink</th>\n",
              "      <th>sale</th>\n",
              "      <th>duration</th>\n",
              "      <th>year</th>\n",
              "      <th>poster</th>\n",
              "      <th>language</th>\n",
              "    </tr>\n",
              "  </thead>\n",
              "  <tbody>\n",
              "    <tr>\n",
              "      <th>0</th>\n",
              "      <td>انتقام برادر</td>\n",
              "      <td>1310</td>\n",
              "      <td>http://www.cinema-theatre.com/performance_5/ف...</td>\n",
              "      <td>عبدالحسین لجستی ، رضا شهابی ، احمد مرادی ، کاظ...</td>\n",
              "      <td>NaN</td>\n",
              "      <td>NaN</td>\n",
              "      <td>NaN</td>\n",
              "      <td>NaN</td>\n",
              "      <td>NaN</td>\n",
              "      <td>NaN</td>\n",
              "    </tr>\n",
              "    <tr>\n",
              "      <th>1</th>\n",
              "      <td>حاجی آقا اکتور سینما</td>\n",
              "      <td>1312</td>\n",
              "      <td>http://www.cinema-theatre.com/performance_6/ف...</td>\n",
              "      <td>حبیب اله مراد ، آسیا قسطانیان ، زما آگانیانس ،...</td>\n",
              "      <td>NaN</td>\n",
              "      <td>NaN</td>\n",
              "      <td>NaN</td>\n",
              "      <td>NaN</td>\n",
              "      <td>NaN</td>\n",
              "      <td>NaN</td>\n",
              "    </tr>\n",
              "  </tbody>\n",
              "</table>\n",
              "</div>\n",
              "      <button class=\"colab-df-convert\" onclick=\"convertToInteractive('df-1ffbe549-19d4-451f-9f3e-338dbd108efe')\"\n",
              "              title=\"Convert this dataframe to an interactive table.\"\n",
              "              style=\"display:none;\">\n",
              "        \n",
              "  <svg xmlns=\"http://www.w3.org/2000/svg\" height=\"24px\"viewBox=\"0 0 24 24\"\n",
              "       width=\"24px\">\n",
              "    <path d=\"M0 0h24v24H0V0z\" fill=\"none\"/>\n",
              "    <path d=\"M18.56 5.44l.94 2.06.94-2.06 2.06-.94-2.06-.94-.94-2.06-.94 2.06-2.06.94zm-11 1L8.5 8.5l.94-2.06 2.06-.94-2.06-.94L8.5 2.5l-.94 2.06-2.06.94zm10 10l.94 2.06.94-2.06 2.06-.94-2.06-.94-.94-2.06-.94 2.06-2.06.94z\"/><path d=\"M17.41 7.96l-1.37-1.37c-.4-.4-.92-.59-1.43-.59-.52 0-1.04.2-1.43.59L10.3 9.45l-7.72 7.72c-.78.78-.78 2.05 0 2.83L4 21.41c.39.39.9.59 1.41.59.51 0 1.02-.2 1.41-.59l7.78-7.78 2.81-2.81c.8-.78.8-2.07 0-2.86zM5.41 20L4 18.59l7.72-7.72 1.47 1.35L5.41 20z\"/>\n",
              "  </svg>\n",
              "      </button>\n",
              "      \n",
              "  <style>\n",
              "    .colab-df-container {\n",
              "      display:flex;\n",
              "      flex-wrap:wrap;\n",
              "      gap: 12px;\n",
              "    }\n",
              "\n",
              "    .colab-df-convert {\n",
              "      background-color: #E8F0FE;\n",
              "      border: none;\n",
              "      border-radius: 50%;\n",
              "      cursor: pointer;\n",
              "      display: none;\n",
              "      fill: #1967D2;\n",
              "      height: 32px;\n",
              "      padding: 0 0 0 0;\n",
              "      width: 32px;\n",
              "    }\n",
              "\n",
              "    .colab-df-convert:hover {\n",
              "      background-color: #E2EBFA;\n",
              "      box-shadow: 0px 1px 2px rgba(60, 64, 67, 0.3), 0px 1px 3px 1px rgba(60, 64, 67, 0.15);\n",
              "      fill: #174EA6;\n",
              "    }\n",
              "\n",
              "    [theme=dark] .colab-df-convert {\n",
              "      background-color: #3B4455;\n",
              "      fill: #D2E3FC;\n",
              "    }\n",
              "\n",
              "    [theme=dark] .colab-df-convert:hover {\n",
              "      background-color: #434B5C;\n",
              "      box-shadow: 0px 1px 3px 1px rgba(0, 0, 0, 0.15);\n",
              "      filter: drop-shadow(0px 1px 2px rgba(0, 0, 0, 0.3));\n",
              "      fill: #FFFFFF;\n",
              "    }\n",
              "  </style>\n",
              "\n",
              "      <script>\n",
              "        const buttonEl =\n",
              "          document.querySelector('#df-1ffbe549-19d4-451f-9f3e-338dbd108efe button.colab-df-convert');\n",
              "        buttonEl.style.display =\n",
              "          google.colab.kernel.accessAllowed ? 'block' : 'none';\n",
              "\n",
              "        async function convertToInteractive(key) {\n",
              "          const element = document.querySelector('#df-1ffbe549-19d4-451f-9f3e-338dbd108efe');\n",
              "          const dataTable =\n",
              "            await google.colab.kernel.invokeFunction('convertToInteractive',\n",
              "                                                     [key], {});\n",
              "          if (!dataTable) return;\n",
              "\n",
              "          const docLinkHtml = 'Like what you see? Visit the ' +\n",
              "            '<a target=\"_blank\" href=https://colab.research.google.com/notebooks/data_table.ipynb>data table notebook</a>'\n",
              "            + ' to learn more about interactive tables.';\n",
              "          element.innerHTML = '';\n",
              "          dataTable['output_type'] = 'display_data';\n",
              "          await google.colab.output.renderOutput(dataTable, element);\n",
              "          const docLink = document.createElement('div');\n",
              "          docLink.innerHTML = docLinkHtml;\n",
              "          element.appendChild(docLink);\n",
              "        }\n",
              "      </script>\n",
              "    </div>\n",
              "  </div>\n",
              "  "
            ]
          },
          "metadata": {},
          "execution_count": 79
        }
      ]
    },
    {
      "cell_type": "code",
      "execution_count": null,
      "metadata": {
        "id": "BFfW6s1mrPty"
      },
      "outputs": [],
      "source": [
        "cinema_df = cinema_df.drop(columns=[' year'])"
      ],
      "id": "BFfW6s1mrPty"
    },
    {
      "cell_type": "code",
      "execution_count": null,
      "metadata": {
        "id": "N1CvjhULrPtz"
      },
      "outputs": [],
      "source": [
        "cinema_df = cinema_df.rename(columns={c: c.strip() for c in cinema_df.columns})"
      ],
      "id": "N1CvjhULrPtz"
    },
    {
      "cell_type": "code",
      "execution_count": null,
      "metadata": {
        "outputId": "d4b92be5-4e35-4999-b6c9-75efe5752dae",
        "id": "3q3JBoyqrPtz",
        "colab": {
          "base_uri": "https://localhost:8080/"
        }
      },
      "outputs": [
        {
          "output_type": "execute_result",
          "data": {
            "text/plain": [
              "Index(['title', 'year', 'cinema_link', 'stars', 'wikipediaLink', 'sale',\n",
              "       'duration', 'poster', 'language'],\n",
              "      dtype='object')"
            ]
          },
          "metadata": {},
          "execution_count": 82
        }
      ],
      "source": [
        "cinema_df.columns"
      ],
      "id": "3q3JBoyqrPtz"
    },
    {
      "cell_type": "code",
      "execution_count": null,
      "metadata": {
        "id": "ebd8786d-0fa5-4849-ba9f-665bf2b211c6"
      },
      "outputs": [],
      "source": [
        "df_with_decade = (\n",
        "    cinema_df\n",
        "    .assign(decade=lambda xdf: xdf.year - xdf.year % 10)\n",
        ")"
      ],
      "id": "ebd8786d-0fa5-4849-ba9f-665bf2b211c6"
    },
    {
      "cell_type": "code",
      "execution_count": null,
      "metadata": {
        "id": "399ee182-3b9c-41db-9dea-40f4af54c9c6",
        "outputId": "38733896-33d7-4d8b-c71e-e7dbd970e85f",
        "colab": {
          "base_uri": "https://localhost:8080/",
          "height": 112
        }
      },
      "outputs": [
        {
          "output_type": "execute_result",
          "data": {
            "text/plain": [
              "                  title  year  \\\n",
              "0          انتقام برادر  1310   \n",
              "1  حاجی آقا اکتور سینما  1312   \n",
              "\n",
              "                                         cinema_link  \\\n",
              "0   http://www.cinema-theatre.com/performance_5/ف...   \n",
              "1   http://www.cinema-theatre.com/performance_6/ف...   \n",
              "\n",
              "                                               stars wikipediaLink sale  \\\n",
              "0  عبدالحسین لجستی ، رضا شهابی ، احمد مرادی ، کاظ...           NaN  NaN   \n",
              "1  حبیب اله مراد ، آسیا قسطانیان ، زما آگانیانس ،...           NaN  NaN   \n",
              "\n",
              "  duration poster language  decade  \n",
              "0      NaN    NaN      NaN    1310  \n",
              "1      NaN    NaN      NaN    1310  "
            ],
            "text/html": [
              "\n",
              "  <div id=\"df-f2fa43d0-67b3-49c7-bf7b-5edcb0acdd73\">\n",
              "    <div class=\"colab-df-container\">\n",
              "      <div>\n",
              "<style scoped>\n",
              "    .dataframe tbody tr th:only-of-type {\n",
              "        vertical-align: middle;\n",
              "    }\n",
              "\n",
              "    .dataframe tbody tr th {\n",
              "        vertical-align: top;\n",
              "    }\n",
              "\n",
              "    .dataframe thead th {\n",
              "        text-align: right;\n",
              "    }\n",
              "</style>\n",
              "<table border=\"1\" class=\"dataframe\">\n",
              "  <thead>\n",
              "    <tr style=\"text-align: right;\">\n",
              "      <th></th>\n",
              "      <th>title</th>\n",
              "      <th>year</th>\n",
              "      <th>cinema_link</th>\n",
              "      <th>stars</th>\n",
              "      <th>wikipediaLink</th>\n",
              "      <th>sale</th>\n",
              "      <th>duration</th>\n",
              "      <th>poster</th>\n",
              "      <th>language</th>\n",
              "      <th>decade</th>\n",
              "    </tr>\n",
              "  </thead>\n",
              "  <tbody>\n",
              "    <tr>\n",
              "      <th>0</th>\n",
              "      <td>انتقام برادر</td>\n",
              "      <td>1310</td>\n",
              "      <td>http://www.cinema-theatre.com/performance_5/ف...</td>\n",
              "      <td>عبدالحسین لجستی ، رضا شهابی ، احمد مرادی ، کاظ...</td>\n",
              "      <td>NaN</td>\n",
              "      <td>NaN</td>\n",
              "      <td>NaN</td>\n",
              "      <td>NaN</td>\n",
              "      <td>NaN</td>\n",
              "      <td>1310</td>\n",
              "    </tr>\n",
              "    <tr>\n",
              "      <th>1</th>\n",
              "      <td>حاجی آقا اکتور سینما</td>\n",
              "      <td>1312</td>\n",
              "      <td>http://www.cinema-theatre.com/performance_6/ف...</td>\n",
              "      <td>حبیب اله مراد ، آسیا قسطانیان ، زما آگانیانس ،...</td>\n",
              "      <td>NaN</td>\n",
              "      <td>NaN</td>\n",
              "      <td>NaN</td>\n",
              "      <td>NaN</td>\n",
              "      <td>NaN</td>\n",
              "      <td>1310</td>\n",
              "    </tr>\n",
              "  </tbody>\n",
              "</table>\n",
              "</div>\n",
              "      <button class=\"colab-df-convert\" onclick=\"convertToInteractive('df-f2fa43d0-67b3-49c7-bf7b-5edcb0acdd73')\"\n",
              "              title=\"Convert this dataframe to an interactive table.\"\n",
              "              style=\"display:none;\">\n",
              "        \n",
              "  <svg xmlns=\"http://www.w3.org/2000/svg\" height=\"24px\"viewBox=\"0 0 24 24\"\n",
              "       width=\"24px\">\n",
              "    <path d=\"M0 0h24v24H0V0z\" fill=\"none\"/>\n",
              "    <path d=\"M18.56 5.44l.94 2.06.94-2.06 2.06-.94-2.06-.94-.94-2.06-.94 2.06-2.06.94zm-11 1L8.5 8.5l.94-2.06 2.06-.94-2.06-.94L8.5 2.5l-.94 2.06-2.06.94zm10 10l.94 2.06.94-2.06 2.06-.94-2.06-.94-.94-2.06-.94 2.06-2.06.94z\"/><path d=\"M17.41 7.96l-1.37-1.37c-.4-.4-.92-.59-1.43-.59-.52 0-1.04.2-1.43.59L10.3 9.45l-7.72 7.72c-.78.78-.78 2.05 0 2.83L4 21.41c.39.39.9.59 1.41.59.51 0 1.02-.2 1.41-.59l7.78-7.78 2.81-2.81c.8-.78.8-2.07 0-2.86zM5.41 20L4 18.59l7.72-7.72 1.47 1.35L5.41 20z\"/>\n",
              "  </svg>\n",
              "      </button>\n",
              "      \n",
              "  <style>\n",
              "    .colab-df-container {\n",
              "      display:flex;\n",
              "      flex-wrap:wrap;\n",
              "      gap: 12px;\n",
              "    }\n",
              "\n",
              "    .colab-df-convert {\n",
              "      background-color: #E8F0FE;\n",
              "      border: none;\n",
              "      border-radius: 50%;\n",
              "      cursor: pointer;\n",
              "      display: none;\n",
              "      fill: #1967D2;\n",
              "      height: 32px;\n",
              "      padding: 0 0 0 0;\n",
              "      width: 32px;\n",
              "    }\n",
              "\n",
              "    .colab-df-convert:hover {\n",
              "      background-color: #E2EBFA;\n",
              "      box-shadow: 0px 1px 2px rgba(60, 64, 67, 0.3), 0px 1px 3px 1px rgba(60, 64, 67, 0.15);\n",
              "      fill: #174EA6;\n",
              "    }\n",
              "\n",
              "    [theme=dark] .colab-df-convert {\n",
              "      background-color: #3B4455;\n",
              "      fill: #D2E3FC;\n",
              "    }\n",
              "\n",
              "    [theme=dark] .colab-df-convert:hover {\n",
              "      background-color: #434B5C;\n",
              "      box-shadow: 0px 1px 3px 1px rgba(0, 0, 0, 0.15);\n",
              "      filter: drop-shadow(0px 1px 2px rgba(0, 0, 0, 0.3));\n",
              "      fill: #FFFFFF;\n",
              "    }\n",
              "  </style>\n",
              "\n",
              "      <script>\n",
              "        const buttonEl =\n",
              "          document.querySelector('#df-f2fa43d0-67b3-49c7-bf7b-5edcb0acdd73 button.colab-df-convert');\n",
              "        buttonEl.style.display =\n",
              "          google.colab.kernel.accessAllowed ? 'block' : 'none';\n",
              "\n",
              "        async function convertToInteractive(key) {\n",
              "          const element = document.querySelector('#df-f2fa43d0-67b3-49c7-bf7b-5edcb0acdd73');\n",
              "          const dataTable =\n",
              "            await google.colab.kernel.invokeFunction('convertToInteractive',\n",
              "                                                     [key], {});\n",
              "          if (!dataTable) return;\n",
              "\n",
              "          const docLinkHtml = 'Like what you see? Visit the ' +\n",
              "            '<a target=\"_blank\" href=https://colab.research.google.com/notebooks/data_table.ipynb>data table notebook</a>'\n",
              "            + ' to learn more about interactive tables.';\n",
              "          element.innerHTML = '';\n",
              "          dataTable['output_type'] = 'display_data';\n",
              "          await google.colab.output.renderOutput(dataTable, element);\n",
              "          const docLink = document.createElement('div');\n",
              "          docLink.innerHTML = docLinkHtml;\n",
              "          element.appendChild(docLink);\n",
              "        }\n",
              "      </script>\n",
              "    </div>\n",
              "  </div>\n",
              "  "
            ]
          },
          "metadata": {},
          "execution_count": 84
        }
      ],
      "source": [
        "df_with_decade.head(2)"
      ],
      "id": "399ee182-3b9c-41db-9dea-40f4af54c9c6"
    },
    {
      "cell_type": "code",
      "execution_count": null,
      "id": "3cb498b9-9020-45a9-88e2-d4006d69f4ab",
      "metadata": {
        "colab": {
          "base_uri": "https://localhost:8080/",
          "height": 303
        },
        "id": "3cb498b9-9020-45a9-88e2-d4006d69f4ab",
        "outputId": "a036fda3-0440-4522-821f-0965e91ab0e8"
      },
      "outputs": [
        {
          "output_type": "execute_result",
          "data": {
            "text/plain": [
              "<AxesSubplot:xlabel='decade'>"
            ]
          },
          "metadata": {},
          "execution_count": 85
        },
        {
          "output_type": "display_data",
          "data": {
            "text/plain": [
              "<Figure size 432x288 with 1 Axes>"
            ],
            "image/png": "[encoded data removed]"
          },
          "metadata": {}
        }
      ],
      "source": [
        "df_with_decade.groupby(\"decade\").title.count().plot()"
      ]
    },
    {
      "cell_type": "code",
      "execution_count": null,
      "id": "3448ee35-1791-4c72-8417-c15ddfc5f4ac",
      "metadata": {
        "id": "3448ee35-1791-4c72-8417-c15ddfc5f4ac",
        "outputId": "7bcd7e2a-8a8f-4ee0-d0a7-4f5a415310a1",
        "colab": {
          "base_uri": "https://localhost:8080/",
          "height": 363
        }
      },
      "outputs": [
        {
          "output_type": "execute_result",
          "data": {
            "text/plain": [
              "            avg_sale\n",
              "decade              \n",
              "1310    0.000000e+00\n",
              "1320    0.000000e+00\n",
              "1330    7.015799e+05\n",
              "1340    0.000000e+00\n",
              "1350    0.000000e+00\n",
              "1360    0.000000e+00\n",
              "1370    1.392256e+06\n",
              "1380    2.360949e+06\n",
              "1390    1.731687e+08"
            ],
            "text/html": [
              "\n",
              "  <div id=\"df-e35dc232-3cfa-4c61-9a07-c2c1dad81956\">\n",
              "    <div class=\"colab-df-container\">\n",
              "      <div>\n",
              "<style scoped>\n",
              "    .dataframe tbody tr th:only-of-type {\n",
              "        vertical-align: middle;\n",
              "    }\n",
              "\n",
              "    .dataframe tbody tr th {\n",
              "        vertical-align: top;\n",
              "    }\n",
              "\n",
              "    .dataframe thead th {\n",
              "        text-align: right;\n",
              "    }\n",
              "</style>\n",
              "<table border=\"1\" class=\"dataframe\">\n",
              "  <thead>\n",
              "    <tr style=\"text-align: right;\">\n",
              "      <th></th>\n",
              "      <th>avg_sale</th>\n",
              "    </tr>\n",
              "    <tr>\n",
              "      <th>decade</th>\n",
              "      <th></th>\n",
              "    </tr>\n",
              "  </thead>\n",
              "  <tbody>\n",
              "    <tr>\n",
              "      <th>1310</th>\n",
              "      <td>0.000000e+00</td>\n",
              "    </tr>\n",
              "    <tr>\n",
              "      <th>1320</th>\n",
              "      <td>0.000000e+00</td>\n",
              "    </tr>\n",
              "    <tr>\n",
              "      <th>1330</th>\n",
              "      <td>7.015799e+05</td>\n",
              "    </tr>\n",
              "    <tr>\n",
              "      <th>1340</th>\n",
              "      <td>0.000000e+00</td>\n",
              "    </tr>\n",
              "    <tr>\n",
              "      <th>1350</th>\n",
              "      <td>0.000000e+00</td>\n",
              "    </tr>\n",
              "    <tr>\n",
              "      <th>1360</th>\n",
              "      <td>0.000000e+00</td>\n",
              "    </tr>\n",
              "    <tr>\n",
              "      <th>1370</th>\n",
              "      <td>1.392256e+06</td>\n",
              "    </tr>\n",
              "    <tr>\n",
              "      <th>1380</th>\n",
              "      <td>2.360949e+06</td>\n",
              "    </tr>\n",
              "    <tr>\n",
              "      <th>1390</th>\n",
              "      <td>1.731687e+08</td>\n",
              "    </tr>\n",
              "  </tbody>\n",
              "</table>\n",
              "</div>\n",
              "      <button class=\"colab-df-convert\" onclick=\"convertToInteractive('df-e35dc232-3cfa-4c61-9a07-c2c1dad81956')\"\n",
              "              title=\"Convert this dataframe to an interactive table.\"\n",
              "              style=\"display:none;\">\n",
              "        \n",
              "  <svg xmlns=\"http://www.w3.org/2000/svg\" height=\"24px\"viewBox=\"0 0 24 24\"\n",
              "       width=\"24px\">\n",
              "    <path d=\"M0 0h24v24H0V0z\" fill=\"none\"/>\n",
              "    <path d=\"M18.56 5.44l.94 2.06.94-2.06 2.06-.94-2.06-.94-.94-2.06-.94 2.06-2.06.94zm-11 1L8.5 8.5l.94-2.06 2.06-.94-2.06-.94L8.5 2.5l-.94 2.06-2.06.94zm10 10l.94 2.06.94-2.06 2.06-.94-2.06-.94-.94-2.06-.94 2.06-2.06.94z\"/><path d=\"M17.41 7.96l-1.37-1.37c-.4-.4-.92-.59-1.43-.59-.52 0-1.04.2-1.43.59L10.3 9.45l-7.72 7.72c-.78.78-.78 2.05 0 2.83L4 21.41c.39.39.9.59 1.41.59.51 0 1.02-.2 1.41-.59l7.78-7.78 2.81-2.81c.8-.78.8-2.07 0-2.86zM5.41 20L4 18.59l7.72-7.72 1.47 1.35L5.41 20z\"/>\n",
              "  </svg>\n",
              "      </button>\n",
              "      \n",
              "  <style>\n",
              "    .colab-df-container {\n",
              "      display:flex;\n",
              "      flex-wrap:wrap;\n",
              "      gap: 12px;\n",
              "    }\n",
              "\n",
              "    .colab-df-convert {\n",
              "      background-color: #E8F0FE;\n",
              "      border: none;\n",
              "      border-radius: 50%;\n",
              "      cursor: pointer;\n",
              "      display: none;\n",
              "      fill: #1967D2;\n",
              "      height: 32px;\n",
              "      padding: 0 0 0 0;\n",
              "      width: 32px;\n",
              "    }\n",
              "\n",
              "    .colab-df-convert:hover {\n",
              "      background-color: #E2EBFA;\n",
              "      box-shadow: 0px 1px 2px rgba(60, 64, 67, 0.3), 0px 1px 3px 1px rgba(60, 64, 67, 0.15);\n",
              "      fill: #174EA6;\n",
              "    }\n",
              "\n",
              "    [theme=dark] .colab-df-convert {\n",
              "      background-color: #3B4455;\n",
              "      fill: #D2E3FC;\n",
              "    }\n",
              "\n",
              "    [theme=dark] .colab-df-convert:hover {\n",
              "      background-color: #434B5C;\n",
              "      box-shadow: 0px 1px 3px 1px rgba(0, 0, 0, 0.15);\n",
              "      filter: drop-shadow(0px 1px 2px rgba(0, 0, 0, 0.3));\n",
              "      fill: #FFFFFF;\n",
              "    }\n",
              "  </style>\n",
              "\n",
              "      <script>\n",
              "        const buttonEl =\n",
              "          document.querySelector('#df-e35dc232-3cfa-4c61-9a07-c2c1dad81956 button.colab-df-convert');\n",
              "        buttonEl.style.display =\n",
              "          google.colab.kernel.accessAllowed ? 'block' : 'none';\n",
              "\n",
              "        async function convertToInteractive(key) {\n",
              "          const element = document.querySelector('#df-e35dc232-3cfa-4c61-9a07-c2c1dad81956');\n",
              "          const dataTable =\n",
              "            await google.colab.kernel.invokeFunction('convertToInteractive',\n",
              "                                                     [key], {});\n",
              "          if (!dataTable) return;\n",
              "\n",
              "          const docLinkHtml = 'Like what you see? Visit the ' +\n",
              "            '<a target=\"_blank\" href=https://colab.research.google.com/notebooks/data_table.ipynb>data table notebook</a>'\n",
              "            + ' to learn more about interactive tables.';\n",
              "          element.innerHTML = '';\n",
              "          dataTable['output_type'] = 'display_data';\n",
              "          await google.colab.output.renderOutput(dataTable, element);\n",
              "          const docLink = document.createElement('div');\n",
              "          docLink.innerHTML = docLinkHtml;\n",
              "          element.appendChild(docLink);\n",
              "        }\n",
              "      </script>\n",
              "    </div>\n",
              "  </div>\n",
              "  "
            ]
          },
          "metadata": {},
          "execution_count": 138
        }
      ],
      "source": [
        "def is_int(x):\n",
        "    try: \n",
        "        int(x)\n",
        "        return True\n",
        "    except ValueError:\n",
        "        return False\n",
        "\n",
        "df_with_decade[\n",
        "    df_with_decade.sale.apply(is_int)\n",
        "].assign(\n",
        "    sale=lambda xdf: xdf.sale.apply(int)\n",
        ").groupby(\"decade\").agg(avg_sale=(\"sale\", \"mean\"))"
      ]
    },
    {
      "cell_type": "markdown",
      "source": [
        "###Exercise 3"
      ],
      "metadata": {
        "id": "PyPA6kNF2koH"
      },
      "id": "PyPA6kNF2koH"
    },
    {
      "cell_type": "code",
      "source": [
        "df_without_na = df_with_decade.dropna()"
      ],
      "metadata": {
        "id": "hfWZ12v24-P2"
      },
      "id": "hfWZ12v24-P2",
      "execution_count": null,
      "outputs": []
    },
    {
      "cell_type": "code",
      "source": [
        "seaborn.histplot(data=df_without_na, x='duration',bins = 10, binwidth = 10, color='green')"
      ],
      "metadata": {
        "colab": {
          "base_uri": "https://localhost:8080/",
          "height": 303
        },
        "id": "ic5IsWsf35_U",
        "outputId": "66d72b8a-35f4-494d-fa02-dad578de7d93"
      },
      "id": "ic5IsWsf35_U",
      "execution_count": null,
      "outputs": [
        {
          "output_type": "execute_result",
          "data": {
            "text/plain": [
              "<AxesSubplot:xlabel='duration', ylabel='Count'>"
            ]
          },
          "metadata": {},
          "execution_count": 149
        },
        {
          "output_type": "display_data",
          "data": {
            "text/plain": [
              "<Figure size 432x288 with 1 Axes>"
            ],
            "image/png": "[encoded data removed]"
          },
          "metadata": {}
        }
      ]
    },
    {
      "cell_type": "code",
      "source": [
        "df_without_na = df_without_na[\n",
        "    df_without_na.duration.apply(is_int)\n",
        "].assign(\n",
        "    duration=lambda xdf: xdf.duration.apply(int)\n",
        ")"
      ],
      "metadata": {
        "id": "cf1sD5zV8FpC"
      },
      "id": "cf1sD5zV8FpC",
      "execution_count": null,
      "outputs": []
    },
    {
      "cell_type": "markdown",
      "source": [
        "### Exercise 4"
      ],
      "metadata": {
        "id": "2PV6BYTbAJ4U"
      },
      "id": "2PV6BYTbAJ4U"
    },
    {
      "cell_type": "code",
      "source": [
        "def is_str(x):\n",
        "    try: \n",
        "        str(x)\n",
        "        return True\n",
        "    except ValueError:\n",
        "        return False\n",
        "\n",
        "df_without_na = df_without_na[\n",
        "    df_without_na.stars.apply(is_str)\n",
        "].assign(\n",
        "    stars=lambda xdf: xdf.stars.apply(str)\n",
        ")\n",
        "names_concatenated = df_without_na.groupby('decade')['stars'].agg(', '.join)\n",
        "names_concatenated"
      ],
      "metadata": {
        "colab": {
          "base_uri": "https://localhost:8080/"
        },
        "id": "51mVjVhv95XV",
        "outputId": "3165b461-6ad7-4ff1-cc92-f009709c1d66"
      },
      "id": "51mVjVhv95XV",
      "execution_count": null,
      "outputs": [
        {
          "output_type": "execute_result",
          "data": {
            "text/plain": [
              "decade\n",
              "1310    فخرالزمان جبار وزیری ، عبدالحسین سپنتا ، ایران...\n",
              "1330    ایرج دوستدار ، میشا ، نیکتاج صبری ، مهرانگیز و...\n",
              "1340    روانبخش ، فرانک میرقهاری ، هوشنگ سارنگ ، حیدر ...\n",
              "1350    فروزان ، منوچهر وثوق ، آراماییس وارطان یوسفیان...\n",
              "1360    رمضان امیری ، ایراندخت آل بویه|, ناصر واثق ، ا...\n",
              "1370    مهدی هاشمی ، محمدعلی کشاورز ، اسماعیل داورفر ،...\n",
              "1380    محمدعلی شمس ، پگاه عسگری ، داریوش مؤدبیان ، اب...\n",
              "1390    حسین یاری ، هانیه توسلی ، شبنم مقدمی ، بهناز ج...\n",
              "Name: stars, dtype: object"
            ]
          },
          "metadata": {},
          "execution_count": 173
        }
      ]
    },
    {
      "cell_type": "code",
      "source": [
        "names_concatenated = names_concatenated.to_list()"
      ],
      "metadata": {
        "id": "TWMn4bHtAzQQ"
      },
      "id": "TWMn4bHtAzQQ",
      "execution_count": null,
      "outputs": []
    },
    {
      "cell_type": "code",
      "source": [
        "names_concatenated\n",
        "names_list = [names.split(', ') for names in names_concatenated]\n",
        "names_list"
      ],
      "metadata": {
        "colab": {
          "base_uri": "https://localhost:8080/"
        },
        "id": "UbERHMOVBFsO",
        "outputId": "147c72ae-0976-491d-e393-f51aa20698ea"
      },
      "id": "UbERHMOVBFsO",
      "execution_count": null,
      "outputs": [
        {
          "output_type": "execute_result",
          "data": {
            "text/plain": [
              "[['فخرالزمان جبار وزیری ، عبدالحسین سپنتا ، ایران دفتری ، روح انگیز|',\n",
              "  'عبدالحسین سپنتا ، فخرالزمان جبار وزیری ، محمد حسین کرمانشاهی ، عابد شیرازی ، مارکر ، منوچهر آریان ، باقر بصروی ، زاهد بصروی ، لورنین|'],\n",
              " ['ایرج دوستدار ، میشا ، نیکتاج صبری ، مهرانگیز وحدت ، قاجار|',\n",
              "  'ناصر ملک مطیعی ، کوروش کوشان ، جمشید مهرداد ، اکبر اخوت ، فروغ محمدی ، عبداله بقایی ، قدرت اله احسانی|',\n",
              "  'بهمنی ، تاتا ، دینبلی ، منوچهر زمانی ، امیر والی ، مهرانگیز وحدت ، سلیمانی ، قصری|',\n",
              "  'اصغر تفکری ، فتانه ، معصومه خاکیار ، تقی ظهوری ، علی تابش ، برات لو ، رضا کریمی ، محسن فرید ، نجفی ، جواد تقدسی|',\n",
              "  'سبحانی ، ایرج دوستدار ، کاووس دوستدار ، باقری ، عبداله خرمی ، جواد تقدسی ، ثریا|',\n",
              "  'هوشنگ بهشتی ، زری ودادیان ، عبداله محمدی ، اکبر مشکین|',\n",
              "  'ژاله ، علی محزون ، فرح پناهی ، مرتضی حاج سید احمدی ، اکبر خواجوی|',\n",
              "  'هایده ، قره داغی ، عبداله محمدی ، زری ودادیان ، پرخیده|',\n",
              "  'علی محزون ، هایده ، همت آزاد ، ایرج دوستدار ، زری ودادیان ، حلمی ، لی لا ، عزت اله وثوق|',\n",
              "  'اصغر تفکری ، هامازاسب ، خشایار ، یاسمن ، رضا کریمی|',\n",
              "  'حسین دانشور ، عزت حسنعلی ، مهدی رقابی ، بیک خان ، رویا ، طباطبایی ، سهیلا سخن سنج ، هوشنگ آزادگانیان ، عزت اله وثوق|',\n",
              "  'ایلوش ، روفیا ، حسین امیرفضلی ، کوروش کوشان ، فرامرز معطر ، سهیلا سخن سنج ، ابراهیم کوشان ، حسین محسنی|',\n",
              "  'جمشید شیبانی ، شهلا ریاحی ، رفیع حالتی ، ایران دفتری ، مورین ، عبداله مشکوتی ، فخری خوروش ، اکبر دست ورز ، سلطانی ، تقی ظهوری ، کیوانفر|',\n",
              "  'نصرت اله وحدت ، فخری مرادی ، محسن فرید ، جهانبخش ملکی ، جلیلوند ، باقری ، مهدی زاده ، شهنواز|',\n",
              "  'شهین ، بیک خان ، جواد تقدسی ، سهیلا سخن سنج|',\n",
              "  'ناصر ملک مطیعی ، آراماییس وارطان یوسفیانس ، ویدا قهرمانی ، مورین ، علی کیائی ، منصور سپهرنیا ، ویگن ، علی زندی ، پرویز مجیدی ، مینا|',\n",
              "  'عبداله محمدی ، قره داغی ، سرور عیوقی ، هایده ، اکبر مشکین ، محمد عبدی ، عزت محمدی ، مینا|',\n",
              "  'محمدرضا زندی ، نبی پور ، قدرت اله احسانی ، محسن فرید ، شیده ، مطیع|',\n",
              "  'مجید محسنی ، سودابه ، مورین ، احمد قدکچیان ، رستم خانی ، لطفی ، منصور سپهرنیا|',\n",
              "  'آراماییس وارطان یوسفیانس ، تهمینه ، سیروس جراح زاده ، ایرج دوستدار ، علی زندی ، اکبر خواجوی ، منصور سپهرنیا ، علی کیائی ، ویگن|',\n",
              "  'محسن مهدوی ، مهین دیهیم ، منیر ، مبصری ، جواد ترکپور ، مبارکیان|',\n",
              "  'فروغ سهامی ، محسن مهدوی ، سوسن ، حسین امیرفضلی ، پرخیده ، منوچهر طایفه ، الکساندر بیجانیان ، باقر نمازی|',\n",
              "  'مهین دیهیم ، امین امینی ، هوشنگ بهشتی ، آرین ، رضا کریمی ، محمد خامه سیفی ، تقی ظهوری ، عباس مصدق ، احمد قدکچیان|',\n",
              "  'هوشنگ بهشتی ، منیره تسلیمی ، واندا ، کنعان کیانی ، احمد قدکچیان ، لئونید سروری|',\n",
              "  'ناصر ملک مطیعی ، ژاله ، شهین ، حسین امیرفضلی ، داریوش کوشان ، رضا رخشانی ، عبداله بقایی|',\n",
              "  'محسن مهدوی ، مهین دیهیم ، سوسن ، شهلا ریاحی ، تقی ظهوری ، احمد قدکچیان ، نوشین امیرقاسمی ، محمد عبدی ، رضا کریمی|',\n",
              "  'حسین امیرفضلی ، ایرج دوستدار ، محسن زهتاب ، حسین زهتاب ، علی اکبر مهدوی فر ، مهدی مصری ، مازوجی|',\n",
              "  'مجید محسنی ، روفیا ، حمید قنبری ، تهمینه ، معزدیوان فکری ، اکبر خواجوی ، حسین محسنی ، عباس دماوندی|',\n",
              "  'محسن فرید ، سیما ، تاج الملوک احمدی ، عزت اله مقبلی|',\n",
              "  'فریال میرمطهری ، هوشنگ مرادی ، داریوش اسدزاده|',\n",
              "  'محسن فرید ، هوشنگ منظوری ، هادی طاهر ، منوچهر اخضرپور ، اصغر بیچاره ، غلامحسین نقشینه ، مهوش|',\n",
              "  'حیدر صارمی ، ملکه رنجبر ، هادی طاهر|',\n",
              "  'محمدعلی جعفری ، شهلا ریاحی ، تقی ظهوری ، احمد قدکچیان ، رحیم روشنیان ، تاج الملوک احمدی|',\n",
              "  'صادق بهرامی ، غلامحسین نقشینه ، فخری خوروش ، مهری مشکین ، عبداله مشکوتی ، اکبر دست ورز ، فریدون صابر|',\n",
              "  'محسن مهدوی ، شهره آغداشلو ، حسین محسنی ، خسروانه ، قاسم جبلی ، هوشنگ دیبائیان|',\n",
              "  'ناصر ملک مطیعی ، مهین معاون زاده ، حیدر صارمی ، عباس مصدق ، رضا کریمی ، هوشنگ بهشتی|',\n",
              "  'محسن مهدوی ، کوروش کوشان ، مهوش ، عبدالعلی همایون ، حسین امیرفضلی ، جواد تقدسی|',\n",
              "  'مجید محسنی ، شهین ، مینا مغازه ای ، سیروس جراح زاده ، اکبر خواجوی ، نیکتاج صبری ، معزدیوان فکری ، حمید قنبری ، تقی ظهوری|',\n",
              "  'صادق بهرامی ، فخری خوروش ، رضا رخشانی ، پروانه ، هوشنگ سارنگ ، تقی ظهوری ، مانی ، منصور متین ، احمد قدکچیان ، عباس مصدق ، رحیم روشنیان ، اکبر خواجوی ، سیدجواد ذبیحی ، حسین محسنی|',\n",
              "  'حسین معطر ، روفیا ، تهمینه ، پرویز تقوی ، دلبر ، اکبر خواجوی|',\n",
              "  'دلکش ، ویگن ، تقی ظهوری ، عباس مصدق ، پرخیده ، جمشید مهرداد|',\n",
              "  'ایلوش ، ناصر انقطاع ، شهناز ، حسین محسنی ، عباس مصدق|',\n",
              "  'علی تابش ، شهین ، رضا کریمی ، نصرت اله کنی ، مانی ، عبداله محمدی ، مورین ، اشرف کاشانی ، تقی ظهوری|',\n",
              "  'نصرت اله وحدت ، شهین ، مهوش ، هوشنگ مرادی ، احمد قدکچیان ، علی تابش ، تاج الملوک احمدی ، نیکتاج صبری ، پرخیده|',\n",
              "  'اصغر تفکری ، رضا کریمی ، هوشنگ سارنگ ، کنعان کیانی ، محمد خامه سیفی ، تاج الملوک احمدی ، مورین ، عبداله محمدی ، نصرت اله کنی ، فریده نصیری|',\n",
              "  'ایلوش ، ژاله ، تاج الملوک احمدی ، عباس مصدق ، حبیب اله مراد ، حسین محسنی ، ذکریا هاشمی|',\n",
              "  'فخری خوروش ، عبدالعلی همایون ، فرهنگ امیری ، لیلی سروش ، فرهاد عماد ، ابراهیم باقری ، داریوش سیاسی ، ذکریا هاشمی|',\n",
              "  'هوشنگ مرادی ، تاج الملوک احمدی ، عبداله خرمی|',\n",
              "  'ناصر ملک مطیعی ، ویدا قهرمانی ، عبدالعلی همایون ، عباس مصدق ، زینت مودب ، پرخیده|',\n",
              "  'علی زرندی ، محمدعلی سخی ، اشرف کاشانی ، مهوش ، جواد تقدسی ، ویکی مونتس ، منصور والامقام|',\n",
              "  'ناصر ملک مطیعی ، ژاله ، نصرت اله محتشم ، تقی ظهوری ، تهمینه ، خسروانه ، جواد تقدسی ، فریدون نریمان|',\n",
              "  'حسین دانشور ، آراماییس وارطان یوسفیانس ، روفیا ، منصور سپهرنیا ، گرشا رئوفی ، واهان آقامالیان ، اکبر خواجوی ، سوسن ، محمد متوسلانی ، ویدا قهرمانی|',\n",
              "  'ایرن ، نصرت اله وحدت ، حسین مدنی ، منصور سپهرنیا ، شمسی فضل الهی ، رحیم روشنیان ، دلپذیر ، سیما ، عباس مصدق ، غلامحسین بهمنیار ، علی دلپذیر ، مهری قاجار ، حسین امیرفضلی ، تونی امادونی|',\n",
              "  'مجید محسنی ، فخری خوروش ، پرخیده ، حمید قنبری ، تقی ظهوری ، نیکتاج صبری ، سهیلا سخن سنج ، حسین محسنی ، جعفر توکل ، صابر رهبر|',\n",
              "  'حیدر صارمی ، ناصر کوره چیان ، علی کمیلی ، روحیه زندی ، مهدی کریمی ، خفانشو|',\n",
              "  'حیدر صارمی ، فخری خوروش ، رحیم روشنیان ، علی زندی ، صادق بهرامی ، اصغر شریف ، حبیب کسمایی ، اشرف کاشانی ، حسین محسنی ، شمس ، نیکتاج صبری|',\n",
              "  'اصغر تفکری ، شهین ، رضا کریمی ، عبداله محمدی ، رقیه چهره آزاد ، نصرت اله کنی ، نرگس ، غلامحسین مفیدی|',\n",
              "  'اصغر تفکری ، هوشنگ سارنگ ، داریوش اسدزاده ، چنگیز جلیلوند ، منصور والامقام ، پرخیده ، مورین ، نرگس ، اصغر تیموری ، پروین فولادی ، منصور سپهرنیا ، کارمن|',\n",
              "  'ویدا قهرمانی ، مهین دیهیم ، ناصر خموش ، مسعود خموش ، ابراهیم باقری ، حسن رضیانی ، حسین باقری ، رحیم روشنیان ، صابر آتشین|',\n",
              "  'شهین ، علی تابش ، حیدر صارمی ، رضا کریمی ، پرخیده ، عباس مهردادیان ، میلانی ، احمد قدکچیان|',\n",
              "  'محسن مهدوی ، سورد رکس ، جلال اصغرزاده ، هامی دستور ، صابر آتشین|',\n",
              "  'منصور والامقام ، جواد تقدسی ، پروین ، علی زندی ، سوسن|',\n",
              "  'ژاله علو ، علی تابش ، غلامعلی روانبخش ، بیک خان ، حسن رضایی ، غیاث ، عشقی ، بختیار ، رویا ، توفیق ، قدرت ، وفا کیش ، قاسم ، مهین دیهیم|',\n",
              "  'ویگن ، فرانک میرقهاری ، گرشا رئوفی ، منصور سپهرنیا ، محمد متوسلانی ، ویولت ، دیانا|',\n",
              "  'هوشنگ سارنگ ، حکیمی ، فریبا ، علی اصغر برنجی ، زرین قاسمی ، داریوش پرتوی ، محمود ایثاری ، اسماعیل قلعه ای ، رزین قاسمی|',\n",
              "  'ایرن ، محمدعلی فردین ، هوشنگ سارنگ ، ایرج قادری ، فریدون نریمان ، غلامحسین نقشینه|',\n",
              "  'مهین دیهیم ، غلامحسین بهمنیار ، فخری مرادی ، نرگس ، اصغر تیموری ، دادگر ، رویا ، محمد بختیاری|',\n",
              "  'غلامحسین بهمنیار ، سیما ، نوربخش ، همایون|',\n",
              "  'مهین دیهیم ، عزت حسنعلی ، هوشنگ سارنگ ، هوشنگ بهشتی ، حمیده خیرآبادی ، عباس مصدق ، مانی ، علی زندی ، اصغر شریف ، قبادی ، جمشید مهرداد|',\n",
              "  'شهین ، آفت ، محمدعلی سخی ، محمد عبدی ، کاظم تهرانچی ، عطایی ، مهوش ، افضل الدین خزانه|',\n",
              "  'ناصر ملک مطیعی ، تقی ظهوری ، شهین ، تهمینه ، حبیب اله مراد ، ایرج خانان پور ، سامیه|',\n",
              "  'پرویز رهنورد ، ثریا روحی ، ناصر کوره چیان ، مرضیه ، جان شهیدی|',\n",
              "  'نصرت اله وحدت ، شهین ، مهین دیهیم ، اشرف کاشانی ، کاظم پروینچی ، عباس مصدق ، نیکتاج صبری ، رضا هوشمند ، فرخ لقا هوشمند|',\n",
              "  'نصرت اله وحدت ، دلکش ، کاووس دوستدار ، شمسی فضل الهی ، پرخیده ، منصور سپهرنیا|',\n",
              "  'تهمینه ، حمید قنبری ، سلمان ونوس ، اشرف کاشانی ، کاظمی ، پوراعظمی ، پرنده صفوی ، فریده نصیری|',\n",
              "  'روفیا ، عبداله خرمی ، مهدی رئیس فیروز ، اشرف کاشانی ، رقیه چهره آزاد ، شامیلا بشارتیان ، مهری قاجار ، فریده نصیری ، فهیمه ، لادن ، جینگو ، الهامی ، مهدی درجزی ، محمد بختیاری ، مسعود نمازی|',\n",
              "  'ویدا قهرمانی ، رحیم روشنیان ، صبحی مهتدی ، مهوش ، جواد تقدسی ، اکبر هاشمی ، کارمن ، اردشیر ، پرویز ، رشید اصلانی ، پرویز قانع ، اصغر بیچاره ، پرویز جعفری ، ملیحه نظری ، هوشنگ دیبائیان|',\n",
              "  'ویدا قهرمانی ، ویگن ، حمیده خیرآبادی ، صمد صباحی|',\n",
              "  'شهین ، منصور سپهرنیا ، حمیده خیرآبادی ، حسین محسنی ، همایون|',\n",
              "  'ناصر ملک مطیعی ، فرانک میرقهاری ، گریگوری مارک ، اکبر هاشمی ، سهیلا ، غلامعلی نبی پور ، عزیزه ، غلام ، ناصر ، ویگن|',\n",
              "  'شهلا ریاحی ، محمدعلی جعفری ، احمد قدکچیان ، حمیدرضا صارمی ، غلامعلی روانبخش ، رضا عبدی ، سهیلا ، اکبر نجات ، فرهنگ امیری ، اسکندر|',\n",
              "  'علی تابش ، فریده نصیری ، مهین معاون زاده ، همایون ، منوچهر طایفه ، اشرف کاشانی ، جواد تقدسی ، رضا عبدی ، احمد قدکچیان ، پرخیده|',\n",
              "  'پوران ، ناصر ملک مطیعی ، تقی ظهوری ، عباس مصدق ، تاج الملوک احمدی ، همایون ، عبداله محمدی|',\n",
              "  'فائقه آتشین ، محسن مهدوی ، هوشنگ بهشتی ، هوشنگ سارنگ ، غلامحسین مفیدی ، مدیک بیجانیان|',\n",
              "  'مهین معاون زاده ، جمشید مهرداد ، جواد تقدسی ، علی اصغر شریف ، شمسی فضل الهی ، هما نصیری ، رستم خانی ، کاظم پروینچی|',\n",
              "  'علی تابش ، ژاله ، مهین دیهیم ، بیک خان ، غلامعلی روانبخش|',\n",
              "  'ویگن ، تهمینه ، رضا کریمی ، میلانی ، دیانا|',\n",
              "  'عزت اله وثوق ، پرخیده ، فریده نصیری ، رضا شفیع ، علی پروانه|',\n",
              "  'شهین ، هوشنگ سارنگ ، ممیزان ، ویولت ، منصور والامقام ، مهوش ، رافیک|',\n",
              "  'اصغر تفکری ، علی تابش ، حمیده خیرآبادی ، تقی ظهوری ، منصور سپهرنیا ، لاله ، سیما ، فریده ، هویک ، رویا ، آراکس ، مهری قاجار ، سوریک خاچیکیان|',\n",
              "  'علی تابش ، شهین ، حیدر صارمی ، عباس مصدق ، رضا مانی ، احمد قدکچیان ، عبدی ، پرخیده ، نیکتاج صبری ، منوچهر طایفه ، جواد تقدسی ، عزت حسنعلی|',\n",
              "  'اشرف کاشانی ، قدسی کاشانی ، نرگس ، مرضیه ، رفعت لادن ، رستم خانی ، دادگر ، اسدی|',\n",
              "  'نصرت اله وحدت ، شهین ، ژاله ، فرهنگ امیری ، احمد قدکچیان ، داریوش اسدزاده ، حسین جهانگیری ، جواد تقدسی|',\n",
              "  'مجید محسنی ، نصرت اله وحدت ، شهلا ، تقی ظهوری ، همایون ، دلبر ، دلیله نمازی ، پرخیده ، رفیع حالتی ، حمید قنبری ، رقیه چهره آزاد|',\n",
              "  'محمدعلی فردین ، دلکش ، ویدا قهرمانی ، منوچهر طایفه ، ملکه رنجبر ، رضا شفیع ، پرخیده ، اشرف کاشانی ، سلمان ونوس ، رضا هوشمند ، محمود مقدم ، مسعودی|',\n",
              "  'فائقه آتشین ، مهین دیهیم ، گرجی عبادیا ، پرخیده ، صابر آتشین ، احمد قدکچیان ، دلیله نمازی|',\n",
              "  'غلامعلی روانبخش ، عزت حسنعلی ، رضا کریمی ، عبداله محمدی ، نیکتاج صبری ، ناهید پران ، رقیه چهره آزاد ، تاج الملوک احمدی ، حسین امیرفضلی ، عزت اله مقبلی ، همایون|',\n",
              "  'آفت ، ناصر انقطاع ، سیما ، جواد تقدسی|',\n",
              "  'ایرج قادری ، تهمینه ، علی زندی ، بیک خان|',\n",
              "  'ایرن ، علی محزون ، مهدی رئیس فیروز ، اکبر خواجوی|'],\n",
              " ['روانبخش ، فرانک میرقهاری ، هوشنگ سارنگ ، حیدر صارمی ، آفت ، مصدق ، غلامحسین بهمنیار ، جواد تقدسی|',\n",
              "  'ناصر ملک مطیعی ، آراماییس وارطان یوسفیانس ، آذر حکمت شعار ، تاج الملوک احمدی ، همایون ، عزت اله مقبلی ، پرخیده|',\n",
              "  'مجید محسنی ، آذر شیوا ، رفیع حالتی ، پرخیده ، رقیه چهره آزاد ، دماوندی ، نصراله کیوانفر ، همایون ، عبدی ، پزشکان ، حسین محسنی ، جعفر توکل ، کمال الدین مستجاب الدعوه|',\n",
              "  'اکبر ناظریان ، آفت ، سخنور ، کاملیا ، پوراندخت|',\n",
              "  'فرانک میرقهاری ، محمدرضا فاضلی ، عبدالحسین تهامی ، عزت اله مقبلی ، همایون ، پرخیده ، منصور سپهرنیا ، میلانی ، حسن شاهین ، حسن رضیانی|',\n",
              "  'غلامعلی روانبخش ، عزت حسنعلی ، حمید قنبری ، احمد قدکچیان ، همایون|',\n",
              "  'عزت اله وثوق ، فرانک میرقهاری ، رقیه چهره آزاد ، تقی ظهوری ، هوشنگ سارنگ ، حمید قنبری ، غلامحسین بهمنیار ، ژیلا ، سامیه ، چنگیز جلیلوند ، روح اله مفیدی ، ناهید قوانلو ، پرویز بهادر|',\n",
              "  'ویدا قهرمانی ، علی محزون ، غلامعلی روانبخش ، احمد قدکچیان ، حمیده خیرآبادی ، فریده نصیری ، مهین دیهیم ، پرخیده ، میلانی ، همایون|',\n",
              "  'ایلوش ، ژاله ، فریدون نریمان ، پرویز جعفری ، جواد تقدسی ، سیما ، ذکریا هاشمی|',\n",
              "  'ناصر ملک مطیعی ، ایرن ، مهین دیهیم ، میلانی ، جمشید مهرداد ، سیمین ، اسماعیل عظیم پور|',\n",
              "  'ویدا قهرمانی ، بهروز وثوقی ، همایون ، تقی ظهوری ، غلامحسین بهمنیار ، عزت اله مقبلی ، تاج الملوک احمدی ، پرخیده|',\n",
              "  'ناصر ملک مطیعی ، عزت حسنعلی ، شمسی فضل الهی ، پرویز جعفری ، اکبر خواجوی ، رضا عبدی ، اکبر هاشمی|',\n",
              "  'محمدعلی جعفری ، شهلا ، رفیع حالتی ، حیدر صارمی ، سهیلا|',\n",
              "  'شهین ، منصور سپهرنیا ، حسین امیرفضلی ، حمید قنبری ، عباس سراج ، ایران اوحدی ، حکمی ، گیتی فیضی|',\n",
              "  'ارحام صدر ، تهمینه ، فرخ لقا هوشمند ، رقیه چهره آزاد ، عباس مصدق ، همایون|',\n",
              "  'ناصر ملک مطیعی ، پوران ، حمید قنبری ، عبداله محمدی ، پرخیده ، تقی ظهوری ، تاج الملوک احمدی ، سیامک یاسمی|',\n",
              "  'ویدا قهرمانی ، گریگوری مارک ، معزدیوان فکری ، رفیع حالتی ، هوشنگ بهشتی ، غلامحسین بهمنیار ، فرهنگ امیری ، محسن آراسته|',\n",
              "  'گریگوری مارک ، فرانک میرقهاری ، منوچهر طایفه ، اکبر هاشمی ، امیر صاحب پناه ، سیمین ، سلمان ونوس ، احمد اخوان ، غلام قهاری ، مستوره ، نیسان یوحنا|',\n",
              "  'عزت حسنعلی ، حیدر صارمی ، عزت اله وثوق ، جمشید مهرداد ، عزیزه ، محسن میلانی ، ایران تاج ناصری ، امیرآبادی ، سیمین ، مینو شفیع ، رضا هوشمند ، رضا عارفان ، عسگری ، ملک پور ، اکبرشاه|',\n",
              "  'مجید محسنی ، ویکتوریا ، علی آزاد ، پروین قاضی بیات ، نادر بیات ، مسعود زادگان ، محمد عبدی ، واهیک ، گرگین کیایی ، ناهید|',\n",
              "  'آذر حکمت شعار ، علی آزاد ، سهیلا ، رحیم روشنیان ، معزدیوان فکری ، رامین یوسفی ، اصغر تیموری ، ملیحه نصیری ، اسدی ، اکبر جنتی شیرازی ، حسین محسنی|',\n",
              "  'منوچهر سخایی ، تقی ظهوری ، عزت حسنعلی ، همایون ، منصور سپهرنیا ، رقیه چهره آزاد ، احمد قدکچیان ، رحیم روشنیان ، پرخیده ، محمدعلی سخی ، هوشمند ، غیاث ، کارمن ، گیتی ، قوام پور|',\n",
              "  'منوچهر سخایی ، رحیم روشنیان ، نارملا ، فرهاد محبت ، ناهید ملک محمدی ، کروی ، یاسمین|',\n",
              "  'محمدعلی فردین ، رضا بیک ایمانوردی ، سیمین ، گرشا رئوفی ، پرخیده ، علی زندی ، نرسی کرکیا ، اکبر هاشمی ، منوچهر اولیایی ، حسین عرفانی ، خدامی ، اصغر بیچاره|',\n",
              "  'فرانک میرقهاری ، کاووس دوستدار ، قلی صفاپور ، عزیزه ، پرخیده ، همایون ، عزت اله مقبلی ، احمد قدکچیان ، عبداله محمدی ، منصور سپهرنیا ، شبنم جهانگیری ، ژیلا ، مینو ، محمدی|',\n",
              "  'ایرن ، عبداله بوتیمار ، علی آزاد ، نرگس ، رقیه چهره آزاد ، رحیم روشنیان ، پرویز خوانساری ، قربانی|',\n",
              "  'ناصر ملک مطیعی ، ویکتوریا ، واهیک ، فریدون نریمان ، مسعود زادگان ، علی اصغر شریف زاده ، فیما ، رحمانی ، بهنام|',\n",
              "  'محمدعلی فردین ، پوران ، گریگوری مارک ، ژاله علو ، همایون ، رقیه چهره آزاد ، اکبر هاشمی ، سلطانی ، غلامحسین مفیدی ، فیروز ، محمد سیفی ، فریدون|',\n",
              "  'ناصر ملک مطیعی ، فرانک میرقهاری ، تقی ظهوری ، حمیده خیرآبادی ، شهلا ریاحی ، محسن آراسته ، اکبر جنتی شیرازی ، مینو شفیع ، مسعود وحدت ، ایران ، عباس منتجم شیرازی ، آلکس ، حسن گروسی ، قوام پور ، خزانه دار|',\n",
              "  'مجید محسنی ، فتنه ، نصراله کیوانفر ، غلامحسین نقشینه ، همایون ، حمیده خیرآبادی ، جمشید مهرداد ، حسین محسنی ، ملیحه نصیری ، عزیزه ، منوچهر امانت ، مینو ، سوسن مهاجر ، اکبر جنتی شیرازی ، مهین مسعودی|',\n",
              "  'نصرت اله محتشم ، ژاله علو ، گریگوری مارک ، شمسی فضل الهی ، عباس شباویز ، احمد قدکچیان ، پرخیده ، نصراله کیوانفر ، منصور سپهرنیا ، بهادری ، اکبر خواجوی ، توروس|',\n",
              "  'مجید محسنی ، آذر شیوا ، حیدر صارمی ، دلیله نمازی ، ژان ، هومر ، ربکا ، محسن میلانی ، حسین محسنی|',\n",
              "  'منصور والامقام ، هوشنگ سارنگ ، آفت ، عزیزه ، عزت اله مقبلی ، پریا ، رحیم روشنیان ، اصغر تیموری ، اصغر بیچاره ، نسیم|',\n",
              "  'آذر حکمت شعار ، منوچهر والی زاده ، بهروز وثوقی ، نصرت اله کنی ، مینو شفیع ، محمد عبدی ، مینو ، جاسم ، روح اله مفیدی ، نیکخواه ، شاه آبادی|',\n",
              "  'پوران ، معزدیوان فکری ، منوچهر نوذری ، پرویز خوانساری ، رفیع حالتی ، احمد قدکچیان ، ویگن ، عزیزه|',\n",
              "  'هوشنگ سارنگ ، منصور والامقام ، حسین جهانگیری ، شبنم جهانگیری ، زبیده ، قاسم آقاسی|',\n",
              "  'فرانک میرقهاری ، منصور والامقام ، همایون ، جمشید مهرداد ، ملکه رنجبر ، سیما ، پریا ، تاج الملوک احمدی ، رقیه چهره آزاد ، مهری عقیلی ، رشید|',\n",
              "  'نصرت اله محتشم ، تهمینه ، ایرج قادری ، هوشنگ سارنگ ، ژاله ، دلیله نمازی ، خسروی ، عباس مصدق ، تاج الملوک احمدی ، تقی ظهوری ، کازولی|',\n",
              "  'ناصر ملک مطیعی ، آذر شیوا ، تقی ظهوری ، هما جهان فر ، اکبر خواجوی ، محسن آراسته ، حسین محسنی ، پروین سلیمانی ، وزیری ، بهنام ، ابطحی|',\n",
              "  'حیدر صارمی ، دلیله نمازی ، سیمین علی زاده ، نعمت اله پیشواییان ، فائقه آتشین ، هما ، امیرآبادی ، فرامرز ، آل بیگی ، محمود مسعودی ، مصطفی بسیجی ، دهقان ، مقدم ، کاووس ، شهپر|',\n",
              "  'ایرج قادری ، ویکتوریا ، هوشنگ کاووسی ، طاطایی ، حسین جهانگیری ، کتایون ، یدی ، حسین شفیع ، محمود شیخوند ، عباس خاشائی ، چایچیان ، ایرن ، فرامرز ، میرزاده ، شاهپور|',\n",
              "  'عزت حسنعلی ، فرانک میرقهاری ، محمد متوسلانی ، علی آزاد ، علی زندی ، رضا صفایی ، سوسن مهاجر ، محمود خدارحم ، فرامرز محمودی ، رضا صفایی پور ، نوری ، ویگن ، نارملا ، امیرآبادی ، محمدحسن نوری|',\n",
              "  'آراماییس وارطان یوسفیانس ، شهلا ریاحی ، حیدر صارمی ، عبداله بوتیمار ، مینو شفیع ، مینا مالکی ، محسن آراسته ، رضا شفیع ، روشن ضمیر ، نوری ، رضا عارفان ، برهانی ، محمود|',\n",
              "  'مهین دیهیم ، نارملا ، سیروس قهرمانی ، اشرف کاشانی ، قدسی کاشانی ، عبدالعلی خرمی ، محمد زارع ، صمد صباحی ، صمد پیوند ، حمید ، نسرین ، امیرآبادی ، رضا عرب زاده ، مهری مهرنیا|',\n",
              "  'ارنو کریزا ، ماریا پیا ، پرخیده ، منوچهر نادری ، نصرت اله محتشم ، لوچیا ، علی زندی ، همایون ، میرزاده ، صولتی ، مینو ، شریعتمداری ، ایرج محمودی ، فریدون نریمان|',\n",
              "  'ملکه رنجبر ، علی آزموده ، اکبر هاشمی ، نعمت اله پیشواییان ، رضا صفایی ، مارینا کارویلو ، علی آزاد|',\n",
              "  'سهیلا ، گرجی عبادیا ، نادر بیات ، مهین دیهیم ، رحیم روشنیان ، حسین امیرفضلی ، اشرف کاشانی ، لادن ، کامران ، نوری ، عزیزه|',\n",
              "  'محمدعلی جعفری ، سهیلا ، عبداله محمدی ، عزت حسنعلی ، غلامحسین نقشینه ، سونیا ، ژاله ، مهاجر ، گیتی ، هلن|',\n",
              "  'فریبا خاتمی ، بیتا موسی زاده ، حسین امیرفضلی ، غلامحسین بهمنیار ، سوزان امیرا ، محمد عبدی ، عباس طلاساز ، ارسلان دل جوان ، سمیرا گلستانه ، ملیحه مرحمت ، زرین|',\n",
              "  'محمدعلی جعفری ، تهمینه ، محمدعلی فردین ، غلامحسین نقشینه ، تقی ظهوری ، فروزان ، علی زندی ، اکبر خواجوی|',\n",
              "  'محمدرضا فاضلی ، فریده نصیری ، منصور سپهرنیا ، اکبر هاشمی ، قدسی کاشانی ، سیمین علی زاده ، کیوان ، شهری ، علی نوری ، هادی مشکوت\\u200f ، مازیار بازیاران ، فرامرز ، علی آزاد ، رضا بیک ایمانوردی ، امیر آبادی|',\n",
              "  'عباس مغفوریان ، شمسی فضل الهی ، پرخیده ، رضا شفیع ، سهیلا ، مهین دیهیم ، اکبر خواجوی ، انوش خواجوی ، فریده ، عباس شباویز|',\n",
              "  'فریده نصیری ، سیروس لاله زار ، تقی ظهوری ، منصور والامقام ، هاله ، سهیلا ، عزیزه ، پرخیده ، جلال پیشواییان ، امیرحسین شریفی ، آندیک ، سوکیاس ، بیگدلی ، حسین افشار ، حسن درگزنی|',\n",
              "  'فریده نصیری ، نادر رفیعی ، شرایلی ، هوشنگ بهشتی ، مسعود زادگان ، اکبر هاشمی ، رضا هوشمند ، جعفر توکلی ، حسین جهانگیری ، غلامرضا سرکوب|',\n",
              "  'شهین ، عباس مصدق ، منصور والامقام ، پرخیده ، مینو شفیع ، شعبان شهری ، خزانه ، حسین جعفری ، نصرت اله کنی ، طاهری ، عباس علی زاده ، جلال مقدم ، حسین گیلک ، ملک محمدی ، جمشید کاظمیان|',\n",
              "  'مجید محسنی ، دلیله نمازی ، پروین ، سیمین علی زاده ، جواد قائم مقامی ، جمشید مهرداد ، غیاث ، اشرف کاشانی ، میرزاده ، عبادت ، عباس دماوندی ، شهری ، سوسن مهاجر ، گیتی ، ایرج|',\n",
              "  'عباس مصدق ، شبنم جهانگیری ، شرایلی ، عباس مهردادیان ، نرگس ، شعبان شهری ، سیما ، غیاث ، محمود ، مسعودی ، عباس دماوندی|',\n",
              "  'نصرت اله وحدت ، آزیتا لاچینی ، آپیک یوسفیان ، حمیده خیرآبادی ، احمد قدکچیان ، غلامحسین بهمنیار ، فریده نصیری ، پرخیده ، هوشنگ بهشتی ، رقیه چهره آزاد ، مهری مهرنیا ، سهیلا ، سونیا ، فریبا ، گیتی|',\n",
              "  'محمدعلی جعفری ، تهمینه ، سهیلا ، علی زندی ، منصور سپهرنیا ، اکبر هاشمی ، توروس|',\n",
              "  'پوران ، محمدعلی فردین ، رفیع حالتی ، پرخیده ، مینا ، فریدون نریمان ، اکبر خواجوی ، عبداله محمدی ، داریوش اسدزاده ، عزیزی ، محمد حقی ، علی آشتیانی|',\n",
              "  'روفیا ، روزا ، سونیا ، واهیک ، سیروس قهرمانی ، صابر آتشین ، ایرج فریدونی ، هوشنگ رضایی ، اسماعیل شهدوست ، علی ناهیدی ، صمد صباحی|',\n",
              "  'ویکتوریا ، محمدرضا فاضلی ، محسن آراسته ، پرخیده ، نصراله کیوانفر ، گیتی جعفری ، نادر رفیعی ، سیمین علی زاده ، هوشنگ خلعتبری ، منیژه ، هادی مشکوت\\u200f ، علی بخشی ، رضا هوشمند ، رضا شمشادیان ، باقر میرصادقی|',\n",
              "  'شهین ، عباس مصدق ، رضا کریمی ، پرخیده ، حسن شاهین ، گیتی جعفری ، مهدی ، شاهوردی ، روح اله مفیدی ، ظهیری ، سیمون ، اکبر قاسمی نژاد ، فرزانه ، خاریابند ، گلپور|',\n",
              "  'رضا بیک ایمانوردی ، ویکتوریا ، حیدر صارمی ، محسن آراسته ، علی آزاد ، فیروز ، مهین مسعودی ، اکبر هاشمی ، حسن شاهین ، منصور سپهرنیا ، علی زندی ، جواد قائم مقامی ، کامی ، مازوکی ، واهیک|',\n",
              "  'علی آزاد ، بیتا ، ابراهیم نادری ، رحیم روشنیان ، اکبر جنتی شیرازی ، هادی مشکوت\\u200f ، رضا بانکی ، حسن رضایی ، مرتضی حدیقی ، جلالیان ، سلطانی ، مارتین میناسیان ، محسن آراسته ، یوری ، حسن شاهین|',\n",
              "  'شهین ، عباس مصدق ، آپیک یوسفیان ، عزت اله وثوق ، حسین امیرفضلی ، محسن آراسته ، شهپر ، قربانی ، هوشمند فیروز ، حسن رضایی ، رضا هوشمند ، خاشابی ، محمود ، صادقی ، ایرج فریدونی|',\n",
              "  'محمدعلی فردین ، محمدرضا فاضلی ، سهیلا ، فریبا خاتمی ، منصور سپهرنیا ، اکبر خواجوی ، اکبر جنتی شیرازی ، اکبر هاشمی ، علی باقریان ، حسن فاضلی ، حسن شاهین|',\n",
              "  'ویکتوریا ، منصور سپهرنیا ، گرشا رئوفی ، حمیده خیرآبادی ، پرخیده ، محسن آراسته ، داریوش اسدزاده ، ناصر کوره چیان ، گیتی جعفری ، عبداله محمدی ، قاسمی نژاد ، گیتی فروهر ، مهری مهرنیا ، روح اله مفیدی|',\n",
              "  'شهین ، بهروز وثوقی ، پرخیده ، اکبر هاشمی ، ماروتیان ، مینو شفیع ، رضا شفیع ، واهان ، رقیه چهره آزاد ، نصرت اله کنی ، مهدی ، مهری مهرنیا ، منزوی ، نیکخواه ، صادقی پور|',\n",
              "  'حسین مدنی ، پوری بنایی ، دلیله نمازی ، محمدرضا فاضلی ، احمد قدکچیان ، حسن شاهین ، سونیا ، کامی کسروی ، ابراهیم نادری ، پرخیده ، صمد صباحی ، رضا بیک ایمانوردی ، بهروز ، طبا ، پیروز|',\n",
              "  'محمدعلی فردین ، نیکو صفایی ، تقی ظهوری ، منوچهر نادری ، سمیرا ، یدی ، جواد تقدسی ، گیلدا ، عباس منتجم شیرازی ، تقی تقدسی ، گلستانه ، ناهید ، ژاله ، کرمانی|',\n",
              "  'عزت حسنعلی ، حیدر صارمی ، حمیده خیرآبادی ، فریده نصیری ، محمدرضا فاضلی ، پرویز جعفری ، جواد تقدسی ، هوشنگ بهشتی ، واهیک ، سعید کامیار|',\n",
              "  'شهین ، محمد متوسلانی ، احمد قدکچیان ، عباس منتجم شیرازی ، رضا بیک ایمانوردی ، اکبر جنتی شیرازی ، طاهره غفاری ، سیمین علی زاده ، ریحانه ، علی باباخانی ، مازیار بازیاران ، فیروز ، امیلیا ، سوسن مهاجر ، گیتی|',\n",
              "  'رضا بیک ایمانوردی ، دیانا ، سهیلا ، محمدرضا فاضلی ، اکبر هاشمی ، حسن شاهین ، ملک پور ، انوری ، رضا بانکی ، نریمان|',\n",
              "  'منصور سپهرنیا ، محمد متوسلانی ، گرشا رئوفی ، الهام ، دره ، دیانا ، اکبر خواجوی ، همایون ، نیکو ، ابراهیم فخار|',\n",
              "  'آراماییس وارطان یوسفیانس ، عبداله بوتیمار ، رضا بیک ایمانوردی ، قدسی کاشانی ، جلال پیشواییان ، جمشید تاتار ، فرزانه کاظمی ، آنیک شفرازیان ، یاربهمن ، سوریک خاچیکیان ، شفیعی ، هایک هوسپیان ، آرارات ، نژدیک ، زهره|',\n",
              "  'نصرت اله وحدت ، پوری بنایی ، فریده نصیری ، حمیده خیرآبادی ، فرزانه کاظمی ، رقیه چهره آزاد ، منصور سپهرنیا ، پرویز خوانساری ، محسن آراسته ، مهری مهرنیا ، نانسی ، نیک ورز ، ناهید ، ذاکری ، حسن امینی|',\n",
              "  'آذر شیوا ، یداله شیراندامی ، احمد قدکچیان ، مهین معاون زاده ، اکبر خواجوی ، شهریار ، عزیزی ، عبداله محمدی ، محمود حقی ، انوشیروان خواجوی ، محمد سیفی|',\n",
              "  'ویکتوریا ، سعید کامیار ، دلیله نمازی ، اکبر هاشمی ، جلال پیشواییان ، محسن آراسته ، عزت اله مقبلی ، عزیزه ، سوسن مهاجر ، نیسان یوحنا ، یدی ، نصرت اله فاطمی ، نعمت اله پیشواییان ، سیما|',\n",
              "  'آذر حکمت شعار ، نادر بیات ، رحیم روشنیان ، مسعود زادگان ، ملکه رنجبر ، لادن ، خانم نصیری ، رضا شفیع ، فخری پازوکی ، سیمین ، افسانه ، ملیحه ، زهره ، محسن میلانی|',\n",
              "  'بهروز وثوقی ، فروزان ، حمیده خیرآبادی ، محمدعلی جعفری ، غیاث ، ناصر ملک مطیعی ، خسروی ، تقی ظهوری ، سهیلا ، گرامی|',\n",
              "  'محمدعلی فردین ، فریده نصیری ، اکبر خواجوی ، محمدرضا فاضلی ، محسن آراسته ، اصغر تیموری ، جواد تقدسی ، مهدی رئیس فیروز ، رفیع حالتی|',\n",
              "  'سهیلا ، عزت حسنعلی ، ایرج قادری ، عزیزه ، حمیده خیرآبادی ، هوشنگ بهشتی ، صابر آتشین ، سیمون ، میترا ، سیاوش ، گلنار|',\n",
              "  'جواد قائم مقامی ، دیانا ، هوشنگ سارنگ ، همایون ، ابوالقاسم ملکوتی ، غیاث ، پوراعظم ، غلامحسین بهمنیار ، فریدون خسروی|',\n",
              "  'شهین ، آذر حکمت شعار ، جواد قائم مقامی ، کتایون ، حمیده خیرآبادی ، حیدر صارمی ، منوچهر نوذری ، اصغر تیموری ، مینو شفیع ، سیروس تسلیمی ، فرهاد کریمی|',\n",
              "  'محمدعلی فردین ، ویکتوریا ، جمشید مهرداد ، پرخیده ، رضا شفیع ، عباس مهردادیان ، یدی ، نرسی کرکیا ، فرج پور ، سیمین علی زاده ، منوچهر سخایی ، عباسی ، سودابه ، آنژلا ، شاهپور خاریابند|',\n",
              "  'ناصر ملک مطیعی ، نسرین صفایی ، جواد قائم مقامی ، نیکو صفایی ، داریوش اسدزاده ، فرزانه ، ناصر جک لرد ، سیروس شاندرمنی ، احمد قدکچیان|',\n",
              "  'رضا بیک ایمانوردی ، سارا ، جمشید مهرداد ، محسن آراسته ، عباس مهردادیان ، مینو شفیع ، مهین شفیع ، منصور سپهرنیا ، صمد صباحی ، سیمین غفاری ، یدی ، بهروز ، اکبر ، احمد اسدیان ، مرتضی|',\n",
              "  'محمدعلی فردین ، سهیلا ، سیمین علی زاده ، ثریا بهشتی ، همایون ، محسن آراسته ، کامی کسروی ، تقی ظهوری ، سیمین غفاری ، حمیده خیرآبادی ، حسین اشراق ، اعظم توانا|',\n",
              "  'ایرج قادری ، رضا بیک ایمانوردی ، تهمینه ، سمیرا ، همایون ، رضا هوشمند ، ناصر کوره چیان ، حسین جهانگیری ، نیکتاج صبری ، شهاب عسگری ، مهین مسعودی|',\n",
              "  'آذر حکمت شعار ، نادر بیات ، حمیده خیرآبادی ، کاظمی ، نیکتاج صبری ، علی آزاد ، عزت اله مقبلی ، اکبر هاشمی ، منصور والامقام ، ازهدی ، ناصر لاله زاری ، شکوه ، اسماعیل شیرازی ، رضا بانکی|',\n",
              "  'بهروز وثوقی ، سهیلا ، تقی ظهوری ، فریبا خاتمی ، سیمین علی زاده ، غلامحسین بهمنیار ، حمیده خیرآبادی ، داریوش اسدزاده ، حسن رضایی ، حسین رضایی|',\n",
              "  'علی تابش ، رضا بیک ایمانوردی ، پوران ، عبداله بوتیمار ، علی دلپذیر ، نصرت اله وحدت ، فیروز ، حمیده خیرآبادی ، شهین ، ویکتوریا ، نسرین صفایی ، اکبر خواجوی ، حسن شاهین|',\n",
              "  'امین امینی ، فروزان ، گرشا رئوفی ، نصراله کیوانفر ، دلیله نمازی ، حمیده خیرآبادی ، نعمت اله پیشواییان ، محسن آراسته ، عباس قاجار|',\n",
              "  'محمدعلی جعفری ، قدسی کاشانی ، علی آزاد ، همایون ، اکبر هاشمی ، غلامحسین نقشینه ، اشرف کاشانی ، ریحانه ، رضا بانکی ، معتمدی ، رحیم روشنیان ، افرا ، نادر خلیلی ، عزیزی ، منوچهر|',\n",
              "  'رحیم روشنیان ، محمدعلی کشاورز ، فخری خوروش ، امیر شروان ، علی میری ، غلامحسین بهمنیار ، سارا ، پرخیده|',\n",
              "  'عبداله بوتیمار ، نسرین صفایی ، نعمت اله پیشواییان ، آنیک شفرازیان ، ویکتوریا ، مهدی رئیس فیروز ، رضا بیک ایمانوردی ، وزیری ، کاظم روشن ضمیر ، شمسی فضل الهی ، یدی ، منصور سپهرنیا ، ماشین چیان ، فرامرز محمودی ، جلال پیشواییان|',\n",
              "  'منصور سپهرنیا ، محمد متوسلانی ، گرشا رئوفی ، مریم صفا ، سارا ، فریدون نریمان ، داریوش اسدزاده ، عزت اله وثوق ، صمد صباحی ، الهیاری ، تبریزی ، فروزانفر ، باقری ، پروانه ، جهانگیر جهانگیری|',\n",
              "  'منصور سپهرنیا ، محمد متوسلانی ، گرشا رئوفی ، اصغر تیموری ، شهین ، نعمت اله پیشواییان ، محسن آراسته ، فریبا خاتمی ، دلیله نمازی ، جمشید مهرداد ، عزت اله وثوق ، یدی ، فیروز ، مکوندی ، مریم ساحلی|',\n",
              "  'محمد متوسلانی ، منصور سپهرنیا ، گرشا رئوفی ، نسرین صفایی ، نیکو صفایی ، سارا ، حمیده خیرآبادی ، علی معماری|',\n",
              "  'منصور سپهرنیا ، شهین ، تقی ظهوری ، فریبا خاتمی ، عزت اله مقبلی ، محسن آراسته ، یوری ، عبدالعلی همایون ، گیتی جعفری ، محمود بهار ، حسن غفاری ، محمود الهیاری ، مقدم ، خلیل الکترو ، ملک|',\n",
              "  'گریگوری مارک ، گرشا رئوفی ، سهیلا ، غلامعلی نبی پور ، اکبر خواجویی ، ملیحه نظری|',\n",
              "  'عباس مصدق ، سهیلا ، همایون ، اکبر هاشمی ، فرخنده هوشمند ، شیفته شفایی ، ایرج بهرامی ، یدی|',\n",
              "  'آذر حکمت شعار ، علی آزاد ، پرخیده ، عزیزه ، اکبر هاشمی ، نرگس ، علی عسگری ، مصطفی بسیجی ، حبیب ، محمد نصیری ، ملک پور ، رضا عرب زاده ، خوشبین ، رضا بانکی|',\n",
              "  'همایون ، فائقه آتشین ، جواد تقدسی ، عزت اله مقبلی ، دلیله نمازی ، حسن شاهین ، اشرف کاشانی ، غیاث ، فرهاد محبت ، صابر آتشین ، احمد رحیمی ، تقی تقدسی ، ببراز ، داریوش طلایی|',\n",
              "  'آراماییس وارطان یوسفیانس ، فروزان ، ویگن ، بهروز وثوقی ، ایران دفتری ، منصور سپهرنیا ، ابراهیم طهماسبی ، هوشنگ اوج|',\n",
              "  'محمدعلی فردین ، ویدا قهرمانی ، محسن آراسته ، اکبر خواجوی ، ناصر کوره چیان ، نرسی کرکیا|',\n",
              "  'ایرج قادری ، آپیک یوسفیان ، منصور سپهرنیا ، عباس مهردادیان ، اکبر هاشمی ، حسن شاهین ، عباس منتجم شیرازی ، شهاب عسگری ، میترا ، فریدون نریمان ، آل بیگی ، ملک پور|',\n",
              "  'محمدعلی فردین ، آذر شیوا ، تقی ظهوری ، عباس شباویز ، پروین ، ماروتیان ، نعمت اله پیشواییان ، آراماییس وارطان یوسفیانس ، فروزنده ، جهانگیر غفاری|',\n",
              "  'لیلا فروهر ، مجید فریدفر ، فریبا خاتمی ، محسن مهدوی ، محسن آراسته ، دلیله نمازی ، محمدتقی کهنمویی ، گیتی فروهر ، حسین اشراق ، عباس مهردادیان ، اسداله مصری|',\n",
              "  'پوری بنایی ، تقی ظهوری ، همایون ، رضا کریمی ، عزت اله مقبلی ، حمیده خیرآبادی ، حیدر صارمی ، رقیه چهره آزاد ، عبداله محمدی ، احمد قدکچیان ، نعمت اله پیشواییان ، منصور سپهرنیا ، یدی ، سمیرا ، نیکخواه|',\n",
              "  'امین امینی ، شهین ، منصور سپهرنیا ، محسن آراسته ، پرخیده ، نصراله کیوانفر ، رضا شفیع ، سیمین غفاری ، عباس ، روح اله مفیدی ، صفوی ، تبریزی ، ماریا ، انتظاری ، حسن غفاری|',\n",
              "  'نصرت اله وحدت ، پوری بنایی ، هوشنگ سارنگ ، مورین ، صفاپور ، سرور رجایی ، علی محمد رجایی ، علی میری ، منصور سپهرنیا ، یوری ، محسن آراسته ، شایسته ، بیتا|',\n",
              "  'جواد قائم مقامی ، یوری ، ابراهیم نادری ، علی آخوندزاده ، محسن آراسته ، پرخیده ، سهیلا ، علی آزاد ، محمد فرزین ، کامی کسروی ، ناصر حدیقی ، اکبر عطار ، سیمین غفاری ، کارمن ، غیاث|',\n",
              "  'آذر شیوا ، حیدر صارمی ، جلال مقامی ، اشرف کاشانی ، مینو شفیع ، فرهاد محبت ، ناصر کوره چیان ، رضا شفیع ، فرخ لقا هوشمند ، محسن آراسته ، حسین محسنی|',\n",
              "  'رضا بیک ایمانوردی ، آذر حکمت شعار ، یدی ، یداله شیراندامی ، حمیده خیرآبادی ، اکبر خواجوی ، دلیله نمازی ، اکبر هاشمی ، فیروز ، هوشنگ بهشتی|',\n",
              "  'سهیلا ، محمدرضا فاضلی ، جواد تقدسی ، افسانه ، اکبر جنتی شیرازی ، حمیده خیرآبادی ، علی آزاد ، هوشنگ بهشتی ، غیاث ، اکبر هاشمی ، اکبر خواجویی ، حسن شاهین ، سیمین علی زاده ، فاخره ، علی معماری|',\n",
              "  'ناصر ملک مطیعی ، کتایون ، تقی ظهوری ، حمیده خیرآبادی ، عبداله محمدی ، گیتی جعفری ، علی باباخانی ، ابراهیم فخار ، مریم ، تورج ، خسرو ، رحمان ، دورانی ، سهرابی ، کاهن|',\n",
              "  'رضا بیک ایمانوردی ، فریبا خاتمی ، نعمت اله پیشواییان ، محسن آراسته ، داریوش اسدزاده ، سیروس شاندرمنی ، حسین اشراق ، جهانگیر مهربان ، علی پروانه ، یداله شیراندامی ، عیوغی ، فیروز ، اکبر هاشمی|',\n",
              "  'عزت اله مقبلی ، منصور سپهرنیا ، عزت اله وثوق ، رضا شفیع ، حسن غفاری ، عبداله محمدی ، فریبا خاتمی ، حمیده خیرآبادی ، اسماعیل شیرازی ، یوری ، محمد مجلل|',\n",
              "  'ویگن ، آذر حکمت شعار ، مهین دیهیم ، ملکه رنجبر ، ناهید ، محسن آراسته ، عباس مهردادیان ، محمد عبدی|',\n",
              "  'بهروز وثوقی ، کتایون ، آراماییس وارطان یوسفیانس ، همایون ، تقی ظهوری ، سودابه ، جهانگیر غفاری|',\n",
              "  'محمدعلی فردین ، فرزانه ، منوچهر نوذری ، حسین محسنی ، جمشید مهرداد ، پریسا ، حسین امیرفضلی ، ابراهیم کوشان ، محمدتقی کهنمویی ، صابر آتشین ، کوروش کوشان ، حبیب ، ماشین چیان ، حسین طلوعی ، رضا عارفان|',\n",
              "  'سهیلا ، منوچهر طایفه ، جلال مقامی ، محسن مهدوی ، دلیله نمازی ، عباس مهردادیان ، گیسو ، رحیم روشنیان ، مینو شفیع ، مهین دیهیم|',\n",
              "  'امیر جعفری ، منوچهر طایفه ، سیمین غفاری ، فروزانفر ، لطفی ، غیاث ، فیضی|',\n",
              "  'عبداله بوتیمار ، عزیز اصلی ، آذر حکمت شعار ، آنیک شفرازیان ، ماروتیان ، کاظم روشن ضمیر ، رضا شفیع ، شمسی فضل الهی ، دیانا ، سیدمحسن وزیری ، جلال پیشواییان ، فرامرز ، شیوا ، نرسی کرکیا|',\n",
              "  'شهلا ریاحی ، بهروز وثوقی ، سارا ، علی محزون ، احمد قدکچیان ، محسن آراسته ، فریدون نریمان ، شهرام شکوفنده ، یدی ، فریده اشراق ، تبریزی ، رضا هوشمند ، سیروس گرجستانی ، مجید شهباز ، شمس اله|',\n",
              "  'عزت اله مقبلی ، تقی ظهوری ، شهین ، همایون ، عبداله محمدی ، سروش ، مژگان ، مهری مهرنیا|',\n",
              "  'عباس قاجار ، عادل روحی ، ابراهیم نادری ، مهین دیهیم ، رضا بانکی ، اکبر جنتی شیرازی ، عدیله اشراق ، رضا شمشادیان ، رضا هوشمند ، هوشنگ طهماسبی ، نقدی حسن مهتابی ، عباس فرزین ، حسین اشراق ، محمد پوراعظم ، عبداله تهرانی|',\n",
              "  'محمدعلی فردین ، پوری بنایی ، همایون ، هوشنگ بهشتی ، محسن آراسته ، اکبر خواجوی ، هوشنگ سارنگ ، غلامحسین بهمنیار ، ایران قادری ، عبداله محمدی ، حسن رضیانی ، رستم خانی ، منصور سپهرنیا ، تبریزی|',\n",
              "  'ایلوش ، تقی ظهوری ، سهیلا ، ناصر ملک مطیعی ، منوچهر نوذری ، حمیده خیرآبادی ، فائقه آتشین ، غلامحسین بهمنیار ، صابر آتشین ، پریا ، منوچهر وثوق ، حسین محسنی ، ماشین چیان ، عبدی|',\n",
              "  'بهروز وثوقی ، پوری بنایی ، جلال پیشواییان ، عدیله ، ماریا مغفوریان ، ساقی ، عزیز اصلی ، ایران دفتری ، ایران قادری ، جلال آقامالیان ، مژگان آقامالیان ، لاله ، احمد معینی|',\n",
              "  'رضا ارحام صدر ، آذر شیوا ، همایون ، نیکو صفایی ، منصور سپهرنیا ، احمد قدکچیان ، عبدالعلی همایون ، محمود پیراسته ، تقی ظهوری ، محسن آراسته|',\n",
              "  'منوچهر وثوق ، فریبا خاتمی ، داریوش طلایی ، محسن آراسته ، حمیده خیرآبادی ، نریمان ، جواد تقدسی ، داریوش اسدزاده ، مهدی رئیس فیروز|',\n",
              "  'فرانک میرقهاری ، ایرج قادری ، مهین دیهیم ، علی محزون ، نعمت اله پیشواییان ، داریوش اسدزاده ، فریدون نریمان ، صمد صباحی ، مجید شهباز ، شیلا ، ابوالفضل ، احمد محبی ، هومان شریفی ، هایده کاتوزیان ، مؤمنی|',\n",
              "  'محمدرضا فاضلی ، سهیلا ، حسن شاهین ، حسین گیل ، ابراهیم نادری ، مژگان ، محمد فرزین ، اکبر جنتی شیرازی ، جواد تقدسی ، علی معماری|',\n",
              "  'محمد متوسلانی ، گرشا رئوفی ، منصور سپهرنیا ، مجید شهباز ، یوری ، یدی|',\n",
              "  'منصور سپهرنیا ، گرشا رئوفی ، محمد متوسلانی ، شهین ، عدیله ، ثریا بهشتی ، ماروتیان ، اشرف کاشانی ، محسن آراسته ، یوری ، منوچهر سحابی|',\n",
              "  'منصور سپهرنیا ، گرشا رئوفی ، محمد متوسلانی ، اکبر خواجوی ، میچیکو کوزوکا ، نامی کودو ، چیزو کوما تروشیما ، توکو رامیتو ، موری هونجو ، مانجیرو هاکی ، تاکنوری شیزوکا|',\n",
              "  'رضا بیک ایمانوردی ، فرانک میرقهاری ، سودابه ، ماروتیان ، جواد تقدسی ، شهلا ریاحی ، جمشید مهرداد ، محسن آراسته ، حسین گیل ، فیروز ، یداله شیراندامی ، تبریزی ، تقی تقدسی ، همایون مراد ، عشقی|',\n",
              "  'فروزان ، کتایون ، داریوش طلایی ، کامی کسروی ، میترا ، عبداله محمدی ، رفیع حالتی ، ایران قادری ، آسمانه ، همایون ، آراماییس وارطان یوسفیانس|',\n",
              "  'رضا بیک ایمانوردی ، کتایون ، سیروس قهرمانی ، امیر ، میرمحمد تجدد ، فریدونی ، درانی ، اقبالی|',\n",
              "  'عبداله بوتیمار ، آراماییس وارطان یوسفیانس ، رضا بیک ایمانوردی ، آذر حکمت شعار ، مینا ، آنیک شفرازیان ، لیلا فروهر ، نرسی کرکیا ، فرشید فرزان ، احمد معینی ، وزیری ، فرخنده ، ناهید ، سوریک خاچیکیان ، کاظم روشن ضمیر|',\n",
              "  'فروزان ، ناصر ملک مطیعی ، جواد قائم مقامی ، جمشید مهرداد ، محمدتقی کهنمویی ، ایران قادری|',\n",
              "  'فائقه آتشین ، جواد قائم مقامی ، همایون ، دلیله نمازی ، رحیم روشنیان ، اکبر هاشمی ، یوری ، ذاکری ، حسن رضایی ، مرتضی حدیقی ، نادر خلیلی ، محمدرضا ویسه ، قاسمی ، محمد سبحانی ، حاتم زاده|',\n",
              "  'ناصر ملک مطیعی ، سهیلا ، همایون ، سیمین غفاری ، اکبر خواجوی ، مرتضی حدیقی ، احمد قدکچیان ، عبداله محمدی ، محسن آراسته|',\n",
              "  'منوچهر صادق پور ، محسن مهدوی ، فریده نصیری ، اشرف کاشانی ، علی آزاد ، حسین محسنی ، محمدعلی بندانی ، اکبر جنتی شیرازی ، عباس منتجم شیرازی ، فیروز ، محمود ، حسن رضایی ، سوسن ، میترا ، رضا یاقوتی|',\n",
              "  'ایرج رستمی ، سهیلا ، رفیع حالتی ، شهین ، نعمت اله پیشواییان ، اسداله یکتا ، علی محزون ، نریمان ، گیتی فروهر|',\n",
              "  'محمدعلی فردین ، رضا بیک ایمانوردی ، شهلا ، تقی ظهوری ، همایون ، پوران ، ماروتیان ، منصور سپهرنیا ، فائقه آتشین ، محمدتقی کهنمویی ، علی زندی ، یدی ، احمد قدکچیان ، هوشنگ بهشتی|',\n",
              "  'همایون ، سهیلا ، غلامحسین بهمنیار ، اکبر خواجوی ، جهانگیر فروهر ، فرنگیس فروهر ، رضوان ، اشرف کاشانی|',\n",
              "  'بوتیمار ، فرانک میرقهاری ، شبنم ، مینا ، محسن آراسته ، ایران قادری ، رضا بیک ایمانوردی|',\n",
              "  'منوچهر وثوق ، سارا ، نریمان ، غلامحسین بهمنیار ، شیوا ، رفیع حالتی ، گیتی جعفری ، حسین ملکی ، داریوش اسدزاده ، صابر آتشین|',\n",
              "  'رضا بیک ایمانوردی ، حسین ملاقاسمی ، محسن آراسته ، مینا ، کامی کسروی ، کتایون ، مهین دیهیم ، اکبر خواجوی ، هوشنگ اوج|',\n",
              "  'محمدعلی فردین ، فروزان ، صباح ، سعید مغربی|',\n",
              "  'رضا بیک ایمانوردی ، سونیا ، ابراهیم نادری ، دلیله نمازی ، اکبر هاشمی ، اکبر جنتی شیرازی|',\n",
              "  'ناصر ملک مطیعی ، رضا بیک ایمانوردی ، فریبا خاتمی ، محمدتقی کهنمویی ، مینا ، عدیله اشراق ، فریده اشراق ، حسین اشراق ، غیاث ، ملکی ، رفیع مددکار ، میرزاده ، نیکلا ، تبریزی|',\n",
              "  'رضا بیک ایمانوردی ، فرانک میرقهاری ، جواد تقدسی ، فریبا خاتمی ، جواد قائم مقامی ، گیسو ، جهانگیر فروهر ، مینو ، عشقی ، محسن آراسته ، تبریزی|',\n",
              "  'عباس مصدق ، فریبا خاتمی ، علی میری ، عزت اله وثوق ، نادر رفیعی ، عباس مهردادیان ، مهدی قلی صفاپور ، محمود بهار ، حشمت اله رفیعی ، اصغر تیموری ، نیکتاج صبری ، مهری مهران ، شهین|',\n",
              "  'نصرت اله وحدت ، پوری بنایی ، همایون ، غلامحسین بهمنیار ، علی میری ، یوری ، سونیا ، میرمحمد تجدد ، صفاپور ، محمدرضا رفیعی|',\n",
              "  'آذر حکمت شعار ، سعید کامیار ، فیروز ، لطفی ، دلیله نمازی ، داریوش اسدزاده ، حسن شاهین ، اکبر هاشمی|',\n",
              "  'همایون ، بهروز وثوقی ، سودابه ، ایران قادری ، هوشنگ بهشتی ، میرمحمد تجدد ، لیلا فروهر ، یدی ، ساقی|',\n",
              "  'سیونا ، چنگیز جلیلوند ، باشی ، مندی دیویس|',\n",
              "  'منصور سپهرنیا ، گرشا رئوفی ، محمد متوسلانی ، کتایون ، ثریا بهشتی ، مریم صفا|',\n",
              "  'ایرن زازیانس ، ناصر ملک مطیعی ، رضا ارحام صدر ، سهیلا ، نصرت اله محتشم ، میرمحمد تجدد ، فرشته فرشاد ، یدی ، نظام الدین کیایی ، پیران نصیری ، فرهاد ، کشانی ، مزینانی ، پرویز جهانشاه ، سعید محقق|',\n",
              "  'شهلا ، شهین ، فائقه آتشین ، منصور متین ، لیلا فروهر ، مینا ، ایرج ناظریان|',\n",
              "  'سهیلا ، منوچهر وثوق ، پروین ، کامی کسروی ، هوشنگ بهشتی ، جواد تقدسی|',\n",
              "  'فریده نصیری ، منوچهر صادق پور ، هوشنگ بهشتی ، ابراهیم فخار ، گیسو ، محمدعلی بندانی ، رضا بانکی|',\n",
              "  'منوچهر صادق پور ، فریده نصیری ، محمدتقی کهنمویی ، محمدعلی بندانی ، رفیع حالتی|',\n",
              "  'فائقه آتشین ، علی آزاد ، فریدون خسروی ، محمد فرزین ، اکبر هاشمی ، نرسی کرکیا ، شهاب|',\n",
              "  'فروزان ، ایرج رستمی ، همایون ، فائقه آتشین ، هوشنگ بهشتی ، رفیع حالتی ، احمد قدکچیان ، لیلا فروهر ، یدی ، ایران قادری ، عزت اله مقبلی ، مهدی مصیبی|',\n",
              "  'عبداله بوتیمار ، فریبا خاتمی ، مینا ، داریوش اسدزاده ، غلامحسین بهمنیار ، احمد قدکچیان ، حمیده خیرآبادی ، محسن آراسته|',\n",
              "  'آذر شیوا ، جواد قائم مقامی ، فرزانه بازگیر ، منصور متین ، جمشید مهرداد ، ایران دفتری ، مورین ، تاج الملوک احمدی|',\n",
              "  'مهدی فتحی ، مهین دخت ، ولی شیراندامی ، همایون دخت ، انصاری ، عایلی ، ندایی ، محمدتقی کهنمویی ، مصطفی اسکویی|',\n",
              "  'بهروز وثوقی ، فریبا خاتمی ، حبیب اله بلور ، علی محزون ، محمدتقی کهنمویی ، میرمحمد تجدد ، حسن شاهین ، کتایون|',\n",
              "  'آفت ، اکبر هاشمی ، ریحانه ، حسین امیرفضلی|',\n",
              "  'مجید محسنی ، آذر شیوا ، رضا کریمی ، شهلا ، شهین ، علی محزون ، رفیع حالتی ، ایران دفتری ، ایران قادری ، شیده ، نریمان|',\n",
              "  'آراماییس وارطان یوسفیانس ، مارلین اشمیت ، همایون ، عبداله بوتیمار ، علی زندی ، زهره قهرمانی ، ناصر کوره چیان ، ماروتیان ، غلامحسین نقشینه ، جهانگیر غفاری ، شهرام شکوفنده ، محمدتقی کهنمویی ، لیلا فروهر ، پوری بنایی ، حسین ملاقاسمی|',\n",
              "  'منصور سپهرنیا ، فرانک میرقهاری ، گرشا رئوفی ، محمد متوسلانی ، ثریا بهشتی ، مارینا متر ، جهانگیر غفاری ، سارا ، ماروتیان ، علی زندی|',\n",
              "  'محمدعلی فردین ، آراماییس وارطان یوسفیانس ، فروزان ، تقی ظهوری ، شهلا ، فمی بنوس ، مونیکا پاردو|',\n",
              "  'ماریا الوندی ، روحانی ، حسن رضیانی ، سیمین علی زاده ، حسین اشراق ، عدیله ، محمد عبدی|',\n",
              "  'محمدعلی فردین ، ناصر ملک مطیعی ، تقی ظهوری ، نیلوفر ، علی زندی ، مارینا متر ، رفیع حالتی|',\n",
              "  'کتایون ، جواد قائم مقامی ، شهلا ، منصور متین ، ایران قادری ، گیتی جعفری ، امیر زند|',\n",
              "  'فرشید فرزان ، شهین ، فریبا خاتمی ، مهین دیهیم ، محسن آراسته ، اکبر هاشمی ، حسین اشراق ، فریده ، فیروز ، حسن رضایی ، نریمان ، غلامرضا سرکوب ، عباس مهردادیان|',\n",
              "  'عبداله بوتیمار ، پروین غفاری ، علی تابش ، آذر حکمت شعار ، عباس مهردادیان ، احمد قدکچیان ، ولی زاده ، یوری ، عباس مصدق ، عدیله اشراق ، جمیله ، حسن رضایی ، حسن غفاری ، ژنیک ، سهیلا|',\n",
              "  'روفیا ، کتایون ، علی آزاد ، سودابه ، هوشنگ طهماسبی ، هایک ، مارتین ، ایران|',\n",
              "  'نانسی کواک ، محمدرضا فاضلی ، داریوش طلایی ، توروس ، جهانگیر غفاری ، گیزلا ناکس ، پوران ، رفیع حالتی ، فیروز چنگیز ، شهاب ، عباس مهردادیان ، بیژن|',\n",
              "  'ناصر ملک مطیعی ، امین امینی ، کتایون ، احمد قدکچیان ، ایران قادری ، سارا ، مریم صفا|',\n",
              "  'شهین ، فائقه آتشین ، عباس منتجم ، مهین دیهیم ، یوری ، صمد صباحی ، حسن رضایی ، مهردادیان ، صابر آتشین ، اکبر جنتی شیرازی ، مجید محسنی|',\n",
              "  'نصرت اله وحدت ، پوری بنایی ، عبداله بوتیمار ، کتایون ، حبیب اله بلور ، غلامحسین بهمنیار ، اکبر خواجوی ، صفاپور ، منوچهر احمدی ، غلامحسین نقشینه ، علی میری|',\n",
              "  'رضا بیک ایمانوردی ، فرانک میرقهاری ، مینا مغازه ای ، تقی ظهوری ، منصور سپهرنیا ، طاهره غفاری ، قائم مقامی ، احمد ، قدکچیان ، هوشنگ بهشتی ، حمیده خیرآبادی ، علی زندی ، عزت اله وثوق|',\n",
              "  'رضا بیک ایمانوردی ، کتایون ، کامی کسروی ، احمد قدکچیان ، عزت اله مقبلی ، فرخ لقا هوشمند ، رفیع حالتی ، شهرام ، عدیله ، سیمین غفاری ، یدی ، جلال پیشواییان ، شهلا ریاحی|',\n",
              "  'همایون ، شیدا ، جواد قائم مقامی ، علی تابش ، منصور متین ، علی زندی ، اکبر خواجوی ، جمیله ، رضا عبدی|',\n",
              "  'بهروز وثوقی ، پوری بنایی ، فرخ ساجدی ، آنوشاوان هاروتیونیان ، محمد زرین دست ، مارینا متر ، عباس مغفوریان|',\n",
              "  'سهیلا ، جواد قائم مقامی ، مینا ، محسن آراسته ، مهین مسعودی ، علی آزاد|',\n",
              "  'منصور سپهرنیا ، گرشا رئوفی ، محمد متوسلانی ، نیکو صفایی ، ثریا بهشتی ، مینا ، عدیله اشراق ، عباس مهردادیان ، هوشنگ بهشتی ، حمیده خیرآبادی ، غلامحسین نقشینه ، گیتی فروهر ، محسن آراسته ، جهانگیر غفاری|',\n",
              "  'همایون ، منصور سپهرنیا ، فرانک میرقهاری ، جواد قائم مقامی ، حمیده خیرآبادی ، مهین دیهیم ، گیتی همت آزاد ، غلامرضا سرکوب ، پرویز جعفری ، اشرف کاشانی ، فرنگیس فروهر ، تحصنی ، حسین اشراق ، علی تبریزی ، محمود پیراسته|',\n",
              "  'فروزان ، عبداله بوتیمار ، تقی ظهوری ، مارینا متر ، احمد قدکچیان ، عزت اله مقبلی ، یدی ، رفیع حالتی ، حمیده خیرآبادی ، غلامحسین بهمنیار|',\n",
              "  'جلال مقامی ، طاهره غفاری ، آلبرت ماکار ، حامد تحصنی ، مهین دیهیم ، منیره نجاتی ، محمد پاکستانی ، یوبرت تخش ، بهنام ودادی|',\n",
              "  'عبداله بوتیمار ، فریبا خاتمی ، راندا ، نادیا جمال ، ابراهیم خان ، سیدمغربی|',\n",
              "  'فروزان ، عبدالسلام نابلس ، فیلیز آکین ، سمیر حسین ، ابراهیم خان ، نادیا جمال|',\n",
              "  'امامعلی حبیبی ، نیلوفر ، داریوش طلایی ، نیکو صفایی ، رضا هوشمند ، فرخ لقا هوشمند ، حبیب اله بلور ، ایران دفتری ، ناصر کوره چیان ، حسین ملاقاسمی ، ابوالفضل حسین پور ، خسرو وزیری ، محمود تهرانی ، ابوالفضل موسوی ، رستم خانی|',\n",
              "  'بهروز وثوقی ، فروزان ، تقی ظهوری ، همایون بهادران ، ثریا بهشتی ، شهرام شبیری ، رفیع حالتی ، یوسف رجبی ، آذر ، حسن شاهین ، سوسن ، هاله|',\n",
              "  'ایرج قادری ، آذر حکمت شعار ، فروزان ، سیروس شاندرمنی ، علی زندی ، ایران قادری ، فرنگیس فروهر ، محسن مهدوی ، مژگان ، سهیلا ، حسن غفاری ، رفیع حالتی ، فرهاد حمیدی ، پرویز شکری ، محمد فرزین|',\n",
              "  'فریده نصیری ، منوچهر صادق پور ، محمدتقی کهنمویی ، ایران قادری ، فرنگیس فروهر ، فریبا فروهر ، سارا ، محمدعلی بندانی|',\n",
              "  'رضا بیک ایمانوردی ، فرانک میرقهاری ، شهلا ریاحی ، محمد عبدی ، یوری ، منوچهر اخضرپور ، رمضان شهری ، شعبان شهری ، عباسی ، رحیمی ، علی اکبر مهدوی فر ، جهانگیر جهانگیری ، مهری مهرنیا ، شکوه|',\n",
              "  'آراماییس وارطان یوسفیانس ، همایون ، منوچهر وثوق ، غلامرضا سرکوب ، عزت اله وثوق ، سارا ، ناصر جک لرد ، ایران قادری ، یدی ، عزیز اصلی ، ثریا بهشتی ، شهلا ، رضا بانکی|',\n",
              "  'رضا بیک ایمانوردی ، فرانک میرقهاری ، سارا ، علی آزاد ، گیسو ، منوچهر احمدی ، عزیز اصلی ، اکبر هاشمی|',\n",
              "  'جواد قائم مقامی ، کتایون ، احمد قدکچیان ، جمشید مهرداد ، مهدی قلی صفاپور ، یاسمین ، حمیده خیرآبادی|',\n",
              "  'بهروز وثوقی ، فروزان ، تقی ظهوری ، همایون بهادران ، شیده ، حسن شاهین ، آذر ، توران مهرزاد ، یوسف رجبی ، شاهین خو|',\n",
              "  'پروین غفاری ، مصطفی تاجیک ، داریوش اسدزاده ، سیمین غفاری ، گرجی ، مجلل ، عزیز اصلی|',\n",
              "  'پوری بنایی ، محمد زرین دست ، منصور سپهرنیا ، عباس مغفوریان ، آنوشاوان هاروتیونیان ، عزت اله وثوق ، یدی ، هوشنگ اوج ، مژگان ، فرنگیس ، لیلا فروهر ، ایران قادری|',\n",
              "  'شهین ، منصور سپهرنیا ، ویکتوریا ، جهانگیر غفاری ، محمد متوسلانی ، گرشا رئوفی ، محسن پیراسته ، فرهاد حمیدی ، مژگان ، غیاث ، جمشید هاشم پور|',\n",
              "  'امامعلی حبیبی ، نیلوفر ، داریوش طلایی ، حسین ملاقاسمی ، اینگرید ، ناهید ، فرنگیس ، رستم خانی ، مینا ، موسوی ، حسین پور ، هایک ، جمشید هاشم پور|',\n",
              "  'شهین ، عبداله بوتیمار ، ابراهیم فخار ، غلامرضا سرکوب ، عبدالعلی همایون ، حسین حسینی ، اکبر جنتی شیرازی ، گیسو ، افروز روشنیان|',\n",
              "  'فروزان ، همایون ، منوچهر وثوق ، منوچهر احمدی ، لیلا فروهر ، شاپور شالچی ، احمد قدکچیان ، اکبر جنتی شیرازی ، فرنگیس فروهر ، آراماییس وارطان یوسفیانس|',\n",
              "  'طاهره غفاری ، حسین اشراق ، مینا ، اکبر هاشمی ، شاندرمنی ، ابوالقاسم حسن زاده ، محسن آراسته ، رضا زاهدی|',\n",
              "  'فروزان ، امین امینی ، حسن شاهین ، منوچهر اخضرپور ، منصور سپهرنیا ، علی اکبر مهدوی فر ، حسن نورهانی ، عباس مهردادیان|',\n",
              "  'فروزان ، منوچهر وثوق ، ایران قادری ، احمد قدکچیان ، ابراهیم فخار ، حمیده خیرآبادی ، داریوش اسدزاده ، جهانگیر فروهر ، محمدتقی کهنمویی|',\n",
              "  'بهروز وثوقی ، ایرج قادری ، مارلین اشمیت ، علی زندی ، سیروس شاندرمنی ، حسن شاهین ، غیاث ، شهرام شبیری ، ساقی ، فرج مولایی|',\n",
              "  'رضا بیک ایمانوردی ، داریوش اسدزاده ، فرانک میرقهاری ، اشرف کاشانی ، ایران قادری ، گیسو ، پیشواییان ، نرسی کرکیا|',\n",
              "  'مجید محسنی ، همایون ، نیلوفر ، اشرف کاشانی ، هاله ، حسین برزی ، ثریا بهشتی|',\n",
              "  'پوری بنایی ، ایرج قادری ، آراماییس وارطان یوسفیانس ، میرمحمد تجدد ، نادر صغیری ، منیره نجاتی ، ناصر جک لرد ، جهانگیر فروهر ، فرنگیس فروهر ، اشرف کاشانی ، خلیل طلایی|',\n",
              "  'منصور سپهرنیا ، گرشا رئوفی ، محمد متوسلانی ، سارا ، ثریا بهشتی ، مجید فریدفر ، امیر زند ، مجید شهباز ، مارینا متر|',\n",
              "  'ناصر ملک مطیعی ، شهین ، فرشید فرزان ، طاهره غفاری ، اسداله یکتا ، حمیده خیرآبادی ، گیتی فروهر ، عباس مهردادیان ، حسین گیل ، حسن شاهین ، محسن آراسته ، محمدتقی کهنمویی|',\n",
              "  'فروزان ، همایون ، منوچهر وثوق ، فائقه آتشین ، هوشنگ بهشتی ، احمد قدکچیان ، جهانگیر فروهر ، علی میری ، یدی ، شیده ، شهلا|',\n",
              "  'عبداله بوتیمار ، فریبا خاتمی ، غلامحسین بهمنیار ، اکبر هاشمی ، محسن آراسته ، فیروز ، سمیرا ، مرتضی حدیقی ، فرخنده ، حسن رضایی ، حسین اشراق ، رضا بانکی|',\n",
              "  'مجید محسنی ، پروین غفاری ، ماری الوندی ، محسن آراسته ، علی آزاد ، غلامرضا سرکوب ، سیروس شاندرمنی ، اکبر جنتی شیرازی|',\n",
              "  'عبداله بوتیمار ، شهین ، محمدتقی کهنمویی ، احمد قدکچیان ، فرنگیس فروهر ، اکبر جنتی شیرازی ، لیلا فروهر ، مینا کهنمویی ، دلیله نمازی ، عباس منتجم|',\n",
              "  'منصور سپهرنیا ، محمد متوسلانی ، گرشا رئوفی ، فائقه آتشین ، جهانگیر فروهر ، غلامحسین نقشینه ، عشقی ، میرمحمد تجدد ، محمدتقی کهنمویی ، کارمن ، نیکتاج صبری ، ریاضتی|',\n",
              "  'ایرج قادری ، کتایون ، جواد قائم مقامی ، نصرت اله محتشم ، سارا ، امیر زند ، رفیع ، مهرنگ ، سیروس شاندرمنی ، نرسی کرکیا ، علی تابش|',\n",
              "  'نانسی کواک ، محمدرضا فاضلی ، فائقه آتشین ، کتایون ، داریوش طلایی ، رامین ، حسین گیل ، رحیم روشنیان ، جواد تقدسی ، حمیده خیرآبادی ، عباس مهردادیان ، صابر آتشین ، کنعان کیانی ، نرسی کرکیا|',\n",
              "  'نصرت اله وحدت ، سهیلا ، ابراهیم نادری ، افسون ، یوری ، شیده ، شاهین خو ، غلامحسین بهمنیار ، ناهید ، رضا بنی احمد ، غزال ، گیتی فروهر ، ایراندخت ، شیرزاد ، شمس اله|',\n",
              "  'محمدعلی فردین ، پوران ، پیتر گراس ، فدا راسیموف ، کواکب ، کریستین ژوزانی ، راندا ، ابراهیم خان ، علائین ، شماس ، آلن شامن ، تئو لاما ، فیلیپ عقیقی ، خلیل نوییری ، حسن بنت|',\n",
              "  'منوچهر وثوق ، عزت اله وثوق ، همایون ، کتایون ، علی محمد رجایی ، ایران قادری ، منیره نجاتی ، افشین ، حسین محسنی ، شبنم نوبهار ، مهری ، حمید ، شریفیان ، هراتیان ، مهدی|',\n",
              "  'کتایون ، منوچهر طایفه ، آذر حکمت شعار ، منصور سپهرنیا ، محمد متوسلانی ، مهین دیهیم ، جمشید مهرداد|',\n",
              "  'ایرج رستمی ، شهین ، علی آزاد ، محمدتقی کهنمویی ، محسن آراسته ، لیلا فروهر ، اکبر جنتی شیرازی ، غلامرضا سرکوب ، فرانک میرقهاری|',\n",
              "  'رضا بیک ایمانوردی ، سهیلا ، عادل روحی ، مارینا متر ، مرتضی حدیقی ، رضا بانکی ، فیروز ، محسن آراسته ، اسداله یکتا ، اکبر هاشمی ، عزت اله وثوق|',\n",
              "  'ایلوش ، ایرن ، فرشید فرزان ، عزیز اصلی ، اسداله یکتا ، اکبر هاشمی ، نرسی کرکیا ، فریبرز صالح ، فریدون نریمان شیری فر ، حسین جهانگیری ، گیتی فروهر ، رضا هوشمند ، زانیچ ، جهانگیر فروهر ، شیدفر|',\n",
              "  'بهروز وثوقی ، پوری بنایی ، جمشید مهرداد ، محمد عبدی ، مینا ، خلیل طلایی ، حسین محسنی ، میترا ، ستاره ، محمدرضا رفیعی ، علی میری|',\n",
              "  'جلال مقامی ، طاهره غفاری ، کامی کسروی ، عدیله اشراق ، محمدتقی کهنمویی ، ناصر جک لرد ، گیتی فروهر ، حسین اشراق ، نعمت اله گرجی ، یاسمین لینا ، مرضیه ، منوچهر فرزانه|',\n",
              "  'منوچهر وثوق ، کتایون ، علی آزاد ، احمد قدکچیان ، مینا ، ناهید ، اکبر هاشمی|',\n",
              "  'رضا بیک ایمانوردی ، عبداله بوتیمار ، شیده ، احمد قدکچیان ، منیره نجاتی ، فرنگیس فروهر ، صمد صباحی ، یدی ، داریوش اسدزاده|',\n",
              "  'نصرت اله وحدت ، تقی ظهوری ، سهیلا ، غلامحسین بهمنیار ، جهانگیر غفاری ، لی لی ، سوزان ، شیلا ، افسون ، محسن آراسته|',\n",
              "  'رضا بیک ایمانوردی ، نیلوفر ، رامین ، جواد تقدسی ، علی زندی ، حسین اشراق ، کارمن ، حمیده خیرآبادی|',\n",
              "  'خلیل عقاب ، رضوان ، سیمین غفاری ، علی آزاد ، اکبر هاشمی ، رفیع ، محسن آراسته ، جواد تقدسی|',\n",
              "  'محمدعلی فردین ، فابیوتستی ، جف کامرون ، همایون ، اتوره مانی ، کریسیتناپنس|',\n",
              "  'بهروز وثوقی ، پوری بنایی ، نیلوفر ، آراماییس وارطان یوسفیانس ، فرشید فرزان ، رستم خانی ، لادن ، رامک ، لیلا فروهر|',\n",
              "  'منصور سپهرنیا ، محمد متوسلانی ، گرشا رئوفی ، ثریا بهشتی ، محمد عبدی ، گیتی فروهر ، حسن نورهانی ، منوچهر سحابی ، ایراندخت ، مژگان ، طاطایی ، محمود پیراسته ، احمد نیک نژاد ، زینا نجاتی ، سهیلا|',\n",
              "  'بهروز وثوقی ، آذر شیوا ، نیلوفر ، واهان آقامالیان ، نظام الدین کیایی ، عباس ناظری نیک|',\n",
              "  'فروزان ، جونیت آرکین ، امیرفخرالدین ، تقی ظهوری ، علی زندی ، یاسمین ، محمدرضا رفیعی ، میرزاده طاطایی ، داریوش طلایی ، فریدون نریمان ، محمد عبدی|',\n",
              "  'کتایون ، علی آزاد ، سودابه ، حسین گیل ، فیروز ، عباس مهردادیان ، محسن آراسته|',\n",
              "  'نادر صغیری ، محمد فرزین ، سپیده ، مجید فریدفر ، شهروز رامتین ، مینا|',\n",
              "  'بن سیرا ، سیونا ، زینگر ، مارینا ، اریس سان ، لی لی|',\n",
              "  'منصور سپهرنیا ، گرشا رئوفی ، محمد متوسلانی ، آراماییس وارطان یوسفیانس ، سارا ، احمد قدکچیان ، ثریا بهشتی ، رضا بانکی ، مژگان ، ناصر جک لرد ، محمدتقی کهنمویی ، ایران قادری ، محسن آراسته|',\n",
              "  'ایلوش ، سهیلا ، هنگامه ، هوشنگ بهشتی ، اکبر خواجوی ، جهانگیر فروهر ، ماشین چیان ، داریوش اسدزاده|',\n",
              "  'سهیلا ، منصور سپهرنیا ، جهانگیر غفاری ، بابک ، علی میری ، عبدالعلی همایون ، نسرین ، لادن ، جهانگیر فروهر ، سعید کامیار|',\n",
              "  'رضا بیک ایمانوردی ، فروزان ، منوچهر وثوق ، ثریا بهشتی ، جواد تقدسی ، یدی ، احمد قدکچیان ، مجید شهباز ، فریدون ریاحی|',\n",
              "  'پوری بنایی ، ایرج قادری ، تقی ظهوری ، جواد قائم مقامی ، علی آزاد ، هاله ، کامی کسروی ، شیده ، جمشید مهرداد ، حسین اشراق ، شمسی فضل الهی ، علی میری|',\n",
              "  'بهروز وثوقی ، پوری بنایی ، پیشواییان ، میرمحمد تجدد ، ماروتیان ، جمیله ، محسن آراسته ، واهان آقامالیان ، عباس افتخاری ، همایون|',\n",
              "  'جهانگیر غفاری ، ویکتوریا ، سمیرا احمد ، محمد عوض|',\n",
              "  'نصرت اله وحدت ، تقی ظهوری ، اینگرید اسپای ، میرمحمد تجدد ، حسن رضیانی ، فلورا ، محسن آراسته|',\n",
              "  'ایرج قادری ، آراماییس وارطان یوسفیانس ، شهلا ، نیلوفر ، پروین غفاری ، محسن مهدوی ، فریبا فروهر ، محمدتقی کهنمویی ، اکبر هاشمی ، مینا|',\n",
              "  'جمیله ، محمدرضا فاضلی ، منصور سپهرنیا ، ویکتوریا ، اکبر خواجوی ، پیشواییان ، فیروز|',\n",
              "  'فروزان ، عادل روحی ، شهلا ، ثریا بهشتی ، احمد قدکچیان ، ابراهیم فخار ، فرهاد محبت ، ایرج صابری ، فرنگیس فروهر ، فرشته ، یدی ، رادی پور|',\n",
              "  'نصرت اله وحدت ، آذر حکمت شعار ، امین امینی ، ایران قادری ، محمد عبدی ، طاهره غفاری ، تجدد ، محمدرضا رفیعی|',\n",
              "  'ایرج قادری ، آذر حکمت شعار ، غلامحسین بهمنیار ، علی آزاد ، محسن مهدوی ، گیسو ، برونا ، امیر زند ، محمدتقی کهنمویی ، عدیله اشراق|',\n",
              "  'منصور سپهرنیا ، گرشا رئوفی ، محمد متوسلانی ، شهین ، اشرف کاشانی ، محسن آراسته ، ثریا بهشتی ، مینا ، اکبر جنتی شیرازی ، اکبر خواجوی ، فیروز|',\n",
              "  'محمد زرین دست ، نیلوفر ، فرخ ساجدی ، آنوشاوان هاروتیونیان ، همایون بهادران ، هاله ، جلال پیشواییان ، مسعود زادگان ، دهقان ، منوچهر ژیان ، ایران قادری|',\n",
              "  'فروزان ، پیمان ، تقی ظهوری ، جهانگیر غفاری ، مینا ، احمد قدکچیان ، کاظم تهرانچی|',\n",
              "  'محمدرضا فاضلی ، سهیلا ، اسداله یکتا ، کامی کسروی ، صابر آتشین ، محمود مجلل ، لادن ، حسین جهانگیری ، ماشین چیان ، اکبر هاشمی|',\n",
              "  'فروزان ، کارتال تیبت ، جهانگیر غفاری ، مینا مطیع|',\n",
              "  'جواد قائم مقامی ، لی لی ، منصور سپهرنیا ، ویکتوریا ، عبدالعلی همایون ، مژگان ، فرنگیس فروهر ، ابراهیم نادری ، سعید کامیار ، محسن آراسته ، علی میری|',\n",
              "  'ایلوش ، خلیل عقاب ، محمد متوسلانی ، گرشا رئوفی ، منصور سپهرنیا ، ثریا بهشتی ، رفیع ، ملکی ، فریده اشراق ، محسن آراسته|',\n",
              "  'پروین غفاری ، منوچهر طایفه ، داریوش طلایی ، لی لی ، حسین اشراق ، فرنگیس فروهر ، اسداله یکتا ، لیلا فروهر|',\n",
              "  'ناصر ملک مطیعی ، نیلوفر ، فریبا خاتمی ، جواد قائم مقامی ، حمیده خیرآبادی ، صمد صباحی ، محمد عبدی ، گیسو ، فریدون نریمان|',\n",
              "  'فائقه آتشین ، علی آزاد ، مینا مغازه ای ، رضوان ، اسداله یکتا ، محسن آراسته ، خلیل عقاب ، نیکتاج صبری ، اکبر جنتی شیرازی ، مهری ودادیان ، لیلا فروهر ، فرج مولایی|',\n",
              "  'پروین غفاری ، منصور سپهرنیا ، سارا ، هوشنگ بهشتی ، شیده ، ایران قادری ، فریدون ریاحی ، یدی ، خسرو شایگان ، محسن آراسته|',\n",
              "  'فروزان ، منوچهر وثوق ، همایون ، ویکتوریا ، احمد قدکچیان ، نرسی کرکیا ، فرخ لقا هوشمند ، مینا ، غلامرضا سرکوب ، حبیب اله بلور|',\n",
              "  'ناصر ملک مطیعی ، فریده نصیری ، منوچهر صادق پور ، ابراهیم فخار ، ثریا بهشتی ، احمد قدکچیان ، حسن رضایی ، محمدعلی بندانی ، نادیا ، ایران قادری ، جهانگیر فروهر ، فرنگیس فروهر|',\n",
              "  'عبداله بوتیمار ، مارینا متر ، راندا ، احمد رمزی|',\n",
              "  'نیلوفر ، جونیت آرکین ، تقی ظهوری ، جهانگیر غفاری ، منصور متین ، فیروز ، حسن رضایی ، عبدی|',\n",
              "  'محمدعلی فردین ، نیلوفر ، آنتونلا دوپائولیس ، فرخ لقا هوشمند ، علی آزاد ، رضا عبدی|',\n",
              "  'امامعلی حبیبی ، کتایون ، ناتاشا ، حبیب اله بلور ، مینا ، فرشید فرزان ، نرسی کرکیا ، غلامرضا سرکوب ، اسداله یکتا|',\n",
              "  'ایرج قادری ، گرشا رئوفی ، آذر حکمت شعار ، طاهره غفاری ، امید زند ، ماندانا ، عباسی ، سیامک کلانتری|',\n",
              "  'ایرج رستمی ، منصور سپهرنیا ، سارا ، مجید فریدفر ، محسن آراسته ، ابراهیم نادری ، اشرف کاشانی ، منیره نجاتی ، عزت اله مقبلی ، فراز ، فرزانه ، مینا ، بابایی ، ویدا ، رمضان شهری|',\n",
              "  'امین امینی ، سهیلا ، عارف ، سارا ، مینا ، محمدتقی کهنمویی ، پوری بنایی ، ماروتیان ، طاهره غفاری ، محمد فرزین ، شهروز رامتین|',\n",
              "  'نصرت اله وحدت ، شیلا ، هوشنگ بهشتی ، افسون ، علی محمد رجایی ، پرستو ، فرشته ، طلوع ، مهران حیدری ، اشرف کاشانی|',\n",
              "  'آذر هوشیار ، عبداله بوتیمار ، هوشنگ منظوری ، اسداله یکتا ، فرهاد حمیدی ، حمیده خیرآبادی ، کنعان کیانی|',\n",
              "  'محمد زرین دست ، لی لی ، مرجان ، شهرام شبیری ، رضوانی ، عباس مهردادیان ، منوچهر ژیان|',\n",
              "  'فروزان ، جونیت آرکین ، نازنین|',\n",
              "  'آنوشاوان هاروتیونیان ، ویکتوریا ، سیمین غفاری ، علی آزاد ، محمدتقی کهنمویی ، اشرف کاشانی ، اسداله یکتا ، نیکتاج صبری ، کارمن|',\n",
              "  'عبداله بوتیمار ، شهین ، ابراهیم فخار ، محمد بانکی ، نرسی کرکیا ، محسن آراسته ، یدی ، منصوری ، سیما ، آنوشاوان هاروتیونیان ، گیتی فروهر|',\n",
              "  'اکبر مشکین ، اختر شیروانی ، حمید طاهری ، فیروزه بهشتی ، هوشنگ بهشتی|',\n",
              "  'بهروز وثوقی ، فائقه آتشین ، نوری کسرایی ، فرخ ساجدی ، محسن مهدوی ، شاپور شالچی ، توران مهرزاد ، ژاله ، حسن خیاط باشی ، حسن رضیانی ، نیکتاج صبری ، جهانگیر فروهر|',\n",
              "  'نصرت اله وحدت ، کتایون ، غلامحسین بهمنیار ، جمشید مهرداد ، جهانگیر فروهر ، خواجوی ، گیتی جعفری ، اکبر جنتی شیرازی ، علی محمد رجایی|',\n",
              "  'داوود رشیدی ، اکبر مشکین ، آذر فخر ، بهزاد فراهانی ، منوچهر فرید ، جمشید لایق ، فهیمه رحیم نیا ، فیروز بهجت محمدی ، پرویز فنی زاده ، خسرو شجاع زاده ، حسین کسبیان ، فریدون نوری ، فردوس کاویانی ، حمید طاعتی ، عزیزاله هنرآموز|',\n",
              "  'نعمت اله آغاسی آزموده ، فرهاد خان محمدی ، فروزان ، هوشنگ منظوری ، مارینا متر ، علی میری ، اسداله یکتا ، ابراهیم فخار ، ماشین چیان ، یدی|',\n",
              "  'گرشا رئوفی ، طاهره غفاری ، محمد فرزین ، ناهید ، شهروز رامتین|',\n",
              "  'فائقه آتشین ، گرشا رئوفی ، غلامحسین بهمنیار ، ثریا بهشتی ، پروانه ، مرتضی حاج سید احمدی ، عباس قاجار ، گیتی فروهر|',\n",
              "  'فرخ ساجدی ، لی لی ، جهانگیر غفاری ، ویکتوریا ، هاله ، میرمحمد تجدد ، ایران قادری ، جمشید مشایخی ، محسن آراسته|',\n",
              "  'منوچهر وثوق ، فریبا خاتمی ، علی میری ، سعید کامیار ، منصور متین ، نوشین ، سیمین علی زاده ، نرسی کرکیا ، محسن آراسته ، محمدتقی کهنمویی ، مینا کهنمویی ، ناتاشا ، یداله تاجیک|',\n",
              "  'جمیله ، پیمان ، ویکتوریا ، جهانگیر غفاری ، ابراهیم فخار ، ماروتیان ، محمدرضا رفیعی ، پیشواییان ، مینا ، مژگان|',\n",
              "  'تقی ظهوری ، حبیب اله بلور ، مسعود اسدالهی ، مهری رحمانی ، علی میری ، ثریا بهشتی ، منصور متین ، سیمین غفاری ، حمیده خیرآبادی|',\n",
              "  'بهروز وثوقی ، پوری بنایی ، رضا بیک ایمانوردی ، داریوش اسدزاده ، شهروز رامتین ، منوچهر ژیان ، حسن شاهین ، فیروز|',\n",
              "  'فروزان ، امامعلی حبیبی ، هایک ، فیروز ، ثریا بهشتی ، رستم خانی ، رضا بانکی ، حبیب اله بلور ، عباس ناظری نیک ، حسین پور ، یدی|',\n",
              "  'پوری بنایی ، منوچهر وثوق ، عزیزاله پیشواییان ، اسداله یکتا ، میرمحمد تجدد ، علی میری ، مینا کهنمویی ، محمدتقی کهنمویی|',\n",
              "  'عارف ، فریبا خاتمی ، علی میری ، رضوان ، پیمانه ، حمید شیرازی ، فریدون نریمان ، طاطایی ، هاله|',\n",
              "  'محمدعلی فردین ، ناصر ملک مطیعی ، مرجان ، لی لی ، ایران دفتری ، جهانگیر فروهر ، محمدتقی کهنمویی ، غلامحسین بهمنیار ، رضوانی ، رفیع ، حمیدی ، شمس اله|',\n",
              "  'ناصر ملک مطیعی ، فروزان ، تقی ظهوری ، پیمان ، ثریا بهشتی ، جواد تقدسی ، عزت اله مقبلی ، احمد قدکچیان|',\n",
              "  'نیلوفر ، عبداله بوتیمار ، غلامرضا سرکوب ، سیروس جراح زاده ، جهانگیر فروهر ، محسن آراسته ، فریدون نریمان ، صمد صباحی ، طلوع ، کاظم تهرانچی ، گیتا جمالی ، لرتا|',\n",
              "  'منوچهر صادق پور ، فریده نصیری ، آنوشاوان هاروتیونیان ، ابراهیم فخار ، اسداله یکتا ، فرنگیس ، ایران قادری ، گیتی جعفری|',\n",
              "  'جونیت آرکین ، داریوش طلایی ، نیلوفر ، ژاله ، حسن رضایی ، مرتضی حاج سید احمدی|',\n",
              "  'جمشید مشایخی ، فخری خوروش ، فائقه آتشین ، بلا الوندی|',\n",
              "  'فروزان ، منوچهر وثوق ، حبیب اله بلور ، منصور سپهرنیا ، ابراهیم فخار ، اسداله یکتا ، اکبر جنتی شیرازی ، دیانا ، سونیا ، شهروز رامتین ، نسرین ، حسن رضایی|',\n",
              "  'فیروز ، لی لی ، هایک ، لیلا بهاران ، رضا بانکی ، مینا ، مرتضی حدیقی ، لیلا فروهر|',\n",
              "  'منوچهر وثوق ، نیلوفر ، تقی ظهوری ، هوشنگ بهشتی ، نرسی کرکیا ، جمشید هاشم پور ، لادن|',\n",
              "  'عبداله بوتیمار ، نیلوفر ، شیلا ، حمیده خیرآبادی ، لی لی ، آراماییس وارطان یوسفیانس|',\n",
              "  'همایون ، نیلوفر ، آراماییس وارطان یوسفیانس ، پیمان ، احمد قدکچیان ، طاهره غفاری ، رفیع حالتی ، گیتا جمالی ، رضا بانکی|',\n",
              "  'الکه زومر ، استوارت ویتمن ، بهروز وثوقی ، کورت یورگنز ، جیم میچم ، آنوشاوان هاروتیونیان ، همایون بهادران ، امیر جعفری ، حسن رضایی ، لیلا بهاران ، ایران دفتری ، منوچهر نادری|',\n",
              "  'سهیلا ، سارا ، هایک ، غلامحسین بهمنیار ، احمد قدکچیان ، عباس مصدق ، صابر آتشین|',\n",
              "  'بهروز وثوقی ، صغری عبیسی ، رضا بیک ایمانوردی ، رفیع حالتی ، ویکتوریا ، اکبر خواجوی ، سیمین غفاری ، آراماییس وارطان یوسفیانس ، همایون ، حبیب اله بلور ، همایون بهادران ، ژاله ، احمد قدکچیان|',\n",
              "  'محمدعلی فردین ، عبداله بوتیمار ، تقی ظهوری ، فروزان ، علی میری ، مارینا متر ، نادیا ، جهانگیر فروهر ، محسن آراسته ، ماروتیان ، رضا عبدی|',\n",
              "  'ناصر ملک مطیعی ، شیلا ، کامی کسروی ، غلامحسین بهمنیار ، غلامرضا سرکوب ، ایران قادری ، محمدتقی کهنمویی ، علی زندی ، اشرف کاشانی ، محسن آراسته|',\n",
              "  'جونیت آرکین ، نیلوفر ، علی میری ، داریوش اسدزاده ، جهانگیر غفاری ، مورین ، علی زندی ، منصور متین ، حمیده خیرآبادی ، گیسو ، مرتضی حاج سید احمدی|',\n",
              "  'جمیله ، لی لی ، محمدرضا فاضلی ، لیلا فروهر ، حسین شاهین ، اکبر جنتی شیرازی ، محمدتقی کهنمویی ، فیروز ، غلامرضا سرکوب|',\n",
              "  'محمدعلی فردین ، آذر شیوا ، ویکتوریا ، محسن مهدوی ، سیمین علی زاده ، عدیله ، مارینا متر ، علی میری ، همایون ، جهانگیر غفاری|'],\n",
              " ['فروزان ، منوچهر وثوق ، آراماییس وارطان یوسفیانس ، علی میری ، منصور متین ، محسن آراسته ، یدی ، محمد عبدی ، سیمین غفاری ، محسن مهدوی ، فرنگیس فروهر|',\n",
              "  'سیامک دولتشاهی ، زری خوشکام ، فریده صادقیان ، گورک نوربان ، بهروز به نژاد ، پروین دولتشاهی ، میراحمد ایروانلو ، تاجی ، همایونی ، تورج شعبان خانی ، کمال اعتمادی ، چینی لاک ، ژاله علو ، علی ظهیری|',\n",
              "  'علی حبیب زاده ، مهری درستی ، محمد رئیسی ، محمد گیدبری ، رامین پریش|',\n",
              "  'فائقه آتشین ، منصور سپهرنیا ، منوچهر وثوق ، شهلا ریاحی ، محمدتقی کهنمویی ، صابر آتشین ، میرمحمد تجدد ، فرهاد حمیدی ، فریدون نریمان ، فرامرز محمودی ، مرتضی حدیقی ، جمشید مشایخی|',\n",
              "  'ایرج رستمی ، فائقه آتشین ، ناتاشا ، لرتا ، عباس مهردادیان ، هایک ، ریمیک ، ماروتیان ، اسداله یکتا ، ژاله ، ناهید ، مرزبان ، تبریزی ، دهقان ، حکیمی|',\n",
              "  'محمدعلی جعفری ، زری خوشکام ، سعید راد ، آزیتا لاچینی ، رفیع حالتی ، ملیحه نصیری ، غلامحسین نقشینه ، ایرج فرشاد ، فرهاد خان محمدی|',\n",
              "  'گرشا رئوفی ، منصور سپهرنیا ، فیلیز آکین ، کاوه تبا ، لوسیل ، کاترین ، امیلیا ، محمود تاتار ، جبار ، ازبک ، جهانگیر غفاری|',\n",
              "  'عباس ناظری نیک ، منوچهر وثوق ، طاهره غفاری ، مهری ودادیان ، روح اله مفیدی ، احمد هاشمی ، مهران صدری ، قوامی ، دانایی ، صادق بهرامی|',\n",
              "  'تقی ظهوری ، علی میری ، کتایون ، تقی مختار ، محسن آراسته ، گیتی فروهر ، نوشین ، ایران قادری ، صابر آتشین ، لیلا بهاران ، رحیمی ، اکبر جنتی شیرازی ، محمدتقی کهنمویی ، شاکری ، ذبیح اله ذبیح پور|',\n",
              "  'ناصر ملک مطیعی ، صغری عبیسی ، بهمن مفید ، ژاله ، حسین گیل ، شمسی فضل الهی ، جمشید مشایخی|',\n",
              "  'علی زندی ، خلیل عقاب ، طاهره غفاری ، لیلا بهاران ، رضوان ، پاتراس ، احمد رحیمیان ، اکبر مهاجر ، احمد مهاجر ، اکبر هاشمی|',\n",
              "  'حبیب اله بلور ، رضا بیک ایمانوردی ، گیتی فروهر ، طاهره غفاری ، احمد قدکچیان ، عبدی ، عزت اله وثوق ، فرامرز محمودی ، محمد فرزین ، جمالی ، علی تبریزی ، شعبان شهری ، قبادی ، علی دلپذیر ، عباس مهردادیان|',\n",
              "  'رضا بیک ایمانوردی ، فروزان ، بهمن مفید ، حسین گیل ، سیمین غفاری ، فرنگیس فروهر ، ذبیح اله ذبیح پور ، رضا رخشانی ، عزت اله رمضانی فر ، ماشین چیان|',\n",
              "  'احمد علی نژاد ، علی نظری ، طاهره غفاری ، محسن آراسته ، فرهاد خوشبخت ، اکبر هاشمی ، فیضی ، سعید بیگدلی ، یداله تاجیک|',\n",
              "  'فروزان ، منوچهر وثوق ، ثریا بهشتی ، جهانگیر فروهر ، نرسی کرکیا ، ماروتیان ، تقی ظهوری ، مهدی قلی صفاپور ، قباد ، علی دهقان ، فریدون نریمان ، کامران باختر ، نقدی ، اسماعیل شیرازی|',\n",
              "  'جمیله ، منوچهر وثوق ، جمشید هاشم پور ، فرنگیس فروهر ، جمشید مهرداد ، جهانگیر فروهر|',\n",
              "  'همایون ، فیلیز آکین ، جهانگیر غفاری ، کارتال تیبت ، علی خلوصی ، حسین برادران|',\n",
              "  'تقی ظهوری ، نیلوفر ، هوشنگ بهشتی ، پیمان ، سارا ، فرخ لقا هوشمند|',\n",
              "  'محمدعلی فردین ، ژاله سام ، صادق بهرامی ، عصمت صفوی ، داریوش اسدزاده ، عباس ناظری نیک ، روح اله مفیدی|',\n",
              "  'منوچهر وثوق ، کتایون ، غلامحسین بهمنیار ، احمد قدکچیان ، اکبر جنتی شیرازی ، حمیده خیرآبادی ، فرنگیس فروهر ، محمدتقی کهنمویی ، نوشین ، عباس مهردادیان ، سهیلا شمس ، امیک ، فرشته ، شاپور نادری ، گیتی فروهر|',\n",
              "  'رضا بیک ایمانوردی ، فرخ ساجدی ، نیلوفر ، سارا ، اشرف کاشانی ، هنگامه ، دنی بنیادی ، رضا کریمی ، محمود پیراسته ، محمدتقی کهنمویی ، مرتضی حدیقی ، یدی ، فرهاد حمیدی ، فرامرز محمودی ، رهبرنیا|',\n",
              "  'فرشید فرزان ، ناتاشا ، فرخنده ، عباس مهردادیان ، منصور والامقام ، نرسی کرکیا ، اکبر هاشمی ، مینا ، اسداله یکتا|',\n",
              "  'نصرت اله وحدت ، شیلا ، کامی کسروی ، روشنک ، عبدی ، قلی صفاپور ، علی میری|',\n",
              "  'پوری بنایی ، منوچهر وثوق ، علی میری ، اسداله یکتا ، نوشین ، ابراهیم نادری ، سیمین علی زاده ، محمدتقی کهنمویی ، گیتی فروهر ، اکبر جنتی شیرازی ، محمدعلی بندانی|',\n",
              "  'منصور سپهرنیا ، محمد متوسلانی ، گرشا رئوفی ، لی لی ، مینا ، جهانگیر فروهر ، نیکتاج صبری ، عزت اله وثوق ، عبدالعلی همایون ، شمسی فضل الهی ، محسن آراسته ، غلامرضا سرکوب ، جمشید مشایخی|',\n",
              "  'منصور سپهرنیا ، گرشا رئوفی ، محمد متوسلانی ، مراد ، رسوا ، جهانگیر غفاری|',\n",
              "  'فریده نصیری ، منوچهر صادق پور ، عبداله عبدالوهابی ، شهلا ریاحی ، دیانا ، منصور متین ، شمسی فضل الهی ، اسکندری ، لیلا فروهر ، محسن آراسته ، جهانگیر فروهر|',\n",
              "  'جواد قائم مقامی ، ویکتوریا ، سارا ، حمیده خیرآبادی ، جواد تقدسی ، محمدتقی کهنمویی ، محمدرضا رفیعی ، اسداله یکتا ، غلامرضا سرکوب ، محمد فرزین ، اسماعیل خدنگی ، فرنگیس فروهر ، ناتاشا ، شهلا ریاحی ، رضا بانکی|',\n",
              "  'نیلوفر ، فرخ ساجدی ، ثریا بهشتی ، غلامحسین بهمنیار ، اشرف کاشانی ، مجید شهباز ، ریحانه ، مرتضی حاج سید احمدی ، محمدتقی کهنمویی|',\n",
              "  'جمشید مشایخی ، مرجان ، محمدتقی کهنمویی ، یدی ، نرسی کرکیا ، گیتا جمالی ، ریحانه ، شهریار ، یداله تاجیک|',\n",
              "  'همایون ، فیلیز آکین ، امیرفخرالدین ، ثریا بهشتی ، نرگس ، علی خلوصی ، نوری|',\n",
              "  'نصرت اله وحدت ، ارحام صدر ، شیلا ، کامی کسروی ، فیروزه ، منصور جهانشاه ، شراره رجایی ، علی محمد رجایی|',\n",
              "  'منصور سپهرنیا ، محمد متوسلانی ، گرشا رئوفی ، کتایون ، ثریا بهشتی ، جهانگیر غفاری ، ایران قادری ، روشنک ، نیک ورز ، اکبر جنتی شیرازی|',\n",
              "  'فریده نصیری ، منوچهر صادق پور ، یداله شیراندامی ، اسداله یکتا ، ابراهیم فخار ، محمد اسکندری ، رضا رخشانی ، محسن آراسته ، داداشی ، ابوالفضل میرزایی ، خداوی ، رحیم متین ، رضا بنی احمد|',\n",
              "  'پرویز کاردان ، ایرن ، طاهره غفاری ، یداله شیراندامی ، منوچهر والی زاده ، فخری پازوکی ، رضا شفیع ، الهه الهی ، محمد گودرزی ، محسن آراسته ، عبدالعلی همایون ، سیدحسین حسینی ، حدادی ، ندایی|',\n",
              "  'ناصر ملک مطیعی ، مرجان ، ایرج قادری ، موسوی ، حسن گلپایگانی ، اسماعیل شیرازی ، رضا صفایی پور ، چنگیز ، روبرت ، اکبری ، افشین ، امامی ، ناهید هجرتی ، اکبر ، آوخ|',\n",
              "  'بهروز وثوقی ، داوود رشیدی ، نیلوفر ، شمسی فضل الهی ، عباس ناظری نیک ، جلالی|',\n",
              "  'سوسن ، جمشید مشایخی ، اکبر مشکین ، مهری ودادیان ، بهمن مفید ، یداله شیراندامی ، احمد هاشمی ، مرتضی حاج سید احمدی ، لی لی|',\n",
              "  'ناصر ملک مطیعی ، پوری بنایی ، فائقه آتشین ، فیروزه ، حسین اشراق ، محسن آراسته ، علی محمد رجایی|',\n",
              "  'ناصر ملک مطیعی ، صغری عبیسی ، منوچهر وثوق ، حمیده خیرآبادی ، فرنگیس فروهر ، یداله شیراندامی ، مرتضی عقیلی ، محمد عبدی ، مهدوی فر ، نعمت اله گرجی|',\n",
              "  'آراماییس وارطان یوسفیانس ، سهیلا ، کامی کسروی ، شهروز رامتین ، محمدتقی کهنمویی ، محمد عبدی ، علی زندی ، فرهاد حمیدی ، محمدرضا رفیعی ، امیر زند ، خلیل طلایی ، اسماعیل شیرازی ، حسین شهاب ، سیامک کلانتری ، علی وفادار|',\n",
              "  'فیلیز آکین ، امیرفخرالدین ، حبیب اله بلور ، مریم ، پروین ملکوتی ، جمشید مهرداد ، یاسمین رضایی ، حسن رضیانی|',\n",
              "  'رضا بیک ایمانوردی ، فرانک میرقهاری ، دلیله نمازی ، هوشنگ بهشتی ، داریوش اسدزاده ، نرسی کرکیا ، اکبر خواجوی ، عشقی ، گیتی فروهر ، بیگلری ، یعقوبی ، نصیری ، آنوشاوان هاروتیونیان|',\n",
              "  'محمدعلی فردین ، ایرج رستمی ، زری خوشکام ، رفیع حالتی ، گیتی فروهر ، عباس افتخاری ، آراماییس وارطان یوسفیانس|',\n",
              "  'رضا بیک ایمانوردی ، پوری بنایی ، احمد قدکچیان ، ابراهیم نادری ، حبیب اله بلور ، ایران دفتری ، طوبی متین ، عزت اله مقبلی ، اردشیر پهلوان ، حسین محسنی|',\n",
              "  'ایرج رستمی ، شهین ، رفیع حالتی ، عزت اله مقبلی ، عباس مهردادیان ، ماروتیان ، هایک ، مژگان ، غلامرضا سرکوب ، علی میری ، لرتا|',\n",
              "  'منوچهر وثوق ، پوری بنایی ، هایک هوسپیان ، طاهره غفاری ، ابراهیم نادری ، صمد شیرازی ، اکبر خواجوی ، محمود تهرانی ، محسن آراسته ، پرویز منفرد ، رفیع مددکار ، محمد فرزین ، احمدزاده|',\n",
              "  'ناصر ملک مطیعی ، امین امینی ، ایرج قادری ، بهزاد فراهانی ، محمدتقی کهنمویی ، ایران قادری ، حسین ملکی ، علی وفادار ، مسعود خبازان ، عباس قاجار|',\n",
              "  'نصرت اله وحدت ، سهیلا ، شیلا ، محمود تهرانی ، فیروزه ، ناهید ، مهدی قلی صفاپور ، یوسف رجبی ، امید زند ، علی زندی ، محمد عبدی ، محسن آراسته ، غلامرضا سرکوب|',\n",
              "  'فیروز ، طاهره غفاری ، اسداله یکتا ، حسین گیل ، داریوش اسدزاده ، منوچهر ژیان ، فرنگیس فروهر ، مرتضی حاج سید احمدی|',\n",
              "  'محمدعلی فردین ، وحیده رحمان ، ایرن ، سانجیو کمار ، لرتا ، سیمین غفاری ، میرمحمد تجدد ، محمدتقی کهنمویی ، علی میری|',\n",
              "  'محمدعلی فردین ، پوری بنایی ، آراماییس وارطان یوسفیانس ، علی میری ، حسن خیاط باشی ، علی تابش ، هوشنگ بهشتی ، سیمین غفاری ، حمیده خیرآبادی ، رضا عبدی ، اکبر جنتی شیرازی|',\n",
              "  'پرویز مجیدی ، دلارام ، توتیا ، شهرام شبیری ، محمدتقی کهنمویی ، رضا عبدی ، حجت زاده ، ایران قادری ، نوروز خوشبخت ، محمود مقدم ، ناصر رفعت ، چنگیز ، فرهاد خوشبخت ، صفرزاده ، ناصر رهبری|',\n",
              "  'ایلوش ، پروین غفاری ، ماری الوندی ، حیدر کاظمی ، فرنگیس فروهر ، اسداله یکتا ، ماشین چیان ، ولی زاده ، آندره ، اکبر هاشمی ، حسین ملکی ، احمدزاده ، شهرام ، صفاریان ، عباس مهردادیان|',\n",
              "  'آراماییس وارطان یوسفیانس ، سیمین غفاری ، بابک ، ناصر جک لرد ، محسن آراسته ، بهزاد جوانبخش ، محمدتقی کهنمویی ، اسداله یکتا ، فرنگیس فروهر ، ملیحه نصیری|',\n",
              "  'ایرج قادری ، مهناز ، محمدرضا فاضلی ، جمشید مشایخی ، بهمن مفید ، ژاله علو ، فرنگیس فروهر ، سهیلا ، شبنم ، چنگیز ، زارعی ، آزادی ، حسن نورهانی ، هادی مشکوت\\u200f ، حسین ملکی|',\n",
              "  'رضا بیک ایمانوردی ، شهین ، لی لی ، غلامرضا سرکوب ، هوشنگ بهشتی ، مارگریتا ، محمدتقی کهنمویی ، اکبر جنتی شیرازی ، محسن آراسته ، عباس منتجم شیرازی ، گیتی فروهر ، مهری ودادیان ، حسین ملکی ، حسین شهاب ، ذبیح اله ذبیح پور|',\n",
              "  'عبدالعلی همایون ، سیدحسین حسینی ، بهارک ، مرتضی عقیلی ، شهروز رامتین ، پرستو ، علی اکبر مهدوی فر ، کاظم تهرانچی ، رضا بنی احمد ، فرخ لقا هوشمند ، پروین ، کتی ، ماندانا ، جهانگیر جهانگیری ، علی وفادار|',\n",
              "  'جونیت آرکین ، فیلیز آکین ، همایون ، جمشید مهرداد|',\n",
              "  'رضا بیک ایمانوردی ، سپیده ، ساسان ، اکبر عالمی ، کمال محسنی ، میرزاده ، حسین محسنی ، حجت فتح الهی ، قباد سهرابی ، پولاد بهرامی ، افسون ، فریدون نریمان ، علی اکبر مهدوی فر ، جمشید مهرداد ، شیلا مهاجرانی|',\n",
              "  'بهمن مفید ، نیلوفر ، احمد معینی ، احمد هاشمی ، جهانگیر فروهر ، فرنگیس فروهر ، شهناز ، مجتبی ، علی دهقان ، لیلا فروهر|',\n",
              "  'جمشید مشایخی ، پوری بنایی ، سعید کامیار ، یدی ، رضا عارفان ، محمدتقی کهنمویی ، ایران قادری ، رهبر غفاری ، رضا بنی احمد ، شعبان شهری ، گیتی فروهر ، تکسایه ، کارمن ، بهاره ، لیدا|',\n",
              "  'مرتضی عقیلی ، همایون ، زری خوشکام ، بهرام وطن پرست ، مهدی فخیم زاده ، نعمت اله گرجی ، ماری باباجانیان ، زکریا هاشمی ، طاهره غفاری|',\n",
              "  'پوری بنایی ، یداله شیراندامی ، فرنگیس فروهر ، محمدعلی زرندی ، حسین شهاب ، رضا حاجیان ، علی رجبی ، رضاپور ، مرتضی عقیلی ، تقی نژاد ، جوکار ، دواتگر ، اصغر بیچاره ، عزت اله رمضانی فر|',\n",
              "  'ایرج قادری ، بهمن مفید ، زری خوشکام ، مهری ودادیان ، گیتی فروهر ، ایران قادری ، محمدتقی کهنمویی ، حسین شهاب ، سیامک اطلسی ، فرنگیس فروهر ، محمد عبدی ، کارمن ، فرامرز محمودی ، رضا حاجیان|',\n",
              "  'رضا کرم رضایی|',\n",
              "  'لی لی ، محسن آراسته ، غلامرضا سرکوب ، مجید شهباز ، فریدون نریمان ، قربانی ، هوشنگ اوج ، حجت ، فرامرز محمودی ، مانی ، حسن رضایی ، علی گل محمد ، مرتضی حدیقی|',\n",
              "  'محمدعلی فردین ، پوری بنایی ، یداله شیراندامی ، فرزانه تأییدی ، داوود رشیدی ، اکبر خواجوی ، نازنین ، منصور جهانشاهی ، رضا عبدی ، کاظم تهرانچی ، محمدتقی کهنمویی|',\n",
              "  'رضا بیک ایمانوردی ، نیلوفر ، آنوشاوان هاروتیونیان ، یوری ، حسن رضایی ، مژگان ، کاظم روشن ضمیر ، علی زندی ، محمود پیراسته ، رفیع مددکار ، منوچهر اخضرپور ، ناهید یوسفی ، اصغر سمسارزاده ، حسین ملکی ، علی وفادار|',\n",
              "  'نصرت اله کریمی ، فخری خوروش ، مهناز ، رضا کرم رضایی ، روح اله مفیدی ، نادیا ، کاظم روشن ضمیر ، پرویز مهرام ، قاضی ، درویشی ، اردوان مفید ، علی اکبر مهدوی فر ، نعمت اله گرجی|',\n",
              "  'بهمن مفید ، مرتضی عقیلی ، بهرام وطن پرست ، مرجان ، مهدی فخیم زاده ، نعمت اله گرجی ، احمد هاشمی|',\n",
              "  'فتح اله منوچهری ، تقی مختار ، فریبا مختار ، سارا|',\n",
              "  'پوری بنایی ، لی لی ، عادل روحی ، بهمنیار ، شمسی فضل الهی ، مینا ، محسن مهدوی ، محسن آراسته|',\n",
              "  'نعمت اله آغاسی آزموده ، سیمین غفاری ، طاووس ، محسن مهدوی ، جهانگیر فروهر ، حسین امیرفضلی ، صمد صباحی ، عشقی ، جلال رسولی ، کریم رسولی ، ذبیح اله ذبیح پور|',\n",
              "  'بهمن مفید ، فروزان ، فرنگیس فروهر ، پیمان ، عزت اله رمضانی فر ، ذبیح اله ذبیح پور ، لیلا بهاران ، احمد رزاقی ، میرمحمد تجدد|',\n",
              "  'شهروز رامتین ، حامده حامدی ، ژاله علو ، حسین گیل ، احمد قدکچیان ، محمد اسکندری ، فرنگیس فروهر ، محسن سهرابی ، سعید اویسی ، محمود تهرانی ، محسن قبادی ، مهری مهرنیا|',\n",
              "  'جونیت آرکین ، پوری بنایی ، محمود تاتار ، جهانگیر غفاری ، شاهین سلحشور ، گلنار ، فری جانسل|',\n",
              "  'نیلوفر ، سیدحسین حسینی ، آنوشاوان هاروتیونیان ، حمیده خیرآبادی ، حسین امیرفضلی ، محمد عبدی ، منوچهر ژیان ، ناصر کوره چیان ، یاسمین ، شهناز ، مریم ، کامران باختر ، فروغ ، حسین شهاب ، احمدزاده|',\n",
              "  'سعید راد ، وجستا ، جلال شهرزاد ، محسن آراسته ، حسن رضایی ، شمسی فضل الهی|',\n",
              "  'پرویز صیاد ، شهناز تهرانی ، نوری کسرایی ، فرخ لقا هوشمند ، عبدالعلی همایون ، رضا شفیع ، حسین امیرفضلی ، کاظم تهرانچی ، آپیک یوسفیان ، بهزاد ، فرخ غفاری ، جلال مقدم ، اسفندیار قره باغی ، غلام|',\n",
              "  'مرجان ، تیمار ، علی تابش ، محمد بانکی ، کهنمویی ، ابراهیم فخار|',\n",
              "  'سعید راد ، دلارام ، شهین ، سرور رجایی ، کلارا ، زانیچ ، اکبر خواجوی ، اکبر جنتی شیرازی ، حسن رضایی ، محمد عرب ، فرهاد حمیدی ، فریدون نریمان ، یدی ، علی میری|',\n",
              "  'رضا بیک ایمانوردی ، فروزان ، جونیت آرکین ، علی میری ، حبیب اله بلور ، مرسده کامیاب ، نادیا ، ابوالفضل میرزایی ، حامد ، نازلی ، سیامک اطلسی|',\n",
              "  'ملک مطیعی ، عباس ناظری نیک ، پوری بنایی ، منوچهر وثوق ، رفیع ، منوچهر پوراحمد ، یداله تاجیک|',\n",
              "  'ایلوش ، وجستا ، علی میری ، جمشید مهرداد ، ژاله علو ، رضا رخشانی ، حبیب اله بلور ، ساعت ساز ، افشین ، علی اکبر مهدوی فر ، شهناز ، حسین محسنی ، مهران صدری ، ابوالفضل میرزایی ، عباس معطر|',\n",
              "  'ایرج قادری ، کتایون ، محمدتقی کهنمویی ، محمود تهرانی ، محمد فرزین ، یداله شیراندامی ، چنگیز ، اسکویی ، گل پرور ، نجفی ، زهره ، کامران ، صمد|',\n",
              "  'پوری بنایی ، محمدرضا فاضلی ، علی میری ، محمدعلی بندانی ، عزت اله وثوق ، نازنین ، نرسی کرکیا ، سلیمه ، فرنگیس فروهر ، ریحانه ، محسن آراسته ، سیدامیر شجاع الدین ، محمود درودیان ، داداشی ، شیوا|',\n",
              "  'بهروز وثوقی ، نگار ، دیانا ، اکبر مشکین ، احمد معینی ، پرویز فنی زاده ، غلام ، یدی قاسمی ، شاپور رهنما|',\n",
              "  'تقی مختار ، توران مهرزاد ، دلارام ، داریوش اسدزاده ، منصور سپهرنیا ، فرنگیس فروهر ، عباس مهردادیان ، حسین ملکی ، عشقی ، کارمن|',\n",
              "  'عبداله بوتیمار ، لی لی ، سیمین علی زاده ، نرسی کرکیا ، شهناز ، مهدی زاده ، علی دهقان ، سام ، حسین شهاب ، حسین ملکی ، رضا حاجیان ، امیر هاشمی ، غلامرضا سرکوب ، مرتضی حاج سید احمدی|',\n",
              "  'ایرج رستمی ، شهین ، یدی ، ناتاشا ، رحیم روشنیان ، افروز روشنیان ، اکبر جنتی شیرازی ، ریحانه ، علی زاده ، افشین ذاکری ، حسین اشراق|',\n",
              "  'پوری بنایی ، منوچهر وثوق ، کامی کسروی ، غلامرضا سرکوب ، علی میری ، حسن رضیانی ، طاهره غفاری ، مرتضی حاج سید احمدی ، گیتی فروهر ، حسین شهاب ، جلال موسوی ، رضا حاجیان ، محمد نوروزی ، کریم قاجار|',\n",
              "  'تقی مختار ، مرجان ، آراماییس وارطان یوسفیانس ، حسن شاهین ، کامران باختر ، هنگامه ، رضا رخشانی ، مهری ودادیان ، محسن مهدوی|',\n",
              "  'تقی مختار ، شهین ، دلکش ، محمدتقی کهنمویی ، هایک هوسپیان ، لیلا فروهر ، یاسمین ، دیانا ، حسین ملکی ، مرتضی حدیقی ، علی دهقان ، حسین شهاب ، ذبیح اله ذبیح پور ، عباس منتجم شیرازی|',\n",
              "  'سعید راد ، حسن خیاط باشی ، حسن رضایی ، حسن رضیانی ، ابراهیم نادری ، محسن آراسته ، ایران قادری ، حمیده خیرآبادی ، پونه ، غلامرضا سرکوب ، حسین اشراق ، اکبر جنتی شیرازی ، حسین شهاب ، رضا حاجیان ، مجید فریدفر|',\n",
              "  'رضا بیک ایمانوردی ، فرشته جنابی ، داوود رشیدی ، ایران دفتری ، مهری ودادیان ، توکلی ، ملک ، زهره ، سهراب ، علی دهقان ، محمد فرزین ، تقی نژاد ، محمود تهرانی ، تورج ، سیدحمزه|',\n",
              "  'نصرت اله وحدت ، رضا ارحام صدر ، توران مهرزاد ، شراره ، مجید شهبازی ، صمد شیرازی ، مهدی قلی صفاپور ، خلیل طلایی ، حسن گلپایگانی ، مرتضی غیابی ، قلیچ چوگان ، رضا انوری زاده ، رامین وحیدی ، میترا نیک بخت ، مهران ارحام صدر|',\n",
              "  'ناصر ملک مطیعی ، بهمن مفید ، حسین گیل ، عزت اله رمضانی فر ، رویا جلالی ، احمد معینی ، فرنگیس فروهر ، سیمین علی زاده ، احمد رزاقی ، سیف اله پهلوان ، رضا بانکی|',\n",
              "  'ملک مطیعی ، مرجان ، شهروز ، رامتین ، امین امینی|',\n",
              "  'سعید راد ، مرجان ، سیمین غفاری ، گریگوری مارک ، سیامک اطلسی ، محمود تهرانی ، عزت اله وثوق ، گیتی فروهر ، ذبیح اله ذبیح پور ، جلال موسوی ، امیر ممتاز ، احمد نادری ، محمود بصیری ، عزت اله رمضانی فر|',\n",
              "  'فروزان ، تقی مختار ، منصور سپهرنیا ، علی میری ، حسن رضیانی ، عبداله بوتیمار ، حسن رضایی ، سیاوش شاکری ، عباس ناظری نیک ، گیتی فروهر ، اکبر جنتی شیرازی ، نظام الدین کیایی ، پروانه ، هنگامه ، فرشته|',\n",
              "  'منوچهر وثوق ، پوری بنایی ، مرتضی حاج سید احمدی ، محمدتقی کهنمویی ، صمد صباحی ، ایران دفتری ، اکبر جنتی شیرازی ، غلامرضا وفادار ، ناصر روشن روان ، حسین شهاب ، رضا حاجیان ، فریبا فروهر ، یوسف اسدی ، غلامرضا سرکوب ، فرنگیس فروهر|',\n",
              "  'منوچهر وثوق ، یداله شیراندامی ، لیدا دانشور ، سوزی یاشار ، محمدتقی کهنمویی ، عاکفه ، آنیک شفرازیان ، شجاع الدین مهرنگ ، هوشنگ سلیم ، سیدامیر شجاع الدین ، محمدرضا خسروی ، محمود تاتار ، غلامعلی زار ، حسن رضیانی|',\n",
              "  'رضا بیک ایمانوردی ، مرجان ، علی میری ، هایک هوسپیان ، جهانگیر فروهر ، فریبا فروهر ، فرخ لقا هوشمند ، شهناز تهرانی ، عبدی ، سامی تحصنی ، علی دهقان ، حسین ملکی ، علی اکبر مهدوی فر|',\n",
              "  'نصرت اله وحدت ، رضا ارحام صدر ، روتا پانز ، چت کارلین ، هرب دوال ، کانتن فلیتاس ، لی دویل ، کاتلین جویس ، سرور رجایی ، کلارا دخانی ، ژیلا مهاجرانی ، مجتبی شیردل|',\n",
              "  'پوری بنایی ، علی آزاد ، کتایون ، کاظم سالکی ، محسن مهدوی ، رحیم روشنیان ، احمد قدکچیان ، محسن آراسته ، حسن رضایی ، حسین شهاب ، علی دهقان ، عباس مهردادیان ، مرتضی حدیقی ، شهرام ، عسگری|',\n",
              "  'سپهرنیا ، محمد متوسلانی ، گرشا ، ژاله سام ، رضیانی ، ملیحه نصیری ، اسداله یکتا ، صمد صباحی|',\n",
              "  'همایون ، مرتضی عقیلی ، هاله ، بهرام وطن پرست ، آرام ، نادیا ، نعمت اله گرجی ، فریبا فروهر ، علی دهقان ، نریمان شیری فرد ، حسین شهاب ، رضا حاجیان ، ذبیح اله ذبیح پور ، جلال موسوی|',\n",
              "  'رضا ارحام صدر ، ایرن ، دیانا ، هوشنگ عدیلی ، اسکندر رفیعی ، خلیل غفاری ، اسماعیل خندان ، شورانگیز طباطبایی|',\n",
              "  'سیروس افهمی ، منوچهر طایقه ، لیدا دانشور ، حمیده خیرآبادی ، دلیله نمازی ، هنگامه ، نسترن ، ملیحه ، مایانی ، عباس افتخاری ، رحیم ، آرش ، زری ، کوروش ، سهیل|',\n",
              "  'تقی مختار ، سوسن سرمدی ، دلیله نمازی ، علی محزون ، محمود بهرامی ، مهری ودادیان ، اردشیر پهلوان ، افشین ، رفیع مددکار ، کیانی ، جمال ، جواد ، میرمحمد تجدد|',\n",
              "  'شهین ، کامیاب ، کسروی ، داریوش طلایی ، اکبر هاشمی ، رضوان ، مینا ، کارمن ، حسنقلی ، عدیله اشراق ، نرسی کرکیا ، محسن مهدوی ، حمید دلشکیب|',\n",
              "  'رضا بیک ایمانوردی ، جمیله ، حسین گیل ، ابراهیم نادری ، مرسده کامیاب ، گیتی فروهر ، مرتضی حدیقی ، میرمحمد تجدد ، عزت اله رمضانی فر ، رضا بانکی ، نریمان شیری فرد|',\n",
              "  'ایرج قادری ، پوری بنایی ، بهمن مفید ، علی میری ، مرسده کامیاب ، ایران قادری ، جهانگیر فروهر ، مارگریت حکیمی ، محمود تهرانی ، محسن آراسته ، صمد شیرازی ، گیتی فروهر ، ناهید ، زانیچ ، علی اکبر طوفان پناه|',\n",
              "  'رضا بیک ایمانوردی ، مرتضی عقیلی ، هاله نظری ، یداله شیراندامی ، فرشید فرزان ، فرنگیس فروهر ، توتیا ، حسین شهاب ، مرتضی حدیقی ، یوسف قربانی ، رضا حاجیان ، نعمت اله گرجی|',\n",
              "  'فروزان ، رضا ارحام صدر ، فرخ ساجدی ، علی میری ، مینو ، خندان ، اکبر جنتی شیرازی ، رحیمی ، اکبر ، حسن رضایی ، اکبر خواجوی ، کرمانشاهی ، نریمان شیری فرد ، گیتی فروهر ، رهبری|',\n",
              "  'رضا بیک ایمانوردی ، ژاله کریمی ، علی میری ، علی زندی ، محمود تهرانی ، گیتی فروهر ، مینو دولتشاهی ، رحمانی ، فتنه ، طاووس ، نجفی ، شهلا ریاحی ، عربیان ، یوسف جزایری|',\n",
              "  'زکریا هاشمی ، ایرن ، مرتضی عقیلی ، جلال پیشواییان ، محمدتقی کهنمویی ، رضا رخشانی ، هومن|',\n",
              "  'سعید راد ، نوری کسرایی ، عنایت بخشی ، شمسی فضل الهی ، مهری ودادیان ، محمد اسکندری ، حسن رضیانی ، پرویز مهرام ، میرمحمد تجدد ، میرزاده ، محمد فرزین ، حسن زارعی ، نریمان شیری فرد ، علی دهقان ، اسماعیل شیرازی|',\n",
              "  'سعید راد ، یداله شیراندامی ، نوری کسرایی ، حمیده خیرآبادی ، رحیم روشنیان ، رفیع مددکار ، فرهاد حمیدی ، علی بابا ، محمد فرزین ، شاهرخ منشوری ، منوچهر پولاد ، علی دهقان ، ناهید شیرازی|',\n",
              "  'محمدعلی فردین ، دلارام ، ملوسک ، جمشید مهرداد ، محسن مهدوی ، رضا رخشانی ، حسن رضایی ، منوچهر حامدی ، ذبیح اله ذبیح پور ، محمدی ، جلال موسوی ، علی اکبر گلپایگانی ، چنگیز ، فرحان ، بهنام|',\n",
              "  'علی تابش ، کتایون ، علی میری ، شهرآشوب ، داریوش اسدزاده ، مرتضی حاج سید احمدی ، بهمن زرین پور ، فریده بهرامی ، عباس ناظری نیک ، رضا رخک ، علی رجبی ، محمد نوروزی ، هوشنگ منصورخاکی|',\n",
              "  'ایلوش ، وجستا ، اردوان مفید ، کریستین پاترسن ، غلامحسین بهمنیار ، حبیب اله بلور ، رضا رخشانی ، جمشید مهرداد ، بهنام ، مریم ، ساسان ، زری ، کامران ، مینو ، آرش|',\n",
              "  'محمدرضا فاضلی ، شهناز تهرانی ، مرتضی عقیلی ، ماشین چیان ، جواد تقدسی ، فرنگیس فروهر ، احمد معینی ، رضا صفایی پور ، زارع ، جهانگیر بشارت ، ایرج ، داوود ، پرویز شکری ، آتش ، رضا ذوالفقاری|',\n",
              "  'رضا بیک ایمانوردی ، سیمین غفاری ، عزت اله رمضانی فر ، منوچهر والی زاده ، مهری ودادیان ، مرسده کامیاب ، فرشته فرزین ، منوچهر پوراحمد ، زانیچ ، علی اکبر مهدوی فر ، صمد شیرازی ، سهراب ، فرهاد محبت ، رضا حاجیان ، نجفی|',\n",
              "  'سعید راد ، داوود رشیدی ، ایرن ، سپیده ، محمود بصیری ، ایرج صفدری ، منوچهر احمدی|',\n",
              "  'سعید راد ، فخری خوروش ، محمدعلی کشاورز ، مستانه جزایری ، کاظم روشن ضمیر ، آذرگون ، هژیر وفادار ، لاله صدر|',\n",
              "  'نصرت اله وحدت ، ژاله کریمی ، پوری بنایی ، یداله شیراندامی ، علی میری ، داریوش اسدزاده ، علی زاهدی ، سایه ، ساغر ، فتوحی ، سرور رجایی ، حمیدرضا خسروی|',\n",
              "  'همایون ، فرهاد خوشبخت ، مستانه جزایری ، روح اله مفیدی ، مهری ودادیان ، ناهید ، حسین ملکی ، جلال موسوی ، غلامرضا سرکوب ، طاهره غفاری ، عبداله بوتیمار ، پوری بنایی ، رامش ، محمدرضا فاضلی ، فرشید فرزان|',\n",
              "  'رضا بیک ایمانوردی ، منوچهر وثوق ، افروز ، منوچهر پوراحمد ، حمیده خیرآبادی ، غلامحسین بهمنیار ، طاووس ، مهری ودادیان ، نعمت اله گرجی ، فرهاد حمیدی ، علی دهقان ، جلال موسوی ، مافی ، ذبیح اله ذبیح پور ، امیر|',\n",
              "  'ناصر ملک مطیعی ، نوش آفرین ، مرتضی عقیلی ، حسین گیل ، محمدتقی کهنمویی ، گیتی فروهر ، پریسا ، مستانه ، زکریا هاشمی ، علی دهقان ، شهرام ثمینی پور|',\n",
              "  'کامی کسروی ، ویکتوریا ، داریوش طلایی ، عدیله اشراق ، رستم خانی ، حسین اشراق ، نصیری ، ناصر ، اکبر هاشمی ، بهزاد ارد ، شهاب ، حبیب اله بلور ، نادر صغیری|',\n",
              "  'منوچهر وثوق ، حامده حامدی ، مرتضی عقیلی ، مهدی فخیم زاده ، کارمن اسکویی ، فرامرز صدیقی ، بهرام وطن پرست ، فریده ، پازوکی ، شکوفنده ، وژگانی ، ناصر ناظم ، جعفرزاده|',\n",
              "  'فرخ ساجدی ، نیلوفر ، شهروز رامتین ، خسرو گلستانی ، اردوان مفید ، گیتی فروهر ، محمد بانکی ، عشقی ، داریوش اسدزاده ، فرهاد یزدان ، سیمین غفاری ، محمد ورشوچی|',\n",
              "  'مرجان ، سعید راد ، جلال پیشواییان ، مرسده کامیاب ، ابراهیم نادری ، ناهید ، گیتی فروهر ، فریدون ریاحی|',\n",
              "  'یداله شیراندامی ، مرسده کامیاب ، فرهنگ معتمد ، پروین سیرتی ، روح اله پاک نیت ، فیروزه ، محمد ایروانی ، فارسی ، پریدخت اقبالپور ، محمد سیف الهی ، حسن رفیعی|',\n",
              "  'ناصر ملک مطیعی ، مرجان ، حسین گیل ، گرشا رئوفی ، علی میری ، احمد قدکچیان ، شراره ، علی دهقان ، شهلا ریاحی ، حسن شاهین ، فرهاد خان محمدی|',\n",
              "  'فیروز ، علی آزاد ، پیمان ، حامده حامدی ، احمد معینی ، شهناز ، ملیحه نیکجومند ، شهرآشوب ، ساغر ، محمد گیلانی ، هنگامه ، انصاری ، سیروس ، ایرج کیوان ، داریوش داداش پور|',\n",
              "  'پروانه معصومی ، سینا سوزنی ، سهیل سوزنی ، محمد مغیلان ، ناصر آقایی ، بهرام کیانی ، محمد کلاهدوز ، فردوس کاویانی ، جمشید لایق ، مجید مظفری ، زهره اصلان پور ، محمد سادات ابهری ، مهدی منتظر ، منوچهر جهانگیری ، حسین فرود|',\n",
              "  'ناصر ملک مطیعی ، سپیده ، جمشید مهرداد ، محسن مهدوی ، مارگریت حکیمی ، رضا رخشانی ، کامران باختر ، جلال موسوی ، حسین محسنی ، زانیچ ، محمدولی احمدلو ، روبرت ، پروین ، نوبهار ، اکبری|',\n",
              "  'نیلوفر ، فرامرز حمیدی ، جهانگیر غفاری ، ابراهیم فخار ، اسداله یکتا ، دلیله نمازی ، محسن آراسته ، حسن رضایی ، کامران باختر ، حسین شهاب ، رضا بنی احمد ، مسعود سراج ، عباس حق بین ، سحر ، لاله|',\n",
              "  'منوچهر وثوق ، مرتضی عقیلی ، لیدا دانشور ، عبداله بوتیمار ، سیمین علی زاده ، حسین ملکی ، کامران باختر ، کارمن ، مهری ودادیان ، عیوض زاده ، انصاری ، رضی ، کبودوند ، چایچی ، نعمت اله گرجی|',\n",
              "  'پیمان ، هاله نظری ، علی میری ، پروین ملکوتی ، غلامحسین بهمنیار ، اسداله یکتا ، ناهید ضیایی ، ملیحه نصیری ، محمد غفاری ، اونیک ، حسن رضیانی ، هوشنگ سلیم ، سیدامیر شجاع الدین|',\n",
              "  'مسعود اسدالهی ، رضا کرم رضایی ، شهناز تهرانی ، داریوش اسدزاده ، نعمت اله گرجی ، محمد ورشوچی ، صمد صباحی ، مستانه ، رضا بنی احمد ، رضا عارفان ، اشرف کاشانی ، گیتی فروهر ، پروین امیری ، مهری مهرنیا ، علی زاهدی|',\n",
              "  'نصرت اله کریمی ، پوری بنایی ، توران مهرزاد ، نگار ، شمسی فضل الهی ، سرور رجایی ، روح اله مفیدی ، نوربهشت ، نجیبی ، شهبازی ، میرمحمد تجدد|',\n",
              "  'جمیله ، بهمن مفید ، مرتضی عقیلی ، حسین گیل ، جهانگیر فروهر ، نعمت اله گرجی ، گیتی فروهر ، علی رجبی ، رضا جوکار|',\n",
              "  'جونیت آرکین ، پوری بنایی ، نبات چهره ، نوش آفرین ، عبدالرحمان ، همایون|',\n",
              "  'مرتضی عقیلی ، پوری بنایی ، کارول وایدر ، منصور سپهرنیا ، نرسی کرکیا ، سیمین غفاری ، داریوش اسدزاده ، حسن رضایی ، محسن آراسته ، آنیتا ، محرم بسیم ، کریم قاجار ، علی اکبر گلپایگانی ، فریدون سپهرنیا ، فریبرز سپهرنیا|',\n",
              "  'عارف ، مرجان ، پرویز فنی زاده ، جمشید مهرداد ، پرستو ، نریمان شیری فرد ، عبدالعلی همایون ، علی زاهدی ، هوشنگ بهشتی ، شهناز ، افشین ، مهران صدری|',\n",
              "  'محمدعلی فردین ، رضا بیک ایمانوردی ، ملوسک ، علی میری ، سیمین علی زاده ، محمدتقی کهنمویی ، واهان آقامالیان ، فهیمه ، حمیده خیرآبادی ، رضا عبدی ، گیتی فروهر ، علی آزاد ، پریسا|',\n",
              "  'کامی کسروی ، یداله شیراندامی ، امراله صابری ، نوش آفرین ، ملیحه نصیری ، گیتی فروهر ، سامی تحصنی ، وحیده ، محمدعلی کشاورز ، جواد طاهری|',\n",
              "  'عزت اله انتظامی ، فرشته جنابی ، خسرو شجاع زاده ، رضا بنی احمد ، سیروس حسن پور ، مهین شهابی|',\n",
              "  'رضا بیک ایمانوردی ، جمیله ، علی اکبر مهدوی فر ، رحیم روشنیان ، کاظم روشن ضمیر ، محمد عبدی ، ناهید ، اشرف ، فرهاد خوشبخت ، علی میری ، صمد شیرازی ، اکبر اصفهانی ، احمد معینی ، علی بابا|',\n",
              "  'نصرت اله وحدت ، رضا ارحام صدر ، ژاله کریمی ، داریوش اسدزاده ، توتیا ، مهران صدری ، ایران شمس ، مهدی قلی صفاپور ، مجید شهباز ، شهره ریاستی ، فرشته ، بختیاری ، فتوحی ، سرور رجایی|',\n",
              "  'بهمن مفید ، تقی مختار ، مرجان ، فرشته جنابی ، منوچهر احمدی ، ژاله علو ، محمد اسکندری ، علی زندی ، مهری ودادیان ، میرمحمد تجدد ، حسن زندی ، خسرو گلستانی ، فریدون ، کامران باختر ، فرهنگ|',\n",
              "  'رضا بیک ایمانوردی ، شهناز تهرانی ، فرخ ساجدی ، کریستین پاترسن ، همایون اشکان ، رضا رخشانی ، ناصر گیتی جاه ، غلام ، علی زاهدی ، حسن رضایی ، کامبیز ، ساسان ، محمد عبدی ، محمدولی احمدلو|',\n",
              "  'بهروز وثوقی ، آرام ، جعفر والی ، شمسی فضل الهی ، جلال پیشواییان ، ذبیح اله ذبیح پور ، نریمان شیری فرد ، میرمحمد تجدد ، بهزاد فراهانی ، عباس ناظری نیک ، یدی|',\n",
              "  'فیروز ، هاله ، عبداله بوتیمار ، علی آزاد ، غلامرضا سرکوب ، سوزی یاشار ، محمد بانکی ، رضا کریمی ، سناجیان ، فریده ، روشن ، روحی ، حجت ، قباد ، پولاد|',\n",
              "  'محمدرضا فاضلی ، رکسانا ، ساقی ، ترانه ، کمال ایرانی ، پاشا ، ظهور ، انصاری ، نیکو ، شاهین ، هادی ، سعید ، افضل ، حمید ، نورخان|',\n",
              "  'ایرج قادری ، جمیله ، علی میری ، بهمن مفید ، جهانگیر فروهر ، شهناز ، فریبا فروهر ، امیر شاهرخشاهی ، ملک خانم ، ذبیح اله ذبیح پور ، فولاد ، عباسی|',\n",
              "  'منوچهر وثوق ، بهمن مفید ، هاله نظری ، مرتضی عقیلی ، طاهره غفاری ، سیامک اطلسی ، محمد عبدی ، محمد خرمی ، برادران خرمی ، پریش ، کارمن ، محمد مجتبی ، اشرف کهن ، ذبیح اله ذبیح پور ، حسین شهاب|',\n",
              "  'محمدرضا فاضلی ، یداله شیراندامی ، پریچهر پاکان ، شهروز رامتین ، پروین ملکوتی ، نعمت اله گرجی ، فرهاد حمیدی ، علی دهقان ، حسن محمدی ، ایران قادری ، اکبر اصفهانی|',\n",
              "  'بهمن مفید ، کتایون ، گیتی فروهر ، لی لی ، شهروز رامتین ، محمد نوروزی ، مرسده کامیاب ، علی اکبر گلپایگانی ، رضا صفایی|',\n",
              "  'منوچهر وثوق ، شهناز تهرانی ، محمدرضا فاضلی ، احمد معینی ، ایران قادری ، معصومه تقی پور ، بهزاد رحیم خانی ، هادی طاهری ، رحیم متین ، علی ترابی ، علی طراول ، پریچهر پاکان|',\n",
              "  'ناصر ملک مطیعی ، فروزان ، منوچهر وثوق ، شهناز ، علی بابا ، نوبهار ، علی دهقان ، فرهاد خوشبخت ، اکبر صادقی ، احمد معینی ، سرور رجایی ، ماشین چیان ، رحیم روشنیان|',\n",
              "  'ایرج قادری ، ملوسک ، مرتضی عقیلی ، جلال پیشواییان ، پریسا ، یوسف رجبی ، گیتی فروهر ، حسین شهاب ، علی اکبر مهدوی فر ، رضا حاجیان ، بهمن مفید|',\n",
              "  'محمد زمانی ، آنه محمد تاریخی ، حبیب اله سفریان ، هدایت اله نوید ، مجید بقایی ، حسین قلی بیدگلی ، نورمحمد گوگلانی ، فریدون خوزینی ، محمد خوزینی ، صفر توماج ، محمود ارسطو ، ارازمحمد خواجه ، عبدالحمید زیانی ، بهرام عیسگلدی ، محمد قربانی|',\n",
              "  'محمدرضا فاضلی ، شهناز تهرانی ، نوش آفرین ، یداله شیراندامی ، منصور سپهرنیا ، حمیده خیرآبادی ، احمد معینی ، فرهاد حمیدی ، رفیع مددکار ، علی دهقان ، عباس مهردادیان ، هنگامه ، طاهره غفاری ، نجیبی ، طاووس|',\n",
              "  'رضا بیک ایمانوردی ، شورانگیز طباطبایی ، علی میری ، نادیا ، دیانا ، جواد تقدسی ، سحر ، علی اکبر مهدوی فر ، سیدمحمد موسوی ، محمد گیلانی ، ناهید علایی ، امیر کاظمی|',\n",
              "  'ناصر ملک مطیعی ، آرام ، حسین گیل ، طاهره غفاری ، نرسی کرکیا ، محمود تهرانی ، گیتی فروهر ، یداله تاجیک ، ذبیح اله ذبیح پور ، نریمان شیری فرد ، نصیری ، عباس مختاری ، بهرام وطن پرست ، فرهاد خان محمدی|',\n",
              "  'رضا بیک ایمانوردی ، منوچهر وثوق ، نوش آفرین ، شهناز ، امیرحسین خان شهری ، فرهاد حمیدی ، علی اکبر مهدوی فر ، نعمت اله گرجی ، اشرف کهن ، سیمین ، ملیحه نصیری ، پروانه ، اکبر اصفهانی ، حسین صفاریان ، ذبیح اله ذبیح پور|',\n",
              "  'ناصر ملک مطیعی ، شورانگیز طباطبایی ، مرتضی عقیلی ، حمیده خیرآبادی ، رکسانا ، منوچهر حامدی ، حسن رضایی ، طاووس ، فرخ لقا هوشمند ، حسین واثقی ، انوشیروان روحانی ، نظام فاطمی|',\n",
              "  'رضا بیک ایمانوردی ، منوچهر وثوق ، شورانگیز طباطبایی ، علی میری ، شهرام ثمینی پور ، رضا رخشانی ، علی اکبر طوفان پناه ، پرورش ، میرزاده ، نریمان شیری فرد ، ذبیح اله ذبیح پور ، رضا حاجیان ، وحید ، صغیری ، شاکری|',\n",
              "  'عارف ، آرام ، علی میری ، اصغر سمسارزاده ، رضا شفیع ، شروین ، مژگان ، حمیده خیرآبادی ، مهری ودادیان ، شادی ، درویش ، رضا رخشانی ، رضا آقاجانی ، جمشید مهرداد|',\n",
              "  'نعمت اله آغاسی آزموده ، هاله ، حسین گیل ، طاهره غفاری ، داداشی ، محمدتقی کهنمویی ، مهری ودادیان ، امینی ، کریم قاجار ، محمد مردانی ، فاضل ، علی بابا ، محمود|',\n",
              "  'منوچهر وثوق ، شهناز تهرانی ، فرخ ساجدی ، علی میری ، احمد معینی ، نادیا ، حسین شهاب ، نوش آفرین ، ذبیح اله ذبیح پور ، اکبر ایمانی ، مقدم ، فرهاد حمیدی ، مهدی قلی صفاپور ، مینو دولتشاهی ، مهران|',\n",
              "  'ناصر ملک مطیعی ، ایرج قادری ، آرام ، منیژه ، گیتی بهشتی ، فرهاد خوشبخت ، ابوالفضل میرزایی ، نریمان شیری فرد ، حسین شهاب ، ایرج فرح بخش ، رفیع مددکار ، محمد ریاحی ، ذبیح اله ذبیح پور ، مجید مظفری|',\n",
              "  'بهمن مفید ، منوچهر وثوق ، هاله ، مرتضی عقیلی ، شهرآشوب ، پریسا ، حمیده خیرآبادی ، مهری ودادیان ، اشرف کهن ، نعمت اله گرجی ، رضا بانکی ، رضا رخک ، اکرم ، بهرامی ، ابراهیم اصفهانی|',\n",
              "  'محمدعلی فردین ، مرجان ، زکریا هاشمی ، علی میری ، علی آزاد ، علیرضا قوامی ، احمد رزاقی ، قدیر افشانی ، خاوش ، اسماعیل نوبخت ، ذبیح اله ذبیح پور|',\n",
              "  'رضا ارحام صدر ، بهمن مفید ، شهناز تهرانی ، مستانه جزایری ، علی زاهدی ، عزت اله رمضانی فر ، پروین سلیمانی ، رضا رخشانی ، محمود تهرانی ، ملیحه نصیری ، اسماعیل شیرازی ، الهام ، سودابه ، محمد نوروزی ، صمد شیرازی|',\n",
              "  'بهمن مفید ، شهناز تهرانی ، علی میری ، عزت اله رمضانی فر ، داریوش اسدزاده ، طاهره غفاری ، علی زاهدی ، رضا رخشانی ، کریم قاجار ، حسین شهاب ، شیوا ، آذر ، علی اکبر گلپایگانی ، رضا رخک ، علی رضا|',\n",
              "  'سعید راد ، کارمن اسکویی ، محسن سهرابی ، منوچهر احمدی ، میرمحمد تجدد ، شورانگیز طباطبایی ، عزت اله رمضانی فر ، اکبر جنتی شیرازی ، اسماعیل شیرازی ، محمود بصیری|',\n",
              "  'چنگیز وثوقی ، سپیده ، آرام ، یداله شیراندامی ، اصغر سمسارزاده ، دیانا ، مهری ودادیان ، شروین ، مهران صدری ، سحر ، جمشید مهرداد ، رضا رخشانی ، حسن رضایی|',\n",
              "  'منوچهر وثوق ، هاله ، پرستو ، یداله شیراندامی ، علی میری ، علی اکبر طوفان پناه ، اویسی ، محمد ورشوچی ، اکبر اصفهانی ، علی دهقان ، حسین شهاب ، یکتا ، نریمان شیری فرد ، فرهاد خوشبخت ، مریم صفا|',\n",
              "  'منوچهر وثوق ، شورانگیز طباطبایی ، شهرام ثمینی پور ، روح اله مفیدی ، محسن مهدوی ، شهناز ، ساغر ، جواد تقدسی ، داریوش اسدزاده ، قاسم مرادی|',\n",
              "  'محمدعلی فردین ، مرجان ، مرتضی عقیلی ، طاهره غفاری ، بهرام وطن پرست ، مهدی قلی صفاپور ، حسین ملکی ، مختار ، حسین صفاریان ، محرم بسیم|',\n",
              "  'ناصر ملک مطیعی ، فرامرز قریبیان ، فرزانه تأییدی ، پروین سلیمانی ، فرهاد حمیدی ، ساغر ، نریمان شیری فرد ، اسماعیل شیرازی ، حمیده خیرآبادی ، فرهاد ، فرهاد خان محمدی ، حسین گیل ، فرهاد خوشبخت ، علی اکبر گلپایگانی ، رفیع مددکار|',\n",
              "  'رضا بیک ایمانوردی ، جمیله ، علی میری ، حمیده خیرآبادی ، زهره ، کارمن ، نعمت اله پیشواییان ، عباس مختاری ، سیامک اطلسی ، اکبر خواجوی ، علی بشارت ، بصیری ، اکبر اصفهانی ، داوود مولایی ، ناصر رهبری|',\n",
              "  'نصرت اله وحدت ، ژاله کریمی ، علی زاهدی ، حمیده خیرآبادی ، جعفرپور ، کاظم روشن ضمیر ، دامی ، هما ، هومن ، صالحی ، شیوا ، عزت اله رمضانی فر ، منوچهر پوراحمد ، هوشنگ بهشتی ، منوچهر اخضرپور|',\n",
              "  'سعید راد ، ملوسک ، شورانگیز طباطبایی ، منوچهر حامدی ، زکریا هاشمی ، توران مهرزاد ، شهناز ، محمدتقی کهنمویی ، پروین سلیمانی ، عبدی ، نوبهار ، منیژه ، یوسف رجبی ، رضا بانکی ، ایرج صفدری|',\n",
              "  'عبداله بوتیمار ، نیلوفر ، منوچهر طایفه ، سهیلا ، هومن هادیان ، اصغر سمسارزاده ، ابراهیم فخار ، اسداله یکتا ، علی میری ، حسن رضایی ، فرهاد حمیدی ، قبادی ، رضا عارفان ، یداله شیراندامی ، یدی|',\n",
              "  'رضا بیک ایمانوردی ، مرتضی عقیلی ، شهناز تهرانی ، افروز ، علی آزاد ، سیامک اطلسی ، سعید کامیار ، عباس حکمت آرا ، شادی ، نعمت اله گرجی ، حسین شهاب ، پولاد ، رضا حاجیان ، امیر ، مافی|',\n",
              "  'منوچهر وثوق ، پوری بنایی ، علی میری ، نرسی کرکیا ، علی زاهدی ، ساغر ، اکبر جنتی شیرازی ، اسماعیل شیرازی ، محمود تهرانی ، علی اکبر طوفان پناه ، چنگیز ، اسکویی ، نواب ، سرمه|',\n",
              "  'منوچهر وثوق ، فریبا خاتمی ، علی میری ، سحر ، حمیده خیرآبادی ، شهرام ثمینی پور ، رضا رخشانی ، ایزدی ، حبیبی ، یداله تاجیک ، رفیع مددکار ، ذبیح اله ذبیح پور ، نریمان شیری فرد ، علی اکبر طوفان پناه ، خالدی|',\n",
              "  'محمدرضا فاضلی ، منصور سپهرنیا ، مستانه جزایری ، نوش آفرین ، شهرآشوب ، غلامحسین بهمنیار ، حسن رضایی ، منوچهر اخضرپور ، نعمت اله گرجی ، علی زاهدی ، گیتی بهشتی ، شهلا یوسفی ، بهزاد غفاری ، بلبل دانایی ، رضا شفیع|',\n",
              "  'پرویز کاردان ، نگار ، اصغر سمسارزاده ، روح اله مفیدی ، عبدالصمد صمدی ، مینو ، غلامحسین بهمنیار ، سرور امجدی ، ناصر گیتی جاه ، یدی ، حسین درویشی ، آتوسا پناهی ، ناهید فیضی ، معصومه تقی پور ، فرشته|',\n",
              "  'سعید راد ، شورانگیز طباطبایی ، آراماییس وارطان یوسفیانس ، رفیع حالتی ، آتوسا پناهی ، منوچهر اخضرپور ، منوچهر مصیری ، هوشنگ عدیلی ، فیلسوف ، فاضل ، رفیع مددکار ، حسین شهاب ، حسین صفاریان ، جلال پیشواییان ، کامران بانکی|',\n",
              "  'شورانگیز طباطبایی ، امیرفخرالدین شیرازی ، علی میری ، روح اله مفیدی ، رضا رخشانی ، دیانا ، داریوش اسدزاده ، علی زاهدی ، شادی ، مهری ودادیان ، محمد بانکی ، جمشید مهرداد|',\n",
              "  'ایرج قادری ، آرام ، بهزاد جوانبخش ، هوشنگ منصورخاکی ، فریده بیات ، خشایار ، کامران باختر ، فرشته کامکار ، چنگیز ، حسین ملکی ، معتمد ، یوسف خلیل پور ، طوماس ، کامبیز آزاد ، آرامش|',\n",
              "  'منوچهر وثوق ، سپیده ، مرتضی عقیلی ، بیژن تهرانچی ، پرویز شاهین خو ، ساغر ، فرشته حیدری ، اسکندر تقی زاده ، محمود قانع ، نوروزی ، نریمان شیری فرد ، رحمانی ، صراف ، پوررضوی|',\n",
              "  'مسعود زندبگله ، حسن دارابی ، مصطفی طاری ، حسن عرب ، آتش جامه ، گودرزی ، خانجانی ، بیات ، جعفری ، کیانیان ، دانش ، غیاث ، خوشدل ، مسعود چوبین|',\n",
              "  'سعید راد ، پرویز صیاد ، نوری کسرایی ، جهانگیر فروهر ، محمود بهرامی ، علیرضا قوامی ، عنایت بخشی ، سیدجلال طباطبایی|',\n",
              "  'محمدرضا فاضلی ، منصور سپهرنیا ، هاله ، علی آزاد ، افشین ذوالفقاری ، حسن رضایی ، حمیده خیرآبادی ، رفیع مددکار ، علی دهقان ، مهران ، اکبر اصفهانی ، ذبیح اله ذبیح پور ، صفر یکتا ، منصور اسدی ، علی شیوا|',\n",
              "  'مرجان ، منوچهر وثوق ، مرتضی عقیلی ، احمد معینی ، زهره ، منیژه ، تورج پژوهان ، رضوی ، اسکندر حسن پور ، دسترنج ، شهرام ثمینی پور ، رضا ذوالفقاری ، جهانگیر فروهر|',\n",
              "  'بهروز به نژاد ، سپیده ، منوچهر پوراحمد ، فریده بیات ، ملیحه نصیری ، شهناز ، ذبیح اله ذبیح پور ، مهران ، مشهدی رضا ، مصطفی پروانه ، رضا خزاعی|',\n",
              "  'محمد دلجو ، داریوش اقبالی ، آیلین ویگن ، جلال پیشواییان ، داریوش آریا ، آراماییس وارطان یوسفیانس ، آرش ، نیکو ، فیروز نهاوندی ، حسین صفاریان ، سیف ، قمشه ای ، عباس مختاری ، فرمان ، خالدی|',\n",
              "  'رضا بیک ایمانوردی ، آرام ، حسین گیل ، طاهره غفاری ، احمد معینی ، نادیا ، جواد تقدسی ، پروین سلیمانی ، نریمان شیری فرد ، علی شعاعی ، جواد روشنایی ، عباس مختاری ، مهدی فخیم زاده|',\n",
              "  'منوچهر وثوق ، آرام ، یداله شیراندامی ، جلال پیشواییان ، ثریا حکمت ، نعمت اله گرجی ، آتوسا ، گیتی فروهر ، حسین صفاریان ، اکبر اصفهانی ، فاضل ، فلاحی|',\n",
              "  'ناصر ملک مطیعی ، فریبا خاتمی ، علی میری ، حسین ملاقاسمی ، رحیم روشنیان ، فرهاد خوشبخت ، کاظم روشن ضمیر ، نیری ، شهناز ، علی بابا ، حسن باقری ، منصور اصفهانی|',\n",
              "  'رضا بیک ایمانوردی ، بنفشه بهاره ، جلال پیشواییان ، حسن رضیانی ، عزت اله رمضانی فر ، آذر کریمی ، محمود پیراسته ، اکبر اصفهانی ، حسن محمدی ، ابوالفضل میرزایی ، غلامرضا سرکوب ، روشنک صدر|',\n",
              "  'بهزاد جوانبخش ، سپیده ، لیلا فروهر ، ایرن ، عبداله بوتیمار ، هوشنگ منصورخاکی ، خشایار ، عباس ناظری نیک ، چنگیز ، معتمد ، جلالی ، شیرین ، آرش ، وارطان توماس ، ژانت وسکانیان|',\n",
              "  'مسعود اسدالهی ، همایون ، ایرن ، آرام ، رضا کرم رضایی ، محسن مهدوی ، نعمت اله گرجی ، توکلی ، اکبر جنتی شیرازی ، رحیم روشنیان ، آمنه ، کریم نشاط ، مجید ، اردشیر پهلوان|',\n",
              "  'پرویز فنی زاده ، پروین سلیمانی ، فرشید فرشود ، ناصر نصیری ، نوین قیاسی|',\n",
              "  'ناصر ملک مطیعی ، شورانگیز طباطبایی ، فرخ ساجدی ، مرتضی عقیلی ، سیمین غفاری ، حمیده خیرآبادی ، منوچهر حامدی ، علیرضا قوامی ، علی اکبر مهدوی فر ، علی زاهدی ، پروین مهذب ، حسن رضایی ، قدرت قربانی ، میرزاده ، نریمان شیری فرد|',\n",
              "  'ایرج قادری ، آرام ، حمیده خیرآبادی ، مهدی فخیم زاده ، پروین سلیمانی ، علی آزاد ، محمود تهرانی ، سرمه ، ساغر ، کاظم افرندنیا ، نریمان شیری فرد ، هوشنگ حمزه ای ، ذبیح اله ذبیح پور ، رفیع مددکار ، شیرازی|',\n",
              "  'محمدعلی فردین ، شورانگیز طباطبایی ، یداله شیراندامی ، حمیده خیرآبادی ، نعمت اله گرجی ، قبادی ، شادی آفرین ، انصاری ، رفیع مددکار ، رهبانی ، رضا هوشمند ، افروز ، زکریا هاشمی|',\n",
              "  'منوچهر وثوق ، آرام ، حسن رضیانی ، پروین سلیمانی ، داریوش اسدزاده ، اسماعیل شیرازی ، علی میری ، رضا رخک ، هوشنگ حمزه ای|',\n",
              "  'رضا بیک ایمانوردی ، نوری کسرایی ، علی میری ، گیتی فروهر ، سیمین غفاری ، اسماعیل شیرازی ، اکبر جنتی شیرازی ، اکبر اصفهانی ، شادی آفرین ، صمد ، جواد روشنایی ، میترا ، رویا ، علی اکبر طوفان پناه ، فرشته برزین|',\n",
              "  'چنگیز وثوقی ، شورانگیز طباطبایی ، جمشید مهرداد ، رضا کبیریان ، هنگامه ، رضا صفایی پور ، رفیع مددکار ، فرهاد خوشبخت ، شهرام ثمینی پور|',\n",
              "  'رضا بیک ایمانوردی ، سپیده ، پرستو ، گرشا رئوفی ، احمد قدکچیان ، نعمت اله گرجی ، محمد ورشوچی ، مهران ، مسعود چم آسمانی ، نریمان شیری فرد ، رضا غیاثی ، محمد عطایی ، نصرت دستمردی|',\n",
              "  'نصرت اله کریمی ، مرتضی حاج سید احمدی ، شهلا ریاحی ، ژاله سام ، محمد کلاهدوزان ، شری ، شیوا ، زانیچ ، دانایی ، مارکاریان ، رفیع حالتی ، محمد ورشوچی ، صالحی ، شهیار قنبری ، محسن مهدوی|',\n",
              "  'فروزان ، مرتضی عقیلی ، شهرام ثمینی پور ، بهرام وطن پرست ، نعمت اله گرجی ، سوزان ، رحیم روشنیان|',\n",
              "  'پیمان ، سیمین غفاری ، جمشید مهرداد ، حسن رضیانی ، محمود تهرانی ، علی زاهدی ، علی اکبر مهدوی فر ، حسین ملکی ، محمد حقدل ، سوزان ، کشاورز ، فهیمه سپهر ، خشایار|',\n",
              "  'سعید راد ، فریبا خاتمی ، آراماییس وارطان یوسفیانس ، بهرام وطن پرست ، ساقی ، منیژه ، رفیع مددکار ، فرهاد حمیدی ، رضا حاجیان ، علی سادات ، ستار اورا ، قدرت اله احسانی|',\n",
              "  'پیمان ، آرام ، حسن رضیانی ، محمدتقی کهنمویی ، نادیا ، شهرآشوب ، محمود تهرانی ، خشایار ، ترانه ، ساغر ، محمد نوروزی ، زانیچ ، الهیاری ، چنگیز ، حسن زاده|',\n",
              "  'منوچهر وثوق ، آرام ، علی میری ، کامی کسروی ، محمدتقی کهنمویی ، شادی آفرین ، آتش ، احمد دولت آبادی ، نرسی کرکیا ، حسین شهاب ، ذبیح اله ذبیح پور ، علی دهقان ، رضا حاجیان ، محمود تاتار ، پرویز صیاد|',\n",
              "  'منوچهر وثوق ، شورانگیز طباطبایی ، بهمن مفید ، علی اکبر مهدوی فر ، روح اله مفیدی ، شهناز ، فرید فرهادپور ، ارن ترود ، مرشدی ، فاضل ، علی دهقان ، حسین صفاریان ، علی آزاد ، مهدی ، اکبر اصفهانی|',\n",
              "  'رضا بیک ایمانوردی ، مرجان ، منوچهر وثوق ، جمشید مهرداد ، عبداله بوتیمار ، علی اکبر مهدوی فر ، کریم قاجار ، نریمان شیری فرد|',\n",
              "  'منوچهر وثوق ، هاله ، علی میری ، سالومه ، اکبر جنتی شیرازی ، محمود تهرانی ، خشایار ، نریمان شیری فرد ، علی آزاد ، هما بختیار ، احمد معینی|',\n",
              "  'رضا بیک ایمانوردی ، شورانگیز طباطبایی ، شهرام ثمینی پور ، میرزاده ، منوچهر حامدی ، محمدولی احمدلو ، بهرامی ، لاله ، امیری|',\n",
              "  'منوچهر احمدی ، منوچهر فرید ، جمشید مشایخی ، جمشید گرگین ، مریم زندی ، ژاله علو ، سعید امیرسلیمانی ، ایرج صفدری ، آراز ، نگار|',\n",
              "  'ناصر ملک مطیعی ، ژاله کریمی ، علی زندی ، هایک هوسپیان ، محمود تهرانی ، اسماعیل شیرازی ، گیتی فروهر ، کریم قاجار ، اکبر جنتی شیرازی ، علی اکبر طوفان پناه ، رضا غیاثی ، فرامرز محمودی ، شاپور ، مقدم ، فرید فرهادپور|',\n",
              "  'ایرج قادری ، گلی زنگنه ، امین امینی ، بهمن مفید ، پروین سلیمانی ، ناصر علی زاده ، منوچهر خیرخواه ، داداشی ، اصغر بیچاره ، رامین ، رفیع مددکار ، ذبیح اله ذبیح پور ، شهاب مقدم ، هوشنگ حمزه ای ، علی اکبر طوفان پناه|',\n",
              "  'بهمن مفید ، محمدرضا فاضلی ، شهناز تهرانی ، فرهاد حمیدی ، احمد معینی ، یوسف خلیل پور ، سحرناز ، منصور سپهرنیا ، محمود تهرانی ، فرهاد خوشبخت ، پریدخت اقبالپور ، پروین ، زهره ، شهرام ثمینی پور|',\n",
              "  'منوچهر طایفه ، نوش آفرین ، حسن رضیانی ، یداله شیراندامی ، رضا رخشانی ، مرتضی حاج سید احمدی ، شهناز ، اسداله یکتا ، ملیحه نصیری ، فریده بهرامی ، هدی بلغاری ، احمد مایانی ، علی ترابی ، قدیر ، کریم|',\n",
              "  'محمدعلی فردین ، رضا بیک ایمانوردی ، فروزان ، جمشید مهرداد ، گرگین راجرز ، رضا عبدی ، طناز ، محمود پیراسته ، محمد ورشوچی|',\n",
              "  'رضا بیک ایمانوردی ، نوری کسرایی ، علی میری ، شهناز ، احمد معینی ، فرشته ، اشرف کهن ، شادی ، زانیچ ، اکبر اصفهانی ، عباس مختاری ، علی دهقان ، فرهاد خوشبخت ، حسین شهاب ، ذبیح اله ذبیح پور|',\n",
              "  'سعید راد ، بهمن مفید ، سپیده ، مهدی فخیم زاده ، پروین سلیمانی ، طاهره غفاری ، نرسی کرکیا ، عباس ناظری نیک ، اکبر اصفهانی ، نریمان شیری فرد ، رضا حاجیان ، صفر یکتا ، کاوه ، فرید فرهادپور ، غلام|',\n",
              "  'منوچهر وثوق ، طوطی سلیمی ، حسین گیل ، نادیا ، احمد معینی ، محمدتقی کهنمویی ، ملیحه نصیری ، رضا حاجیان ، ذبیح اله ذبیح پور ، یدی ، عباس مختاری ، حسین شهاب ، رضا ذوالفقاری|',\n",
              "  'دینامیک ، داریوش معینی ، شهرام ثمینی پور ، فریده بیات ، محمد بانکی ، علیرضا قوامی ، شادی ، مطلق ، فیروزی ، علی میری|',\n",
              "  'بهمن مفید ، هاله ، مهدی فخیم زاده ، حسین گیل ، احمد معینی ، هدی ، داداشی ، محمود ، مصطفی ، چنگیزی ، شهرام ثمینی پور|',\n",
              "  'مرتضی عقیلی ، شهناز تهرانی ، تورج پژوهان ، طوطی سلیمی ، دیانا ، پروین سلیمانی ، گیتی فروهر ، عباس ناظری نیک ، محمدتقی کهنمویی ، رضا بیک ایمانوردی ، نعمت اله گرجی ، احمد قدکچیان ، ژوستن ، استونی|',\n",
              "  'رضا بیک ایمانوردی ، ملوسک ، سیروس افهمی ، طوطی سلیمی ، علی میری ، حسین معلومی ، ملیحه نصیری ، علی زاهدی ، اکبر اصفهانی ، محمد گیلانی ، حسین تهرانی ، محمد بانکی ، یداله تاجیک|',\n",
              "  'بهمن مفید ، ملوسک ، فیروز ، محمدتقی کهنمویی ، آسیه صدر ، فرهاد حمیدی ، یوسف خلیل پور ، محمد گیلانی ، حسین بیک ، علی آزاد|',\n",
              "  'فائقه آتشین ، چنگیز وثوقی ، رضا عطایی ، رضا کرم رضایی ، اسفندیار ماوندادی ، احمد معینی ، فرهاد حمیدی ، علی زاده ، پریچهر ، ساغر ، پوران ، الیاس امینی ، مهناز داوودنژاد|',\n",
              "  'ناصر ملک مطیعی ، مرجان ، علی میری ، علی آزاد ، ابراهیم نادری ، محمدتقی کهنمویی ، جهانگیر جهانگیری ، نریمان شیری فرد ، علی ترابی ، اشرف کهن ، شهرام ثمینی پور ، غلام|',\n",
              "  'ناصر ملک مطیعی ، پوری بنایی ، علی آزاد ، اسماعیل شیرازی ، محمدرضا فاضلی ، علی دهقان ، ذبیح اله ذبیح پور ، محمود تهرانی ، اکبر جنتی شیرازی ، شاپور بخشایی ، فرهاد خوشبخت ، عباس مظاهری ، علی بیات|',\n",
              "  'پروانه حسینی ، شهروز رامتین ، بیژن تهرانچی ، مستانه جزایری ، مهری ودادیان ، حسین جهانگیری ، اردوان خجسته ، جمشید خراسانی ، خسرو ابریشمی ، علی کامرانی ، یداله تاجیک ، نسرین اکبرپور ، بهرام چنگایی ، محمد صدر ، علیرضا احمدی|',\n",
              "  'منوچهر وثوق ، شورانگیز طباطبایی ، علی میری ، شهرام ثمینی پور ، فرخ ساجدی ، شهناز ، محسن مهدوی ، حسن رضایی ، علی زاهدی ، حمیرا ، میرزاده ، حسین محسنی|',\n",
              "  'ناصر ملک مطیعی ، شورانگیز طباطبایی ، بهمن مفید ، علی میری ، محمود تهرانی ، اکبر جنتی شیرازی ، پروین مهذب ، سیدخلج ، علی ذوالفقاری ، اسماعیل شیرازی ، مسیحی ، عاطفه ، شیرین|',\n",
              "  'بهمن مفید ، مرتضی عقیلی ، نوش آفرین ، علی آزاد ، اکبر جنتی شیرازی ، احمد معینی ، فرهاد حمیدی ، شهرآشوب ، ملیحه نصیری ، علی زندی ، جواد انصاری ، شهرام ثمینی پور|',\n",
              "  'مسعود اسدالهی ، افروز ، رضا کرم رضایی ، شهرام ثمینی پور ، نعمت اله گرجی ، فرخ لقا هوشمند ، علی اکبر مهدوی فر ، کاظم افرندنیا ، روح اله مفیدی ، شیوا ، کاظم تهرانچی ، کریم چهل و یک|',\n",
              "  'مرتضی عقیلی ، بهمن مفید ، شهناز تهرانی ، مهدی فخیم زاده ، نعمت اله گرجی ، پروین سلیمانی ، اصغر سمسارزاده ، جمالی پور ، محسن سیف ، حسین گیل ، سیدجلال طباطبایی|',\n",
              "  'مهدی ژورک ، رضا بیک ایمانوردی ، مرجان ، علی میری ، عزت اله مقبلی ، یدی ، هنگامه ، ذبیح اله ذبیح پور ، جلال پیشواییان ، ملیحه نصیری ، افشین ابریشمی|',\n",
              "  'منوچهر وثوق ، آرام ، یداله شیراندامی ، جلال پیشواییان ، جمشید مهرداد ، آتوسا پناهی ، گیتی فروهر ، حیدری ، صالحی ، مهران ، جلال موسوی ، کریم قاجار ، حسین صفاریان ، رحمانی ، منوچهر پوراحمد|',\n",
              "  'بهمن مفید ، روشنک صدر ، علی میری ، پیمان ، اکبر جنتی شیرازی ، ملیحه نصیری ، هوشنگ حمزه ای ، لاله بهاران ، راحله ، اسماعیل شیرازی ، آتوسا پناهی|',\n",
              "  'منوچهر وثوق ، مرتضی عقیلی ، روشنک صدر ، سیمین غفاری ، منصور سپهرنیا ، شهرام شبیری ، نرسی کرکیا ، محمود تهرانی ، علی اکبر مهدوی فر ، اکبر جنتی شیرازی ، نریمان شیری فرد ، شاپور بخشایی ، فرامرز حاج عظیمی ، رضا حاجیان ، ذبیح اله ذبیح پور|',\n",
              "  'سعید راد ، جمیله ، جمال وفایی ، کاظم روشن ضمیر ، ملیحه نصیری ، عباس ناظری نیک ، احمد قدکچیان ، حسن رضایی ، نریمان شیری فرد|',\n",
              "  'ناصر ملک مطیعی ، ایرج قادری ، ملوسک ، جلال پیشواییان ، عنایت بخشی ، خشایار ، مهری ودادیان ، اسفندیار ماوندادی ، حسن رضایی ، حسین صفاریان ، یکتا ، علی دهقان ، علی رجبی ، علی شعاعی ، اکبر اصفهانی|',\n",
              "  'رضا بیک ایمانوردی ، سپیده ، اصغر سمسارزاده ، مهین مسعودی ، شراره ، مژگان ، صمد صباحی ، همایون سروش ، طاهره غفاری ، صناعی ، گیتی فروهر ، زیبا رحمانی|',\n",
              "  'وفا ، لیلا فروهر ، رضا کرم رضایی ، طوطی سلیمی ، جمشید مهرداد ، اصغر سمسارزاده ، حمیده خیرآبادی ، مینو ، رکسانا ، روحی ، هنگامه ، فرشید فرشود ، فرامرز ، مرادی ، هوشنگ تابعی|',\n",
              "  'بهمن مفید ، یداله شیراندامی ، پرستو ، جلال پیشواییان ، علی میری ، سوزی یاشار ، علی اکبر مهدوی فر ، پریسا ، یوسف خلیل پور ، سحر|',\n",
              "  'منوچهر وثوق ، روشنک صدر ، جمشید مهرداد ، بهروز شاهین فر ، نعمت اله گرجی ، ژیلا شاهانی ، صبا ، عرب زاده ، رضا غیاثی ، علی اکبر طوفان پناه ، جلال موسوی ، پروین مهذب ، رضا ذوالفقاری ، کریم ، عباس قاجار|',\n",
              "  'منوچهر وثوق ، هاله ، ثریا حکمت ، نرسی کرکیا ، محمدمیرزا رفیعی ، علی اکبر مهدوی فر ، بانو اسکندری ، فرهاد حمیدی ، اکبر اصفهانی ، عباس مختاری ، احمد قدکچیان ، شهرام ثمینی پور ، خسرو نامجو|',\n",
              "  'جونیت آرکین ، محمدرضا فاضلی ، روبرت ویدمارک ، فرنکا گونلا ، گلشن بومیک اوغلو ، صلاح الدین ، سلیمان ایلمایز ، آتوسا ، کیهان یولدوز ، عثمان ، آتش|',\n",
              "  'چنگیز وثوقی ، گرشا رئوفی ، نوری کسرایی ، رضا یاقوتی ، یدی ، صالحی ، گیتی فروهر|',\n",
              "  'پرویز فنی زاده ، نوری کسرایی ، ایرن ، بهروز به نژاد ، داریوش ایران نژاد ، ماوندادی ، بهمن پرویزی ، محمدعلی کشاورز ، جمشید الوندی ، شهیار قنبری ، غلام ، کاظم صادقیان|',\n",
              "  'مرتضی عقیلی ، هاله نظری ، فرزانه ، کامی کسروی ، پروین ملکوتی ، علی اکبر گلپایگانی ، سیاوش ، فرهاد حمیدی ، یوسف خلیل پور ، اصغر بانکی ، کیومرث ملک مطیعی ، آراماییس وارطان یوسفیانس ، بهرام وطن پرست ، فخری خوروش|',\n",
              "  'عزت اله انتظامی ، منوچهر فرید ، همایون اشکان ، ایوان دسنی ، آرام ، گیلا وایتر هاوزن ، فرخ ساجدی ، محسن مهدوی ، وکلدورف ، شایدر ، جهانگیر صمیمی فرد ، نعمت اله گرجی ، علی اکبر مهدوی فر ، محمدی ، رضا غیاثی|',\n",
              "  'رضا بیک ایمانوردی ، فریبا خاتمی ، علی میری ، نادیا ، گیتی بهشتی ، آمنه ، مریم ، محمد عبدی ، فرهاد خوشبخت ، ایرج فرح بخش ، بازگشا ، اکبر اصفهانی ، منوچهر پوراحمد ، غلام ، ریاحی|',\n",
              "  'بهمن مفید ، شهناز تهرانی ، حسین گیل ، اکبر جنتی شیرازی ، علی اکبر مهدوی فر ، داداشی ، تورج ، روح اله امینی ، فرهاد حمیدی ، علی بابا ، علی آزاد ، حسین شهاب ، رضا حاجیان ، ذبیح اله ذبیح پور ، ملیحه نصیری|',\n",
              "  'محمدعلی فردین ، فرامرز قریبیان ، پوری بنایی ، امراله صابری ، پروین سلیمانی ، سعید پیردوست ، شهناز ، نصرت کریمی ، رضا طاهری ، محمدعلی نقی کنی ، علی سعادت ، آنیتا|',\n",
              "  'رضا بیک ایمانوردی ، علی میری ، کاوه ، عزت اله رمضانی فر ، سیروس شاندرمنی ، رفیع حالتی ، مهرداد مظاهری ، نرسی کرکیا ، هنگامه ، زهره ، اکبر اصفهانی ، حسین ، سهیل زریباف ، محسن|',\n",
              "  'رضا بیک ایمانوردی ، علی میری ، روشنک صدر ، کامی کسروی ، حسن رضیانی ، زهره ، علی اکبر طوفان پناه ، عباس مختاری ، یدی ، مشکوه ، رضا غیاثی ، شفیانی ، علی آزاد|',\n",
              "  'سعید راد ، نوش آفرین ، آراماییس وارطان یوسفیانس ، ملیحه نصیری ، شهناز ، بلیش ، عباس قاجار ، محمد ایروانی ، نریمان شیری فرد ، محمود نجیبی ، کاشانی ، حسین صفاریان ، اکبر ملی ، علی ژیان ، خلیلی|',\n",
              "  'ناصر ملک مطیعی ، بهمن مفید ، شورانگیز طباطبایی ، روح اله مفیدی ، حمیده خیرآبادی ، عباس ناظری نیک ، سارا ، داداشی ، عباس مختاری ، ذبیح اله ذبیح پور ، رضا حاجیان ، صفرعلی امینی ، کاظم افرندنیا ، جلال موسوی|',\n",
              "  'فرخ ساجدی ، داریوش معینی ، لیلا فروهر ، علی میری ، محسن مهدوی ، حسن رضایی ، علی زاهدی ، جهانگیر فروهر|',\n",
              "  'رضا بیک ایمانوردی ، مرجان ، علی میری ، عزت اله مقبلی ، حمیده خیرآبادی ، احمد معینی ، علی اکبر طوفان پناه ، پریسا ، علی دهقان ، حمید ، اسماعیل شیرازی ، محمد طیبی ، لاله ، جلال پیشواییان ، علی اکبر مهدوی فر|',\n",
              "  'بهروز وثوقی ، فائقه آتشین ، جمشید مشایخی ، رضا کرم رضایی ، علی ثابت ، حمیده خیرآبادی ، نادیا ، جلال پیشواییان ، ابریشمی ، ایرج سمندری ، ژوزف ، علی دهقان ، خلیل طلایی ، صالحی ، روحی|',\n",
              "  'منوچهر قانع ، همایون ، نوری کسرایی ، سارا ، منوچهر اخضرپور ، یدی ، مهری ودادیان ، نوری فرد ، پریدخت اقبالپور ، احمدزاده ، فیضی ، صمد صباحی ، ولی زاده ، رضا صفایی پور ، اسداله یکتا|',\n",
              "  'منوچهر احمدی ، پوری بنایی ، عنایت بخشی ، پروین ملکوتی ، منوچهر فرید ، جواد یاراحمدی ، رضا یاقوتی ، هادی مقدم ، محمد برواره ، محبوبه صادقی|',\n",
              "  'لیلا فروهر ، ناصر ملک مطیعی ، شهناز تهرانی ، رضا کرم رضایی ، حمیده خیرآبادی ، پریسا ، علیرضا قوامی ، گیتی فروهر ، حامد تحصنی ، علی اکبر مهدوی فر ، شهناز ، اکبر اصفهانی ، نادیا ، شهرام ثمینی پور ، ناصر گیتی جاه|',\n",
              "  'نصرت اله وحدت ، ژاله کریمی ، سرور رجایی ، ناصر گیتی جاه ، شیوا ، علی پروانه ، اسفندیار ماوندادی ، عزت اله مقبلی ، منوچهر پوراحمد ، رضا حاجیان ، طاطایی ، اصغر سمسارزاده ، نصراله کوفرد|',\n",
              "  'بهمن مفید ، فخری خوروش ، بهروز شاهین فر ، افروز ، احمد معینی ، محمدتقی کهنمویی ، یدی ، علی گرامی ، الهیاری ، فریده ، لیدا ، عزت اله رمضانی فر|',\n",
              "  'فرامرز قریبیان ، لیلا فروهر ، محمدعلی کشاورز ، روح اله مفیدی ، ملیحه نصیری ، علی اکبر گلپایگانی ، سحر ، داوود امینی ، خسرو خسروی ، هوشنگ منصورخاکی ، فخری خوروش ، سیروس قهرمانی ، محمد کوه بانی ، یوسف خلیل پور ، شهرام مقدم|',\n",
              "  'بهمن مفید ، آرام ، یداله شیراندامی ، طوطی سلیمی ، گیتی فروهر ، نادر رفیعی ، هنگامه ، جواد تقدسی ، رضا یاقوتی ، اکبر ، رضا ، علی ، بهرام ، منصور|',\n",
              "  'رضا بیک ایمانوردی ، آرام ، منوچهر والی زاده ، جمال وفایی ، عباس حکمت آرا ، جواد تقدسی ، ساغر ، بهرامی ، ذبیح اله ذبیح پور ، شهین ، بهروز شاهین فر|',\n",
              "  'منوچهر وثوق ، شهناز تهرانی ، شهلا یوسفی ، یداله شیراندامی ، منوچهر اخضرپور ، نعمت اله گرجی ، هنگامه ، حسن رضایی ، حسین صفاریان ، حمید دلشکیب ، شیوا ، رضا ذوالفقاری ، مرتضی رحیمی ، مینا جعفری ، شهرام ثمینی پور|',\n",
              "  'محمد دلجو ، آیلین ویگن ، شهرام شب پره ، ابی ، منیژه آرا ، مسعود حاجی نبی ، علیرضا اعلامی ، یوسف آرش ، عباس ناظری نیک ، اسفندیار ماوندادی ، حق گو ، خیراله تفرشی آزاد ، حمید سعیدپور ، دلاوری ، حسین ملکی|',\n",
              "  'وفا ، لیلا فروهر ، نسرین قدیری ، جمال وفایی ، جمشید مهرداد ، ساغر ، ذبیح اله ذبیح پور ، علی دهقان ، علی اکبر مهدوی فر ، خسرو خسروی|',\n",
              "  'پوری بنایی ، بهمن مفید ، شهروز رامتین ، پروین سلیمانی ، محمود تهرانی ، فرامرز متحدین ، کریم نشاط ، شاپور بخشایی ، عباس مختاری ، پروین مهذب ، سودابه اخوان ، شهرزاد صدری ، حسین محسنی ، ذبیح اله ذبیح پور|',\n",
              "  'همایون ، شهناز تهرانی ، بهرام وطن پرست ، گیتی فروهر ، جهانگیر فروهر ، نعمت اله گرجی ، اکبر جنتی شیرازی ، کاظم روشن ضمیر ، محسن حاجیلو ، ایوب ، علی دهقان ، یداله تاجیک|',\n",
              "  'مرتضی عقیلی ، گلی زنگنه ، یداله شیراندامی ، حسین شهاب ، رضا حاجیان ، ذبیح اله ذبیح پور ، حسین صفاریان ، هوشنگ عدیلی ، نریمان شیری فرد ، کاشانی ، حمید سعیدپور ، عنایت بخشی ، غلام|',\n",
              "  'بهمن مفید ، پرویز فنی زاده ، رضا کرم رضایی ، گلی زنگنه ، تقی مختار ، نعمت اله گرجی ، مهری ودادیان ، پریسا ، علی شعاعی ، اسفندیار ماوندادی ، کاظم افرندنیا ، اکبر اصفهانی ، عباس مظاهری ، امیررضا بیک ، یدی|',\n",
              "  'سپیده ، حسین گیل ، منوچهر والی زاده ، یداله شیراندامی ، جلال پیشواییان ، شهناز ، طاووس ، علی دهقان ، فرهاد خوشبخت ، ذبیح اله ذبیح پور ، رضا حاجیان ، حسین عرفانی ، محمود صفایی ، محمد گرامی ، محمدتقی کهنمویی|',\n",
              "  'فرامرز قریبیان ، هاله ، احمد قدکچیان ، حمیده خیرآبادی ، نعمت اله گرجی ، محسن مهدوی ، رزا مهدوی ، گرگین راجرز ، علی اکبر مهدوی فر ، رضا یاقوتی ، غمخوار ، خشایار ، اصغر آقاجانی ، کریم|',\n",
              "  'فلورا شباویز|',\n",
              "  'سعید راد ، نوش آفرین ، بلیش ، علی سعادت ، کاظم صادقیان ، کاشانی ، سیدفخرالدین ، الیاس امینی ، بهلولی ، منیژه ، محسن مهدوی ، ایرج سمندی|',\n",
              "  'منوچهر وثوق ، آراماییس وارطان یوسفیانس ، جلال پیشواییان ، شکوفه بیاتی ، عزت اله رمضانی فر ، حسن رضایی ، هنگامه ، آتوسا پناهی ، ملیحه نصیری ، کارمن ، هوشنگ معصفری ، نریمان شیری فرد ، رضا حاجیان ، جابر ، حمیدرضا خسروی|',\n",
              "  'نعمت اله آغاسی آزموده ، شهناز تهرانی ، منوچهر والی زاده ، شهلا یوسفی ، محمدعلی بندانی ، نعمت اله گرجی ، حمیده خیرآبادی ، فرید ، گرامی ، واهان ، ذبیح اله ذبیح پور ، علی دهقان ، رضا حاجیان ، عباس مختاری ، نصر|',\n",
              "  'مرتضی عقیلی ، آرام ، رضا کرم رضایی ، هنگامه ، یوسف خلیل پور ، اصغر بانکی ، محمدتقی کهنمویی ، گیتی فروهر ، محمود نجیبی ، محمد گیلانی ، رضا کبودوند ، پروین سلیمانی|',\n",
              "  'نصرت اله وحدت ، رضا بیک ایمانوردی ، علی میری ، نگین ، ملیحه نصیری ، محمود لطفی ، غلامحسین بهمنیار|',\n",
              "  'آذر فخر ، اکبر زنجانپور ، محمود هاشمی ، ایرج انور ، شیده بهرامی ، محمود بهرامی ، مهرداد نقوی|',\n",
              "  'بهمن مفید ، سپیده ، شهرام ثمینی پور ، جلال پیشواییان ، حمیده خیرآبادی ، نادیا ، محمد بانکی ، نریمان شیری فرد ، ذبیح اله ذبیح پور ، حسین شهاب ، خالدی ، فریده بیات ، عباس حکمت آرا ، لیدا|',\n",
              "  'ناصر ملک مطیعی ، پوری بنایی ، فرامرز قریبیان ، علی آزاد ، شهاب عسگری ، محمدتقی کهنمویی ، شادی آفرین ، خشایار ، گیتی فروهر ، اکبر جنتی شیرازی ، جمشید حیدری ، نورمحمد حاجی ، محمد هوریاب|',\n",
              "  'سعید راد ، رضا بیک ایمانوردی ، نوش آفرین ، شهناز ، محمد بانکی ، افشین ، مهدی منتظر ، کاظم افرندنیا ، علی زاهدی ، لاله ، حسن رضایی|',\n",
              "  'مرتضی عقیلی ، مصطفی طاری ، فرشته صادقی ، محسن مهدوی ، فریده بیات ، علی زاهدی ، حامد تحصنی ، مهدی منتظر ، طاهر طاهری|',\n",
              "  'منوچهر وثوق ، علی میری ، سردار ، نظیره ، نوبر|',\n",
              "  'عبداله یاقوتی ، فریبا داوودی|',\n",
              "  'مرتضی عقیلی ، لیلا فروهر ، تقی مختار ، عنایت بخشی ، ذبیح اله ذبیح پور ، رضا حاجیان ، الهیاری ، امید آشنا ، حسن نورهانی ، کاشانی ، اسفندیار ماوندادی ، محمود نجیبی ، شیوا ، توران مهرزاد ، جهانگیر فروهر|',\n",
              "  'مرتضی عقیلی ، بهروز به نژاد ، شهرزاد آرمانی ، شهین رضایی ، نعمت اله گرجی ، آراماییس وارطان یوسفیانس ، اکبر ، منافی ، خسرو ، طسوجی ، غلام|',\n",
              "  'رضا بیک ایمانوردی ، تقی مختار ، آرام ، غلامحسین لطفی ، کیومرث ملک مطیعی ، هنگامه ، علی اکبر مهدوی فر ، رفیع مددکار ، اکبر اصفهانی ، پرویز شکری ، یدی ، سحر ، جلال پیشواییان ، کریم چهل و یک|',\n",
              "  'بهمن مفید ، ذکریا هاشمی ، فرشته جنابی ، پرستو ، پروین سلیمانی ، خاطره ، سرمه ، مهران ، ساغر ، فرهاد حمیدی ، اشرف کهن ، حسین گیل ، کیومرث ملک مطیعی|',\n",
              "  'رضا بیک ایمانوردی ، ژیلا شاهانی ، حسین عرفانی ، شهین رضایی ، پروین سلیمانی ، علی میری ، خشایار ، رفیع مددکار ، کاظم افرندنیا ، محرم بسیم ، علی دهقان ، رضا حاجیان ، عندلیب ، محمد برسوزیان ، فرید فرهادپور|',\n",
              "  'منوچهر وثوق ، آرام ، یداله شیراندامی ، شهین رضایی ، محمد بانکی ، ساغر ، کیومرث ملک مطیعی ، صبا ، اشرف کهن ، کاظم افرندنیا ، سودابه ، لاله کریمی ، حسن بلور ، خالدی ، لی لی|',\n",
              "  'یداله شیراندامی ، گیتا ، جلال پیشواییان ، زرینه ، حسن رضایی ، رعنا ظفری ، عاطفه کریمی ، ذبیح اله ذبیح پور|',\n",
              "  'رضا بیک ایمانوردی ، آرام ، جلال پیشواییان ، علی ثابت ، جواد تقدسی ، ملیحه نصیری ، ذبیح اله ذبیح پور ، عباس مختاری ، مجید ، نسرین مقدم ، حسین قلی بیدگلی ، سیدمحسن وزیری ، اصغر بیچاره ، کریم چهل و یک|',\n",
              "  'رضا بیک ایمانوردی ، کمند ، جیمز راجرز ، کاظم افرندنیا ، حسین معلومی ، رضا مؤمنی ، صبا ، ژاله صدارتی ، محمد برسوزیان ، عباس مختاری ، افشین ، شهبازی ، خلیل طلایی ، خوشرو|',\n",
              "  'منوچهر وثوق ، یداله شیراندامی ، شهلا یوسفی ، علی میری ، علی زاهدی ، آمنه ، محمد سخن سنج ، لاله ستوده ، جلال موسوی|',\n",
              "  'نصرت اله وحدت ، منوچهر وثوق ، ژاله کریمی ، علی میری ، حمیده خیرآبادی ، جهانگیر فروهر ، نمکی ، هنگامه ، علی اکبر مهدوی فر ، ملیحه نصیری ، ذبیح اله ذبیح پور ، حسین شهاب ، نریمان شیری فرد ، اسماعیل شیرازی ، عباس مختاری|',\n",
              "  'رضا بیک ایمانوردی ، شورانگیز طباطبایی ، علی میری ، ساغر ، محمود لطفی ، فرهاد حمیدی ، رفیع مددکار ، ابوالفضل لاله ، یدی ، هوشنگ حمزه ای ، رحیم متین ، فرهاد خان محمدی ، روبرت الویانا ، تقی موسوی ، اسماعیل|',\n",
              "  'سعید راد ، ملوسک ، مهدی فخیم زاده ، علی آزاد ، محمدتقی کهنمویی ، پروین سلیمانی ، عباس ناظری نیک ، یوسف خلیل پور ، پوررضوی ، عباس قاجار ، رحمانی ، سیاوش ، منوچهر قانع ، محمد گیلانی ، استرآبادی|',\n",
              "  'رضا بیک ایمانوردی ، سعید راد ، شورانگیز طباطبایی ، علی میری ، هنگامه ، بهرامی ، فتنه ، اکبر جنتی شیرازی ، فرهاد خوشبخت ، علی دهقان ، رضا حاجیان ، علی وفادار ، محمد ، محسن ، حسین چدنی|',\n",
              "  'نصرت اله وحدت ، ژاله کریمی ، اصغر سمسارزاده ، ساشا برمینکو ، بریژیت هارر ، کونتر واگنر ، دورتی گری ، ارنست درسل ، جمشید سهیلی ، منوچهر اخضرپور ، باربارا والنتین|',\n",
              "  'رضا بیک ایمانوردی ، نعمت اله آغاسی آزموده ، ژیلا شاهانی ، علی میری ، امیر علایی ، علی زاهدی ، امیر فاطمی ، احمد امیدوار ، اصغر شوری ، رفیع مددکار|',\n",
              "  'سعید راد ، حسین عرفانی ، فرشته جنابی ، حمیده خیرآبادی ، منوچهر والی زاده|',\n",
              "  'پرویز فنی زاده ، لیلا فروهر ، فریده بیات ، پروین سلیمانی ، عزت اله رمضانی فر ، هومن مفید ، نصراله برادران ، حسین خانی بیک ، جواد گلپایگانی ، حسین خالقی ، رامین رحمانی ، نصراله آذری ، داوود امینی ، کریم نشاط ، زهره شریفی|',\n",
              "  'سعید کنگرانی ، فرزانه داوری ، فخری خوروش ، عنایت بخشی ، منوچهر فرید ، توران مهرزاد ، طاطایی ، ملیحه کمالی ، محمد مسچی ، جلال عالی فکر ، علی شعاعی|',\n",
              "  'ناصر ملک مطیعی ، گلی زنگنه ، چنگیز وثوقی ، کامران قدکچیان ، جلال پیشواییان ، داریوش ایران نژاد ، پری افشار ، اکبر اصفهانی ، میرزاخانی ، مهدی زاده ، بنی هاشمی|',\n",
              "  'ایرج مهدیان ، سیمین غفاری ، فریده بیات ، حمیده خیرآبادی ، نعمت اله گرجی ، اصغر سمسارزاده ، هنگامه ، غلام ، عباس تبارکی ، جمشیدی|',\n",
              "  'بهمن مفید ، منوچهر وثوق ، مستانه جزایری ، هنگامه ، پروین سلیمانی ، علی زاهدی ، رضا حاجیان ، محمد جیگری ، بانو اسفندیاری ، نسرین ، جلال موسوی|',\n",
              "  'ناصر ملک مطیعی ، قدیر ، پری ساواش ، احسان ، مرادی ، فیروز ، لیلا ، عبدالمجید ، زینت|',\n",
              "  'منوچهر وثوق ، نگین ، لی لی ، مهدی فخیم زاده ، جلال پیشواییان ، علی میری ، پریدخت اقبالپور ، ملیحه نصیری ، عباس مختاری ، ذبیح اله ذبیح پور ، اکبر اصفهانی ، نصرت دستمردی|',\n",
              "  'منوچهر وثوق ، جوانه جلیلوند ، بهروز شاهین فر ، منوچهر والی زاده ، علی میری ، رعنا صفوی ، محمود لطفی ، علی اکبر طوفان پناه ، ملیحه نصیری ، جواد گلپایگانی ، پروانه نیکورزم ، محمود عندلیب ، کریم قاجار ، رضا غیاثی ، محمود|',\n",
              "  'وفا ، شهرزاد آرمانی ، رضا کرم رضایی ، آراماییس وارطان یوسفیانس ، شادی آفرین ، شهداد نعمتی ، حسن بروجردی ، محمدنبی رفیعی ، آریانژاد ، گودرزی ، زنگنه ، جلال پیشواییان ، رضی ، اسکندر تقی زاده ، فرهاد|',\n",
              "  'داوود رشیدی ، پرویز فنی زاده ، مرتضی عقیلی ، مهناز داوودنژاد ، حسین ملکی ، علی عسگری ، زرینه ، فتحعلی اویسی ، تقی رضایی|',\n",
              "  'منوچهر احمدی ، علی اکبر جانبخش ، حسین حاجت پور ، محمد پولادخان ، رضا عباس نژاد ، حسین محمدآبادی ، پرویز نعیمی ، محمد قسمی ، پروین مشکین|',\n",
              "  'رضایی ، گیتا|',\n",
              "  'ایرج قادری ، جوانه جلیلوند ، منیژه آرا ، شیرین روشندل ، پریدخت اقبالپور ، نریمان شیری فرد ، علی آزاد|',\n",
              "  'رضا ارحام صدر ، جوانه جلیلوند ، منصور جهانشاه ، پریدخت اقبالپور ، پری کربلایی ، رضا هوشمند ، محمود بصیری ، اصغر همت ، صانعی ، مسعود چم آسمانی ، میرمحمد تجدد|',\n",
              "  'پوری بنایی ، منوچهر احمدی ، آنیک شفرازیان ، عبدالصمد صمدی ، دلبر مردوخی ، ایرج سمندی ، محمد زواره ، روحی ساوجی ، قاسمی ، حسین خانی بیک ، هوشنگ کلهر ، گلشن ، سینا ، آذر ، جلال پیشواییان|',\n",
              "  'منوچهر وثوق ، یداله شیراندامی ، جوانه جلیلوند ، رضا کرم رضایی ، لیلا ، یدی ، پروانه ، اسماعیل شیرازی ، حسین صفاریان ، یکتا ، ذبیح اله ذبیح پور ، حسن رضایی|',\n",
              "  'بهروز وثوقی ، سپیده ، بهمن مفید ، آرش تاج تهرانی ، نصرت دستمردی ، عباس مختاری ، کیومرث ملک مطیعی ، ابوالقاسم صادقی ، حسن حق پرست|',\n",
              "  'حبیب اسماعیلی ، حمید دلشکیب ، منوچهر افسری ، اکبر یادگاری ، شهره کاظمی|',\n",
              "  'فرامرز قریبیان ، غلامحسین لطفی ، سیدمحمدرضا عالی پیام ، عزیزاله هنرآموز ، فریبا سجادی حسینی ، اقدس اکبریان ، شهره عاطفی ، محمود استادمحمد ، عبداله حکمت ، شمس الدین وهابی ، مجید مظفری ، رضا جودی ، جلال موسوی ، مصطفی هاشمی ، داوود غفاری|',\n",
              "  'مصطفی طاری ، عزت اله رمضانی فر ، پری جزایری ، داوود غفاری ، احمد کاشانی ، سامی تحصنی ، علی دهقان ، یوسف آذری|',\n",
              "  'داوود رشیدی ، یاسمن آرامی ، جعفر والی ، فهیمه راستکار ، مهین شهابی ، فیروز بهجت محمدی ، غلامحسین نقشینه ، حسین کسبیان ، محمد مطیع ، آزیتا لاچینی ، سیروس گرجستانی ، جهانگیر صمیمی فرد ، هادی اسلامی ، خیراله تفرشی آزاد ، فرهاد رادمنش|',\n",
              "  'پرویز فنی زاده ، داوود رشیدی ، رضا کرم رضایی ، سروش خلیلی ، روح انگیز مهتدی ، علی نوری ، شمسی کاظمی ، سعید نیوندی ، فرج مولایی|',\n",
              "  'آهو خردمند ، مرتضی نیکخواه ، عبدالرضا آشتیانی ، فرهاد محبت ، رضا صفایی پور ، علی ثابت ، فرشید فلک نازی ، عباس مختاری ، عنایت بخشی ، رعنا صفوی ، حسین صفاریان ، علی وفادار ، هوشنگ ملک آرا ، سیدعلی صالحی ، مجید فری|',\n",
              "  'محمود سمیعی ، پوران درخشنده ، اسکندر عامری پور ، نصرت دستمزدی ، امیرحسین قهرایی ، هوشنگ سلیمانی ، مهدی محمدی پور ، حسین نیک آمیز ، جواد میرمیران ، مهدی مصطفوی ، غلامرضا جنت خواه دوست ، کمال قادری ، حسین قادری ، حسین زارع ، حمید سلیمانی|',\n",
              "  'سعید سیدزاده ، شیرین گلکار ، حسین خانی بیک ، محمد بنایی ، فرامرز سیاوشی ، افلاکیان ، یعقوب شریف زاده ، حسین بیک ، محمد برقعی ، علی ترابی ، فریدون شیوا ، مهران مشرفی ، محمد گیلانی ، کیومرث ملک مطیعی|',\n",
              "  'محمدتقی کهنمویی|',\n",
              "  'داوود رشیدی ، منوچهر احمدی ، محمدتقی کهنمویی ، عنایت بخشی ، غفار احمدی ، محسن سندانی ، ابوالحسن مروج ، گلی زنگنه|',\n",
              "  'داوود رشیدی ، مینو ابریشمی ، عنایت بخشی ، کیومرث ملک مطیعی ، گیتی فروهر ، محمود بصیری ، جهانگیر فروهر|',\n",
              "  'شهروز رامتین ، حسن شاهین ، خشایار ، ولی اله مؤمنی|',\n",
              "  'همایون اسدیان ، سعید امیرسلیمانی ، فریماه فرجامی ، جمشید مشایخی ، انصاری فر ، فیروز بهجت محمدی ، خسرو پورحسینی ، خسرو پیغامی ، آرش تاج تهرانی ، یعقوب خدنگی ، سروش خلیلی ، سهراب سلیمی ، قاسم سیف ، فرامرز صدیقی ، رضا عسگری|',\n",
              "  'سیروس الوند ، عزت اله رمضانی فر ، عباس مختاری ، فرهاد محبت ، ملیحه نصیری ، نعمت اله گرجی ، محمود علی زاده|',\n",
              "  'حمیده خیرآبادی ، کاظم افرندنیا ، حسین خانی بیک ، محرم بسیم ، فریده امامی ، بهادر بیگی ، حسن نورهانی|',\n",
              "  'منوچهر احمدی ، محبوبه بیات ، هادی اسلامی ، بهروز مسروری ، عنایت بخشی ، شاهرخ غیاثی ، گلچهره سجادیه ، خلیل انصاری ، ابوالقاسم بهادر ، ناصر اشکانی ، رباع مقامی ، سعید کمیجانی ، حسین حقیقی ، معصومه تقی پور|'],\n",
              " ['رمضان امیری ، ایراندخت آل بویه|',\n",
              "  'ناصر واثق ، اصغر جلالیان ، منصور برادران ، علی امجدی ، نوروزی ، پروین حیدری ، سیدعلی صالحی ، فتح اله الیاسی ، یوسف آذری ، فرهاد نورایی|',\n",
              "  'علی نصیریان ، داوود رشیدی ، سیروس حسن پور ، جهانگیر فروهر ، حمید دلشکیب|',\n",
              "  'فرامرز قریبیان ، آهو خردمند ، مرتضی نیکخواه کاشانی ، ایرج سرباز ، فروتن فلک نازی ، فریدون بهرام ، مسعود موثقی ، فاطمه تقوی ، محمدرضا داوودنژاد|',\n",
              "  'هدایت اله نوید ، افسانه رایگان ، مونا سیفی ، پریدخت اقبالپور ، محرم شاه بخشی ، رامین عبادی ، پیری ، اسماعیل سرپرست ، داوود نجفی ، علیرضا محمدحسینی ، حسین غفوری ، محسن علیخانی ، محمد حاج حسینی|',\n",
              "  'محمد کاسبی ، جعفر دهقان ، حمید شریفیان ، محمدحسین صایمی ، علی نقی وفاییفرد ، اسحاق معینی ، مجید مجیدی|',\n",
              "  'علی اصغر مهرجویی ، عبدالرحمان شاهینیان ، سعید عراقی|',\n",
              "  'حبیب اسماعیلی ، عنایت بخشی ، علی محزون ، محمدتقی کهنمویی ، کیومرث ملک مطیعی ، محبوبه بیات ، خیراله تفرشی آزاد ، مهری ودادیان ، خسرو امیرصادقی ، مفیدی ، احمد هاشمی ، رضا امیریان ، حمید دلشکیب ، محمد سادات ابهری ، پریدخت اقبالپور|',\n",
              "  'محمد مطیع ، حسین شهاب ، جمشید هاشم پور ، ناهید ظفر ، بهروز جلیلی ، ایرج سرباز ، مجید علی زاده ، فرخ نیا ، نعمت حقیقی ، جواد روشنایی ، رسول حیدری ، عسگری ، جلیل فرجاد ، اکبر سنگی ، داوود موثقی|',\n",
              "  'اسماعیل محرابی ، عنایت بخشی ، عزت اله رمضانی فر ، جمشید هاشم پور ، احمد بهروزی ، خسرو یزدانی ، علی برجسته ، شاپور بخشایی ، عباس مختاری ، فرامرز بویرنگار ، تاجی مجدزاده ، شیرین بختیاری|',\n",
              "  'رضا جوان ، علیرضا درویش نژاد ، ایرج سرباز ، روح انگیز مهتدی ، عرب خالدی ، حسین معلومی ، احمد کاشانی ، حسین شهاب ، رسول ناصری ، کریم نشاط ، محمود بهرامی ، افشین عظیمی ، حبیب تأمینه ، حسن کهن ، منوچهر افسری|',\n",
              "  'جمشید مشایخی ، مهدی فخیم زاده ، آهو خردمند ، داوود رشیدی ، عنایت بخشی ، حسین کسبیان ، مجید مظفری ، تورج مهرزاد ، عزت اله رمضانی فر ، علی شعاعی ، فرهاد محبت ، حسین شهاب ، خسرو امیرصادقی ، نعمت حقیقی ، بهروز لطیفی|',\n",
              "  'مهدی فخیم زاده ، ژیلا سهرابی ، احمد قدکچیان ، رحیم هودی ، حسین شهاب ، عباس قاجار ، حسن کهن ، جواد روشنایی ، نعمت حقیقی ، محمد سادات ابهری ، رسول حیدری ، علاء کنگرلو ، محمدعلی مردانی ، رضا یاقوتی ، محرم بسیم|',\n",
              "  'سعید راد ، جعفر والی ، آهو خردمند ، خسرو شکیبایی ، شهرام گلچین ، اسداله بیات ، داریوش ایران نژاد ، عنایت اله شفیعی ، فرهاد محبت ، مصطفی مسیحی ، ابراهیم معتمد ، محمود بصیری ، امین ریگی ، سعید امیرسلیمانی ، علی محزون|',\n",
              "  'محسن صادقی ، پرویز پرستویی ، قدرت اله لطیفی ، جلال عزیزی مشفق ، علی دائی ، بهزاد کلهر ، الیزا جوهری ، شمس کاظمی ، اصغر دمیرچی ، بهرام محمدی ، علی ترابی ، محمود تهرانی ، احمدرضا اکبری ، محسن محمودی ، ناصر محمدیان|',\n",
              "  'مهدی فخیم زاده ، فخری خوروش ، رضا کرم رضایی ، هوشنگ منصورخاکی ، محمدتقی کهنمویی ، مجید مظفری ، ورشوچی ، جهانسوز فولادی ، احمد بهروزی ، مهدی صناعی ، سعدی افشار ، حسن شمشاد ، کاوه فولادی ، اصغر علایی ، منوچهر افسری|',\n",
              "  'داوود رشیدی ، عباس قاجار ، حسین شهاب ، احمد قدکچیان ، مهین شهابی ، کیومرث ملک مطیعی ، جلال پیشواییان ، مهری ودادیان ، کنعان کیانی ، حسین ملکی ، آرزو شهابی ، افسانه بهرامی ، فرزانه بهرامی ، علی شعاعی ، علی الهیاری|',\n",
              "  'سعید راد ، مجید مظفری ، فرهنگ حیدری ، رسول توکلی ، سعید نیوندی ، ایرج ریسه ای ، نادر دلاوری ، نعمت افشاریان ، حسین ملکی ، مهدی سبوکی ، حسین اسدی ، جواد روشنایی|',\n",
              "  'رضا صفایی پور ، بهروز حدیث ، رضا خسروشاهی ، داوود عرب ، حسن درگزنی ، موسی شجاعی ، پرویز سلطانی ، صحت بخش ، عباس مختاری|',\n",
              "  'تیمور قهرمان ، انوشیروان ارجمند ، عثمان محمدپرست|',\n",
              "  'اکبر زنجانپور ، هادی اسلامی ، فاطمه تقوی ، کیومرث ملک مطیعی ، علی محزون ، اصغر سنجری ، ورشوچی ، پریدخت اقبالپور ، محمد برسوزیان ، التفات قربانی ، امیر وطن زاد ، آتیلا پسیانی ، اصغر زمانی ، نصراله کبیری ، حسن سلطانی|',\n",
              "  'ناصر واثق ، فخری خروش ، جعفر والی ، هادی اسلامی ، نعمت اله گرجی ، رضا حکم آبادی ، خسرو امیرصادقی ، علی امجدی ، محمود احمدی ، جواد زواره ، مریم فرخ نیا ، شیرین بختیاری ، پروین سامی وش ، یداله گرامی ، فرهاد خان محمدی|',\n",
              "  'جواد گلپایگانی ، حسین پرورش ، جمشید هاشم پور ، محمد سادات ابهری ، عباس قاجار ، منوچهر افسری ، خسرو امیرصادقی ، محمود پیراسته ، آنیک ، ژرژ یونانی ، داوود خلدی ، علی آذربم ، رضا جمالی ، آرزو گلپایگانی ، زهره ماهی صفت|',\n",
              "  'محمود نوروز ، ابوالفضل دهقانیان ، محمود ترکالکی ، داوود رحمتی ، حسن کریمی ، احمد عیسی فر ، جلال دلیر ، محمد شاه نظری ، مسعود اکبری ، مجتبی گلابی ، اسماعیل اسلامی|',\n",
              "  'داوود رشیدی ، شهلا میربختیاری ، اسماعیل محمدی ، احمد کاشانی ، مهری مهرنیا ، جاماسب فره\\u200cوشی ، محمد سادات ابهری ، فرشید فرشود ، فریده مالکی ، عباس مختاری ، بهرام یازرلو ، حسن عرب ، مریم اعیان منش ، علی خان باصری ، جلال الدین معیریان|',\n",
              "  'مهدی چایانی ، احمد طالبی نژاد ، سعید سعادت ، صادق عاشورپور ، علی شیعه ، اصغر هندی ، ابراهیم نوچی ، محمد کشتی ارا ، کیومرث محمودی ، اسماعیل عمید ، حسن ترابیان ، صفر عرب نژاد ، حسین ملکی ، پرویز فرهان پور ، خداکرم دهقان|',\n",
              "  'جهانگیر الماسی ، پروانه معصومی ، هادی اسلامی ، پروین سلیمانی ، نسرین بوساک ، خسرو امیرصادقی ، پرویز شکری ، خسرو قنبری ، کاظم وفادارشوشتری ، احمد عبدالهی ، مصطفی رستمی ، قاسم عسگری ، طاهری ، گیتی شاه کوهی ، مهرداد وفادار شوشتری|',\n",
              "  'حسین کسبیان ، فردوس کاویانی ، محمدتقی کهنمویی ، سیاوش طهمورث ، احمد عباسقلی ، محسن صادقی ، بهرام علیان ، شکوفه کوثری ، مهرداد دانش پور ، حمید دلشکیب ، منوچهر بهروج ، عطاءاله مرادی|',\n",
              "  'ناصر واثق ، محسن قبادی ، صوری ظفر ، شاپور بخشایی ، مسعود طلایی ، شیرین بختیاری ، رویا سیرجانی ، محمدتقی قوامی ، ماشاءاله افراشته ، خسرو امیرصادقی|',\n",
              "  'فرامرز قریبیان ، جمشید هاشم پور ، کاظم افرندنیا ، حسین ملاقاسمی ، علی محزون ، زکریا هاشمی ، بهزاد رحیم خانی ، علی برجسته ، شاپور بخشایی ، تقی محمودی ، ندا گمرکی ، شیرین بختیاری ، رضا ذوالفقاری ، مجید میرزاییان|',\n",
              "  'جمشید مشایخی ، عنایت بخشی ، شهاب عسگری ، حمیده خیرآبادی ، گوهر گلکار ، کاظم افرندنیا ، علی عسگری ، عباس مختارج ، احمد بهروزی ، سیروس اعوانی ، سیدجلال طباطبایی ، حشمتی ، محمدتقی کهنمویی ، رضا فعلی|',\n",
              "  'پرویز پرستویی ، فرهنگ حیدری ، رحمان باقریان ، موسی شجاعی ، محسن محمودی ، مجید بازدار ، وحید یوسفی ، احمد ذاکری ، فریدون بازدار ، علی مطلبیان ، صمد مرحبا|',\n",
              "  'داوود رشیدی ، پروانه معصومی ، اسماعیل داورفر ، سیامک اطلسی ، ضیاء امیری ، علی قربانی ، علی دشتی ، تقی بیرجندی ، علی اکبر دهقانی ، رمضان امیری ، حبیب اله الهیاری ، اکبر آبو ، بیژن ساعی ، امیرحسین قاسمی ، حمید آقابالا|',\n",
              "  'اکبر زنجانپور ، حسین عمرانی ، صوری ظفر ، محسن قبادی ، بهروز افراشته ، نعمت اله گرجی ، خسرو امیرصادقی ، شیرین گلکار ، زهره امیری ، مریم کردبچه ، شاپور بخشایی ، احمد بهروزی ، موسی شجاعی ، وهاب نوری زاده ، عباس مختاری|',\n",
              "  'حسین ملکی ، مرضیه لشگری ، روح انگیز مهتدی ، حسین شهاب ، مجتبی طاهریان ، عرش ، پریدخت اقبالپور ، مهرداد پیربازاری ، قاسم حیدری ، مهرداد عسگری|',\n",
              "  'داوود اسماعیلی ، سمیه سالار ، اصغر زمانی ، ارجمند ، حسین کامران ، مجید خلفی ، عبدالرضا ساعتچی فرد ، علیرضا برخورداری ، علی حسین انصاری ، حسن صحّه ، رحمان مرادی ، مهری میرزایی ، امیر زمانی|',\n",
              "  'فرامرز قریبیان ، اکبر زنجانپور ، حمید طاعتی ، نعمت اله گرجی ، زکریا هاشمی ، جهانگیر الماسی ، محمود علی زاده ، احمد نصر ، رضا وزیری ، علی کنگرلو ، مجید علی زاده ، مختار سائقی|',\n",
              "  'اکبر زنجانپور ، محبوبه بیات ، محمود نظرعلیان ، علی محزون ، فرخ نعمتی ، پروین سلیمانی ، حمید دلشکیب ، جمشید خندان ، ابراهیم آبادی ، ابراهیم عباسعلی زاده|',\n",
              "  'جلال مقامی ، محبوبه بیات ، گوهر گلکار ، بی بی علیپور ، عباس کریم خانی ، سیدمحسن وزیری ، شپیل زاده ، عزیز چینی فروش ، مرتضی شیرمحمدی ، علیرضا فرهی ، منوچهر سرلک ، رضا رضوانی ، حسین خانی بیک ، حسین کریم خانی ، محمد کریم خانی|',\n",
              "  'نسرین پاک خو ، مهری مهرنیا ، خسرو شایسته ، حسن خانی بیگ ، امیر برغشی ، مجید گلپایگانی ، طباطبایی ، آتش تقی پور ، بهروز بهادری ، عباس نوروزی ، جلال اسماعیل زاده ، حسن کریمیان ، بابک والی ، عبداله اسفندیاری ، عباس احمدی|',\n",
              "  'عنایت بخشی ، آهو خردمند ، محمود استادمحمد ، جلیل فرجاد ، رضا ژیان ، سرور رجایی ، ناهید ظفر ، جمشید لایق ، کاظم بلوچی ، ارجمنت بالاغ اوغلو ، خسرو امیرصادقی ، یمین ایلخانی ، نعمت حقیقی ، ایرج سرباز ، میرصلاح حسینی|',\n",
              "  'مصطفی طاری ، کاظم بلوچی ، جلیل فرجاد ، مرضیه لشگری ، نعمت افشاریان ، عباس نوذری ، آتش تقی پور ، منصور عرب باصری ، رضا بنفشه خواه ، علی اصغر مهرجویی ، مرتضی افشانی ، حسین دانش نژاد ، تقی نقی زاده ، رحیم شاه مرادخانی ، حسین قائم پناه|',\n",
              "  'رضا صفایی پور ، ناهید ظفر ، علی امجدی ، منوچهر حامدی ، محسن قبادی ، حسین صفاریان ، پریدخت اقبالپور ، ملیحه نصیری ، زرین ولدبیگی ، احمد بیدار ، یوسف بختیاری ، رضا وزیری ، پرویز آزادیخواه ، محمد محمدی ، احمد رقامی|',\n",
              "  'عنایت بخشی ، فخری خوروش ، ژیلا سهرابی ، فرزانه کابلی ، احمد نصر ، اسماعیل شهبازی ، خسرو شکیبایی ، روح انگیز مهتدی ، هدایت اله نوید ، کاظم بلوچی ، محمد ورشوچی ، مسعود عربیان ، افسانه بهرامی ، اعظم عدن راد ، علی کنگرلو|',\n",
              "  'محمد برسوزیان ، علی ترابی ، محمدعلی کشاورز ، منوچهر حامدی ، محمد ورشوچی ، آتش تقی پور ، اصغر زمانی ، شیرین گلکار ، التفات قربانی ، احمد علی نژاد ، یداله گرامی ، عباس نوذری ، عباس مختاری ، حسن گروسی ، مصطفی کامیاب|',\n",
              "  'تاجبخش فناییان ، سعید کشن فلاح ، عطاءاله سلمانیان ، جعفر دهقان ، اکبر منصور فلاح ، فرید کشن فلاح ، محمود نوروز ، حبیب اله رجبعلی ، خورشید پناهنده ، فاطمه چهارمحالی ، سیدعباس موسوی ، عبداله ودادی ، اصغر اوتادی ، احمد منصورفلاح|',\n",
              "  'مهدی فخیم زاده ، احمد هاشمی ، حسین شهاب ، شیده ، سوگند رحمانی ، مهران ، مریم کردبچه ، حسن قاسمی ، ایرج سرباز ، نعمت حقیقی ، محمد سادات ابهری ، رضا یاقوتی ، مجید ایزدی ، حسن لایقی ، علی شعاعی|',\n",
              "  'انوشیروان ارجمند ، کوروش تهامی ، امیر آقامیرزاده ، مسعود حقی ، نصرت دستمزدی ، ناهید مسلمی ، علی میلانی|',\n",
              "  'مهین شهابی ، کاظم افرندنیا ، جواد گلپایگانی ، کنعان کیانی ، حسین شهاب ، محمد سادات ابهری ، رعنا صفوی ، ملیحه نصیری ، منوچهر افسری ، رحمان مقدم ، خسرو امیرصادقی ، جعفر جهانگیری ، احمد رحیمیان ، محمد گرامی ، منوچهر قرات کنی|',\n",
              "  'علی غلامی ، محبوبه بیات ، سینا ملاح زاده ، رضا صغیری ، عباس افلاکی ، محمود چراغی ، اردشیر خندان ، علی دشتی ، علی قربانی ، یداله شیراندامی|',\n",
              "  'اکبر زنجانپور ، داوود رضایی ، چنگیز وثوقی ، حسین شهاب ، نعمت اله گرجی ، احمد کاشانی ، منوچهر حامدی ، زری برومند ، پریدخت اقبالپور ، مرتضی نیکخواه ، محسن اصلانی ، عباس حکمت آرا ، ایرج سرباز ، زهرا برومند ، رحمان مقدم|',\n",
              "  'رضا ژیان ، منوچهر حامدی ، اصغر زمانی ، علی حاج علی عسگری ، عباس احمدی ، محمد برسوزیان ، محبوبه بیات ، قاسم سیف ، عباس امیری ، نعمت افشاریان ، عباس نوذری ، احمد نصر ، نادر صمدی ، محمدحسن ساوی مرادی ، علی گلشن|',\n",
              "  'علیرضا شجاع نوری ، ایرج طهماسب ، سارا نجفی ، میترا قمصری ، ابوطالب نجفی ، ملیحه نیکجومند ، سوگند رحمانی ، علی اصغر مهرجویی ، عباس نوذری ، مجتبی اقدامی ، مهتاج نجومی ، جهانگیر صمیمی فرد ، محمدعلی نجفی ، ملیحه هوشیدری ، حامد محمدی|',\n",
              "  'هادی اسلامی ، حمید طاعتی ، مرتضی حاج سید احمدی ، سعید عباسی ، محمدرضا مرسلی ، اصغر زمانی ، یوسف صمدزاده ، محمدقاسم پورستار ، احمد مظلومی ، مهری مهرنیا ، خسرو دستگیر ، غلامرضا عزیزی ، بهمن احمری ، هرمز اوهانس ، عباس نیک زاد|',\n",
              "  'خسرو ضیایی ، عطاءاله سلمانیان ، بهزاد بهزادپور ، جعفر دهقان ، فرید کشن فلاح ، اکبر منصور فلاح ، سیدسعید سیدزاده ، عباس زارع ، صابر جهش ، منوچهر فرزانه ، رضا قبله ای ، حسین ناهی ، حمید شریفی ، طاهر سعیدی ، حسین محرم|',\n",
              "  'مهدی فخیم زاده ، احمد هاشمی ، علی شعاعی ، مهوش صبرکن ، نعمت حقیقی ، احمد قدکچیان ، رحیم هودی ، هوشنگ نیکرفتار ، جواد روشنایی ، افشین ستایشگر ، کاظم صراطی ، محمدرضا یوسفی ، مجتبی هویدی ، داریوش شیروانی ، محمد تهرانی|',\n",
              "  'عنایت بخشی ، فخری خوروش ، کیومرث ملک مطیعی ، منوچهر حامدی ، کاظم افرندنیا ، شهاب عسگری ، حسین خانی بیک ، احمد بهروزی ، صوری ظفر ، خسرو امیرصادقی ، پروین سامی وش ، امیر وطن زاد ، حسن غمخوار ، اصغر قزلباش ، ایرج نوروزی|',\n",
              "  'جهانگیر الماسی ، مجید مظفری ، سیروس گرجستانی ، فرزانه کابلی ، روح اله مفیدی ، محسن مکاری ، مهری مهرنیا ، ناصر گیتی جاه ، میرصلاح حسینی ، حمید دلشکیب ، مجتبی خشنودی ، محمد تاجیک ، نشاط ، عصمت نظری ، علیرضا غلامی|',\n",
              "  'جلیل فرجاد ، سیدمحمدرضا عالی پیام ، ملیحه نظری ، علی جاویدان ، رضا بنفشه خواه ، محسن صادقی|',\n",
              "  'مهدی فخیم زاده ، عنایت بخشی ، محبوبه بیات ، فاطمه معتمدآریا ، کاظم افرندنیا ، تجدد ، سیامک اطلسی ، پریدخت اقبالپور ، روح انگیز مهتدی ، مهدی میامی ، منوچهر افسری ، حسین اسدی ، محرم بسیم ، عرش پورزارعی|',\n",
              "  'محمد امین ، پروانه معصومی ، جمشید گرگین ، افسر اسدی ، محمد پورستار ، جلال خرم دل ، علیرضا اوسیوند ، مهدی عابدی ، منصور حاجیلی ، جعفر رضایی ، رحمان مقدم ، محمد فائی ، عباس مدیریه ، محمد قرایی ، فرهاد احمدی|',\n",
              "  'شهلا میربختیاری ، منیژه دلدارگلچین ، آزیتا لاچینی ، سوگند رحمانی ، آیدا محمودیه ، مونا رویگری ، مهرنوش مقدم ، شمس کاظمی ، پریدخت اقبالپور ، حسین نصرآبادی ، احمد آقالو ، ملیحه نظری ، محسن محمودیه ، اصغر دمیرچی ، صدرالدین حجازی|',\n",
              "  'اکبر زنجانپور ، پوراندخت مهیمن ، احمد عباسقلی ، میرصلاح حسینی ، جواد اسلامی ، پریدخت اقبالپور ، بهرام علیان ، محسن مکاری ، محمد شیرازی ، محمد شیری ، شاپور بخشایی ، اعظم قشقایی ، حسین فیاض ، صمد اسلامی ، رحمان مقدم|',\n",
              "  'فرامرز قریبیان ، ولی شیراندامی ، عطاءاله زاهد ، ثریا حکمت ، جواد خاکشور ، علی کنگرلو ، اصغر آشوری ، بهمن میلانی ، رشید یولی ، پروین سلیمانی ، نوری کوکلان ، هوشنگ تیموری ، محمد شمس ، نظرمحمد نورانی|',\n",
              "  'علی زرینی ، جلال اجلالی ، پروین اشکانی ، محمود شولیزاده ، ناصر برهان آزاد ، حمید هدی نیا ، علی مرادی ، علی آقابابایی ، عنایت کرمی ، اکبر ابراهیم زاده ، جعفر قنایی ، فرخ انصاری بصیر|',\n",
              "  'مصطفی طاری ، فرهاد محبت ، حسن بلور ، عرش پورزارعی ، ناهید ظفر ، محمود فاطمی ، عباس شهشهانی ، محمود مشروطه ، علی شوقیان ، قاسم پاکرو ، غلامرضا امیری ، زهره امیری ، انوش نوروزی ، علی آقاجانی ، حسین زارع|',\n",
              "  'امیرمحمد پورحسن ، عماد طاهری ، مهناز انصاریان ، فاطمه آسار ، منیژه پورحسن ، فیروزه پورحسن ، عباس جعفری ، مراد محمدی|',\n",
              "  'فرامرز قریبیان ، محمد مطیع ، جمشید مشایخی ، ایرج راد ، ثریا حکمت ، احمد هاشمی ، طیب شرافتی ، مهری ودادیان ، سهیلا رضوی ، امیرحسین خان شهری ، خسرو امیرصادقی ، احمد نصر ، مختار سائقی ، محسن اصلانی ، فریدون ابوالضیاء|',\n",
              "  'حسین عمرانی ، جواد موسوی ، احمد رضاییان ، زهره حبیبی ، بتول یوسفیان ، سعید رضاییان ، آقا اسماعیل ، نسرین قاسم زاده خرم آبادی ، ابوالقاسم صفار مقدم ، جواد کامل ، محمدعلی لطفی ، آمنه عرب ، مهدی عنایتی ، مهدی صباغی ، حسین تراب زاده|',\n",
              "  'فرامرز قریبیان ، افسانه بایگان ، جمشید مشایخی ، جعفر والی ، مهوش برگی ، مهری ودادیان ، مظفر سلطانی ، حسین ملکی ، میترا معینی ، مهرداد روشنایی ، فرزاد جیرانی ، حسین باغیاری ، غلامرضا بایران منش ، محمود صباغ زاده ، حسین افسریان|',\n",
              "  'سوسن تسلیمی ، حسین محجوب ، فیروز بهجت محمدی ، عطاءاله زاهد ، پرویز شاهین خو ، مژی لانک ، دانش پری ، فرهاد خان محمدی ، مصطفی نمازی ، احمد نمازی ، ملیحه نظری ، پروین حضرتی ، مینو دانش پری ، ملیحه نیکجومند ، محمود تاجیک|',\n",
              "  'حبیب اسماعیلی ، جعفر والی ، منیژه محامدی ، نعمت اله گرجی ، فریبا شمس ، مهری ودادیان ، محمود بهرامی ، منوچهر افسری ، فرهاد نیکپور ، شکوفه کوثری ، حمید دلشکیب ، نصراله برادران ، رضا امیریان ، شادروان ، مریم فرخ نیا|',\n",
              "  'ماشاءاله افراشته ، مرتضی حاج سید احمدی ، معصومه تقی پور ، عنایت بخشی ، حمیده خیرآبادی ، نعمت اله گرجی ، ناصر گیتی جاه ، حسن رضیانی ، داوود موثقی ، شهین علی زاده ، محسن قبادی ، خشایار ، زهره امیری ، محسن یوسف بیک ، محمد برسوزیان|',\n",
              "  'جمشید هاشم پور ، مجید مظفری ، رضا رویگری ، عبدالرضا آشتیانی ، ناصر گیتی جاه ، محمد ورشوچی ، عباس ناظری نیک ، خسرو یزدانی ، ملیحه نصیری ، پریدخت اقبالپور ، علی محمودی ، عنایت بخشی ، عزت اله رمضانی فر ، رضا محمدیاری ، محمدتقی شریفی نوری|',\n",
              "  'هوشنگ توکلی ، عبدالرضا اکبری ، افراشته سمندرپور ، ناصر عرفانیان ، احمد نصر ، عباس نوذری ، اکبر نیکرو ، حامد تحصنی ، عطاءاله زاهد ، ایرج محمدبنی ، یوسف نوروزی ، علیرضا فتحی ، علی اصغر امینی ، ذبیح اله ذبیح پور ، علی مهدوی|',\n",
              "  'علی نصیریان ، پروانه معصومی ، کمند امیرسلیمانی ، جمشید لایق ، فهیمه راستکار ، خسرو امیرصادقی ، عزت اله مقبلی ، شیوا گورانی ، منوچهر افسری ، خسرو شاه کرمی ، بهزاد سلماسی ، نسرین قاسم زاده ، سامی تحصنی ، تامارا رشیدی نوید ، شهیدی|',\n",
              "  'ناصر آقایی ، حبیب اسماعیلی ، ثریا حکمت ، جمشید مشایخی ، مهری ودادیان ، مظفر سلطانی ، نعمت اله گرجی ، سامان دهگاهی ، ساناز دهگاهی ، اسماعیل محمدی ، غلامرضا بایران منش ، محمد ورشوچی ، فرزانه نشاط خواه ، محمود صباغ زاده ، افشین کاتبی|',\n",
              "  'عبدالرضا اکبری ، مصطفی طاری ، مرتضی حاج سید احمدی ، کاظم افرندنیا ، ثریا حکمت ، محمدتقی شریفی نوری ، عبدالحسین خان شهری ، طیب شرافتی ، احمد نصر ، منوچهر افسری ، حسن نوروزی وفا ، محمدسام قریبیان ، محمدعلی گرگیچ ، محمد کی خواه ، رضا صادقی|',\n",
              "  'عزت اله انتظامی ، پروانه معصومی ، امین تارخ ، فرخنده شادمنش ، عزت اله مقبلی|',\n",
              "  'حبیب اسماعیلی ، افسانه بایگان ، جمشید مشایخی ، مهری مهرنیا ، سامی تحصنی ، امید آهنگر ، نعمت اله گرجی ، طاهره سری ، ندا کاویانی ، فریدون محمدپور ، حسین خنجری ، هوشنگ دیبائیان ، ستار اورا ، معصومی بهنامی ، هومن خسروی|',\n",
              "  'رضا آقاربی ، آتش تقی پور ، مجید میرزاییان ، محرم زینال زاده ، علیرضا اسحاقی ، علی جلیلی باله ، سیداحمد میرعلایی ، رحیم عرب امینی ، سامی تحصنی ، اکبر نیک رو ، رحیم مهدی خانی ، امیر خاکسار ، جمشید علیخانی ، بخشعلی محمدی ، رضا نظریان|',\n",
              "  'ثریا قاسمی ، هوشنگ توکلی ، حمیده خیرآبادی ، محرم بسیم ، سیروس گرجستانی ، فرنوش آل احمد ، حمید رضا خانلو ، مهسا کرامتی ، نعمت افشاریان ، مژگان ظفری ، بهرام وند ، علی آقاجانیان ، فاطمه شعفی ، محسن ابراهیمی ، سیروس شمشیری|',\n",
              "  'علی نصیریان ، خسرو شکیبایی ، آهو خردمند ، علی اصغر نجات ، مهری مهرنیا ، احمد بهروزی ، حمید نوری ، فاضل معصومی ، احمد عبدالهی ، هوشنگ ملک آرا ، نریمانی ، نصرت اطمینان ، اصغر خندان ، پرویز شکری ، نشاط|',\n",
              "  'پرویز پورحسینی ، خسرو شکیبایی ، پوراندخت مهیمن ، منیژه آقایی ، شهرام شمس ، علیرضا رضاییان ، مهری ودادیان ، سامی تحصنی ، حسین محب اهری ، هوشنگ ملک آرا ، علی زرینی ، کاوان رحیمی ، فریدون خلیلی ، شهاب شوقی ، حمید ذوالقدر|',\n",
              "  'فیروز بهجت محمدی ، محمد مطیع ، مجید مظفری ، گوهر خیراندیش ، فرشته صدرعرفایی ، افسر اسدی ، جمشید لایق ، احمد هاشمی ، اسماعیل محمدی ، ایرج طهماسب ، اصغر همت ، رحیم هودی ، پرویز شاهین خو ، محمود جعفری ، منوچهر افسری|',\n",
              "  'پرویز پورحسینی ، محبوبه بیات ، جمشید مشایخی ، فرخ نعمتی ، منیژه سلیمانی ، ایمان رئوفی ، کوروش لشکری ، امیه حمزه ای نژاد ، پریدخت اقبالپور ، محمود شهیدی ، حمید حمزه ، قاسم پاکرو ، محسن قبادی ، سهیلا رضوی ، محمد زرقانی|',\n",
              "  'جهانگیر الماسی ، حسن رضایی ، ناصر آقایی ، منیژه آقایی ، کاظم افرندنیا ، نعمت اله گرجی ، منصور مجلسی ، پروین سلیمانی ، فرزانه کابلی ، عباس ناظری نیک ، احد بهروزی ، اکبر دودکار ، نصرت دستمزدی ، نریمان شاهرخ آل مذکور ، کریم نشاط|',\n",
              "  'هادی اسلامی ، داوود موثقی ، منیژه دلدارگلچین ، روح انگیز مهتدی ، حمید قربانی فراز ، مسعود عربیان ، مهری ودادیان ، اصغر زمانی ، مرجانه دلدارگلچین ، سیدجلال طباطبایی ، فریدون بخشایش|',\n",
              "  'اکبر زنجانپور ، هما روستا ، ناصر هاشمی ، قطب الدین صادقی ، مهناز افضلی ، علی اصغر گرمسیری ، مجید شهباز ، فاضل ، ناصر اعترازی|',\n",
              "  'خسرو شجاع زاده ، شهرام گلچین ، میرمحمد تجدد ، جمشید جهان زاده ، نجم السادات آبادی ، مینا صارمی ، شهاب کلیددارزاده ، ناصر غفرانی ، مهدی رنجه ، خسرو شاهی ، امان عباس حسینی ، مسعود دادگر ، غلامرضا رمضانی ، حمیدعباس حسینی ، مشتاق|',\n",
              "  'هادی اسلامی ، ایرج طهماسب ، احمد عباسقلی ، محمد امین ، محسن شایان فر ، محمود جعفری ، حسین ایری ، کریم اکبری مبارکه ، محسن صادقی نسب ، عباداله سیفی ، محسن حاجی یوسفی ، محمد محمدی ، مجید محمدپور|',\n",
              "  'جمشید مشایخی ، پروانه معصومی ، شاپور شهیدی ، سیامک اطلسی ، علیرضا غفاری ، مینا صارمی ، اکبر زنجانپور ، علی رامز ، غلامرضا طباطبایی ، هدایت اله نوید ، سهراب سلیمی ، عباس ناظری نیک ، محمد ورشوچی ، علی دبیری ، اصغر عظیمی|',\n",
              "  'توران مهرزاد ، میترا قمصری ، سهیلا ریاحی ، هادی اسلامی ، پرویز پورحسینی ، محمد برسوزیان ، اصغر زمانی ، منوچهر حامدی ، خسرو دستگیر ، کیومرث ملک مطیعی ، علی ترابی ، سعید عباسی ، التفات قربانی ، شاپور سلیمی|',\n",
              "  'غلامحسین نقشینه ، محمد مطیع ، اسماعیل محرابی ، سهیلا نجاری ، اسماعیل داورفر ، قدرت اله لطیفی ، شاپور شهیدی ، سرور رجایی ، زهره عدالت ، حسین اسدی ، هوشنگ نیک رفتار ، اکبر طلایی ، محمد افشین ، امیر دیری ، رحیم شمشیری|',\n",
              "  'آزیتا لاچینی ، هرمز سیرتی ، منوچهر علیپور ، مهری مهرنیا ، سعید شریفیان ، الیزا جوهری ، محمد شهیدی ، شاپور بخشایی ، زهره امیری ، رضا سمساری ، احمد عسگری ، جواد شیئیان ، اعظم قشقایی ، امیر سماواتی ، سیدعلی صالحی|',\n",
              "  'پرویز پورحسینی ، گلچهره سجادیه ، خسرو دستگیر ، اصغر زمانی ، سعید عباسی ، یوسف صمدزاده ، ملیحه ابراهیمی شعربافان ، شهلا ظرافت ، ناهید حمیدی ، ابراهیم آبادی ، سیما قره باغی ، مینا قره باغی ، مهناز قره باغی ، محمدعلی خجسته ، علی اکبر صعالکی|',\n",
              "  'سیروس گرجستانی ، گوهر خیراندیش ، منیژه سلیمی ، پروانه مرزبان ، کمند امیرسلیمانی|',\n",
              "  'هادی اسلامی ، جعفر والی ، مهدی فخیم زاده ، پرویز پورحسینی ، مصطفی طاری ، فردوس کاویانی ، خسرو امیرصادقی ، محبوبه بیات ، ثریا حکمت ، پوراندخت مهیمن ، شیرین گلکار ، نسترن بوساک ، ملیحه نیکجومند ، سامی تحصنی ، منوچهر جوادی نیا|',\n",
              "  'مهناز افضلی ، علی بی غم ، قاسم سیف ، شهلا ریاحی ، مینا صارمی ، سارا نجفی ، حسین خانی بیک ، آندره آندره یاسیان ، حسن احسانیان ، محمد غفاری ، رضا بنفشه خواه ، پرویز شاهین خو ، سوسن سلیمی ، ملیحه اکبری ، فرهاد خان محمدی|',\n",
              "  'امین تارخ ، هما روستا ، جمیله شیخی ، آزیتا لاچینی ، شهلا ریاحی ، میترا قمصری ، فتحعلی اویسی ، عطیه معصومی ، مهدی میامی ، فریدون ابوضیاء ، آناهیتا بیات ، تامارا رشیدی نوید ، ناهید سدی ، مرجانه دلدارگلچین ، آرش ابوضیاء|',\n",
              "  'عزت اله انتظامی ، محمدعلی کشاورز ، حسین سرشار ، ارحام صدر ، کلارا دخانی ، مهدی ممیزان ، منصوره جهانشاهی ، جهانگیر فروهر ، مهدی قلی صفاپور ، هوشنگ ویرچیان ، غلامرضا محبی ، محمدعلی میاندار ، رحمت ارشادی ، هوشنگ بشارت ، پرویز شهنامی|',\n",
              "  'حسین گیل ، محمدعلی کشاورز ، سرور نجات الهی ، محبوبه بیات ، سروش خلیلی ، فرخ نعمتی ، محمد سادات ابهری ، سعید امیرسلیمانی ، احمد کاشانی ، داوود موثقی ، رضا صفایی پور ، حسین شهاب ، محمود بصیری ، حمید دلشکیب ، خشایار|',\n",
              "  'فیروز بهجت محمدی ، مصطفی طاری ، هادی مرزبان ، آزیتا لاچینی ، علی رامز ، سرور نجات الهی ، کیومرث ملک مطیعی ، حمید دلشکیب ، حسین شهاب ، عباس مختاری ، شاپور بخشایی ، عباسعلی سعادتمند ، نریمان شیری فرد ، ناصر رودکی ، منوچهر علیپور|',\n",
              "  'مهدی هاشمی ، محمود جعفری ، پروانه معصومی ، اسماعیل محمدی ، جمشید لایق ، علی اصغر گرمسیری ، مهری مهرنیا ، ایران اسکندری ، زنگنه ، سهیلا مرادی ، طاهره سری ، معراج مژده ، اشرف میرشاه ولد ، ماندانا ارسطونژاد ، امین اکبری|',\n",
              "  'مهوش افشارپناه ، مریم معترف ، رضا خندان ، محمدمهدی بهرامیان ، وحید کلیائی|',\n",
              "  'ماشاءاله افراشته ، مرتضی حاج سید احمدی ، حسین عمرانی ، رویا افشار ، محمد ورشوچی ، مهری ودادیان ، حسین صفاریان ، محسن یوسف بیک ، اکبر دودکار ، حسن دلشاد ، محرم بسیم|',\n",
              "  'بهزاد بهزادپور ، محسن زهتاب ، بهروز رضوی ، غلامرضا طباطبایی ، ابراهیم آبادی ، مهرانه مهین ترابی ، فریده سپاه منصور ، سیداسماعیل بختیاری ، قاسم پاکرو ، محمد وثوق ، محمود قره گوزلو ، ابراهیم خلیل پیما ، مسعود خلج ، محمد مشکانی ، علی مقصودی|',\n",
              "  'رضا صابری ، مهدی صباغی ، رضا سعیدی ، امیرحسین خان شهری ، زهرا بخشیان ، محمد سیف الهی ، عفت گل وش ، مجتبی هویدی ، محمد الهی ، حسن عابدی ، احمد رضاییان ، محمد بهروز ، علی مقدسی ، رضا داروغگی ، محمود تقوی|',\n",
              "  'جهانگیر الماسی ، رضا رویگری ، سرور نجات الهی ، آنیک شفرازیان ، رامتین دانش ، کیومرث ملک مطیعی ، ملیحه نظری ، مینا صارمی ، جمشید جهان زاده ، حبیب اله الهیاری ، اکبر معتمدی ، بهمن پسندی ، امیر معتمدی ، افشین نخعی ، علی اصغر نجات|',\n",
              "  'علی قربانی ، منوچهر بهروزیان ، عباس جوادی ، جواد تلیان ، محمدرضا بازدرهوا ، غلامرضا فیروزفر ، محسن مکاری ، سیدنجف کازرونی ، علی غلامی ، محمدمهدی شاه محمدی ، مراد ماندگار ، حمید باغکی ، ابراهیم تمهید ، حسین مرزوقی ، اصغر شفیعیان|',\n",
              "  'جمشید مشایخی ، بیژن امکانیان ، صادق هاتفی ، جمشید لایق ، بهرام محمدی پور ، پروین سلیمانی ، مهری ودادیان ، رضا توکلی ، سیدجواد هاشمی|',\n",
              "  'حبیب دهقان نسب ، بهزاد رحیم خانی ، عنایت اله شفیعی ، فرنوش آل احمد ، مهدی وثوقی راد ، حجت اله گودرزی ، امید آهنگر ، ابوالقاسم مبارکی ، منصور مجلسی ، رضا قربانی ، ناصر مرعشی پور ، بهروز مسروری ، علیرضا فتحی ، عباس حسن نایب ، احمد توکلی|',\n",
              "  'پرویز پرستویی ، خسرو شکیبایی ، عنایت بخشی ، علی آقاجانیان ، منیژه سلیمی ، مهری ودادیان ، نعمت اله گرجی ، ایرج زینعلی ، صفر کشکولی ، بهمن پسندی ، حسن روشن ، غلامعلی درتاج ، قاسم ملاجعفری ، ولی اله خیری ، علی پروین|',\n",
              "  'پروانه معصومی ، مناف ایران پناه ، محمدقاسم ذوالقدر ، جیران شریف ، ژاله گرامفر ، خسرو دستگیر ، احمد مظلومی ، مهری مهرنیا ، نگار انصاری ، لعیا شهراد ، الهام بنفشه چین ، مجتبی صفری نیا ، لعیا صمدیان ، سارا شیری|',\n",
              "  'محمدعلی سپانلو ، پروانه معصومی ، علیرضا منتظری ، جمشید لایق ، هوشنگ بهشتی ، علیرضا اعلامی ، بهروز بقایی ، محمود تبریزی ، عباس قاجار ، خسرو شاه کرمی ، مهرماه منتظری رحمانی ، پریدخت اقبالپور ، گیتا قراگوزلو ، سعید خاکسار ، حسین قرجاوند|',\n",
              "  'بیژن امکانیان ، ایرج طهماسب ، صادق هاتفی ، فرهاد نیکپور ، فرشته صدرعرفایی ، منصوره شادمنش ، مهری ودادیان ، عرفانی ، رضا عفتی ، فرهنگ مهرپور ، حمیدرضا قطبی ، محمد قوچانی ، علی راد|',\n",
              "  'مهدی هاشمی ، اکبر عبدی ، محبوبه بیات ، رضا رویگری ، کتایون ریاحی ، حسین کسبیان ، علی اصغر گرمسیری ، سروش خلیلی ، محرم بسیم ، مختار سائقی ، حسین شهاب ، روح اله انصاری ، عسگر قدس ، محسن اصلانی ، حسین صفاریان|',\n",
              "  'مجید مجیدی ، علی توکلی ، رضا قاسمی ، شهرام جعفرنژاد|',\n",
              "  'حمزه جوادی پور ، آقاخان قارداش خانی ، مهتاب رحیمی ، نساء احدی ، محمدتقی عارف ، فرامرز محمدی پور ، رسول عبداله پور ، اعظم احدی ، کمال موسوی ، قاسم طاووسی ، محمد تیزرو ، غلامحسین مرادی ، فریدون آرش|',\n",
              "  'احمد رجبی ، حسین کیقبادی ، اکبر زنجانپور ، سامی تحصنی ، حسین کلامی ، نوری جوادیان ، احمد نصر ، گوهر گلکار ، محمدتقی شریفی ، مسعود طلایی ، نریمان شیری فرد ، موسوی شجاعی ، شاپور بخشایی ، اصغر محمدی ، احمد علیان|',\n",
              "  'افسانه بایگان ، مجید مظفری ، مهین شهابی ، شهلا ریاحی ، داریوش اسدزاده ، احسان حاتمی ، سارا قلی زاده ، سارا شیری ، مینا مولوی ، پوراندخت مهیمن ، منیژه دلدارگلچین ، خسرو دستگیر ، بهمن احمری ، ملیحه نصیری ، خلیل سماورآذر|',\n",
              "  'بیژن امکانیان ، حمید طاعتی ، ولی شیراندامی ، علی شعاعی ، فاطمه معتمدآریا ، حسین کسبیان ، حمید لبخنده ، طیب شرافتی ، رضا خندان ، حسین صفاریان|',\n",
              "  'حبیب اسماعیلی ، پرویز پورحسینی ، علی محزون ، فاطمه نقوی ، مهدی میامی ، منوچهر افسری ، رضا عفتی ، سامی تحصنی ، پریدخت اقبالپور|',\n",
              "  'عطاءاله زاهد ، محبوبه بیات ، اعظم قشقایی ، حسن شجاع ، احمد پژمان ، نصراله تنباکویی ، علی مرادی ، حسن نوری ، حمیدرضا مرادی ، غزل شاکری|',\n",
              "  'عنایت بخشی ، نرسی کرکیا ، خسرو امیرصادقی ، رضا کرم رضایی ، جمشید لایق ، نعمت اله گرجی ، اصغر جلالیان ، فرهاد محبت ، مهری ودادیان ، مرتضی نیکخواه ، مجید نوروزی ، شاپور بخشایی ، ابراهیم آقاجانی ، ایرج صفدری|',\n",
              "  'جهانگیر الماسی ، منصور مجلسی ، حبیب اسماعیلی ، حمید طاعتی ، فاطمه معتمدآریا ، فهیمه راستکار ، آنیک طوماسیان ، عنایت بخشی ، جمشید لایق ، مظفر سلطانی ، فرخ نعمتی ، حسین محب اهری ، غلامرضا طباطبایی ، بهروز رضوی ، اکبر فرجی|',\n",
              "  'ایرج راد ، جهانگیر الماسی ، جمشید گرگین ، جمیله شیخی ، سوگند رحمانی ، حشمت قاسمی ، رزا فرجاد ، کوروش سبزاندام ، علی اکبر کرد بچه ، کریم برتینا ، مری بیچر ، غلامرضا طباطبایی ، نیما نگار ، جمشید نگار ، گرگین|',\n",
              "  'فردوس کاویانی ، فاطمه معتمدآریا ، عزت اله قمی ، محمدعلی جعفری ، پروین دهقان ، آرش عزیززاده ، پرویز کلویر ، سوسن مقصودلو ، محمدتقی لطف ذرعی ، حمید عبدالملکی ، حسن دادشکر ، حمید صالحی ، قاسم پاکرو ، عیسی نسودی شعار ، حمید مرادی|',\n",
              "  'رضا صابری ، احمد فخر ، آنابور کوفسکا ، فریدون صلاحی ، احمد رضاییان ، مرضیه منصوری ، سهراب سرابی ، عباس جلالی ، یوسف اسدیان ، مجید رامیاد ، محمدرضا فتحی ، علیرضا عیسی پور ، مرتضی ربیعی ، سیروس حقیقی ، علیرضا کاروریانی|',\n",
              "  'خسرو شجاع زاده ، کاظم افرندنیا ، داوود فتحعلی بیگی ، حمید طالقانی ، ایمان ساجدی ، فریبا شمس ، علی کرمی ، فائقه نگینی ، ناصر شاگردی ، علیرضا شاگردی ، علیرضا اوسیوند ، سیروس اعوانی ، مجید خلقی ، محمدرضا سلیمانی|',\n",
              "  'مصطفی طاری ، رضا بابک ، مرتضی حاج سید احمدی ، رقیه چهره آزاد ، علی اصغر گرمسیری ، عزت اله رمضانی فر ، محمد پورستار ، محمود بصیری ، فرهاد خان محمدی ، نصرت دستمزدی ، مهدی قبادی ، محمود بنفشه خواه ، حسین پناهی ، قنبر دلشادی ، میترا قربانی|',\n",
              "  'جهانبخش سلطانی ، سیدجواد هاشمی ، مهرزاد نوشیروانی ، علی داروییان ، حمید صالحین ، حبیب اله الهیاری ، حیدر خان بابایی ، سیدعلی سجادی\\u200cحسینی ، رضا قلی پور ، فرهنگ حسینی ، اکبر محمدی ، اکبر شیرازی ، شفیعی ، خیطان ، نجفی|',\n",
              "  'فرج اله سلحشور ، خسرو ضیایی ، محمد احمدی ، علیرضا اسحاقی ، غلامرضا علی اکبری ، عباس شفیعی ، سیدجواد هاشمی ، مجید کیخواه ، حمیدی ، نعمت اله حمیدی ، اصغر زارع ، حمیدرضا رحمانی ، نعمت اله عابدی ، مهدی فلاح ، محمدعلی نصراصفهانی|',\n",
              "  'جهانگیر الماسی ، فیروز بهجت محمدی ، شهلا میربختیاری ، توران مهرزاد ، جعفر والی ، حسین کسبیان ، حسین احمدی نسب ، حسین نصرآبادی ، ویدا احمدی نسب ، ایران بزرگمهر ، محمد پورحسن ، خسرو یارعلی ، بهرام مولایی ، بابک نوری|',\n",
              "  'محمد صالح علا ، هوشنگ بهشتی ، مهین شهابی ، فریبا شمس ، بهار قهرمان ، مریم مقبلی ، ابراهیم آبادی ، ملیحه اکبری ، مختار سائقی ، حسن نوروزی وفا ، رضا دریانی ، لطیفی ، بهزاد سایقی ، فرزاد سایقی ، هانیه سعیدی|',\n",
              "  'سعید پورصمیمی ، مرتضی حاج سید احمدی ، مریم معترف ، غلامحسین خیر ، مریم زمانی ها ، باباخان صمدیار ، اکبر والی نژاد ، مهدی والی نژاد|',\n",
              "  'حسین کسبیان ، مهدی میامی ، عذرا ابدالی ، بهزاد نصراصفهانی ، حمید لبخنده ، فاضل اجبوری ، جمشید ترکیان ، داریوش بابائیان ، عباس اثناعشر ، حسینعلی آذری ، عصمت دوات ساز ، نعمت صادقی ، سیدعباس صادقی ، کرامت درخشنده|',\n",
              "  'مجید مجیدی ، عطاءاله سلمانیان ، عبدالحسن برزیده ، مجید آشتیانی پور ، رضا شفیع مهر ، نیلوفر محمودی ، رضا سروی ، حسن اسدی ، حبیب اله رجبعلی ، رضا قاسمی ، بهزاد خداویسی ، کوروش درویش زاده ، ابراهیم معین پور ، اسماعیل معین پور ، جهانسوز فولادی|',\n",
              "  'سیامک اطلسی ، مهرانه مهین ترابی ، نیما جوان ، سیروس گرجستانی ، حسین محجوب ، مهشید افشارزاده ، عطاءاله زاهد ، پرویز شاهین خو ، عباس ناظری نیک ، هادی نامور ، ملیحه نظری ، ایرج قوشچی باشی ، احمدرضا اسعدی ، رضا جوان ، عباس رستمانی|',\n",
              "  'گلچهره سجادیه ، پرویز پورحسینی ، داریوش ارجمند ، جمیله شیخی ، آنیک شفرازیان ، احمد کاشانی ، کمند امیرسلیمانی ، الناز امیرسلیمانی ، الناز داوودی|',\n",
              "  'شهلا میربختیاری ، جمشید شاه محمدی ، حسن اکلیلی ، غلامرضا گرشاسبی ، مهرناز فاطمی ، عصمت دوات ساز ، اکبر قاسمی ، کیومرث محمودی ، حمید تحویلیان ، آزاده تحویلیان ، عباس مختاری ، محمد نمازی ، فاطمه دخت شفیعی ، محمدرضا کسرایی ، فاضل اجبوری|',\n",
              "  'بیژن امکانیان ، پرویز پورحسینی ، سوگند رحمانی ، گوهر خیراندیش ، طیب شرافتی ، شاپور بخشایی ، علیرضا منتظری ، ایران اسکندری ، بهرام محمدی ، مسعود رحمانی ، مختار سائقی ، محمدرضا دیانی ، ناصر شیربچه|',\n",
              "  'رضا آقاربی ، حسین خانی بیک ، محمدتقی شریفی نوری ، محمدعلی عبدالهی نگار ، حمید ناصری ، محسن زهتاب ، علی شاکری ، صفر اجلی ، یوسف رضا رئیسی ، تقی جوادی ، میرطاهری ، خدیجه علیپور ، فاطمه گرمابدری ، رحیم عرب امینی ، جمشید علیخانی|',\n",
              "  'پروانه معصومی ، ایرج راد ، افسانه بایگان ، مهدی صباغی ، اکبر دودکار ، فاطمه طاهری ، یلدا نعمت الهی ، حسن تراب زاده ، حسین صفاریان ، مجید علی زاده ، مهدی میرزازاده ، شمس اله دولتشاهی ، امیر زمانی ، فاطمه یوسفی ، غضنفر راوندی|',\n",
              "  'سیدعلی اکبر اروعی ، عبدالرضا آشتیانی ، علی جلیلی باله ، محمدهادی قمشی ، نریمان شیری فرد ، یوسف رضا رئیسی ، حسین نیکخواه ، زهره زارعی|',\n",
              "  'آناهیتا قاضی بیات ، امیر کلوری ، مهری مهرنیا ، شروین نجفیان ، حمید صالحین ، علی دلاور ، مرضیه سعیدی ، حسن فرازمند ، جاماسب فره\\u200cوشی ، محمود شهیدی ، محسن ضرابی ، محسن قندهاری ، اسفندیار رسولی ، حمید احمدی|',\n",
              "  'حمید تاج دوستی ، ناصر فروغ ، سلیم رحیمی ، جمال صالحی ، جمال طباطبایی ، عباس حیدری ، حسن ساجدی ، بیژن پورغلام ، محمود داوودی ، نصراله زارع تیموری ، سیدناصر هاشمی ، علی شیرازی ، حسین سهرابی|',\n",
              "  'حافظ محمدی ، علی یزدانی ، محسن صابری ، احمد حیدری ، علی توکلی ، ابراهیم حسین پور ، یوسف قهرمان زاده ، حسن میرزاخلیلی ، ابراهیم شجاعی ، ولی اله مهتاج ، حمید منتجبی نیا ، شاپور باقری ، احمد راد ، رضا قاسمی ، اردشیر ایران نژاد|',\n",
              "  'جهانگیر الماسی ، علی اصغر گرمسیری ، رسول نجفیان ، غزال علمی ، پری عساری ، سهیلا علوی زاده ، بیوک میرزایی ، حسین ایری ، عزیز ترسه ، حسین پناهی ، مهوش وفایی ، شروین نجفیان ، محسن قاضی مرادی ، ماندانا اصلانی ، فریبا علمی پور|',\n",
              "  'رویا نونهالی ، بهروز رضوی ، اسماعیل سلطانیان ، زهره سرمدی ، بهروز پیروزیان|',\n",
              "  'افسانه بایگان ، رضا رویگری ، توران قادری ، عطاءاله زاهد ، پرویز شکری ، حسین صفاریان ، محمد گیلانی ، قدرت قربانی ، ابوالفضل میرزایی ، حسن عرب ، کریم نشاط ، محمد ایمانی ، غلام قنواتی ، محمد جوهری ، محمد آلبوفیش|',\n",
              "  'حبیب اسماعیلی ، حسن رضایی ، سایه میثمی ، جمشید لایق ، محسن اصلانی ، میرمحمد تجدد ، نعمت اله گرجی ، محمود بهرامی ، اکبر دودکار ، منوچهر افسری ، عباس امیرحسینی ، رضا بنفشه خواه ، مجید علی زاده ، غلامرضا اصانلو ، علی حق فروش|',\n",
              "  'مجید جعفری ، ناصر آقایی ، آتیلا پسیانی ، محسن زهتاب ، تانیا جوهری ، حسین نصرآبادی ، ارژنگ فرخ پیکر ، فرشید زارعی فرد ، منوچهر حامدی ، هوشنگ حسامی ، رضا مختاری ، بهروز بقایی ، ابراهیم آبادی ، حسین امیرفضلی ، حسن شجاع|',\n",
              "  'فریبرز سمندرپور ، عنایت بخشی ، قاسم سیف ، اردلان شجاع کاوه ، فریبا شمس ، کیاوش قاسمی ، حسین میلانچی ، رضا ایرجی نیا ، سعید دلیر ، ناصر گیتی جاه ، امیر مولایی ، مسعود راد ، شهیدی ، اسدی پور ، مجید نیامراد|',\n",
              "  'علی نصیریان ، محمدعلی کشاورز ، مهتاج نجومی ، رسول نجفیان ، علی رامز ، رامین پورایمان ، عباس امیرحسینی ، احمد رجبی ، اسفندیار ماوندادی ، جهانگیر فروهر ، مهدی کاشانیان ، منصور مجلسی ، ابراهیم شادمهر ، سمیرا علیخان زاده ، مجید گل بابایی|',\n",
              "  'رضا بنفشه خواه ، اکبر دودکار ، هادی قدس ، رضا متین ، مجید مجیدی ، هدایت اله نوید ، جلیل فرجاد ، محمدهادی قمشی ، محسن صادقی ، ابوالقاسم مبارکی ، حسن اسدی ، علی جلیلی باله ، محسن عظیمی نیا ، سعید عراقی ، حسین فرخی|',\n",
              "  'پروانه معصومی ، حسین صفاریان ، مهدی صباغی ، محمد میرزاپور ، احمد قدکچیان ، احسان عطابخش ، شهناز همتی ، ورقا عامری ، امیر نجیب زاده ، شهره مکومی ، مهرداد ژورک ، رضا آهنگر ، پرویز سنواتی ، حسن کامل ، بابک شعاعی|',\n",
              "  'امین تارخ ، داریوش ارجمند ، محمدعلی کشاورز ، اسماعیل خلج ، بهروز رضوی ، خسرو دستگیر ، فاطمه نوری ، ضیاء مدیرطاهری ، ابوطالب انوری ، امیرحسین کبودساز ، محمدرضا دره شیری ، ایرج سرباز ، محمود مشروطه ، اکبر الفت ، نریمان شیرفر|',\n",
              "  'جمشید مشایخی ، مهدی فتحی ، فردوس کاویانی ، کمند امیرسلیمانی ، فریده سپاه منصور ، فریده دریامج ، پردیس افکاری ، مسعود تکاور ، پروین شاهین خو ، فرهاد خان محمدی ، مسعود ارزبیگی|',\n",
              "  'رضا رویگری ، مهشید افشارزاده ، سارا مهین ترابی ، محمد شیری ، پروانه دباغی ، نعمت اله گرجی ، مهری ودادیان ، فرهاد نیکپور ، مریم صفایی ، نغمه داداشیان ، محمد سادات ابهری ، فرشته معتمدی ، اقدس صحت بخش ، داوود راحتلونژاد ، غزل یزدانی فر|',\n",
              "  'محمد صالح علا ، مهدی فتحی ، احمد هاشمی ، فرزانه کابلی ، مریم معترف ، بهزاد فراهانی ، محمود بهرامی ، مهران کولوشانی ، حسین غیابی ، عزیز داوری ، سعید فرزان ، وارطان آوانسیان ، مسعود زنجانی ، محمدرضا کسرایی ، کرامت درخشنده|',\n",
              "  'بهناز آزادخانی ، محمدرضا شریفی ، هادی اسلامی ، خسرو شجاع زاده ، انوشیروان ارجمند ، هوشنگ منصورخاکی ، امیرحسین خان شهری ، حسین کسبیان ، اکبر دودکار ، محمدتقی شریفی ، خسرو زنگباری ، رکسانا سلطانی ، امیر صحاف ، احمد رضاییان ، حیدر قدس|',\n",
              "  'مهدی شجاعی ، مجید زاهدی ، مهدی زاهدی ، حمید زاهدی ، سعید زاهدی ، محمدرضا ثقفی ، شاکر ، حسین عسگری ، زهره امیری ، آذر رضایی ، میرزایی ، سادات ، اسدی|',\n",
              "  'پرویز پورحسینی ، ولی شیراندامی ، مهین شهابی ، مرجانه دلدارگلچین ، کاظم افرندنیا ، هوشنگ بهشتی ، محبوبه بیات ، منوچهر حامدی ، حسین شهاب ، محمود بصیری ، ناصر رودکی ، مهرداد رحیمی ، علی شهبازیان ، صفورا غفوری ، محرم بسیم|',\n",
              "  'پرویز پورحسینی ، شهلا میربختیاری ، بهزاد فراهانی ، ایرج طهماسب ، حسین پناهی ، امراله صابری ، منصور حیدری ، محمد سادات ابهری ، مهرانه مهین ترابی ، مهتاب لسانی ، بهزاد سپهر ، رقیه چهره آزاد ، حمید خاقانی ، جهانگیر فروهر ، سینا زیوری|',\n",
              "  'مجید مجیدی ، یحیی دیوانی ، مسعود رحمانی ، داوود قنبری ، امیر کوت آبادی ، هاشم مستانی ، کامبیز رضایی ، قدیر غیاثوند ، محسن پناهی ، جعفر فری زاده|',\n",
              "  'بیژن امکانیان ، مرتضی حاج سید احمدی ، جمیله شیخی ، عبدالرضا اکبری ، بهزاد فراهانی ، صدرالدین شجره ، فریبا کوثری ، رحمان باقریان ، فریده سپاه منصور ، غلامرضا طباطبایی ، نسترن بوساک ، آتش تقی پور ، علی گلشن ، عباداله کریمی ، قاسم زارع|',\n",
              "  'خسرو شکیبایی ، مهناز افضلی ، عطاءاله زاهد ، نعمت اله گرجی ، پروین کوشیار ، ملیحه اکبری ، رحمان باقریان ، افشین کوثری ، هوشنگ ملک آرا ، مرتضی خانی اوشانی ، غلام عباس عباسی ، هوشنگ عباسی ، شجاع میرمحمدحسینی ، افسر اسدی ، هرمز هدایت|',\n",
              "  'حسین فیاض ، احمد مهدوی ، غلامرضا محمودی ، اکبر جلالی ، علیرضا امینیان ، اصغر علیم آبادی ، محمدصادق شومالی ، عباس فراهانی ، علی یوسفی ، اکبر آل داوود ، علی شریف رفتار ، حسین ایل بیگی|',\n",
              "  'مجید مظفری ، افسانه بایگان ، عبدالرضا اکبری ، منوچهر حامدی ، نیلوفر محمودی ، آتش تقی پور ، نسیم اکبری ، مهری ودادیان ، علی پو ، مهدی میرزاده ، بلقیس ربیحاوی ، آرمینه مگرومچیان ، شمسی کاظمی ، محسن حامدی ، حسن سلطانی|',\n",
              "  'مهدی فتحی ، فرزانه کابلی ، امیر شیسی ، رناک آزادی ، تقی محمودی ، حسین غیابی ، حبیب اله ایزدخواستی ، بهرام بقایی ، ابوالقاسم فرقانی ، پری کربلایی ، اسکندر رفیعی ، یادگار طاهری ، محمدعلی قنبری ، رسول باباییان ، جلال سارنج|',\n",
              "  'مهدی میامی ، فیروز بهجت محمدی ، محمود جعفری ، پردیس افکاری ، روح انگیز مهتدی ، آناقربان قلیچ تغانی ، حاج مراد بلخانی ، رضا فیاضی|',\n",
              "  'محمدعلی کشاورز ، سیامک اطلسی ، رضا صابری ، فتحعلی اویسی ، مینا ناجی ، مهری مهرنیا ، محمد ناجی ، حسن فرازمند ، حمیدرضا صادقی ، پرویز نیک منش ، خسرو معتمدی ، اصغر امین اکبری ، محمد راسخ ، مسعود صادقیان ، مهرگان بختیار|',\n",
              "  'تورج زاهدی ، سهیلا مرادی ، رویا نونهالی ، محمد علیدوست ، اسماعیل سلطانیان ، منوچهر حامدی|',\n",
              "  'فرخ حیدری ، فرامرز قریبیان ، شهلا ریاحی ، محمود جعفری ، کاظم افرندنیا ، فریبا کوثری ، اکبر سنگی ، ملیحه نظری ، معصومه تقی پور ، سیدمحمدباقر مرادی ، نادر شهسواری ، مصطفوی رستمی ، یداله فهیمی ، سیروس نیک طبع ، عبدالحسین خالدی|',\n",
              "  'فرج اله سلحشور ، امیرحسین حجت ، حامد آهنگر ، خانم داستان ، حبیب اله رجبعلی ، عبدالرضا حیاتی ، حمید آهنگر|',\n",
              "  'فخری پازوکی ، عادل قادری ، محسن میرامینی ، حمید ملک ، محمدی ، رضا نفری ، حسنعلی کامران ، نیکی کریمی ، رضا رویگری ، منوچهر حامدی ، ولی شیراندامی ، علی ثابت ، سروش خلیلی ، پوران قادری ، محمود ابراهیم زاده|',\n",
              "  'ادیب قدوره ، علی اکبر بهادری ، امیر باران لوئی ، مونیا جمالپور ، معصومه تقی پور ، فرهنگ مهرپور ، فرحناز شادمانی ، محمدرضا حقگو ، خداداد احمدی ، فائزه نوشیروان ، فرهاد محبت ، محمود مقامی ، محسن محمدیه ، فریبا لشگری ، یوسف آذری|',\n",
              "  'لفته حیدری ، حسین یاری ، نعمت اله لاریانی ، عزیز پیرانی ، جابر سلامی زاده ، داراب آقاسی زاده ، حسن رضایی پور ، جلال جباری ، علی قلی امیراحمدی ، سهامه جوهری ، لفته لودمی ، سعید عراقی ، مهدی طیبی|',\n",
              "  'احمد اشراقی ، محمد پورحسن ، اکرم محمدی ، کیومرث ملک مطیعی ، گلچهره دانش ، نعمت اله گرجی ، ایرج صفدری ، کمال صوفباف ، فاطمه سایقی ، بهروز سایقی ، مختار سائقی|',\n",
              "  'جهانگیر الماسی ، آتنه فقیه نصیری ، حسین خانی بیک ، فریبرز عرب نیا ، فریده سپاه منصور ، فریدون امیرعبدالهیان ، حسین گوهری ، امیرعلی مژدهی ، فرحناز فنونی ، رحیم موسوی ، جواد احمدیان ، ابوالفضل غلامرضایی ، شیما دل افروز ، رسول نجفیان ، مهدی میامی|',\n",
              "  'خسرو شکیبایی ، اسماعیل سلطانیان ، نادیا دلدارگلچین ، هوشنگ توکلی ، هادی مرزبان ، فخرالدین صدیق شریف ، بیوک میرزایی ، علی پویان ، فریبا کوثری ، محمدقاسم پورستار ، پروین سلیمانی ، نادر رجب پور ، صفورا غفوری ، حسین راضی ، محبوبه سجادی|',\n",
              "  'حسین خانی بیک ، مهری ودادیان ، امیر شهلا ، مهدی صباغی ، هادی معمارتهرانی ، علیرضا سوزن چی ، رضا برات زاده ، سپیده پرور ، فرزانه فاضل زاده ، مسعود جمشیدیان ، راضیه جویباری ، صدیقه شیرماهی ، غلامرضا بایران منش ، محمد الهی ، غلامرضا عارف نژاد|',\n",
              "  'رزگار محمدامین ، رژان عمری ، شادی قاضی پور ، پوری فاطمه ، یونس آتشک ، علی مولایی ، ابراهیم عمری ، محمدابراهیم یوسفی|',\n",
              "  'الیزا جوهری ، ایما مشهدی زاده ، فاطمه گودرزی ، مهین امیرفضلی ، گراناز موسوی ، بلقیس ربیحاوی ، ماندانا اصلانی ، ملیحه نیکجومند ، فرنوش آل احمد ، روح انگیز مهتدی ، زهره سعیدی ، صفیه آقاجانی ، مرضیه توکلیان ، ناهید حجازی ، مهرناز قره گزلو|',\n",
              "  'غلامرضا علی اکبری ، سیدحسین سجادپور ، محسن زنگنه ، لطفعلی سیدکوثری ، اردشیر طلوعی ، سیدعلی موسوی ، علی اصولی زاده ، سیدعلی حسینی ، داوود رسولیان ، حبیب اله کاسه ساز ، ملیحه ابراهیمی شعربافان ، فرحناز منافی ظاهر ، مجید رمضانی ، مجتبی رمضانی ، محمدرضا آهنج|',\n",
              "  'داریوش ارجمند ، محمد صالح علا ، چنگیز وثوقی ، هما روستا ، جهانگیر فروهر ، شهلا ریاحی ، احمد هاشمی ، عبدالرضا آشتیانی ، افسانه مقامی ، آناهیتا قاضی بیات ، داریوش بابائیان ، اسکندر رفیعی ، محمد نمازی ، حسین صفاریان ، مسعود زنجانی|',\n",
              "  'جهانگیر الماسی ، محمد صالح علا ، چنگیز وثوقی ، عنایت اله شفیعی ، علی مشروطه ، صدرالدین حجازی ، محمد ورشوچی ، حمید دلشکیب ، پرویز شکری ، غلامرضا فرامرزیان ، حسین نیازی ، مژگان لطفی ، منوچهر لطفی ، ضیاء امیری ، سهراب جلالی|',\n",
              "  'خسرو شکیبایی ، محمدعلی کشاورز ، فریبا کوثری ، حمیده خیرآبادی ، محبوبه بیات ، حمید عبدالملکی ، حسن رضایی ، علی برجسته ، اکبر معتمدی ، محسن آراسته ، عبود مبارکی ، عباس حیدری ، ایرج صفدری ، محمد آراسته|',\n",
              "  'پرویز پورحسینی ، محمد سادات ابهری ، امراله صابری ، نرسی کرکیا ، حسین پناهی ، عباس محبوب ، شاهد احمدلو ، محمدولی احمدلو ، صفر اجلی ، الهه سجادی ، نفیسه طباطبایی ، محمدرضا سیف الهی ، محمدرضا قومی ، احمد امیدی ، سعید سلطانی|',\n",
              "  'جمشید مشایخی ، ایرج راد ، کمند امیرسلیمانی ، فرزانه کابلی ، جمشید اسماعیل خانی ، اقدس محمدی ، سایه میثمی ، سهیلا رضوی ، مهدی وثوقی راد ، نسترن بوساک ، رحیم بقایی ، حسین ایل بیگی ، سپند امیرسلیمانی ، گیلدا اسدی ، سهیلا علوی راد|',\n",
              "  'محمود جعفری ، فتحعلی اویسی ، پرویز پرستویی ، کتایون ریاحی ، تانیا جوهری ، علی کسمایی ، نیکو خردمند ، منصور والامقام ، عزت اله جامعی ، روح اله مفیدی ، علی توکل نیا ، امیر نیکیار ، پرویز شاهین خو ، پرستو رجبی ، محمدرضا جامعی|',\n",
              "  'محمود بی غم ، امیر یزدانی ، حسین یاری ، سیدرحیم حسینی ، منصور اخوان ، شاپور محمدی ، فرهاد توسلیان ، جواد شیدائیان ، اسماعیل محمدی ، شهرام پروانیان ، نیما مراقبی|',\n",
              "  'سیدمحمد موسوی ، علی سیفی ، رامین رجول ، بهمن عیوق ، حبیب چنانی ، منوچهر چنانی ، روح اله دیناروند ، جواد صمدی ، علی نیسی ، سیدمطیر موسوی ، قاسم داوودی ، فریده صمصامی|',\n",
              "  'مهدی هاشمی ، داریوش فرهنگ ، افسانه بایگان ، سیامک اطلسی ، آتیلا پسیانی ، اکبر ثابت کسائی ، شهلا ریاحی ، حسین محب اهری ، نیلوفر محمودی ، رامین پورایمان ، مظفر سلطانی ، فاطمه نقوی ، منوچهر افسری ، شاهرخ سخایی ، غلام ژاپنی|',\n",
              "  'منوچهر آذر ، خسرو شجاع زاده ، آتیلا پسیانی ، مجید مظفری ، افسر اسدی ، کمند امیرسلیمانی ، فریده صابری ، اسماعیل سلطانیان ، غلامرضا طباطبایی ، محمد طاهر ، راشین مبارکی ، شهناز رستمی ، آی محمد آی محمدی ، نرگس رحمانی نسب ، سیامک تقی پور|',\n",
              "  'راسم بالایف ، بهمن احمری ، حمیده عمراوا ، بهار عبداله یوا ، عنایت بخشی ، لطیفه علی\\u200cیوا ، ولیت ولی یف ، جعفر عباسپور ، جعفر رحیمی ، سعید عباسی ، یوسف دریادل ، مقصود حسنی ، شاهین عباسی ، اعظم محمدی ، اکبر نوذری|',\n",
              "  'مجید مظفری ، مهناز انصاریان ، علی شعاعی ، اصغر زمانی ، سهیلا حافظی جو ، رحیم صادق\\u200cالوعد ، حسین ملکی ، صفر سیدآبادی ، مهین بوجار ، داوود بیاتی ، اکبر دودکار ، رضا کارآگاه ، حسین رنگینوند ، امیر مقدم ، زهرا مقدم|',\n",
              "  'پریوش نظریه ، ولی اله مؤمنی ، آتش تقی پور ، مجید میرزاییان ، عطاءاله زاهد ، سیروس صابر ، رضا فتاح حسینی ، نسرین شهبازی ، منصور ایلخانی ، آمنه خلدبرین ، مهوش رحیمی ، رفیا تیرگری ، لیلی قندچی ، رضا آقاربی ، محمد امینی|',\n",
              "  'جمشید هاشم پور ، چنگیز وثوقی ، ثریا گل محمدی ، عباس جهانبخش ، امیرحسین خان شهری ، ماهایا پطروسیان ، مریم هوشیدری ، فهیمه راستکار ، غلامرضا طباطبایی ، رضا جهانگیری ، رضا جهانبخش ، غزال اعلامی ، اصغر علایی ، شهرام جمشیدی ، شیوا خنیاگر|',\n",
              "  'مهدی هاشمی ، غلامحسین لطفی ، اصغر همت ، حمیده خیرآبادی ، حمید عبدالملکی ، حسن دادشکر ، سخاوت زاهدی ، اسداله یکتا ، سعید شیخ زاده ، سیروس تقی نژاد ، ابوالقاسم جلالی ، محمدرضا صمیمی ، قدرت اله صالحی ، سوسن آقارجبی ، رضا عرب|',\n",
              "  'احمد شبکه ساز ، شهره علیشاهی ، اکبر تشکری نیا ، محمدحسن مه کلانی ، محمدرضا نظری ، سمیره مسایلی ، اسماعیل زنگل کیا ، نرجس بصیرت ، حسن امیدی ، پروانه آقاجانی ، محمدحسین آقاجانی ، مهرداد ادهمیان ، حسین ارگدستانی ، محمدرضا افشار ، حسن افشین|',\n",
              "  'بهزاد جوانبخش ، جمشید مشایخی ، فاطمه نوری ، جلال مقدم ، ولی شیراندامی ، سعید شیخ زاده ، جلال مقامی ، نرسی کرکیا ، توران قادری|',\n",
              "  'هما روستا ، جمشید مشایخی ، خسرو دستگیر ، سعید عباسی ، مهرانه مهین ترابی ، فاطمه صادقی ، محبوبه مقبلی ، ابراهیم آبادی ، فرخ لقا هوشمند ، سولماز پناهی وحدت ، یاشار پناهی وحدت ، قادر فیض ابهر ، احمد مظلومی ، حمید خطیبی ، جمال ذوالقدر|',\n",
              "  'ابوالفضل پورعرب ، فاطمه گودرزی ، حسین پناهی ، لیلا مصدقی ، روح اله مفیدی ، گیتی فروهر ، داراب آقاسی زاده ، ابوالفضل میرزایی ، رضا واعظ ، منوچهر خندان ، محمد گلچین ، پرویز باهنر ، سهراب نعمتی ، بدرالسادات برنجانی ، گیزلا ولز|',\n",
              "  'جهانگیر الماسی ، حسین محجوب ، فریبا کوثری ، هرمز سیرتی ، الیزا جوهری ، منوچهر حامدی ، مهری مهرنیا ، رسول نجفیان ، پرویز شاهین خو ، رضا کیکاوسی ، شاهرخ دستورتبار ، بهروز هنربخش ، داریوش پاک نیا ، منوچهر بهروج ، امیر پایور|',\n",
              "  'مجید جعفری ، توران مهرزاد ، اکرم محمدی ، محمود عزیزی ، ارژنگ فرخ پیکر ، ابراهیم آبادی ، ملیحه آبادی ، جمشید اسماعیل خانی ، گوهر خیراندیش ، مینو آهنگی ، فاطمه طاهری ، بهمن روزبهانی|'],\n",
              " ['مهدی هاشمی ، محمدعلی کشاورز ، اسماعیل داورفر ، سیامک اطلسی ، حسن رضایی ، فریبا کوثری ، مهین شهابی ، آزیتا صالحی ، عبدالرضا اکبری ، امراله صابری ، محمد سادات ابهری ، جهانگیر فروهر ، اکبر دودکار ، میرصلاح حسینی ، محمد ورشوچی|',\n",
              "  'افسانه بایگان ، غلامحسین لطفی ، تورج نصر ، حسین محب اهری ، خسرو احمدی ، شهرام لاسمی ، قدرت اله ایزدی ، علیرضا رئیسی ، سعید طباطبایی ، کیان باباییان ، مجتبی جعفری ، بابک عبدالغنی ، جواد زیتونی ، سلیم قاسمی ، عطیه غبیشاوی|',\n",
              "  'فرامرز قریبیان ، عنایت بخشی ، هوشنگ توکلی ، رضا قربانی ، نیما بانکی ، هادی انبارداری ، فریبرز سمندرپور ، احمد قدکچیان ، محمود احمدی ، فرنوش آل احمد ، فاطمه طاهری ، محمد صادق پور ، حسن عظیمی ، پرویز شفیع زاده ، لیلی قندچی|',\n",
              "  'پرویز پورحسینی ، حسین پناهی ، مهدی فتحی ، آزیتا حاجیان ، حمید طاعتی ، ایرج نوذری ، سیامک اطلسی ، محمدرضا شریفی نیا ، فریده صابری ، محمد خلیلی فرد ، جهانگیر فروهر ، محسن قاضی مرادی ، فاطمه صادقی ، یوسف صمدزاده ، بدرالسادات برنجانی|',\n",
              "  'احمد نجفی ، فرزانه کابلی ، ناصر هاشمی ، هایده حائری ، سیروس ابراهیم زاده ، پردیس افکاری ، حسن جوهرچی ، امیر صادقیان ، حسین حسین زاده ، ملیحه نیکجومند ، پرویز شفیع زاده ، فاطمه مجلسی ، علی اکبر طوفان پناه ، نصرت کریمی ، همایون خلیق|',\n",
              "  'گوماتا ریاحی ، رویا نونهالی ، جمشید گرگین ، فتحعلی اویسی ، هما مشکین ، هدایت اله نوید ، حمیدرضا هاشمیان ، پریسا ایمانی ، محمد علیقلی ، ناصر فروغ ، صدیقه کیانفر ، فتانه آصف نخعی ، محمدرضا گودرزی ، فریدون ابوضیاء ، کاوه ابوضیاء|',\n",
              "  'سعید شیخ زاده ، توران قادری ، تورج نصر ، رشید اصلانی ، جمشید رفیعی راد ، علی واحدی ، مهدی ابراهیمی ، یوسف میرکیانی ، احمد نادری ، کمال سیدمحسن ، مریم قاسمی ، رسول قربان پور ، ابراهیم تقی دوست ، سودابه بانکی|',\n",
              "  'جمشید مشایخی ، حسین وزیری ، فاطمه سرمیلی ، عنایت بخشی ، فاطمه طاهری ، فاطمه حسین ملا ، محمدرضا ذاکرزاده ، سیدعلی فروتن مقدم ، پوران ناظمی ، فاطمه دیهلول ، ناهید سرمیلی ، مرتضی نیکخواه ، اکبر رستگار ، اصغر رستگار ، حسین خوئی|',\n",
              "  'فرامرز صدیقی ، جمشید هاشم پور ، احمد هاشمی ، محمد صالح علا ، قطب الدین صادقی ، محمد سادات ابهری ، مهرانه مهین ترابی ، بیوک میرزایی ، محمدعلی ساربان ، بهروز رضوی ، عباس جهانبخش ، اردلان شجاع کاوه ، افسانه مقام ، فریبرز سمندرپور ، شهروز ملک آرایی|',\n",
              "  'جمشید مشایخی ، سعید امیرسلیمانی ، مریم معترف ، رضا کرم رضایی ، باقر صحرارودی ، مهدی کاشانیان ، طاهره سری ، روح اله مفیدی ، انوش نوروزی ، حمید میرباقری ، عباس محبی ، سپند امیرسلیمانی ، حسن شجاع ، افسانه چهره آزاد ، امیر نوروزی|',\n",
              "  'لیلا مصدقی ، مریم مصدقی ، گرشا رئوفی ، مهین شهابی ، داریوش اسدزاده ، عباس جهانبخش ، فیروز ، روح انگیز مهتدی ، مرجانه دلدارگلچین ، گیتی فروهر ، یحیی خاوری ، موسوی ، مهین بوجار ، فریبا حسینی ، حسن رضایی|',\n",
              "  'رویا نونهالی ، رضا رویگری ، مرجانه دلدارگلچین ، نادیا دلدارگلچین ، شهلا ریاحی ، پروین سلیمانی ، فرخ لقا هوشمند ، مهری مهرنیا ، عباس جهانبخش ، فاطمه طاهری ، آتش تقی پور ، امیرحسین خان شهری ، مهری ودادیان ، محمد ورشوچی ، حمداله عابدی|',\n",
              "  'جمشید مشایخی ، جمشید اسماعیل خانی ، امید آهنگر ، حمیده خیرآبادی ، التفات قربانی ، فرحناز منافی ظاهر ، عزیزاله هنرآموز ، اکبر دودکار ، کاوه سجادی حسینی ، فرهاد خان محمدی ، عباس مختاری ، محمدولی احمدلو ، علی شجاعی ، شاهین قربانی ، صفورا غفوری|',\n",
              "  'علی سرتیپی ، فتانه یعقوبی ، ژرژ هاشم زاده ، سعید ذهنی ، شهلا ریاحی ، مرتضی حاج سید احمدی ، جعفر والی ، جهانگیر فروهر ، مهری مهرنیا ، حسین سرشار ، حمید آزمون ، علی حیدرجان ، میرمحمد تجدد ، احمد قدکچیان ، مظفر سلطانی|',\n",
              "  'هادی اسلامی ، حبیب اسماعیلی ، مریم صفایی ، خسرو امیرصادقی ، پوراندخت مهیمن ، محسن اصلانی ، سعید شیخ زاده ، مجتبی هویدی ، لیلی زارع ، منوچهر افسری ، اکبر اصفهانی ، حسن کامل ، خسرو کرمی ، منوچهر قدیری ، هوشنگ دیبائیان|',\n",
              "  'امیر نیکیار ، نقی سیف جمالی ، منصور موزونی ، شهناز شیخ علی ، پرهام دلدار ، حسن ترکی زاده|',\n",
              "  'مهدی فتحی ، چنگیز وثوقی ، افسانه بایگان ، جهانگیر فروهر ، بهروز رضوی ، منوچهر حامدی ، شیوا خنیاگر ، مهدی آریان نژاد ، مهتاب ظریف ، اکبر دودکار ، حسین شهاب ، ایرج نوروزی ، ملیحه نصیری ، پریدخت اقبالپور ، ناصر سالاری|',\n",
              "  'مهدی فخیم زاده ، هادی اسلامی ، سوسن سلیمی ، خسرو امیرصادقی ، لیلی زارع ، علی برجسته ، توران قادری ، امیر وطن زاد ، حسن کامل ، پرویز حکمی ، خسرو کرمی ، عباس ناظری نیک ، عیسی صفایی ، رضا عارفان ، محمد سعادت|',\n",
              "  'امین تارخ ، مهشید افشارزاده ، حسین کسبیان ، سعید شیخ زاده ، خسرو امیرصادقی ، آنیک شفرازیان ، ملیحه نظری ، پریدخت اقبالپور ، خسرو کرمی ، اقدس صحت بخش ، داوود راحتلونژاد ، رضا شمیرانی ، کمال سیدمحسن ، رشید اصلانی ، حسن کامل|',\n",
              "  'جهانبخش سلطانی ، محرم زینال زاده ، جعفر دهقان ، کاظم افرندنیا ، اردلان شجاع کاوه ، ابوالفضل شاه کرم ، حمید رضا تاج دولتی ، مصطفی رستمی ، محمد گیلانی ، اکبر اصفهانی ، حسین خسروی ، ناصر اعتزازی ، حمید صالحی ، حسین نظری ، حمید مطهری|',\n",
              "  'حسن سجادی ، راضیه برومند ، فهیمه راستکار|',\n",
              "  'ابراهیم پناهی ، انوش نصر ، اعظم علیپور ، علی عسگری ، علی برنج جو ، بهار موجودی ، سیما پرنور ، منصوره حسن زاده ، یوسف پاشاکی|',\n",
              "  'سیامک اطلسی ، جعفر والی ، مهری مهرنیا ، فتحعلی اویسی ، مهرانه مهین ترابی ، علی کوهپایه ، پرویز قزوینی ، محمود نظرعلیان ، عباس آل یاسین ، سعید ولی زاده ، دارا علی آبادی ، سیامک حلمی ، حجت بابایی ، نادر افروزه ، فاطمه صادقی|',\n",
              "  'محمد نجات قنبری ، مهران بهداروند ، حسن احمدی ، حشمت قاسمی ، داریوش باقرفر ، گلناز احمدی ، سعید نصیریان ، اقدس صحت بخش ، علی چهرازی ، سعیده نصیری ، علی اصغر رفیعی ، عزت نصیری ، مرتضی ایمری ، محسن مبصر ، رضا محمدی|',\n",
              "  'مهدی فقیه ، مهدی قلی پور ، محمدرضا رحمانی ، محمدرضا مهدوی ، علیرضا یزدان خواه ، محمد گوهری ، حسین یاری ، اسماعیل امیری ، حسن خانی ، تقی جوادی ، سیداخلاص موسوی ، سهراب سلامتی ، ناصر محمدزاده ، اکبر افلاطونی ، مهرشاد کارخانی|',\n",
              "  'جهانگیر الماسی ، کاظم بلوچی ، شهره لرستانی ، روح انگیز مهتدی ، میرصلاح حسینی ، حسن شجاع ، حمیرا آزمائی ، خسرو رحمانی ، سیدجلال طباطبایی ، اصغر خدایی ، حسین رحمانی ، نعمت جهانفرد ، حسین چنگی ، حامد خراسانی ، سعید عباسیان|',\n",
              "  'جمشید مشایخی ، افسانه بایگان ، علی معلم ، رضا رویگری ، مهدی رئیس فیروز ، بهروز زهره وند ، بهرام محمدی پور ، طلعت رحمان اف ، دمیتری بگدانف ، پرتوریا کووفسکی ، فاطمه امین اوا ، نوربالا محمداف ، آیدر پژونف ، لنگار آقایف ، تالی وردی عزیزاف|',\n",
              "  'مصطفی طاری ، صدرالدین حجازی ، محبوبه بیات ، میرمحمد تجدد ، رضا کرم رضایی ، بهزاد رحیم خانی ، کاظم افرندنیا ، مهدی آریان نژاد ، سرور رجایی ، محمود دینی ، محمد سادات ابهری ، علی رامز ، الهه سجادی ، مهری ودادیان ، ملیحه حاجیلو|',\n",
              "  'علی سرتیپی ، فرانک آراسته جو ، زهره صفوی ، پرویز شاهین خو ، الهه محسنی نسب|',\n",
              "  'جلیل فرجاد ، حسن جوهرچی ، زهره صفوی ، اردلان شجاع کاوه ، حسین انصاری ، اسرافیل علمداری ، سودابه آقاجانیان ، سیدناصر حسینی فر ، علیرضا اسحاقی ، عبدالرحمان بحرینی ، فرامرز شهنی ، ماشاءاله شاهمرادی زاده ، حسن نجاریان ، شاداب شهلایی ، مسعود حسین نژاد|',\n",
              "  'احمدرضا کشاورز ، امان اله رحیمی ، رفیا تیرگری ، امیر دژکام|',\n",
              "  'مجید مظفری ، عباس جهانبخش ، امیرحسین خان شهری ، عزت اله رمضانی فر ، علی زاهدی ، حمید طالقانی ، سامان افتخاری ، اشمیت گانسر ، مایکل کخ ، سیروس کهوری نژاد ، فرخ صحبتی ، پرویز افتخاری ، علی جهانبخش ، سیدعباس موسوی ، محمدرضا دودانگه|',\n",
              "  'محسن یگانه ، ناصر فروغ ، بهزاد خداویسی ، حسن حبیبی ، زهره زارعی ، رضا تقوایی ، محسن گلناری ، حسن سعیدی ، مرتضی اکبری|',\n",
              "  'حسین عمرانی ، کاظم افرندنیا ، محمود دینی ، بهار عاملی ، علی فریدونی ، احمد عابدین زاده ، مجتبی جنگروی ، خسرو یزدانی ، عباس بخشی پور ، حسن عرب ، حسین شهاب ، محمدرضا مستعد ، زهره امیری ، مهری ودادیان ، اصغر دلاوری|',\n",
              "  'جمشید هاشم پور ، مجید مظفری ، فریماه فرجامی ، کتایون ریاحی ، حمیده خیرآبادی ، مرتضی ضرابی ، علی اصغر گرمسیری ، منوچهر حامدی ، ابراهیم آبادی ، لوریک میناسیان ، جواد میرمیران ، شعبان رنگی وند ، خسرو زنگباری ، روبرت قارابگیان ، شقایق رضازاده|',\n",
              "  'مهدی فقیه ، عبدالحسن برزیده ، علیرضا اسحاقی ، محسن قصابیان ، فرید کشن فلاح ، اکبر پاکزاد ، مهدی حاجی حسینلو ، احمدرضا دهانی ، اکبر رشیدیان ، مرتضی کلاهدوزان ، علی محمد هارونی ، مهدی حمیدی ، ایرج زارع ، علیرضا اکبری ، مجید کریمی|',\n",
              "  'مرجانه دلدارگلچین ، عباس جهانبخش ، دانیال حکیمی ، رضا بابک ، شهلا ریاحی ، رامبد لطفی ، علی پویان ، حمید برومند ، سراج الدین حجازی ، فرحناز مهر ، هما خاکپاش ، محمدعلی نقی کنی ، سیدجلال طباطبایی|',\n",
              "  'جهانبخش سلطانی ، جعفر دهقان ، سیدجواد هاشمی ، حسن عباسی ، علی درخشی ، محمدجواد کاسه ساز ، احمد جواهری ، سیدمحسن خرم دره ، محمد گیلانی ، محمد طاهری آذر ، ناصر حسینی ، حمیدرضا رجایی ، سیدجلال طباطبایی ، محمود محمدطائمه ، علی بیانی|',\n",
              "  'محمدعلی کشاورز ، بهزاد بهزادپور ، فریبا کوثری ، فریبرز عرب نیا ، سیدعباس موسوی ، محمود بصیری ، فرج مولایی ، حمید عبدالملکی ، حسن کاخی ، هوشنگ قوانلو ، شراره یوسفی نیا ، زهره اویسی ، جعفر بزرگی ، هوشنگ فردوس ، مجید نهاوندیان|',\n",
              "  'افسانه بایگان ، رضا رویگری ، داوود موثقی ، حسین محب اهری ، حسین عرفانی ، شهلا ناظریان ، علی سخاوت ، زاهدی ، فرخ لقا هوشمند ، سعید شیخ زاده ، رضا غفوری ، مجتبی جمشیدی ، میرزاده ، زهره حمیدی|',\n",
              "  'حسن رضایی ، آزیتا حاجیان ، عباس جهانبخش ، مرتضی ضرابی ، آتش تقی پور ، ایرج خدری ، پرویز کلیور ، ساغر بهادران ، گلچهره دانش ، رحمت یخچالیان ، سهراب شلیله ، سلیم رسولی ، شهره درودی ، بابک والی ، محمود مقدم|',\n",
              "  'جمشید هاشم پور ، مجید مظفری ، فریماه فرجامی ، حمیده خیرآبادی ، کتایون ریاحی ، منوچهر حامدی ، علی اصغر گرمسیری|',\n",
              "  'محرم زینال زاده ، جعفر دهقان ، عطاءاله سلمانیان ، محمد حسام ، حسین راضی ، نرگس کردبچه ، مهدی قانع ، ماندانا اصلانی ، سیدعلی حسینی ، محمدرضا باقری ، نامدار ناصری ، طباطبایی|',\n",
              "  'جمشید مشایخی ، افسانه بایگان ، داریوش مؤدبیان ، سیروس ابراهیم زاده ، ابراهیم پورمنصوری ، رسول توکلی ، منوچهر حامدی ، مصطفی راد ، رضا مرادیان ، پری کربلایی ، میترا چوپان ، احمد عباسی ، اسکندر رفیعی ، حسین طباطبایی ، حسین غیابی|',\n",
              "  'مهدی باقربیگی ، پروین دخت یزدانیان ، محمدعلی میانداری ، جمشید صدری ، جهانبخش سلطانی ، مرتضی حسینی ، محمدعلی شاهمرادی ، رضا صدقی پور ، رضا حسین زاده ، افشین زرافشانی ، اصغر خسروی ، حسن سراییان|',\n",
              "  'جعفر دهقان ، محسن مکاری ، رمو الکساندریان ، حسین بخشی پور ، احمد جوهری ، محمد جوزانی ، شاهین جعفری ، علی توکل نیا ، محمدرضا عسگری ، اکبر اظفرنیام ، تقی محمودی ، ژانت وسکانیان ، مژگان بلالی ، پرویز غلامی ، بشیر مالمیر|',\n",
              "  'فرامرز قریبیان ، جمشید هاشم پور ، هادی اسلامی ، رضا رویگری ، کامران باختر ، نریمان شاداب ، فخرالدین صدیق شریف ، فرهاد خان محمدی ، عسگر قدس ، مریم مقبلی ، فاطمه طاهری ، عیسی صفایی ، پرویز شفیع زاده ، سیامک عافیت ، علی شیرازی|',\n",
              "  'جمشید اسماعیل خانی ، گوهر خیراندیش ، اسماعیل داورفر ، مرتضی ضرابی ، حمیده خیرآبادی ، مهناز غمخوار ، ایمان قاسمی ، شهاب احمدی نژاد ، مهدی غفاری ، کتایون کاه کوئی ، محبوبه زراعت دوست ، شهره ادیبی ، فایقه هراتی ، محمد سعادت یار ، محمد ورشوچی|',\n",
              "  'جمشید هاشم پور ، کتایون ریاحی ، علی ثابت ، حسن رضایی ، منوچهر حامدی ، پرستو گلستانی ، شاهد احمدلو ، کاظم هژیرآزاد ، نریمان شاداب ، ناصر گیتی جاه ، رضا مرادیان ، رفیع مددکار ، امیرحسین صدیق ، انوشیروان نعیمی ، مختار سائقی|',\n",
              "  'داریوش ارجمند ، ابوالفضل پورعرب ، نسرین مقانلو ، میلاد عراقی ، عبدالرضا آشتیانی ، عنایت بخشی ، مجید میرزاییان ، علی سرتیپی ، حمید طالقانی ، نسرین خدادوست مقدم ، فرشته قربانی ، افسانه حسن زاده ، ندا آذر ، انوش نصر ، یوسف آشوری|',\n",
              "  'فرامرز قریبیان ، بهزاد جوانبخش ، مهناز اسلامی ، پروین سلیمانی ، احمد معینی ، اکبر اصفهانی ، سیما روحانی پور ، علی نظری ، اشکان اسلامی ، علی اخوان ، اکبر جعفری ، فخرالدین قره باغی ، علی سهیلی ، رضا زارع ، حسن ساعدی|',\n",
              "  'بیژن امکانیان ، اصغر محبی ، رضا بابک ، جمشید اسماعیل خانی ، گوهر خیراندیش ، فریبرز سمندرپور ، بهروز مسروری ، علی جلالی ، رضا بنفشه خواه ، سعید امیرسلیمانی ، رضا غفوری ، پرویز سپرویزن ، سودابه آقاجانیان ، هما خاکپاش ، توران قادری|',\n",
              "  'جمشید مشایخی ، ولی شیراندامی ، رضا رویگری ، عباس محبوب ، حوریه جابرانصاری ، ملیحه اکبری ، مهوش وقاری ، حمید صفایی ، غلامرضا اصانلو ، رضا آقاربی ، فریدون کوچکیان ، رجبعلی ریوندی|',\n",
              "  'ناصر آقایی ، ایرج راد ، فریبا کوثری ، گوهرتاج مهابادی ، افسانه حیدریان ، محمدعلی میانداری ، رضا ارحام صدر ، احسان شاملی|',\n",
              "  'جمشید هاشم پور ، فرامرز قریبیان ، فتحعلی اویسی ، مهناز اسلامی ، عنایت بخشی ، منوچهر حامدی ، پروین سلیمانی ، نعمت اله گرجی ، هاشم ارکان ، محمود مشروطه ، سونیا شکیبا ، علیرضا ریاحی ، مینا نوروزی ، پریدخت اقبالپور ، علی محمد اسلامی|',\n",
              "  'فرزین اژدری ، پیمان شریعتی ، غلامرضا علی اکبری ، محمدرضا ایرانمنش ، شهرام پوراسد ، رضا قومی ، مصطفی پورحامدی ، منصور سهراب پور ، محسن سوری ، محسن شرافتی ، کوروش کوهپایه ، اله کرم افتخاری ، علیرضا علیا ، ماشاءاله شاهمرادی زاده ، فرزین راسخی|',\n",
              "  'فرج اله سلحشور ، کبری فرخی ، عطاءاله سلمانیان ، اسرافیل علمداری ، سعید قائمی ، اصغر شریف زاده ، محمودرضا تیموریان ، محسن گلناری ، محمدرضا باقری ، هادی فرزدی ، زهره اسدبیگی ، ناصر اشهد ، سمیرا عیوقی ، نوشین دانایی ، بصیر سلحشور|',\n",
              "  'حبیب اسماعیلی ، افسانه بایگان ، چنگیز وثوقی ، فتحعلی اویسی ، جلال مقدم ، شهلا ریاحی ، علی اصغر گرمسیری ، طاهره سری ، محمد ورشوچی ، شهرام عجم ، منوچهر افسری ، اکبر ظفرنیام ، هادی اسلامی ، هوشنگ دیبائیان ، هاشم مقدم|',\n",
              "  'خسرو شکیبایی ، رضا رویگری ، حسین یاریار ، مهشید افشارزاده ، آتنه فقیه نصیری ، کامران باختر ، اکبر معززی ، ژانت وسکانیان ، عباس قاجار ، عزت اله رمضانی فر ، امیرحسین خان شهری ، داریوش اسدزاده ، فرخ لقا هوشمند ، احمدرضا جغتایی ، حسن درگزنی|',\n",
              "  'جمشید هاشم پور ، محمد صالح علا ، نادیا دلدارگلچین ، اسماعیل داورفر ، محسن زهتاب ، نرسی کرکیا ، کامران باختر ، وحید شیخ زاده ، مجتبی هویدی ، حسین صفاریان ، عباس مختاری ، محمد خسروی ، داوود رجایی ، احمد هاشمی ، اکبر دودکار|',\n",
              "  'فرامرز صدیقی ، سعید پورصمیمی ، علی دهکردی ، مهوش افشارپناه ، ملیحه نیکجومند ، کمند امیرسلیمانی ، فریبرز سمندرپور ، علی رامز ، بهروز بقایی ، اردلان شجاع کاوه ، رحیم هودی ، رضا خندان ، جعفر دهقان ، سیداسماعیل بختیاری ، محمدقاسم پورستار|',\n",
              "  'پردیس افکاری ، حسن رجبیان ، محمد طاهری ، مهدی لنجانیان ، صدیقه کیانفر ، داوود نادری پری ، یداله رضوانی ، فروزان عالم زاده ، مریم امیری ، محمد میرباقری ، رحیم یاراحمد ، خداداد زندیه ، ابوالفضل قبادی ، حبیب اله ثامنیه ، ژانت وسکانیان|',\n",
              "  'سیما تیرانداز ، علی اصغر گرمسیری ، جعفر والی ، فریبا کامران ، فریده سلیمانی ، مریم کاظمی ، لوریک میناسیان ، آتش تقی پور ، افسانه محمدی ، گراناز موسوی ، معصومه کریمی ، نسرین جمالی ، فردوس کاویانی ، مهری ودادیان ، فاطمه ثقفی|',\n",
              "  'محمود پاک نیت ، سودابه آقاجانیان ، فرانک آراسته جو ، فریبرز سمندرپور ، حسن جوهرچی ، حسین یاری ، بهروز عبدی ، زهره صفوی ، ملیحه نظری ، صدیقه کیانفر ، حسین کاتبی ، عباس وفایی ، تقی جوادی ، جواد جعفرقلی زاده ، هرمز لاریجانی|',\n",
              "  'حسین محجوب|',\n",
              "  'سمیرا عابدینی ، سهراب سلیمی ، بهزاد خداویسی ، مقداد رحیمی ، مینا نوروزی ، رضا جوان ، پیمان آقارضایی ، مریم رحیمی ، مهدی عربی ، صدیقه کیانفر ، محمد علیخانی ، اسماعیل صفایی ، هما خاکپاش ، جمشید مرعشی ، ابراهیم گل محمدی|',\n",
              "  'علیرضا لرستانی ، ماندانا نبی زاده ، محمد برسوزیان ، خسرو دستگیر ، عباس امیری ، ولی اله مؤمنی ، مهری مهرنیا ، اکبر دودکار ، ناصر لقایی ، پرویز کلیور ، جمال ذوالقدر ، فرهاد خان محمدی ، فرهاد قائمیان ، علی محمد برجی ، اصغر رحمانی|',\n",
              "  'ماهایا پطروسیان ، بیژن امکانیان ، آزیتا حاجیان ، جلال مقامی ، نیکو خردمند ، علی برجسته ، مهوش وقاری ، کتایون سیاف ، شاپور بخشایی ، نیکی معین ، افسانه عراقیان ، بابک برجسته ، آرین خورشیدیان|',\n",
              "  'داوود شیخ ، سیدناصر امامی ، سیدعلی حسینی ، بیتا فرنگی ، محمدباقر سیدی ، فرشته صبوری ، محمد بلوچی ، حمید جدیدی ، محمدتقی کاسه\\u200cساز ، فرامرز فراهانی ، سوسن عظیمی ، فاطمه تاجیک ، مسعود صمدی ، محمود رضایی ، سیدحمید طباطبایی|',\n",
              "  'عبدالرضا اکبری ، صدیقه کیانفر ، سعید قائمی ، محمد زنجیرزن حسینی ، عباس صادق زاد ، مجید رنجبران ، فرهاد جلیلی باله ، علی کهن ، بیژن پیشدادی ، محمدتقی شریفی ، نادعلی جعفری|',\n",
              "  'حسین کاشی\\u200cپور ، آزیتا صفری ، حمید طالقانی ، تقی شریفی ، مهدی قجر ، پرویز شاهین خو ، پروین نیک سرور ، فتانه صبوری ، رقیه عموزاده ، محمدتقی شریفی|',\n",
              "  'محمدتقی شریفی نوری ، پری امیرحمزه ، ملودی تقی پور ، مهدی میامی ، صدرالدین حجازی ، مجید مظفری ، رقیه چهره آزاد ، اصغر خندان ، شهرام لاسمی ، فرج اله وثیق ، حمید شوقی ، ابراهیم حجازی ، محمد درودیان ، قاسم عسگری ، ناصر جمشیدی|',\n",
              "  'محمود دینی ، محمد بانکی ، مهشید افشارزاده ، ثریا حکمت ، داریوش اسدزاده ، عباس مختاری ، محمد ورشوچی ، علی آزاد ، میرصلاح حسینی ، توحید اصلان\\u200cزاده ، علی نظری ، عسگر کاظمی ، غلامعلی فیض\\u200cآبادی ، حسین امیرعظیمی ، منوچهر غفوری|',\n",
              "  'محمد مختاری ، پردیس افکاری ، امراله صابری ، رضا صفایی پور ، علی برجسته ، مریم معترف ، روح اله مفیدی ، ولی اله مؤمنی ، بهزاد عزیزپور ، محرم بسیم ، احمد رضاییان ، اکبر اصفهانی ، محمد سادات ابهری ، فاطمه حسین ملا ، طاهره یوسف نیائی|',\n",
              "  'داوود رشیدی ، حبیب دهقان نسب ، شمسی فضل الهی ، رضا فیاضی ، رضا خندان ، عنایت اله شفیعی ، جمشید جهان زاده ، احمد آقالو ، حسین ایل بیگی ، اکبر شالیزادگان ، عباس شیرمحمدی ، مهدی نظیری ، پروین میکده ، حمیدرضا مرادی ، محمدعلی پروین|',\n",
              "  'نیما حسندوست ، بهزاد خداویسی ، عباس امیری ، زهره حمیدی ، حسن محمدی ، محمد پورستار ، حسن باقری نژاد ، محمدعلی حقانی فر ، پوراندخت تکریم ، جواد تمیزکار ، مجید فلاح شجاعی ، اردشیر وزیری ، مریم علیپور ، مرجان مؤمن زاده ، محبوبه سلیمانی|',\n",
              "  'یوسف جمادی ، ملیحه نیکجومند ، رزا آرایش ، مسعود کاتبی ، حسین عمرانی ، ماندانا اصلانی ، حمیده آوینی ، سیامک میرزاآقایی ، سیامک زاهد ، علی کوهپایه ، منصور حمیدی ، منیژه شکیبایی ، محمد انورزاده ، رضا باغبان|',\n",
              "  'پروین دخت یزدانیان ، مهدی باقربیگی ، جمشید صدری ، محمدعلی میانداری ، آسیه کلانی ، محسن ملکی ، زهره طائی ، سارا سلطانی ، حسن اکبری ، ناصر اعتزازی ، مهران ریحانی ، ابوالحسن زارع ، محمد اعتزازی ، اکبر گلستانی ، محمدعلی اتراک|',\n",
              "  'داریوش ارجمند ، گلچهره سجادیه ، غلامحسین لطفی ، جهانگیر الماسی ، نادر رجب پور|',\n",
              "  'جمشید هاشم پور ، ایلوش خوشابه ، مهشید افشارزاده ، امراله صابری ، فرهاد دل آرا ، علیرضا سهراب زاده ، مرجان بهرامی ، علی نظری ، هوشنگ منصورخاکی ، لیلا حسین زاده ، احمد معینی ، عباس مختاری ، احمد میررفیعی ، فریبا حکیمی ، لقمان نظیری|',\n",
              "  'گلچهره سجادیه ، مجید مظفری ، محمود پاک نیت ، کامران باختر ، وحید شیخ زاده ، رسول اسلامی\\u200cوند ، شاهین شاهین زاده ، ملیکا شریفی نیا ، اسماعیل گرامی ، حمید صفایی ، کیانوش گرامی ، عباس مختاری ، وحید ذوالفقاری ، اکبر غلامی ، محمدصادق بیات|',\n",
              "  'اکبر عبدی ، جواد گلپایگانی ، حسین محب اهری ، رضا کرم رضایی ، پروین سلیمانی ، سروش خلیلی ، هاشم روحانی ، لیلا حسین زاده ، روح انگیز مهتدی ، محمد ورشوچی ، محمد یگانه ، محمد میرزاپور ، مجید شهریاری ، رضا عملی ، فرهاد محبت|',\n",
              "  'فرامرز قریبیان ، مهناز افضلی ، جمشید مشایخی ، مرتضی ضرابی ، مظفر سلطانی ، فرخ لقا هوشمند ، معصومه کریمی ، امید تبریزیان ، ملیکا شریفی نیا ، لعبت تهرانی ، علی حق فروش ، مهشید خطیبی ، احمد باقری ، رجبعلی علی قارداشی ، بهزاد نوربخش|',\n",
              "  'لادن نیک فرجام ، جمشید جهان زاده ، ناصر شاگردی ، نیلوفر پایدار ، ضیاء شجاعی مهر ، حسن جوهرچی ، محرم بسیم ، طوطی تلیکانی ، احمد گلیج ، سعید دلیری ، کامبوزیا پرتوی ، فرهاد محبت ، اصغر بیچاره ، ملیحه نصیری ، محمدرضا صادقی|',\n",
              "  'شهراد وثوقی ، مهشید افشارزاده ، مهدی لنجانیان ، پیمانه طهماسبی ، شهلا ریاحی ، پیروز قاسمی ، حمید میرباقری ، صدیقه کیانفر ، داوود قاسمی ، منوچهر عظیمی ، معصومه نوریان ، محمدرضا رفعتی ، علیرضا شفیع زاده ، رضا دلیخون ، وحید نادری|',\n",
              "  'ابوالفضل پورعرب ، فاطمه گودرزی ، حسین فلاح ، سامانتا شوئنبرگ ، شهریار پارسی پور ، خرم راشدی ، سیدرضا جدا ، حسن نوری ، عیسی صفایی ، پروین نیک سرور ، ژیلبر کاندرو ، ممدو مایا ، میشل شاردون ، ژووا یوکرتنا ، سیلیا مارتین|',\n",
              "  'اکبر عبدی ، لیلا مصدقی ، اسماعیل داورفر ، حمیده خیرآبادی ، شهلا ریاحی ، حسین کسبیان ، مرتضی حاج سید احمدی ، محمد ورشوچی ، فرحناز منافی ظاهر ، شهره فرشی ، علی حق فروش ، ملیحه نصیری ، مرتضی اردستانی ، عباس قاجار ، مرتضی ضرابی|',\n",
              "  'جمشید مشایخی ، شهلا ریاحی ، مرتضی حاج سید احمدی ، حسن رضایی ، ثریا حکمت ، پروین سلیمانی ، محمود بصیری ، اصغر رستگار ، پانته آ پارسی پور ، اکبر اصغری ، مهدی کریمی ، سارا طاهری ، نسیم ذوالفقاری ، عطیه غبیشاوی ، الناز صادقی|',\n",
              "  'شروین اجلالی ، قباد چگینی ، مهدی میامی ، نصرت اله زمانپور ، اکبر قدمی ، مینا صارمی ، گیتی معینی ، داوود نادری ، سهیلا تیلاوی ، لاله اسکویی ، زهرا اویسی ، ابراهیم آبادی ، رضا بی\\u200cطرفان ، حسن صدیق|',\n",
              "  'بیژن امکانیان ، ماهایا پطروسیان ، آرش تاج تهرانی ، رویا تیموریان ، تانیا جوهری ، زهره صفوی ، رامین کبریتی ، منوچهر آذری ، هاله کرمی|',\n",
              "  'احمد نجفی ، داوود رشیدی ، حسین ملاقاسمی ، داوود رسولیان ، جمشید جهان زاده ، نادیا دلدارگلچین ، سیامک اطلسی ، علی توکل نیا ، رضا صفایی پور ، عزت اله جامعی ، اکبر ظفرنیام ، حمید طالقانی ، علیرضا رئیسی ، محمد حیدری ، رضا راد|',\n",
              "  'محمدرضا داوودنژاد ، ویکتور آنانین ، حسین میرآقایی ، زهره میرآقایی ، فریده توکلی ، فرد داوودیان ، حسین باقری نژاد ، رحمان مقدم|',\n",
              "  'ابوالفضل پورعرب ، آتیلا پسیانی ، آتنه فقیه نصیری ، مهتاج نجومی ، سیامک اطلسی ، غلامحسین لطفی ، رضا کرم رضایی ، رحمان مقدم ، پرویز غیاثی ، سلمان مسلم بشعره ، ماندانا کاشفیان ، جواد غلامی ، حمید اشراقی ، محمدحسین قلیچ\\u200cخانی ، نرگس تبریزی|',\n",
              "  'محسن احمدی ، ژاله صامتی ، شهرام زرگر ، ملک حاجی نژاد ، نورعلی لطفی ، بهنام شهبازی ، محمدحسین جلالوند ، افسانه جزایری ، خدابخش کرمی ، زهرا محمدی ، نبی کرمی منفرد|',\n",
              "  'مینا لاکانی ، مهران مدیری ، جمشید شاه محمدی ، کیومرث ملک مطیعی ، سهراب سلیمی ، حسن شیرزاد ، داوود اسدی ، ژاله شعاری ، سیداسماعیل بختیاری ، حمید عبدالملکی ، عبداله هزدار ، زهره صفوی ، آمنه یزدان مقدم ، کریم اکبری مبارکه ، عرش پورزارعی|',\n",
              "  'جمشید هاشم پور ، حبیب اسماعیلی ، افسانه بایگان ، چنگیز وثوقی ، ثریا حکمت ، نعمت اله گرجی ، هوشنگ دیبائیان ، منوچهر افسری ، نصرت اله زمانپور ، سعید پورعظیمی ، اکبر زنجانپور|',\n",
              "  'آتیلا پسیانی ، علی دهکردی ، عبدالرضا اکبری ، محمد فیلی ، حمید طاعتی ، ایرج رامین فر ، منوچهر حامدی ، داریوش اسدزاده ، هوشنگ آریان فر ، عباس امیری ، معصومه کریمی ، بهمن روزبهانی ، مسعود راد ، پیمان داخته ، پریسا شاهنده|',\n",
              "  'فاطمه صامتی ، محمود شکرالهی ، نیکو خردمند ، اسماعیل داورفر ، جهانسوز فولادی ، ملیحه نظری ، ملک نصر مرعشی ، شیوا هادی ، منوچهر علیپور ، فریبا صامتی ، هما خاکپاش ، بیتا حاتمی|',\n",
              "  'مهناز افضلی ، داریوش ارجمند ، رقیه چهره آزاد ، زهرا عرب ، صالح نجفی ، محمدعلی نجفی ، نگین هدایت ، حجت اله سیفی ، جواد مقدمی ، علی مجتهد جابری ، الناز شقایی|',\n",
              "  'هوشنگ هیهاوند ، حمیرا ریاضی ، جمشید شاه محمدی ، محمدعلی شاهین ، اسداله ایوبی|',\n",
              "  'مهدی قلی پور ، محمد کمالی ، ناصر ندافیان ، مهدی فقیه ، مجتبی فیاض ، رضا زیتونی ، محمد سینا ، مرتضی فیروزی ، نورمحمد کاظم\\u200cزاده ، علی شجاعی ، سکینه محبی ، زهرا مظلومی ، بنیامین ، رمضان امیری ، امان اله نیکنام|',\n",
              "  'جمشید هاشم پور ، فتحعلی اویسی ، مهناز اسلامی ، علی ثابت ، افسر اسدی ، فرهاد خان محمدی ، سعید پیردوست ، محمود مشروطه ، محمدرضا دهقانی ، افشین احمدی پور ، احمد میرشمسی ، داوود اسکندری ، یوسف نوروزی ، امیر حسنی ، حمید عباسی|',\n",
              "  'سام محمدپور ، فرزانه کابلی ، سیامک اطلسی ، ندا شایقی ، غلامحسین لطفی ، ناصر ساویزفر ، عباس عابدی ، شمس اله دولتشاهی ، صحبت اله بیات ، علی بی آبادی ، مشتاقی ، رضا خادمیان ، منصور ظهوری ، حسن عابدی ، اردشیر عظمت|',\n",
              "  'فرامرز قریبیان ، مهشید افشارزاده ، مهین شهابی ، رضا بابک ، بهزاد رحیم خانی ، محمود بصیری ، گیتی ساعتچی ، منوچهر والی زاده ، محمد ورشوچی ، فرحناز منافی ظاهر ، داوود قاسمی ، اکبر دودکار ، سلیم رسولی ، ضیاء شجاعی مهر ، محمد صادق پور|',\n",
              "  'السا فیروزآذر ، اسداله یکتا ، آتنه فقیه نصیری ، فریبرز عرب نیا ، رحمان مرادی ، حسین محب اهری ، آناسیک سیمونیان ، همایون ارشادی ، معصومه جهانی ، ادنا آوانسیان ، گلبهار حسن\\u200cآبادی ، طوفان گرگانی ، اصغر ساروخانی ، محمد نیک بین ، رحمان مقدم|',\n",
              "  'یگانه بلوچی ، بهادر ابراهیمی ، جلیل فرجاد ، حسین کاخی ، سودابه آقاجانیان ، عطیه غبیشاوی ، حسن جنگی ، بهرام ابراهیمی ، جلال آهنیان|',\n",
              "  'جمشید هاشم پور ، محمود دینی ، افسانه بایگان ، جمشید مشایخی ، کامران باختر ، یداله رضوانی ، مرجانه دلدارگلچین ، شهرام عجم ، اسماعیل خدابخش ، اصغر مهرپیشه ، اکبر طلایی ، رمضان فهیم\\u200cخواه ، رحیم شمشیری ، مجتبی رهنمودی ، الیاس شهبازی|',\n",
              "  'فریبرز سمندرپور ، علی طالب لو ، منوچهر لاریجانی ، رضا فیاضی ، فریبرز عرب نیا ، فیروز ، حسین کاتبی ، عبداله فرامرزپور ، حبیب اله حداد ، علی نظری ، حمید صفایی ، غلامحسین بارونی ، صادق حدادی ، عرش پورزارعی ، بهروز پیروزیان|',\n",
              "  'وحید شیخ زاده ، محمد بانکی ، ساناز سماواتی ، محمود دینی ، امین حیایی ، منوچهر حامدی|',\n",
              "  'فرامرز قریبیان ، شهره لرستانی ، عبدالرضا آشتیانی ، امیرحسین خان شهری ، کاظم افرندنیا ، عزت اله رمضانی فر ، حسن رضایی ، پیمانه طهماسبی ، مهوش وقاری ، هوشنگ منصورخاکی ، منوچهر علیپور ، محمد علیقلی ، هوشنگ قوانلو ، حسین عامریان ، داوود ظهری|',\n",
              "  'نیکو خردمند ، محمدعلی کشاورز ، معصومه تقی پور ، یگانه بلوچی ، شراره تقی پور ، علی احمدی ، سهیلا انوری ، غزل ارجمند|',\n",
              "  'محرم زینال زاده ، جعفر دهقان ، عطاءاله سلمانیان ، محمد حسام ، حسین راضی ، نرگس کردبچه ، مهدی قانع ، ماندانا اصلانی ، سیدعلی حسینی ، محمدرضا باقری ، مریم شریعتی ، نامدار ناصری ، طباطبایی|',\n",
              "  'جهانبخش سلطانی ، حسین یاری ، حسن عباسی ، حمید طالقانی ، علی غفاری ، احمد میررفیعی ، علی محسنی نسب ، مرتضی اکبری ، محمدرضا شرف الدین ، شبنم اعلایی ، مهدی فقیه ، حبیب اله کاسه ساز ، فرخ طالشانی ، محمدرضا عرب نژاد ، فیروز رحمانی|',\n",
              "  'محمدرضا فتحی ، راحله رضایی پور ، محمدابراهیم برلویی|',\n",
              "  'نویمی دمین ، کتی راک ، جهانبخش سلطانی ، کروی اریش ، پریسا شادی ، زلتن زوبوزنیک ، گابور واش ، هدی تمیشی ، آندراشی فکته ، لیلی مونوری ، مارتا باش ، بناتریس کوشتایاوا ، میکلوش سیکلی ، پدرام لطفی ، فلورا کادر|',\n",
              "  'جهانگیر الماسی ، محمد متوسلانی ، فریماه فرجامی ، پردیس افکاری ، بهزاد خداویسی ، خسرو دستگیر ، شمسی فضل الهی ، مهدی وثوقی راد ، نیلوفر جوادپور ، نریمان شیری فرد ، صفر اجلی ، منوچهر علیپور ، ناصر مبارکشاهی ، ملکه رنجبر ، محمدرضا زندی|',\n",
              "  'حسین گیل ، رضا صفایی پور ، علی توکل نیا ، زهرا ظفرنیام ، شاهین جعفری ، محمد جوهری ، مجید شهبازی ، احمد راد ، مریلا زارعی ، زهره داوودی ، فریبا لشگری ، فتحعلی اویسی ، کنگرلو ، اسماعیل آقاجانی ، اصغر عبدلی|',\n",
              "  'اسماعیل داورفر ، جمشید اسماعیل خانی ، ابراهیم آبادی ، فاطمه صادقی ، بیوک میرزایی ، مجید رزاز ، محمد ورشوچی ، اکبر دودکار ، میرصلاح حسینی ، حامد کلاه داری ، امید قربانی ، محمد همت فر ، شهنام شهابی ، مهرداد نظری ، عباس شوقی|',\n",
              "  'پروانه معصومی ، کاظم افرندنیا ، بیوک میرزایی ، مهری مهرنیا ، عباس محبوب ، وحید شیخ لر ، علی بی آبی ، پریدخت اقبالپور ، توران قادری ، مهوش رحیمی ، طاهره آهنی ، مریم شیخی ، محمدرضا باقری ، محسن پناهی ، میترا تاجیک|',\n",
              "  'جعفر دهقان ، کامران باختر ، رضا صفایی پور ، میرمحمد تجدد ، فیروز ، محمد سادات ابهری ، لیلا بوشهری ، آرش تاج تهرانی ، ولی اله مؤمنی ، علی جاویدفر ، محمد حسن خانی ، هوشنگ نوری ، امیر حسنی ، غلامعلی رضایی ، طاهره پویا|',\n",
              "  'چنگیز وثوقی ، هانیه مرتضایی ، فتحعلی اویسی ، رضا صفایی پور ، داریوش جهانگیری ، بیوک میرزایی ، منوچهر حامدی ، عزت اله رمضانی فر ، شهرام عجم ، سیاوش آریا ، اکبر رستگار ، اصغر رستگار ، لیلا جوادی ، پرویز شفیع زاده ، رحیم امینی|',\n",
              "  'حسین یاریار ، چنگیز وثوقی ، محمدعلی کشاورز ، مرجانه دلدارگلچین ، مجید میرزاییان ، کاظم افرندنیا ، حسین ملاقاسمی ، نرسی کرکیا ، فیروز قاسمی ، رفیع مددکار ، حسین شهاب ، عباس قاجار ، میرصلاح حسینی ، میترا خادمی ، مجید علی زاده|',\n",
              "  'انیس شکوری ، عادله شکوری ، امید امیری ، ژیان امیررضوانی|',\n",
              "  'فرامرز قریبیان ، جمشید هاشم پور ، مهناز اسلامی ، عنایت بخشی ، مونا غمخوار ، نرسی کرکیا ، منوچهر افسری ، شهلا رحمتی ، علی نظری ، عباس مختاری ، محمدحسن غمخوار ، محمد بابویهی ، هوشنگ دیبائیان ، علیرضا چوپان مزاینی|',\n",
              "  'مهدی هاشمی ، آتیلا پسیانی ، یالچین دومرو ، اژه اوسلو ، فاطمه صامتی ، مریچ ارکان ، کوتای کوک ترک ، تونجر نجمی اوغلو ، حسین خانی بیک ، برهان شیمشک ، موگه آردا ، عثمان چاگلار ، نبی بیلدیز ، علی زیبل ، اکرم دومر|',\n",
              "  'فرامرز قریبیان ، مهشید افشارزاده ، مهین شهابی ، رضا بابک ، بهزاد رحیم خانی ، محمود بصیری ، گیتی ساعتچی ، منوچهر والی زاده|',\n",
              "  'الهام حاجیان ، رضا عارفان ، سعید حاجیان ، محمدرضا اعزاز ، محمدرضا جنت خواه دوست ، علیرضا جنت خواه دوست ، حسن نوروزی وفا ، رضا رشیدی ، محمد فدایی ، مهران نوری ، محمدعلی جنت خواه دوست ، زینت سراندیب ، افسانه مهمنش ، شیرین شمیرانی ، حسین آتش افروز|',\n",
              "  'نیکی کریمی ، خسرو شکیبایی ، میکائیل شهرستانی ، فیروز بهجت محمدی ، محمد اسکندری ، ژاله صامتی ، قربان نجفی ، لادن طباطبایی ، محمد خسروی ، داوود موثقی ، اصغر کهن قنبریان ، علیرضا فتحی ، رضا راد ، عباس مختاری ، حمید دلشکیب|',\n",
              "  'مسعود کرامتی ، فرهاد اصلانی ، حبیب دهقان نسب ، پیمان سنندجی زاده ، رضا خندان ، عزیزاله هنرآموز ، مهدی فقیه ، علیرضا جلالی ، علی سلیمانی ، علی فرهادی ، حبیب اله الهیاری ، کیوان محمودنژاد ، وحید شیخ لر ، جواد میرمیران ، محسن موسوی|',\n",
              "  'فردوس کاویانی ، مهرانه مهین ترابی ، مژگان طاهریان ، داوود ناظمی ، داوود اسکندری ، حشمت اله آرمیده ، محمدحسین پناهی ، مهدی قبادی ، نیکو خردمند ، آزیتا لاچینی ، سیامک اطلسی ، زهره صفوی ، حلیه اولیاییان ، اسفندیار ابراهیمی ، ابراهیمی|',\n",
              "  'فرهاد قائمیان ، شراره یوسفی نیا ، خسرو دستگیر ، هوشنگ منصورخاکی ، سعید کریمی ، سعید عباسی ، مهری مهرنیا ، شهرام خدایی ، افشین پورسلیمان ، علی کوهپایه ، فیروز حشمت ، ابراهیم عباسعلی زاده ، محمد شادی ، کیومرث محمودی ، ناصر فیضی|',\n",
              "  'مرجانه دلدارگلچین ، حسن رجبیان ، مرجان مقدسی ، شهلا ریاحی ، حمیده خیرآبادی ، جمشید شاه محمدی ، مینا نوروزی ، مهری ودادیان ، علی پیرزاده ، علیرضا شفیع زاده ، پوریا یارخدایی ، بردیا حریری ، هدی الفک ، جمشید مشایخی ، مالین مولر|',\n",
              "  'حسن رضایی ، مهران فیروزبخت ، وحید شیخ زاده ، حامد کلاه داری ، جلال مقدم ، رسول توکلی ، ملیحه نظری ، مینا نوروزی ، الهام ابراهیمی ، محمد همت فر ، مهران مهدیان ، وینا برهمن ، پویا کرمی ، اشکان وکیلی ، رضا شمسایی|',\n",
              "  'فخری خوروش ، جهانبخش سلطانی ، عنایت بخشی ، جهانگیر فروهر ، فریبرز سمندرپور ، هوشنگ توکلی ، ناصر فروغ ، محمد حسام ، حسین شهاب ، بهزاد رحیم خانی ، عباس مختاری ، پرویز شفیع زاده ، یوسف نوروزی ، حمید دلشکیب ، فاطمه طاهری|',\n",
              "  'اکبر زنجانپور ، رامبد شکرآبی ، فرزانه کابلی ، ژاله علو ، منوچهر آذر ، نادر رجب پور ، نیلوفر محمودی ، شهرزاد طریقت ، منوچهر افسری ، پرویز بزرگی ، احمدرضا اسعدی ، هوشنگ دیبائیان ، اسداله یکتا ، رشید اصلانی ، ملیحه نظری|',\n",
              "  'شاهرخ غیاثی ، جهانگیر الماسی ، پرویز پورحسینی ، رضا بابک ، نگین صدق گویا ، زهره صفوی ، باقر صحرارودی ، کامران فیوضات ، کامران ملکی ، پرویز کلویر ، وجیهه لقمانی ، محمدرضا حقگو ، افسانه چهره آزاد ، هوشنگ قوانلو ، سیدمصطفی حسینی|',\n",
              "  'خسرو شکیبایی ، بهاره رهنما ، محمدرضا داوودنژاد ، پیمان قاسم خانی ، سهیلا رضوی ، سوسن سلیمی ، فاطمه داوودنژاد ، وحید بهنود ، داوود اسدپور ، هاشم میرطالبی ، قاسم صفری ، محمد یوسفی ، حسین یمینی نژاد ، رامبیز شکری ، حمید طاعتی|',\n",
              "  'علی دهکردی ، جعفر دهقان ، هوشنگ توکلی ، نگین صدق گویا ، اصغر محبی ، صالح میرزاآقایی ، فرامرز شهنی ، عطاءاله مرادی ، حمید فرهانیان مقدم|',\n",
              "  'محمود شولیزاده ، مژگان پوریگانه ، محمد امامی ، فریدون سیفی ، متین سیفی ، حسین محب اهری ، هما خاکپاش ، منصور یزدانی ، حمید ارسالی ، هادی مجیدی ، فرحناز مهر ، فروزان رحیمی ، فیض اله مهدی خانی ، اکبر رحیمی ، زهرا محمدی|',\n",
              "  'فاطمه گودرزی ، نیکو خردمند ، محمود پاک نیت ، محمدعلی کشاورز ، اسماعیل سلطانیان ، منصور والامقام ، محسن زهتاب ، مهوش صبرکن ، احمد علامه ، مهدی فقیه ، بهاره رهنما ، سوسن راعی ، فرشاد اسداله پور ، محمدسعید قائمی ، عباس قاصدی|',\n",
              "  'داریوش ارجمند ، فریبرز عرب نیا ، ژاله صامتی ، محمد صادقی ، حسین خانی بیک ، پیمان شریعتی ، علی نظری ، رحمان حقیقی ، قربان نجفی ، داوود آسترکی ، رضا منصوری ، مجید علی زاده ، احمد کرم لو ، یداله فهیمی ، رحیم حقیقی|',\n",
              "  'رسول توکلی ، شیوا خنیاگر ، شاهد احمدلو ، سودابه آقاجانیان ، کیومرث ملک مطیعی ، مهری ودادیان ، سعید پیردوست|',\n",
              "  'رضا آقاربی ، شاهین جعفری ، منصور سهراب پور ، امیر خزرایی ، مینا نوروزی ، داوود بی دل ، محمد اسدی ، توحید ساجدی ، سلیمان امیری ، داریوش یاری|',\n",
              "  'فرامرز قریبیان ، عبدالرضا اکبری ، جمشید جهان زاده ، منوچهر حامدی ، نرسی کرکیا ، محمد رجبی ، هوشنگ دیبائیان ، منوچهر افسری ، سعید عالم زاده ، رضا محمدیاری ، علی محمودی ، فرهاد خان محمدی ، نجات علیمرادی ، هرمز سیرتی ، اردشیر رشیدی|',\n",
              "  'رئوف ناجیان ، مهدی فقیه ، جلال خباز ، مهناز فصاحتی ، محمود پاک نیت ، مهرداد یزدانی ، حسن خانی ، سیدحسن حسینیان ، سیدجلال طباطبایی ، حمید فرهانیان مقدم|',\n",
              "  'جمشید هاشم پور ، جهانبخش سلطانی ، زهره حمیدی ، حسین کسبیان ، محمد پورغلامی ، کاظم هژیرآزاد ، طیب شرافتی ، رفیع مددکار ، فرهاد خان محمدی ، رضا مرادیان ، اکبر پاکزاد ، ابراهیم شمس ، محمدرضا گوهرمنش ، افسانه هاشمی ، آناهیتا رشمانی|',\n",
              "  'محمود دینی ، منوچهر حامدی ، نرسی کرکیا ، فیروز ، بهزاد رحیم خانی ، شهره فرشی ، محمدتقی شریفی نوری ، مهوش وقاری ، محمد ذکریا ، حسین خورزوقی ، علیرضا آشوری|',\n",
              "  'لورت جنینو ، مجدی مشمشی ، حسن حمدان ، علی طاهان ، برنادت صدیب ، عایده ناصر ، رائف فتونی ، شادی حداد ، حسین تبریزی ، کمیل فرحات ، فاطمه دقیق ، علی شقیر ، شریف ایتاوی ، علی حیدراحمد ، علی صبرا|',\n",
              "  'علیرضا خمسه ، زهرا اویسی ، آزاده خرمیار ، ثریا حکمت ، فریبا متخصص ، محمود بهرامی ، رشید اصلانی ، حمید گلی ، فاطمه بیابانی ، طیبه کشانی ، مریم چترسفید ، زهرا تحقیقی ، لیلا تحقیقی ، احمد رجبی ، علی دینی|',\n",
              "  'شاهرخ غیاثی ، کتایون ریاحی ، بهزاد فراهانی ، حمیده خیرآبادی ، پویا کرمی ، سیامک تقی پور ، حسن اسدی ، لاله آق اولی ، حمید رضایی ، توران قادری ، پردیس محبتاش ، مرجان جلالی ، پرویز کلویر ، جمشید صادقیان ، سعید اعتماد|',\n",
              "  'هرمز هدایت ، مجید عالمی پروین ، نادیا دلدارگلچین ، علی شوکت ، ابراهیم آبادی ، پرویز بشردوست ، هوشنگ قوانلو ، حمید دلشکیب ، کامران فیوضات ، حمید لولایی ، اکبر سنگی ، علی اصغر نجات ، هما خاکپاش ، شاپور بخشایی ، بهناز ترابی|',\n",
              "  'عاطفه رضوی ، علی یعقوب زاده ، جمشید اسماعیل خانی ، پیمان سنندجی زاده ، بهروز رضوی ، حبیب اله الهیاری ، نادر مقدس ، علی سلیمانی ، احمد نوروزی ، احمد شهاب ، وحید زری باف ، آرش نوذری ، قائم جباری کلوری ، بهنام عسگریان ، سرگون براندو|',\n",
              "  'میرهادی طیبی ، عمار تفتی ، علی بخشی جوزم ، محرم زینال زاده ، فریبا فقیری ، مریم فقیری ، لطف اله قشلاقی ، علی ایرانی ، حنا مخملباف ، محسن مخملباف ، خدیجه پاک سرشت ، عبداله حاجی نقدی ، زهرا دانشور ، صدیقه شاکری ، مجتبی قاسمی|',\n",
              "  'جمشید هاشم پور ، مهناز اسلامی ، اصغر محبی ، حسن جوهرچی ، جمشید شاه محمدی ، رامین نعمتی ، علی نظری ، محمد پورغلامی ، مهوش رحیمی ، احمد بهروزی ، علیرضا تقوی ، مونا غمخوار ، ناصر نجفی ، پدرام کریمی ، بهمن دان|',\n",
              "  'محمد برسوزیان ، امیرحسین ثقفی ، مهدی میامی ، حسین راضی ، مریم معترف ، شراره یوسفی نیا ، ابراهیم آبادی ، چمن علی عطایی ، محسن آراسته ، محمد یگانه ، هما خاکپاش ، اسماعیل امامی ، آرزو فرخی ، بابک والی ، علی جاویدفر|',\n",
              "  'امیر پایور ، محمدرضا شریفی نیا ، سوسن آقارجبی ، پژمان نجات تیموری ، سارا امیرخسروی ، فرشید دهخدا ، عطاءاله صفرپور ، جواد میرسپنج ، نادر میرکیانی ، عطیه بادلی ، سیدامیر سیدی ، شهریار اسدی ، حبیب علاء الدین ، علی سلیمانی زیارتی ، حوریه میرمحمدی|',\n",
              "  'فرامرز قریبیان ، فاطمه صامتی ، شهرام زرگر ، جمشید جهان زاده ، رضا فیاضی ، خشایار ، عباس جوادآخوندی ، اکبر قدمی ، منوچهر اخضرپور ، اصغر رحمانی ، سعید دلیری ، محمود مقامی ، عباس قاجار ، اصغر نیکخواه ، آزیتا شکوهی|',\n",
              "  'فرامرز صدیقی ، محرم زینال زاده ، حسین سحرخیز ، میترا چوپان ، محمد ذکریا ، مهدی فراهانی ، عبداله نعیم زاده ، علی فرهبد ، پرند زاهدی ، فروغ رحمانی ، حسن عظیمی ، فرشید رئوفی ، جابر سلامی زاده|',\n",
              "  'پژمان بازغی ، عباس امیری ، آذر سلیمی ، فریده توکلی ، سعید رضایی ، مژگان اکبری ، ابراهیم نویدی ، علیرضا صفاتیان ، ابراهیم نعمتیان ، کیانوش جاوید روزی ، محمدعلی فرمند ، ملکه رنجبر|',\n",
              "  'فریبرز عرب نیا ، حسن جوهرچی ، احمد نجفی ، حسین معلومی ، حسن رضایی ، میرمحمد تجدد ، ژاله صامتی ، سمیرا سیاح ، فیروز ، محمد شیری ، حمید رضا تاج دولتی ، سعید پیردوست ، لوریک میناسیان ، صدیف آرمیده ، علی قلی زاده|',\n",
              "  'داوود رشیدی ، رضا بابک ، هادی محمددوست ، پریدخت اقبالپور ، قدرت اله صالحی ، علی امیدوار ، مریم کاظمی ، ملیحه موسوی ، افسانه صفوی ، میترا حکیم هاشمی ، امیر ملکی ، حامد امیری ، سیدعباس موسوی ، احمدرضا اسعدی|',\n",
              "  'جعفر فلاحی ، غلام شیرازی ، حسنعلی مرادی ، آذر بلاوری|',\n",
              "  'احمد نجفی ، فیروز بهجت محمدی ، حسین انصاری ، مهشید افشارزاده ، مهناز افضلی ، بهمن دان ، هوشنگ منصورخاکی ، غلامرضا عارف نژاد ، محمد الهی ، احمد ثابت نیا ، ناصر قاسمی ، محمد رجایی ، طاهره سنجرانی ، حبیب اله حداد ، سیامک سیروس|',\n",
              "  'جمشید هاشم پور ، فریماه فرجامی ، محمد پورغلامی ، حسین ملکی ، خسرو دستگیر ، امید سعیدنیا ، هوشنگ دیبائیان ، بیژن ظهیرالدین ، پرویز سپرویزن ، احمد شبیری ، خسرو خانمحمدی ، محرم بسیم ، رحمان مقدم ، سیدمحمد خرمگاه ، نجف مهرگان|',\n",
              "  'جمشید مشایخی ، فاطمه گودرزی ، شاهد احمدلو ، ثریا قاسمی ، فریبرز سمندرپور ، مهدی تارخ ، بهناز جعفری ، محسن قنبر ، بیتا بخشش ، زهرا جواهرچی ، رامین راستاد ، غلام شاه کرمی ، ستاره اسکندری ، رشید بهنام ، صدرالدین شجره|',\n",
              "  'فرامرز قریبیان ، لنا ابولسنکایا ، فرهاد جم ، جمشید جهان زاده ، علی طالب لو ، کاظم هژیرآزاد ، حسین سحرخیز ، شریعتی ، پریسا پورشفیع|',\n",
              "  'رمضان یوسف پور ، عباس شیرزادی مرگاری ، سیمین پهلوان ، علی بابا شریفی ، عزیز اله خرم ، فاطمه شیرزادی مرگاری ، جلال آوند ، امیر شاه آبادی|',\n",
              "  'لعیا زنگنه ، امیر صادقیان ، آیدا محمدخانی ، داریوش رضوانی ، شهرام درویش ، مهدی نعمت جمشیدی ، محمدرضا سعیدی ، سپیده حسینی ، رویا فلاحی ، شهزاد صفوی ، آزیتا رضایی ، فرامرز روشنایی ، فرهاد محبت ، محمد میرحیدری ، محمدرضا حبیبی|',\n",
              "  'محمدعلی کشاورز ، حسن جوهرچی ، حمیده خیرآبادی ، نیلوفر محمودی ، محبوبه مقبلی ، علی اکبر طوفان پناه ، اکبر اظفرنیام ، فریبا متخصص ، فرحناز منافی ظاهر ، مهوش وقاری ، حشمت اله آرمیده ، افشین باوندپور ، مونا زاهد ، هوشنگ حمزه ای ، شهرام تیموریان|',\n",
              "  'فرامرز قریبیان ، عبدالرضا آشتیانی ، جلال پیشواییان ، علی توکل نیا ، مریلا زارعی ، کاظم افرندنیا ، حسین شهاب ، فرخ انصاری بصیر ، نسرین خسروان اصفهانی ، پیمانه قدیریان ، مجید شهبازی ، اسماعیل آقاجانی ، فریبا مرتضوی ، محمد افشار ، حسین مضروعی|',\n",
              "  'هما روستا ، ژاله علو ، آرش تاج تهرانی ، رضا عبدی ، نگین صدق گویا ، علیرضا محمودی ایرانمهر ، بهناز محرر ، ساناز سماواتی ، بیتا فرنگی ، کاظم محمدی ، صادق توکلی ، فاطمه طاهری ، مهدی کاشانیان ، فرزاد رحمانی ، محمود معظمی|',\n",
              "  'علی دهکردی ، پریوش نظریه ، غلامرضا علی اکبری ، افسانه ناصری ، محمدعلی سلیمان تاش ، جمشید گرگین ، زهره صفوی ، ناصر فروغ ، محمدرضا باقری ، غلامرضا صادقی ، علی اصغر شریف زاده ، بهمن عبدالهی ، مجید عبدالعظیمی|',\n",
              "  'گرشا رئوفی ، حسین ملاقاسمی ، نعمت اله گرجی ، مرتضی حاج سید احمدی ، حسن رضیانی ، سروش خلیلی ، روح اله مفیدی ، داوود اسدی ، محمدمهدی مهدیزاده ، فرخ لقا هوشمند ، مهری مهرنیا ، مهری ودادیان ، شهره فهیمی ، ایزده اشتهاردی ، مهرناز فاطمی|',\n",
              "  'خسرو شکیبایی ، گلچهره سجادیه ، سعید پورصمیمی ، محمود پاک نیت ، محمد مشاک ، محسن زهتاب ، ابوالفضل صدیق شریف ، فخرالدین صدیق شریف ، شیوا کردی ، شهین ثمری ، محسن نکویی نژاد ، اکبر شالیزادگان ، یوسف جوکار ، اصغر نقی زاده ، هنگامه فرازمند|',\n",
              "  'عزت اله انتظامی ، مجید مظفری ، جمشید جهان زاده ، دانیال حکیمی ، لادن مستوفی ، حوریه جابرانصاری ، اکبر قدمی ، سعید دلیری ، اصغر نیکخواه ، سارا ساعتی ، یوسف زیاری ، هوشنگ چیت ساز|',\n",
              "  'رامبد شکرآبی ، الهام چرخنده ، شیوا خسرومهر ، شهاب عسگری ، نادیا دلدارگلچین ، حبیب اله الهیاری ، ثریا حکمت ، زهره حمیدی ، فرزانه داراب منش ، محسن صادقی ، علی رامز ، تورج نصر ، مهدی الهیاری ، آرش دولتشاهی|',\n",
              "  'جمشید هاشم پور ، محمد صالح علا ، آتیلا پسیانی ، حسن رضایی ، رفیع مددکار ، شهرام زرگر ، مینا فرامرزی ، رضا مرادیان ، هوشنگ دیبائیان ، کاظم هژیرآزاد ، طیب شرافتی ، محمد ذکریا ، ابراهیم عزت خواه ، حسین چرمچی ، محمد آهنگرانی|',\n",
              "  'بیژن امکانیان ، سیما رحمانی پور ، عبدالرضا آشتیانی ، هوشنگ منصورخاکی ، عزت اله رمضانی فر ، عباس مختاری ، محمد علیقلی ، محمد شاهین ، مختار سائقی ، میرهادی طیبی ، محمد ناجی ، اکبر معتمدی ، شفیع آقامحمدیان ، حسین مزروعی ، علی اکبر فیاضی|',\n",
              "  'شاه علی سرخانی ، رویا نونهالی ، پرویز پورحسینی ، گلاب آدینه ، قربان نجفی ، رضا کرم رضایی ، نعمت اله گرجی ، پرویز شاهین خو ، محمود بصیری ، مرتضی ضرابی ، احمدرضا اسعدی ، فخری سلطانی ، سعید دشتی ، کامران فیوضات ، فریده سپاه منصور|',\n",
              "  'ابوالفضل پورعرب ، ماهایا پطروسیان ، نیکو خردمند ، مسعود ولدبیگی ، هما خاکپاش ، بهزاد خداویسی ، حسن اسدی ، پرویز شفیع زاده ، زهرا مرتضوی ، ماهرخ شریفی ، محبوبه غلامی نژاد ، عباس قاجار ، محمدحسین زوارکعبه|',\n",
              "  'محمد کاسبی ، محمدرضا ایرانمنش ، غلامرضا علی اکبری ، حبیب اله حداد ، امیر اسماعیلی ، افشین علی زاده ، بابک آفاقی ، مهدی قنبری ، سعید ستاری ، عبداله جوهری ، سعید قائمی ، صادق توکلی ، سیدجلال طباطبایی ، علیرضا معتمدی ، احمد نادری|',\n",
              "  'ابوالفضل پورعرب ، حسین انصاری ، فاطمه صامتی ، حمید طالقانی ، مجید عبدالعظیمی ، رضا سعیدی ، حسن چودن ، محمود ثابت نیا ، ماشاءاله شاهمرادی زاده ، محمد تقی نژاد ، حسین مقدم ، فرید کشن فلاح ، محمد وثوق ، جواد آزاد ، علیرضا نعمتیان|',\n",
              "  'رضا مقدم ، قمر نصیری جوزانی|',\n",
              "  'هاشم حاکم زاده ، رضا حاکم زاده ، اصغر کهن قنبری ، انیس شکوری|',\n",
              "  'علیرضا خمسه ، فرخ لقا هوشمند ، مرتضی حاج سید احمدی ، ثریا سلطانی ، فاطمه عباسی ، نازنین ساغری ، سارا حسینیان ، وصال واحدیان ، رامین داوودی ، حدیث بیاری ، الناز غفوریان ، نیلوفر جلالی|',\n",
              "  'ماه تاج متین ، ناصر شاگردی ، نصراله اطمینان ، قاسم نوری کرمانشاهی ، خلیل اخوانیان ، مریم شیرازی ، علی عارف زاده ، آذین جلالی ، کسری پرتوی ، امید کیهانی ، مهرداد حلاجیان ، علیرضا رازانی ، هنگامه حسین زاده ، نوید حسین زاده ، حسین سوقی|',\n",
              "  'بیژن امکانیان ، ژاله صامتی ، محمدعلی سلیمان تاش ، رامبد شکرآبی ، مجید عبدالعظیمی ، نسرین نکیسا ، مهران اطیابی ، جواد جعفرقلی زاده ، حسین شهاب ، سیاوش مدافعی ، علی الهیاری بیگ ، افسانه ناصری ، امیر عرب ، محمدباقر سیدی ، هاشم مقدم|',\n",
              "  'مهناز افضلی ، شهراد وثوقی ، امیرحسین خان شهری ، مهری مهرنیا ، جمشید لایق ، صدیقه کیانفر ، شهرام جمشیدی ، آرش اعلامی ، کیمیا حقیقی ، شبنم بهارفر ، حسن جعفری ، علی بشارت پور ، محمدرضا اعلامی ، پوریا اناری ، ارس اعلامی|',\n",
              "  'عزت اله انتظامی ، ابوالفضل پورعرب ، لادن طباطبایی ، آناهیتا دری ، عبداله اسفندیاری ، امید روحانی ، احمد دامود ، ناصر نجفی ، سعید تهرانی یگانه ، علی اصغر گرمسیری ، نیکی کریمی|',\n",
              "  'سیدجواد هاشمی ، حسن عباسی|',\n",
              "  'رامبد جوان ، نگار فروزنده ، اکبر رحمتی ، زهره صفوی ، مرتضی ضرابی ، عباس محبوب ، رضا عبدی ، ابراهیم آبادی ، بهزاد رحیم خانی ، بهنوش بختیاری ، رضا غفوری ، هراند هاکوپیان ، محمد ورشوچی ، مهربان ، موسوی|',\n",
              "  'جهانگیر الماسی ، فاطمه گودرزی ، فرخ نعمتی ، جمشید لایق ، باقر صحرارودی ، فریده سپاه منصور ، رحمان مقدم ، توران قادری|',\n",
              "  'یاشار محمودی ، رحیم جهانی ، محمود نظرعلیان ، محمد ناجی ، سپیده کفشدوز جباری ، رخشنده زیرک ، عصمت عسگری ، مهدی فقیه ، جعفر رستمی ، زهرا فرهادی ، جواد درخشان ، صمد پیراسبقی ، عیسی کیانی ، حسین شامحمدی ، جعفر آقازاده امتنانی|',\n",
              "  'ابوالفضل پورعرب ، حسن جوهرچی ، لیلا بوشهری ، مهدی فقیه ، حبیب دهقان نسب ، زهره شفیعی ، منوچهر علیپور ، بهمن دان ، محمدعلی گیرگچ ، رضا مختاری ، رستم فرامرزی ، علی وفادار ، مسعود زبردست ، فرهاد محبت ، مرتضی مرادی|',\n",
              "  'بیژن امکانیان ، ژاله صامتی ، پریسا شاهنده ، هوشنگ منصورخاکی ، رامبد شکرآبی ، محمدباقر رشیدی ، مجید سعیدی ، حسین معلومی ، نرگس صفدریان ، پروانه افزاچی ، اسماعیل رسولی ، خسرو کرمی ، علیرضا مقتدر ، مجید زنگنه ، حمیدرضا مالکی|',\n",
              "  'علی دهکردی ، جعفر دهقان ، نگین صدق گویا ، اصغر محبی ، هوشنگ توکلی ، علی رامز ، زهره صفوی ، فرامرز شهنی ، امیر معاون زاده ، احمد جوهری ، صالح میرزاآقایی ، مریلا زارعی ، محمدباقر سیدی ، علیرضا محمودی ایرانمهر ، مجید مشیری|',\n",
              "  'خسرو شکیبایی ، نیکی کریمی ، پرویز پرستویی ، نیکو خردمند ، محمد برسوزیان ، فهیمه راستکار ، هایده حائری ، فخرالدین صدیق شریف ، شاهرخ دستورتبار ، کیانوش ظهوری ، رایحه قرآنی ، گلنوش ظهوری ، احمد یاوری شاد ، حسین فیض پور ، عذرا مردانیان|',\n",
              "  'علیرضا انوش فر ، بهارک بهارلو ، محمدرضا رحمانی ، رامین راستاد ، علی ایرانی ، مانی کسراییان ، علیرضا سروش ، افسون افشار ، بیتا مسافرین ، سیاوش فکری ، نرگس ادیبی ، ابوالفضل کیمرام ، شبنم جفرودی ، اقدس صحت بخش ، پروین فراهانی|',\n",
              "  'جمشید هاشم پور ، محمد صادقی ، افسانه بایگان ، جلال پیشواییان ، مینا فرامرزی ، علیرضا جاویدنیا ، طیب شرافتی ، هوشنگ دیبائیان ، فرخ لقا هوشمند ، شبنم مقدسی ، سیروس کهوری نژاد ، شایان مغربی ، امیرحسین شکری ، حسین چرمچی ، پروین میکده|',\n",
              "  'مینا لاکانی ، حسن جوهرچی ، امین زندگانی ، فهیمه راستکار ، مریلا زارعی ، رضا میرمعنوی ، مجید نوری ، مقصود حسنی ، سیدمحمود آفریدون ، مریم مسلمی ، بهروز صلواتی ، امیر فرزاد ، عسل حجتی ، کتایون امیرفلاح|',\n",
              "  'خسرو شکیبایی ، بیتا فرهی ، فاطمه معتمدآریا ، جلال موسوی ، امیر پایور ، مهری ودادیان ، طاهره سیرتی ، علیرضا صادقی صافی ، سیدمحسن خرم دره ، فریدون شهبازیان ، امیرحسین سلیمانی ، احمد قوچانی ، شهرام نشاط ، هما خاکپاش ، لعیا باستانی|',\n",
              "  'ویشکا آسایش ، محسن شاه ابراهیمی ، عنایت بخشی ، مجید جعفری ، اکرم محمدی ، فریده سپاه منصور ، سیروس گرجستانی ، سحر مصیبی ، نیره فراهانی ، کوروش تهامی منفرد ، شهرام فرضی پور ، سعید اکبری مقدم ، نوید هدایت پور ، آذر محمدی ، ثمینه لسانی|',\n",
              "  'فریماه فرجامی ، امین تارخ ، جهانگیر الماسی ، گوهر خیراندیش ، سیروس ابراهیم زاده ، زهرا خلیلی ، زهره صفوی ، افسانه چهره آزاد ، عبدالرضا اکبری ، مجید مشیری ، حیدرعلی عمرانی ، شهرزاد پیردوست ، لیلا بصراوی ، افشین خالقی ، سیما فریدونی|',\n",
              "  'علی اصغر اسحاقی ، رسول بهارانگیز ، مهناز یعقوبی ، جعفر بزرگی ، امیرحمزه گرجی نژاد ، محمدرضا اسحاقی ، سپیده حسینی ، مجید زارع کار ، بیژن لاتون ، غلامرضا دانیالی ، حسن کوچکی ، محمد باکیده ، غفار علی اصغری ، مریم حاجی سقطی ، یوسف زقورزاده|',\n",
              "  'جمشید هاشم پور ، افسانه بایگان ، رضا فیض نوروزی ، محمد پورغلامی ، خسرو دستگیر ، فخرالدین صدیق شریف ، رضا نوروزی ، هوشنگ دیبائیان ، محرم بسیم ، زهره حمیدی ، اسفندیار مهرتاش ، محمدباقر رشیدی ، سیدپیام شمس ، مسعود گازرانی ، محمد افشار|',\n",
              "  'محمدرضا شعبانی نوری ، حمید ملاعباسی ، رضا صنعتی ، شروین اتحاد ، داوود غفاری ، عزت اله رمضانی فر ، محمد ورشوچی ، محمود بهرامی ، اسفندیار مهرتاش ، علی اصغر نجات ، غلامرضا صادقی ، مینو احمدی ، طاهره طایفی ، مرتضی نیکخواه ، داوود کریمی|',\n",
              "  'حسین گیل ، جلال پیشواییان ، شهرام پوراسد ، ناصر نجفی ، هادی فراهانی ، ایرج میرزایی ، حسین الهیاری ، داوود رجایی ، مرضیه متین راسخ ، اقدس صحت بخش ، آتش تقی پور ، فرج اله گل سفیدی ، منوچهر اخضرپور ، نصرت دستمردی ، امیرحسین محمدی|',\n",
              "  'محمدرضا صفری ، حبیب اله مظفری ، علیجان لطفی ، مریم کاظمی ، مریم لطفی ، زهرا حسینی ، عماد نجفی ، محمدعلی آزادگان ، محمد باقر صیدانلو ، محمدعلی صادقی ، غلام نجفی ، منیره جمالیان ، حسین نصراله جعفری ، توران قادری|',\n",
              "  'فاطمه معتمدآریا ، حسین سلیمانی ، جمشید اسماعیل خانی ، محمدرضا داوودنژاد ، گلشید احتمالی ، یوسف خدابنده لو ، نادیا دلدارگلچین ، علی نظری ، ساحره متین ، مریم بوبانی ، محمد مختاری ، منوچهر سپهری فرد ، محمد ذوالفقاری ، نجات علیمرادی ، نازنین سمر|',\n",
              "  'داریوش ارجمند ، امین تارخ ، آتیلا پسیانی ، بهروز بقایی ، اصغر همت ، جمشید اسماعیل خانی ، حمیرا ریاضی ، کمند امیرسلیمانی ، علیرضا اوسیوند ، مهناز انصاریان ، عباس امیری ، نیکو خردمند ، فاطمه تقوی ، خسرو دستگیر ، هوشنگ قوانلو|',\n",
              "  'فرامرز قریبیان ، جمشید هاشم پور ، افسانه بایگان ، فرهاد جم ، عباس شباویز ، مهدی فقیه ، مهدی سبوکی ، یداله رضوانی ، رحیم هودی ، هوشنگ دیبائیان ، رفیع مددکار ، صادق جیران زاده ، جلال موسوی ، فرهاد خان محمدی ، احمد عباسقلی|',\n",
              "  'جمشید هاشم پور ، جمشید جهان زاده ، علی توکل نیا ، حسین شهاب ، پرویز بزرگی ، محمود مقامی ، احمد جوهری ، سام مشایخی ، حسن خانی ، مجید شهبازی ، علیرضا شهبازی ، احمد محمدی نیا ، علیرضا فتحی ، رضا بیات احمدی ، اکبر آبدیده|',\n",
              "  'ارباز علیخان ، جمشید جهان زاده ، بهزاد خداویسی ، کریشما رای ، امیرخان ، امیرحسین شریفی ، بیوک میرزایی|',\n",
              "  'چنگیز وثوقی ، مهشید افشارزاده ، جمشید شاه محمدی ، خسرو دستگیر ، ابراهیم تنهایی ، کیوان مظاهری ، جعفر عباسپور ، حمید عمرانی ، احمد نقده ، جمال ذوالقدر ، سیدشمس الدین مولوی ، ایوب پورتقی قوشچی ، افشین پورتقی قوشچی ، جعفر میکائیلی ، علی برجی|',\n",
              "  'داریوش ارجمند ، عاطفه رضوی ، جهانبخش سلطانی ، حامد کلاه داری ، محمدرضا شریفی نیا ، ملیکا شریفی نیا ، محمد کدخدایی ، آناهیتا همتی|',\n",
              "  'جمشید هاشم پور ، جهانبخش سلطانی ، فرهاد اصلانی ، محمود پاک نیت ، حبیب دهقان نسب ، علیرضا جلالی ، علی امیدوار ، علی بهادری ، شهریار بحرانی ، احمد احمدی ، محمود ابراهیمی ، داریوش آزرم سا ، علی عبدالعظیمی ، اسماعیل آقاجانی ، رضا غفاری|',\n",
              "  'حسین یاری ، ویشکا آسایش ، منوچهر احمدی ، محمود استادمحمد ، ولی شیراندامی ، جمیله شیخی ، سحر جعفری جوزانی ، نرگس هاشم پور ، رامیار رسوخ ، هاشم روحانی ، فتح اله جعفری جوزانی ، پژمان بازغی ، محمدرضا شریفی نیا ، اصغر رحمانی ، رامیار گلزاری|',\n",
              "  'حسین یاری ، بهمن دان ، مجید مشیری ، مجید زارع کار ، فرید کشکولی ، محمودرضا ثانی ، محمد جوزانی ، محمد ناجی ، محسن نیکویی ، داوود معدنی ، مسعود معرفی ، اصغر اسلامی ، بهزاد وزیری ، داریوش بابائیان ، مهدی پرویش|',\n",
              "  'محسن فلسفین ، رافیک ترگابریلیان ، زلیخا شاداب ، پروانه مظهری ، سیدهادی نائینی زاده ، سیدعلی سیدمحمدی ، علی حسین محمدحسنی ، آلیک قریبیان ، اما الکسانیان|',\n",
              "  'ابوالفضل پورعرب ، رضا رویگری ، پیمانه طهماسبی ، پژمان بازغی ، فرشاد رحمانی ، بهزاد رحیم خانی ، ساناز سماواتی ، منصور والامقام ، صدیقه کیانفر ، رضا مرادی ، رضا نوابی ، علی نوابی ، اصغر پهلوان صادق ، محمدرضا گوهرمنش ، مراد یوسفی|',\n",
              "  'سعید پورصمیمی ، گلچهره سجادیه ، مهدی فتحی ، اصغر همت ، بهمن زرین پور ، علی اصغر گرمسیری ، پانته آ بهرام ، محمدحسین قشمی ، محمدصدیق مرادزاده ، علی دهقان|',\n",
              "  'داریوش ارجمند ، مهرانه مهین ترابی ، فرهاد جم ، زهرا اویسی ، رویا خلیلی ، فخرالدین صدیق شریف ، آرش تاج تهرانی ، زهره صفوی ، سعید ولی زاده ، محبوبه اخی ، عصمت عسگری ، مهسا عباسی ، الهام سینایی ، پریسا اولیایی ، لیلا یاوری|',\n",
              "  'چکامه چمن ماه ، رامین راستاد ، پری امیرحمزه ، مریم سعادت ، باقر صحرارودی ، منوچهر آذر ، هنگامه فرازمند ، احمد کاظمی ، سپیده پهلوان زاده ، فرج اله گل سفیدی|',\n",
              "  'لیلا حاتمی ، پارسا پیروزفر ، محمدرضا شریفی نیا ، بهزاد فراهانی ، نادیا دلدارگلچین ، کمند امیرسلیمانی ، زهرا سعیدی ، جمشید اسماعیل خانی ، گوهر خیراندیش ، آرش تاج تهرانی ، اکرم محمدی ، حسین راضی ، هدایت اله نوید ، خسرو فرخ زادی ، ترانه طلیعه نوری|',\n",
              "  'دنی کوئین ، ایزابل داهلین ، تام آدامز ، کون دووالت ، کلیل نلسون ، کارلوس ریواس ، کنی مک کاب ، کینگ استوارت ، مارک استونی بلک ، برنیس فون اشترنبرگ ، جی تی بونتینو ، مارکو مانلی ، نیکولاس مارتین ، خوزه رودریگوز ، ژوزف الوارز|',\n",
              "  'ابوالفضل پورعرب ، شقایق فراهانی ، فرامرز صدیقی ، محمدرضا شریفی نیا ، جلال موسوی ، آناهیتا همتی ، جلال پیشواییان ، سروش خلیلی ، مجید نیامراد ، محسن شایان فر ، حسین چنگی ، سپیده حسینی ، هدایت اعلایی ، جلیل ملک زاده ، امیر پایور|',\n",
              "  'محمدرضا فروتن ، میترا حجار ، کیانوش گرامی ، عنایت بخشی ، افسانه خلیلی ، اکبر معززی ، جمشید جهان زاده ، پولاد کیمیایی ، فاطمه شکری ، علی اصغر طبسی ، مهری مظاهری ، منصوره فرنیا ، علی بالاکوهی ، شهین حسین آبادی ، رضا شکراله|',\n",
              "  'خسرو شکیبایی ، هما روستا ، دانیال حکیمی ، محمدعلی کشاورز ، فتحعلی اویسی ، رویا تیموریان ، غلامرضا طباطبایی ، احمد دامود ، آرش تاج تهرانی ، شهریار پارسی پور ، محمد حاج حسینی ، کیانوش گرامی ، معصومه آقاجانی ، صالح میرزاآقایی|',\n",
              "  'عبدالرضا آشتیانی ، رسول توکلی ، سیدمحسن خرم دره ، هوشنگ منصورخاکی ، محمد جوزانی ، علی نظری ، عباس مختاری ، خسرو خانمحمدی ، محمدرضا داداشی ، محمدرضا علی زاده ، محمد راموز ، داوود خلیلی ، بهروز پیروزیان ، اکبر آبدیده ، محسن شاهرخی|',\n",
              "  'شهره لرستانی ، فخری خروش ، ولی شیراندامی ، حسن عباسی ، بهزاد خداویسی ، پروین سلیمانی ، شهربانو کیمیا ، غزل علامی ، آزیتا رضایی ، زهره صالحی ، مهناز بیک محمودلو|',\n",
              "  'ابوالفضل پورعرب ، مهتاب کرامتی ، اصغر نقی زاده ، عطاءاله سلمانیان ، حسین انصاری ، آناهیتا آزادپرور ، مهتاج نجومی ، آرش تاج تهرانی ، علیرضا اوسیوند ، فخری خوروش ، فرهاد مهادیان ، رضا عبدی ، افسانه ناصری ، سحر زکریا ، فرید صالحی|',\n",
              "  'احترام السادات حبیبیان ، شجاع الدین حبیبیان ، محمدرضا داوودنژاد ، رضا داوودنژاد ، مونا داوودنژاد ، حسین میرآقایی ، زهره میرآقایی ، پرویز احمدی ، سیروس یزدانی ، منیر اصفهانی ، امیر حقیقت ، اقدس سعادت رضایی|',\n",
              "  'فاطمه معتمدآریا ، مجید مظفری ، رضا فیاضی ، فرهاد اصلانی ، ابراهیم آبادی ، عنایت اله شفیعی ، کاوه آهنگر ، معصومه اسکندری ، مینا نوروزی ، علی رامز ، جعفر بزرگی ، محمدرضا حقگو ، محسن فخاری ، احمد نصیری راد ، سامان شعاعی|',\n",
              "  'رامین بحرانی ، کریم کاشانی ، امراله صولتی دالکی|',\n",
              "  'فاطمه گودرزی ، عبدالرضا آشتیانی ، محمدرضا ایرانمنش ، نادر رجب پور ، رامین پرچمی ، فرهاد خان محمدی ، بابک نوری ، جواد غیور ، میترا خمسه ، رضا قدیمی خو ، خسرو خانمحمدی ، داوود صاحبدل ، بیژن همدرسی ، محمد قدیمی خو ، شهرام فتحی|',\n",
              "  'ابوالفضل پورعرب ، محمد صادقی ، سی بل الو ، صالح میرزاآقایی ، نیکو خردمند ، پرستو صالحی ، منوچهر اخضرپور ، عبدالرضا صحرانورد ، ناصر جعفری ، محمد خوئینی ، محمدعلی فردی ، اردوان اوزاره نه ، احمدت بیکول ، امیدت ، هاردوان|',\n",
              "  'جلیل نظری ، محمود بهرازنیا ، رشید اکبری ، محبوبه خلیلی ، احسان دریاباری ، ولی اله بتا ، عیسی بیگلری ، خداداد خلیلی ، علی کربلایی نوروزی ، تهمینه میلانی ، جعفر پناهی ، بهرام بدخشانی ، بهمن اردلان ، مهرداد لشکری ، بابک اخوان|',\n",
              "  'مریم مقدم ، یوسف مرادیان ، هواس پلوک ، پریوش نظریه ، هادی ضیاالدینی ، خسرو شهراز ، ابراهیم سعدالهی ، عطیه فتحی ، هانا مرادی ، سارا غفاری ، ویدا رضایی ، عاطفه افشین مهر ، کمال شفیعی ، آناهیتا کبیرکوه ، توفیق احمدی|',\n",
              "  'آلتینای قلیچ تقانی ، پیمان میرعلی اکبری ، زهرا محمدی ، حبیب اله حداد ، صغری کریمی ، شهناز شهبازی ، اقدس صحت بخش ، شمس اله ترک ، شاپور قنبری ، عباس افشاریان|',\n",
              "  'کوروش تهامی ، رویا تیموریان ، مجید مشیری ، پروانه احمدی ، شبنم طلوعی ، هایده حائری ، جمشید خندان|',\n",
              "  'فریبرز عرب نیا ، آناهیتا نعمتی ، سام درخشانی ، هوشنگ منصورخاکی ، منوچهر آذر ، سیامک اطلسی ، امراله صابری ، سهیلا عزیزی ، آی محمد آی محمدی ، مهرداد بازرگان ، نوبر قنبریان ، عباس ناظری نیک ، محمدرضا نوروزی ، ولی اله عمرانی ، مسعود غفاری|',\n",
              "  'جمشید هاشم پور ، محمود لیاقت ، احمد راد ، سعید قائمی ، اکبر غفاری ، عظیم مشهدی ، میلاد عبدالحسینی ، سهیل پیداویسی ، شهزاد صفوی ، داوود زم ، غلامرضا زاده نور ، سعید آشوری ، علی بختیاری ، ذبیح اله ذبیح پور ، سیدمحسن خرم دره|',\n",
              "  'محمود نظرعلیان ، قربان نجفی|',\n",
              "  'جعفر دهقان ، رضا صفایی پور ، کاظم افرندنیا ، رامبد شکرآبی ، خشایار ، حبیب اله الهیاری ، میترا خواجه نیان ، رحیم طالب پور ، سپیده حسینی ، فاطمه جعفری ، حسین تبریزی ، شهرزاد صفوی ، عباس مختاری ، سیدمحسن خرم دره ، رضا غفوری|',\n",
              "  'حمید تمجیدی ، نلی میناسیان ، ناصر گیتی جاه ، فاطمه گیتی جاه ، لوریک میناسیان ، رویا حسنلو ، ژانت وسکانیان ، شبنم اعلایی ، حبیب اله کاظمی ، سورن مناچیکانیان ، علی اکبر یعقوبی ، حسن عبدالعلی زاده ، شراره مهربان ، کسری تمجیدی|',\n",
              "  'غلامرضا طباطبایی ، بهناز نازی ، سروش صحت ، شاهرخ فروتنیان ، شبنم طلوعی ، کوروش تهامی ، لاله اسکندری ، علیرضا ثانی فر ، نیکو خردمند ، رویا تیموریان ، مهتاج نجومی ، عنایت بخشی ، حبیب دهقان نسب ، مینا جعفرزاده ، جهانگیر صمیمی فرد|',\n",
              "  'پرویز پرستویی ، فاطمه معتمدآریا ، حبیب رضایی ، سیدجواد یحیوی ، مجتبی یاسینی ، فاطمه طاهری ، لوریک میناسیان ، محمدرضا غیاث آبادی ، فیروز آقایی ، کیوان پورصفر ، ایران اخوان ، بهار نوحیان ، هوشنگ قوانلو ، حبیب اله ثامنیه ، مریم صالح پور|',\n",
              "  'رویا نونهالی ، فرخ نعمتی ، اسماعیل امینی ، مریم خوانساری ، گل محمد گل محمدی ، غلامرضا حسن زاده ، قربان احمدی گلدی ، امیر عرب ، حسن خالقی ، فاطمه موسوی ، رجبعلی قرانی ، محمدرضا صانعی ، حبیب فدایی ، علی اکبر پاکیزه ، مریم رمضانی|',\n",
              "  'بهناز جعفری ، مانی کسراییان ، منوچهر احمدی ، زیبا نادری ، خسرو امیرصادقی ، محمدرضا شعبان نوری ، ناصر قاسمی ، حمیدرضا بهشتی ، رشید اصلانی ، سحر فرخی ، محمدرضا امیرصادقی ، جواد بدرزاده ، رضا فرهادی ، محمود زاج فروش ، هوشنگ افشار|',\n",
              "  'موسی نیک سیرت ، محمد نیک سیرت|',\n",
              "  'مهدی لطفی ، بیژن سلطانی ، روح اله حسینی ، مهران رجبی ، فریدون قوانلو ، مهدی لفتی ، صغری عبیسی ، اله قلی نظری ، فریدون امیرعبدالهیان ، علی بکانیان ، فاطمه دیوان دری ، گیتی معینی|',\n",
              "  'محمد صالح علا ، حمیرا ریاضی ، حسین ایل بیگی ، مظفر مقدم ، سروش خلیلی ، صدرالدین حجازی ، علی امیدوار ، زهرا اویسی ، طیبه میامی ، سکینه آقاجانی ، ابوالفضل شاه کرم ، علی اسماعیل لو ، جواد زرینچه ، فرهاد خان محمدی ، نقی سیف جمالی|',\n",
              "  'معراج الدین باباجانی ، سمانه سیف ، علی سیف ، فرزاد فراهانی ، امیر مصری|',\n",
              "  'سارا پرچم ، فرشته سرابندی ، رامبد شکرآبی ، محمود مقامی ، حمید آذرنگ ، محمد رشیدی ، مجید زارع کار ، قاسم حساوی ، علی چکشی ، جلال حدپورسراج ، راحیل بنت تمیم ، یوسف جوکار ، محسن نیکویی ، خداداد مجلسی ، عباس بلوندی|',\n",
              "  'مصطفی قبادی ، سیدعلی حسینی ، لیلا سعیدی|',\n",
              "  'پرویز پرستویی ، لیلا حاتمی ، آتیلا پسیانی ، بهناز جعفری ، فریماه فرجامی ، عبداله اسفندیاری ، فرشید ابراهیمیان ، مهدی شیخی ، روژانو نصیرزاده ، محمود بنفشه خواه|',\n",
              "  'یوسف مرادیان ، اردلان شجاع کاوه ، مهشید افشارزاده ، حسن جوهرچی ، محمدرضا داوودنژاد ، شهاب عسگری ، رامین نعمتی ، کوروش سرمدی ، آیدا مطلبی ، محمدباقر سیدی ، وحیده حیدری ، بهروز پیروزیان|',\n",
              "  'فریبرز عرب نیا ، ماهایا پطروسیان ، عسل بدیعی ، صبا آقاجانی ، منوچهر علیپور ، شبنم مقدمی ، ثمره کریمی ، حسین خلیلی ، روشنک یوسف زاده ، امید آمری ، مهدی فلاحتگر ، الهام شاه نظری ، مهران تاجیک ، سعید قره خانی ، عاطفه شهبازی|',\n",
              "  'احمدرضا عابدزاده ، مرجان شاهی ، سحر ولدبیگی ، ایمان ساکی ، نیکو خردمند ، امیر بخشنده ، ضیاء شجاعی مهر ، محسن اصلانی ، پرویز شفیع زاده ، نیلوفر دوستی ، حمیدرضا شفیع زاده ، داریوش سلیمی ، شراره دولت آبادی|',\n",
              "  'محمدعلی کشاورز ، زهرا امیرابراهیمی ، مجید مشیری ، رضا سعیدی ، زهرا سعیدی ، احمد کاوری ، مصطفی طاری ، فلور سعیدی ، محسن آراسته ، مریم سلطانی ، علیرضا نجف زاده|',\n",
              "  'حسین عابدینی ، محمد ناجی ، زهرا بهرامی ، حسین رحیمی ، غلامحسین بخشی ، بهزاد رفیعی ، جعفر توکلی ، یداله هدایتی ، پرویز لاهیجانی ، محمود بهرازنیا ، پاشا برآبادی ، کمال پرتو ، مقصود مقدم ، پیمان دارابیان ، محمد اله داد|',\n",
              "  'علی واجدسمیعی ، مهتاب کرامتی ، شجاع الدین حبیبیان ، محمدرضا داوودنژاد ، مونا داوودنژاد ، مریم واجدسمیعی ، امیر واجدسمیعی ، قمرتاج کلیج ، محمدذکریا کلیج ، زال زر کلیج ، مختار تقی پور ، میرزاخان تقی پور ، جعفر تقی پور ، صالح تقی پور ، بهروز تقی پور|',\n",
              "  'هدیه تهرانی ، علی مصفا ، سروش گودرزی ، مهدی خیامی ، سعید بزرگی ، اسماعیل شنگله ، سیدابراهیم بحرالعلومی ، محمدرضا قومی ، خسرو ناجی ، امیرعلی عسگری ، مهرداد خان زادی ، علی کاظمیان ، رهام بهمنش ، مهدی فرشچی ، کوروش ستوده|',\n",
              "  'عبدالرضا اکبری ، پریوش نظریه ، احسان قاسمی ، سیاوش لشگری|',\n",
              "  'سارا ییناز ، غلامرضا خوشحال پور ، شهرام علی شریفی ، شهره لطفی|',\n",
              "  'مهناز افشار ، رامبد شکرآبی ، بهزاد فراهانی ، محمدرضا شریفی نیا ، نادیا دلدارگلچین ، محمدرضا داوودنژاد ، رامین پرچمی ، آرین خلج ، سروش خلیلی ، ثریا قاسمی|',\n",
              "  'حمیدرضا گلشن مژدهی ، ابوذر اکبری ، رضوان امیری ، حسین نجفی ، فاطمه قلی نیا ، مجتبی اسدی ، هادی درویش زاده ، علی اکبری ، مریم مهری|',\n",
              "  'یوسف مرادیان ، نگار فروزنده ، یارتا یاران ، محمود پاک نیت ، پرویز بزرگی ، مهدی میامی ، محمد برسوزیان ، علی برجسته ، شهلا ریاحی ، فرشید نوابی|',\n",
              "  'فرهاد مهادیان ، شقایق فراهانی ، سیامک اطلسی ، حسن شیرزاد ، مرتضی فیروزی ، اشکان قاسمی ، آمنه کیوانی ، سمیه حسنی ، رمضان امیری ، ناصر فدافیان ، رسول قدر بلند|',\n",
              "  'ابوالفضل پورعرب ، عاطفه رضوی ، جمشید جهان زاده ، حسین راضی ، قاسم زارع ، علیرضا اوسیوند ، بیژن بنفشه خواه ، لیدا عباسی ، حمید لولایی|',\n",
              "  'فریبرز عرب نیا ، لعیا زنگنه ، حمیرا ریاضی ، محمد سادات ابهری ، فرهاد قائمیان ، غلامرضا اصانلو ، ساغر عزیزی ، الهام سنایی ، خاتون یزدانی ، لعیا باستانی ، شیوا عقیلی ، محمد ایمانزاده ، بهار لنکرانی ، نرگس عتیقه فروش ، ساناز زمان پور|',\n",
              "  'حبیب دهقان نسب ، غزل صارمی ، صادق صفایی ، برزو ارجمند ، احمد کاوری|',\n",
              "  'نیلوفر پذیرا ، حسن طنطائی ، سرو تیموری ، حیات اله حکیمی ، صفدر شجاعی ، محمدحیدر بربری ، ملاظاهر تیموری ، مگدالنا اوزداوسکا ، مونیکا هانیکه ویچ ، محمدجواد عارفیان ، زهرا شفاهی ، نفس گل ، محبوب شجاعی|',\n",
              "  'پروانه احمدی ، مهرداد فلاحتگر ، سیامک اشعریون|',\n",
              "  'شقایق فراهانی ، عبدالرضا اکبری ، قدرت اله صالحی ، احمدرضا اسعدی ، شراره رخام|',\n",
              "  'سعید دانشور ، فرشید نوایی|',\n",
              "  'فریبرز عرب نیا ، لعیا زنگنه ، بیتا حیدری ، سعید سلطانی ، غلامحسین لطفی ، غلامرضا طباطبایی ، آزیتا لاچینی ، میرمحمد تجدد ، فاطمه علی زاده عرب ، محمود مقامی ، نیلوفر دوستی ، زویا امامی ، محمدرضا نوروزی ، اسفندیار یگانه ، آیدا روزبه|',\n",
              "  'رامبد شکرآبی ، شقایق فراهانی ، محسن آراسته ، پرویز حکمی ، ناصر نورنژاد ، محمد اسدی ، افشین نخعی ، فرزانه ملکی ، سپهر عباسی ، فریبا آذرگون ، شیدا علیخانی ، بابک حبیبی فر ، نیلوفر سجادی ، جعفر بیدی ، اشکان قاسمی|',\n",
              "  'محمود فتح الهی ، میترا دهقان ، علیرضا سلامیان|',\n",
              "  'مهدی لطفی ، نیک رابینسون ، اکبر عبدی ، حسین محجوب ، جمشید جهان زاده ، رضا فیض نوروزی ، پیام یزدانی ، فرزاد حاتمیان ، مهدی سجادی فر ، جوی هریسون ، لوییز پیج ، کریستوفر ویتینگهام|',\n",
              "  'علیرضا انوش فر ، غوغا بیات ، محسن قاضی مرادی ، حسین سلیمانی ، لیلا ارفکی ، ملیحه نظری ، نفیسه فسن غری ، رضا سعیدی ، جهان مهربخش ، سعید صالح آبادی ، نیما خسروانی ، ابوالفضل شمس آبادی ، مهدی دولت آبادی ، محمد علیاثانی ، طاهره استری|',\n",
              "  'رسول بهارانگیز ، بهنوش بختیاری ، سیدمسعود طباطبایی ، علیرضا نجف زاده|',\n",
              "  'مجید حاجی زاده ، نادیا دلدارگلچین ، حدیث فولادوند ، ثریا قاسمی ، فرامرز صدیقی ، معزز بنی دخت ، فریده صابری|',\n",
              "  'داریوش ارجمند ، جمشید هاشم پور ، محمدرضا شریفی نیا ، ویشکا آسایش ، پروانه معصومی ، عنایت بخشی ، رضا ژیان ، حسن پورشیرازی ، عنایت اله شفیعی ، ژاله علو ، سعید نیک پور ، سیروس گرجستانی ، سیاوش طهمورث ، رضا رویگری ، رسول نجفیان|',\n",
              "  'ماندانا برومند ، شراره رجایی ، حمید لاجوردی ، جعفر نداف|',\n",
              "  'نیکی کریمی ، فریبرز عرب نیا ، فرامرز صدیقی ، یاسمین ملک نصر ، نیکو خردمند ، محمود استادمحمد ، صالح میرزاآقایی ، فتانه آصف نخعی ، جواد طوسی ، شراره دولت آبادی ، پویا اسلامی هرندی ، محمد پوستی ، فرخ نجاری ، فلور نظری ، محمدحسن نجم|',\n",
              "  'ابوالفضل پورعرب ، فاطمه گودرزی ، لادن طباطبایی ، جمیله شیخی ، نیکو خردمند ، صغری عبیسی ، مینا محمدخانی ، آیدا تبیانیان ، سپهر حاجی حشمت ، رضا رضوی ، ابراهیم آبادی ، اسماعیل سلطانیان ، طیبه ابراهیم ، سورن ، علی حیدری|',\n",
              "  'فاطمه معتمدآریا ، ایرج طهماسب ، مجید صالحی ، رزیتا غفاری ، سیروس گرجستانی ، سپهر آزادی ، خسرو احمدی ، هنگامه فرازمند ، افشین سنگ چاپ ، رابعه اسکویی ، خسرو سهامی ، هوشنگ قوانلو ، گیتی معینی ، مهدی باطبی ، بابک برزویه|'],\n",
              " ['محمدعلی شمس ، پگاه عسگری ، داریوش مؤدبیان ، ابوالفضل توکلی|',\n",
              "  'کوروش نریمانی ، هادی معنوی ، ندا غلامی ، حسین شیدایی ، نورالدین اعلمی ، زری پشتدار ، عزیز کشاورز ، نورعلی لطفی ، محمدعلی گودرزی ، مرتضی فلاحی ، ماه سلطان زیودار ، صفر بیرانوند ، سبزعلی درویشیان ، ذبیح اله طولابی ، نسیم بیرانوند|',\n",
              "  'جبرئیل امانی ، فاطمه اصلانی ، زینب اصلانی ، مدینه جعفری ، محمدحسین رنجبر ، محمود بیگی|',\n",
              "  'علی قربان زاده ، چکامه چمن ماه ، اسماعیل شنگله ، رضا داوودنژاد ، محمدرضا داوودنژاد ، مونا داوودنژاد ، رسول توکلی ، نیلوفر دوستی|',\n",
              "  'یوسف مرادیان ، همایون ارشادی ، پرویز تأییدی ، مهتاج نجومی ، پروین تمجیدی ، زهره فکورصبور ، سعادت تمجیدی ، سیامک اشعریون ، پرستو پاشایی|',\n",
              "  'علی قربان زاده ، محمود پاک نیت ، شهنام شهابی ، ندا وطنی ، علی طالب لو ، زهرا سعیدی ، اصغر محبی ، مجید مشیری ، احمد قدکچیان ، مهدیس عزیزپور ، حمیدرضا آفرینش ، اسماعیل صیدیلو ، سعید واثق ، امیرهوشنگ حسینی ، طاهره کاظمی|',\n",
              "  'محمد ناجی ، نسرین نکیسا ، مهدی شهابی ، سمیرا علایی ، محمود نظرعلیان ، سیلوا آندریاسیان|',\n",
              "  'اکبر عبدی ، رضا فیض نوروزی ، رابعه اسکویی ، آتش تقی پور ، ستاره اسکندری ، مریم سعادت ، عباس محبوب ، ثمینه لسانی ، خسرو احمدی ، آرش میراحمدی ، علیرضا واثق ملکی ، مهران ضیغمی ، آیدا تبیانیان ، علی ابوترابی ، مهدی ساکی|',\n",
              "  'ابوالفضل پورعرب ، هیلا اکرانی ، رویا تیموریان ، مهتاج نجومی ، عباس امیری ، رضا سعیدی ، زهرا سعیدی ، محمد سادات ابهری ، رضا توکلی ، شهروز ابراهیمی ، الهام حمیدی ، تورج فرامرزیان ، ابراهیم تفرشی ، خسرو خانمحمدی ، نسرین خسروان اصفهانی|',\n",
              "  'احسان احدپور ، مریم رضوی ، رسول پیراسبقی ، جواد درخشان ، علی کوهپایه ، محمد داوودآبادی ، نگار آقازاد ، قاسم کارکن ، علی مداحی ، حسین جوان|',\n",
              "  'بهرام رادان ، یکتا ناصر ، محمدرضا داوودنژاد ، علی جلالی ، مجید ایران عقیده ، بهیه کیمیایی ، میرطاهر مظلومی ، روناک شمیم ، مجید مشیری ، رحمان مقدم|',\n",
              "  'عزت اله انتظامی ، احمد نجفی ، بهناز محرر ، هنگامه قاضیانی ، مهدی سلطانی ، رویا غیرتمند ، محمدرضا نوروزی ، رامین صدیقیان ، پیمان شریعتی ، سیدجلال طباطبایی|',\n",
              "  'ایمان اله ورن ، علی آزادنیا ، محمد سادات ابهری ، حسن رضایی ، مرتضی ضرابی ، معصومه اسکندری ، اسفندیار مهرتاش ، حسین افشار ، اصغر لشگری ، سعید عراقی ، سیدحسن حسینیان ، بهروز پیروزیان|',\n",
              "  'جمشید هاشم پور ، آتنه فقیه نصیری ، آتیلا پسیانی ، قاسم زارع ، فرهاد قائمیان ، جلال حدپورسراج ، حمیدرضا افشار ، فرهاد شریفی ، محمد عطایی ، محرمعلی رزاقی ، مهدی میامی|',\n",
              "  'رضا شیخی ، احمد خمسه ، احمد بیگدلی ، علی شاهسون ، رابعه مدنی ، سیدمیرزا رضویان ، حسن نیکنام ، حمیدرضا ذکاوت|',\n",
              "  'کتایون ریاحی ، ثریا قاسمی ، آتیلا پسیانی ، محمدرضا گلزار ، هانیه توسلی ، شاهرخ فروتنیان ، مهسا عظیمی ، شیوا ابراهیمی ، بهروز قادری ، ابوالقاسم یزدی ، پدرام فر یوسفی ، پروین میکده ، سارا رحمانی ، اکبر نظری|',\n",
              "  'چنگیز وثوقی ، شهلا ناظریان ، حسین عرفانی ، فرحناز حسینی ، علی امجدی ، جهانگیر فروهر ، پوران کریمی ، مرتضی نیکخواه ، حسین معلومی|',\n",
              "  'رضا رویگری ، مهشید افشارپناه ، کاظم افرندنیا|',\n",
              "  'حسین محجوب ، محمود پاک نیت ، پریوش نظریه ، محمود جعفری ، زهرا سعیدی ، باقر صحرارودی ، جعفر دهقان ، مریم بوبانی ، علی یعقوب زاده ، امیر قهرمان زاده ، جهانگیر الماسی ، امان اله رحیمی ، محمد حاج حسینی ، شیرین صمدی ، مهوش صبرکن|',\n",
              "  'پرویز پرستویی ، فاطمه معتمدآریا ، محمد کاسبی ، مهدی فتحی ، فرهاد آئیش ، سپهر آزادی ، مانی نوری ، مهران رجبی ، حسن شیرزاد ، مجید عبدالعظیمی ، جمشید شاه محمدی ، زهره مجابی|',\n",
              "  'یوسف مرادیان ، علی قربان زاده ، حدیث فولادوند ، نیما فلاح ، لیدا جوادی ، غلامرضا طباطبایی ، شمسی فضل الهی ، زهره حمیدی ، پروین سلیمانی ، فرخ لقا هوشمند ، هما خاکپاش ، فرهاد خان محمدی ، ابراهیم تفرشی ، ترگل قمی ، رضا قمی|',\n",
              "  'نازبانو محمدیاری ، سیمین حمیدی ، موسی علیجانی ، نسرین باباپور ، فریبرز آقایی ، احمد زارع پناه ، صدیقه زارع پناه ، مصطفی زارع پناه ، جهانگیر صادقی|',\n",
              "  'لیلا بوشهری ، ابوالفضل قربانی ، آسیه کلانی|',\n",
              "  'علیرضا شالیکاران ، حسین مهدویان منش ، فاطمه بیژن|',\n",
              "  'لیلا حاتمی ، مانی نوری ، محمدرضا شریفی نیا ، گوهر خیراندیش ، امیرحسین صدیق ، ژاله صامتی ، رامین ناصرنصیر ، ابراهیم آبادی ، رضا فیض نوروزی ، سیامک انصاری ، ارژنگ امیرفضلی ، حمزه علی اکبری ، حسین سلیمانی ، نوید جوزا ، آرمین سلیم مقدم|',\n",
              "  'فیروز بهجت محمدی ، فخری خوروش ، شیوا بلوریان ، مصطفی عبدالهی ، هرمز سیرتی ، داریوش علی نژاد ، محمود جعفری ، مرتضی خرابی ، کامران فیوضات ، آزیتا لاچینی|',\n",
              "  'لعیا زنگنه ، سحر جعفری جوزانی ، شروین نجفیان ، ایرج راد ، نغمه مکری ، گلشن پیرخانقا ، مینا جعفرزاده ، یغما گلرویی ، علی اکبر رئیسی ، جهانسوز فولادی|',\n",
              "  'شبنم قلی خانی ، محمود مقامی ، احمد هزارجریبی ، پدرام امامی راد|',\n",
              "  'پرویز پرستویی ، کتایون ریاحی ، پانته آ بهرام ، جمشید مشایخی ، جمشید شاه محمدی ، بهناز توکلی ، نادیا موسوی اشکوری ، عباس محبی ، کاوه آهنگر ، محمد سادات ابهری ، محمدرضا حقگو ، محمود قبه زرین ، حشمت اله آرمیده ، اصغر بیچاره ، عزت اله مهرآوران|',\n",
              "  'لادن مستوفی ، فاطمه معتمدآریا ، مهدی فتحی ، ساسان قاسمی ، محمدعلی کشاورز ، شراره یوسفی نیا ، محمود عزیزی ، مهتاج نجومی ، مهراوه شریفی نیا ، سیدعباس موسوی ، عباس امیری|',\n",
              "  'یارمحمد دامنی پور ، جان محمد تاجیک ، فرشته سرابندی ، محمد حمزه زاده ، رسول بهارانگیز ، صمد میراسبقی|',\n",
              "  'علی مصفا ، کتایون ریاحی ، گلشیفته فراهانی ، احمد نجفی ، چکامه چمن ماه ، برزو ارجمند ، مانی کسراییان ، همایون ارشادی ، شیوا خنیاگر ، علی اصغر حکیمی ، منصور صفری ، سیامک اشعریون ، آذر برجی ، سپیده سپهری|',\n",
              "  'شبنم قلی خانی ، رضا شفیعی جم ، اردلان شجاع کاوه ، رضا فیض نوروزی ، لوریک میناسیان ، محمدرضا نوروزی ، رضا صادقی ، عرفان چارراهی ، دریا لطافت ، بنیامین آقابابایی|',\n",
              "  'مهران رجبی ، گلشیفته فراهانی ، فهیمه رحیم نیا ، شراره دولت آبادی ، سیاوش لشگری|',\n",
              "  'زیبا بروفه ، بهنوش صادقی ، فقیهه سلطانی ، فتحعلی اویسی ، شاه علی سرخانی ، زهرا سعیدی ، مهسا مهجور ، ناصر فروغ ، نورا هاشمی ، علیرضا علیا ، بنفشه نجاتی ، لیدا محمودی ، مینا میربها ، مهریا ذاکری ، آزیتا خرمی|',\n",
              "  'علی دهکردی ، میترا کرمی ، سپهر آزادی ، جواد صدیقی ، مهدی ثانی ، عباس قلیچ لو ، مهدی شجاعی ، هما ارشاد|',\n",
              "  'ساسان فرخ نیا ، آیدین آی محمدی ، نیلوفر سجادی ، بابک نوری ، آناهیتا اقبال نژاد ، اشکان نوشیروانی ، رضا خندان ، داوود رحیمی ، افسانه ناصری ، مهدی صباحی ، مهرداد فلاحتگر|',\n",
              "  'رامبد جوان ، میترا حجار ، فقیهه سلطانی ، مهدی صباغی ، پرهام کرمی ، رضا شفیعی جم ، مهران رجبی|',\n",
              "  'بهرام رادان ، فریبرز عرب نیا ، شهرام حقیقت دوست ، شبنم قلی خانی ، ساغر عزیزی ، طیب شرافتی ، مریم نیک رفتار ، حسین چرمچی ، مجید علی زاده ، حشمت اله آرمیده ، اصغر امیدوارخرم ، ابراهیم عزت خواه ، کیومرث محمودی ، جلیل ملک زاده ، ولی جامه بزرگی|',\n",
              "  'پانته آ بهرام ، شهرام حقیقت دوست ، بهناز جعفری ، شراره رخام ، زیبا نادری ، علیرضا اشکبوس ، حسن چودن ، محسن قاضی مرادی ، مهدی فقیه ، آمنه کیوانی ، بهار لنکرانی ، ندا دالمی ، حسن سیاح ، بیتا همت ، رحمان باقریان|',\n",
              "  'میترا حجار ، سیاوش طهمورث ، یکتا ناصر ، امید زندگانی ، حسین سلیمانی ، افشین آقایی ، مهشید باقری ، نیلوفر دوستی ، مجتبی بیطرفان ، محمد افشار|',\n",
              "  'حسین لازمی ، امیر سلیمانی ، پورصفیه کوهی ، ضیغمعلی قدوسی نیا ، علی واحدی ، یحیی پیچ خانلو ، علی آزادنیا ، هما ساقی ، هوشنگ صبا ، نورالدین جباری ، احسان عظیمی ، مهدی موسوی ، قادر محمدی ، توحید حنیفه ای|',\n",
              "  'نعمت جهانفرد ، رضا صادقی ، جواد زیتونی ، فریده دریامج ، مینا نوروزی|',\n",
              "  'جهانبخش سلطانی ، افسر اسدی ، متین عزیزپور ، امیر خورشیدی ، هوشنگ حریرچیان ، رضا عماد ، محمدمسیح امانی زاده ، مهدی هادی زاده ، عرفان دانش ، درسا طباطبایی|',\n",
              "  'سلمان غمخوار احمدی ، زیبا صابری ، غلامعلی پورعطایی ، هومن جاوید|',\n",
              "  'رضا ابری ، بهروز جلیلی ، مرتضی نجاتی ، احمد ولیان ، رضا معدنی پور ، مهران گل محمدی ، رضا زنجانیان وفا ، بهمن هاشمی ، محمدرضا کشمیری ، چیا بابامیری ، احمد بهرامی ، رضا واله ، حامد ولیان ، محمد حیدری ، یاسر انتظاری|',\n",
              "  'عماد علی ، سعد حمدان ، ولید سعدالدین ، حسن حمدان ، بولین حداد ، نیکولا معوض ، هشام بولس ، سینتیا کرم ، نسرین قیس|',\n",
              "  'حدیث فولادوند ، مجید حاجی زاده ، پرستو صالحی ، علی صادقی ، لیلا محسنی|',\n",
              "  'فرانک فرهنگ ، پانته آ پناهیها ، سعدالمجید مراصی|',\n",
              "  'حسین میردوستی ، مریم درسته ، فاطمه خوروش ، فرح میرکمالی ، صفورا میردوستی ، فاطمه شمبویی فرد ، حسین رهبر|',\n",
              "  'کتایون ریاحی ، لادن مستوفی ، لادن طباطبایی ، رامبد شکرآبی ، پژمان بازغی ، فرهاد قائمیان ، شهره سلطانی ، بابک پناهی ، بابک حبیبی فر ، آمنه کیوانی ، الهه منجزی ، پریسا فرخ پور ، فاطمه امیریان|',\n",
              "  'جمشید هاشم پور ، میترا حجار ، شهرام حقیقت دوست ، مهدی میامی ، امیر جعفری ، معصومه میرحسینی ، آزیتا لاچینی ، میرمحمد تجدد ، امیر دلاوری ، ماهور سجادی ، شبنم آهنگری ، یوسف پشندی|',\n",
              "  'کیمیا باباییان ، کاملیا باباییان ، آرش علیپور ، بابک نوری ، شراره دولت آبادی ، فهیمه ساعی ، داوود امیراحمدی ، کیان باباییان ، عزت تحسیری ، مرجان ارزیلی ، سمر نوریان ، تارا فاتحی ، مهدی دیانی ، سارا صالحی ، مزدا مرادعباسی|',\n",
              "  'بهناز جعفری ، فریبا کامران ، افسانه چهره آزاد ، نگار جواهریان ، الهه گلپری ، مجید مشیری ، شاهرخ فروتنیان ، حمیدرضا پگاه ، مرضیه برومند ، محمد دارایی|',\n",
              "  'عباس اسفندیاری ، محسن رحیمی ، دلبر قصری ، یداله انوری ، اصغر کاظمی|',\n",
              "  'رویا نونهالی ، حسین محجوب ، مهدی مرعشی ، محسن سلمانی زاده|',\n",
              "  'مزدک تایبی ، مهدی بقاییان ، حمیدرضا نعمت الهی|',\n",
              "  'بهاره قاضی ، حسین حیدری ، مژده شکاری ، مانی کسراییان ، زهره حمیدی ، نادر سلیمانی ، محمد مختاری ، اهورا ایزدی ، رضا غفاری|',\n",
              "  'حسین بنده علی ، حسن بنده علی ، امید رخ افروز ، روح اله فرخ نژاد|',\n",
              "  'علی نصیریان ، محمدرضا فروتن ، مهتاب کرامتی ، محمد صادقی ، کاظم هژیرآزاد ، پیتر سلیمانی پور ، محمدرضا حقگو ، میرطاهر مظلومی ، مجید میرزاییان ، آرش پورمحمد ، مهرداد معماران کاشانی ، فریبرز سهرابی ، احمد حریری ، مهرداد نوربخش ، شیما کریم|',\n",
              "  'محمود پاک نیت ، مجید مشیری ، یکتا ناصر ، حمیدرضا پگاه ، خسرو احمدی ، امیررضا دلاوری ، شاهرخ فروتنیان|',\n",
              "  'حسین یاری ، نورا هاشمی ، افشین زارعی ، گلاب آدینه ، محسن حسینی ، رضا اسکندری ، کاظم محمدی ، کرامت رورساز|',\n",
              "  'ایرج نوذری ، حدیث فولادوند ، لیلی تقوی ، نازنین کریمی ، محمود مقامی ، سهیل سخن پژوه ، مهتاج نجومی ، زهره حمیدی ، غلامرضا اصانلو ، سجادی ، علی صبوری ، سیدمحسن خرم دره ، محمد رضایی ، ناصر پژنگ ، مجید علم بیگی|',\n",
              "  'ابراهیم خضر ، عبد عسقول ، رافی اطامیان ، عبید سرحان ، ماجده الرز ، منی سلوم ، سمیه ابوهواش ، خلیل ابراهیم|',\n",
              "  'شادی وروایی ، کامران صادقی ، ابراهیم جواهری ، محسن سورانی|',\n",
              "  'نگین حبیبی ، بهزاد منصوریان ، نگار مدنی ، شهرام قائدی ، بیتا بادران ، آرش معیریان|',\n",
              "  'مهدی شاهین کار ، شیرین عطاالهی ، فرنوش شریفی ، حمید پازوکی ، عباس جلالی ، علیرضا قربانی ، شبنم اسدی ، شهرام خواجه لو فرد ، مهری السادات آل آقا ، بهاره امیری ، ابراهیم عبدالهی مقدم ، راحله دارا ، رضا فتحی پور ، حسین رحمان پناه|',\n",
              "  'سعید نیک پور ، پروانه معصومی ، محمد صادقی ، احمد نجفی ، مجید مظفری ، حسین معلومی ، پوراندخت مهیمن ، پویا امینی ، شبنم قلی خانی ، فومان دژآهنگ ، حبیب اله بهمنی ، دریا سکوردنیا ، الهام حمیدی ، رضا بنفشه خواه ، سحر قمیشی|',\n",
              "  'پارسا پیروزفر ، لادن مستوفی ، حسن مهمانی ، امیر عباسی ، درین دستیاز ، علی عطایی|',\n",
              "  'جهاد سعد ، ریم علی ، کفاح الخوص ، عابد فهد ، سامر عمران ، فائق عرقسبوسی|',\n",
              "  'ملیکا امامی ، مهناز افضلی ، الناز حبیب پور ، سهیل رضانور|',\n",
              "  'احمد سلیمان نیا ، سیروس اسنقی ، ولی اله مؤمنی ، فتحعلی اویسی ، احمد نجفی ، مینا باقری ، مرتضی ضرابی ، حمیدرضا نعمت الهی|',\n",
              "  'بهناز جعفری ، مهران رجبی ، محمدحسین اکبری ، مهدی جعفری ، احسان رضوانی ، سحر سالاری ، زینب زمانی|',\n",
              "  'جمشید مشایخی ، علیرضا اوسیوند ، مجید صالحی ، شراره رخام ، میترا کرمی ، فرهنگ ملک ، حسن زارع ، سپهر آزادی ، بیتا توکلی ، حامد نوروزی ، رضا صادقی ، سانیا شیرخدایی ، صفر بازداریان ، اسداله منجزی ، امیرحسین اخوان|',\n",
              "  'علی صادقی ، قاسم زارع ، علیرضا اوسیوند ، قربان نجفی ، بهادر اسدی ، محسن سلیمانی ، هادی محقق ، محسن جهانبانی ، علی اصغر محمدی ، عبدالرضا الطائی ، فؤاد احمدی صابر ، حسین امینی ، هانیه اردکی ، عزت اله رمضانی فر|',\n",
              "  'پریسا شاهنده ، ایرج شهزادی|',\n",
              "  'ناهید صیام دوست ، نصرت اله مسعودی ، ایوب رضایی ، جلیل رحمانی زاده ، نرگس محمدی|',\n",
              "  'علی نصیریان ، حسین فرضی زاده ، دیدار رزقی ، ندا پاکدامن ، مهدی بادله ، علی نادعلی پور ، نادر رونده ، محمد غنی کروبی ، عارف ذاکری|',\n",
              "  'سلیمه رنگزن ، یلدا قشقایی ، فؤاد احمدی صابر ، علیرضا کمالی نژاد ، عباس امدی ، امیر گیتی یان ، سعید قائمی ، سیدعباس سعیداوی ، اسماعیل عموری ، رحیم حریبی ، فرزانه ارسطو ، محسن امیری ، حسن نانکلی اهورا ، توفیق مقدم ، آزاده احمدیان|',\n",
              "  'مسعود رایگان ، الهام حمیدی ، افشین هاشمی ، محمدرضا نجفی ، ماشاءاله شاهمرادی زاده ، سعید ابراهیمی فر ، کیانوش گرامی ، شبنم بهارفر ، توران یاقوتی ، یلدا قشقایی ، رضا توکلی ، بهرام شاکری ، محمدحسین روح بخش ، زهرا افضل ، میترا تبریزی|',\n",
              "  'سینا شیخ الاسلامی ، محمد ایران بروجردی ، راشین امیدعلی ، منصور کریمی ، حجت اله سوکی ، ثریا دوستی ، حیدررضا جویی|',\n",
              "  'یاسمین ارنادوط ، عدی رعد ، فیونا فیاض ، سعد حمدان ، علی طحان ، ولید سعدالدین ، غرتا عون ، حسن حمدان ، حسام صباح ، انجری ریحان|',\n",
              "  'امین حیایی ، جواد رضویان ، شقایق فراهانی ، مهران غفوریان ، اصغر سمسارزاده ، ارژنگ امیرفضلی ، لیلا بوشهری ، انوشیروان نعیمی ، حسین شهاب ، سحر آربین ، حسین دوستدار ، میلاد سجادی ، شهرام جمشیدی ، حسین صفاریان ، مهدی آشوری|',\n",
              "  'لاله اسکندری ، فرداد صفاخو ، نیوشا ضیغمی ، احمد نجفی ، رضا بابک ، فریده سپاه منصور ، فرهاد قائمیان ، نقی سیف جمالی ، مهتاج نجومی ، مهدی میامی|',\n",
              "  'حسین خانی ، احمد پروستان ، ژاله سرحدی ، سیدامید کلوری ، مسعود ظاهری ، رضا حسن زاد ، رقیه مهری ، زهرا خدایی|',\n",
              "  'لادن مستوفی ، فرهاد اصلانی ، بیژن امکانیان ، علیرضا اوسیوند|',\n",
              "  'فاطمه معتمدآریا ، بهرام رادان ، باران کوثری ، ژاله صامتی ، شاهرخ فروتنیان ، مجید بهرامی ، نیره فراهانی|',\n",
              "  'شادی وریانی ، محی الدین وریانی ، مسعود یوسفی ، عبداله احمدی ، جلیل محمدویسی ، دلنیا فرج پور ، انور فرج پور|',\n",
              "  'احمد کاوری ، میثم نایب زاده ، مائده الیاسی ، جلیل بشتام ، بهمن مرتضوی ، شمسی صادقی ، رسول بقلانی ، بهنام تمیمی ، محسن ساسانی ، ناجی فرهانی ، احمد اسدیان ، مهدی تکستانی|',\n",
              "  'قربان نجفی ، غلامحسین لطفی ، قاسم زارع ، کتانه افشارنژاد ، ابراهیم آبادی ، فرهاد اصلانی ، احمدرضا اسعدی ، گیتی معینی ، فرشاد حسینی موحد ، محمود صحرایی ، پریسا طالبی ، منوچهر کنی ، سیامک حلمی ، سعید درویش نژاد ، رکسانا ستایش|',\n",
              "  'حمیدرضا دانشور ، فریبا کوثری ، بهناز جعفری ، محمد حاتمی ، مسعود ملک خانی ، محمد اسدی ، هوشنگ قوانلو ، بیژن حجازی ، حسین فلاح ، سعید نورالهی ، احسان دانشمندی ، سعدی افشار|',\n",
              "  'گلاب آدینه ، نیلوفر خوش خلق ، نورا هاشمی ، محسن حسینی ، جواد فرخانی ، سودابه احمدپناه|',\n",
              "  'جمشید هاشم پور ، کوروش تهامی ، بهناز جعفری ، داریوش ارجمند ، مهدی میامی ، محمدعلی نجفی ، ابراهیم آبادی ، بیوک میرزایی ، زهره صفوی ، مهدی تقی نیا ، امیر دژکام ، محبوبه بیات ، همایون ارشادی ، بهرام علیان ، مسعود حقی|',\n",
              "  'میترا حجار ، ایرج نوذری ، جمشید مشایخی ، سیاوش طهمورث ، گیتا شیخی ، علیرضا اشکان ، داریوش اسدزاده ، سیامک اشعریون|',\n",
              "  'امین تارخ ، هومن سیدی ، افشین هاشمی ، امیرکاوه آهنین جان ، سیروس همتی ، فهیمه راستکار ، مرضیه وفامهر ، اسماعیل خلج ، نگار جواهریان ، سیامک ادیب ، ژاله شعاری ، بهرام شاکری ، دانیال نوروش ، بهزاد رحمان پور|',\n",
              "  'شیرین بینا ، حمیدرضا پگاه ، شهره سلطانی ، مهوش صبرکن ، ایرج راد ، مجید مظفری ، پرویز پورحسینی|',\n",
              "  'رضا رویگری ، عبدالرضا آشتیانی ، مهرانه مهین ترابی ، مجید واشقانی ، جلیل فرجاد ، شهنام شهابی ، پوریا پورسرخ ، نوشین حسین خانی ، پویا اخوت ، امیرشمس الدین حشمت زاده ، پویا یوسفی|',\n",
              "  'کاوه کاویان ، لیلا زارع ، بیوک میرزایی ، افسانه دیهیم ، هدی زین العابدین ، زری پشتدار ، ایمان عسگری ، حجت اله علیپور ، سوگل پدرام ، پریسا دالوند ، ماهرخ نعمت الهی ، فرامرز هاشم زاده ، آندیا شهبازیان ، علی برادری|',\n",
              "  'حسین یاری ، آتش تقی پور ، مریم امیرجلالی ، هدی ناصح ، محمد شیری ، اصغر بیچاره ، بهروز شعیبی ، علی اصغر حیدری ، ذبیح افشار ، فرزاد حاتمیان ، محمدیار احمدی|',\n",
              "  'فرامرز قریبیان ، همایون ارشادی ، مجید مشیری ، شراره دولت آبادی ، فلور نظری ، صوفی کیانی ، بابک انصاری ، محمدرضا غفاری ، افسانه پاکرو ، اکبر قدمی|',\n",
              "  'نصراله رادش ، رابعه اسکویی ، رضا عظیمی ، یوسف پشندی ، ساعد هدایتی ، ماریا خبازی ، خسرو محمودزاده ، علیرضا عبدالعلی زاده ، علیرضا اکبری|',\n",
              "  'محمود پاک نیت ، پروانه معصومی ، مهناز افضلی ، همایون ارشادی ، زهرا امیرابراهیمی ، عباس امیری|',\n",
              "  'لادن مستوفی ، عصمت رضاپور ، محمد مختاری ، محمود قادسی|',\n",
              "  'ساسان فرخ نیا ، آناهیتا نعمتی ، مهدی امینی خواه ، محمد مختاری ، پریسا بخشی ، نرسی کرکیا ، سیدمهدی حیدری ، نجات علیمرادی ، مینا طاهری ، فائقه برهانی ، شهرام کرمعلی ، رحیم مهدی خانی ، مهدی یوسفیان ، اسماعیل مهریان ، میثم مقصودی|',\n",
              "  'حسین یاری ، جعفر دهقان ، محمود پاک نیت ، سام درخشانی ، الهام حمیدی ، سعید نیک پور ، رویا تیموریان|',\n",
              "  'حمید فرخ نژاد ، شقایق فراهانی ، حامد بهداد ، حمیدرضا پگاه ، مرجان شیرمحمدی ، پولاد کیمیایی ، سام درخشانی|',\n",
              "  'رویا نونهالی ، هانیه توسلی ، مهرداد صدیقیان ، رامین راستاد|',\n",
              "  'بیژن امکانیان ، رضا شفیعی جم ، شقایق فراهانی ، سیامک انصاری ، سحر ولدبیگی ، الیزابت امینی ، ساعد هدایتی ، ابراهیم آبادی ، کاظم افرندنیا ، محمود بهرامی ، فروغ رجب بیگی|',\n",
              "  'فریدون روستایی|',\n",
              "  'فرامرز قریبیان ، نیلوفر محبی ، رضا فیاضی ، علیرضا اوسیوند ، لیلا بوشهری ، سلیمه رنگزن ، عطیه غبیشاوی|',\n",
              "  'محمود عزیزی ، مهدی میامی ، محمود نظرعلیان ، خزان شمس ، بهروز نیک اخلاق ، افسانه پاکرو ، کاوه سماک باشی ، زری اماد ، کاظم نجارزاده ، احمد اکبری ، فریبا آقاپور ، فرحناز اصغری ، ندا مقصودی ، محمدرضا عطایی فر|',\n",
              "  'آسیه بخشی زاد ، حسین مسلمی ، شیرین قاسمی|',\n",
              "  'قربان نجفی ، اصغر همت ، علی آزادنیا ، علا محسنی ، علی اکبر پیغمبری ، حسین طاهری ، غلامرضا بایران منش ، گلی اکبری ، وحید نگاه ، نورآقا حسینی ، عزیزاله خدری ، شفق چوپان ، وحید محمدی ، ( -------- ) کوراغلی ، عبدالوکیل نیک بین|',\n",
              "  'مهتاب کرامتی ، فرشته صدرعرفایی ، حامد بهداد ، مهران احمدی ، مجتبی علیزاده ، نعمت اله باعثی|',\n",
              "  'یوسف یزدانی ، داریوش غذبانی ، اسماعیل موحدی ، فاطمه میرسلیمانی فرد ، جواد صارمی|',\n",
              "  'الناز شاکردوست ، فرامرز قریبیان ، گلشیفته فراهانی|',\n",
              "  'ذبیح افشار ، لیلا موسوی ، علی یعقوبی ، احمدرضا اکبری ، مریم بوبانی ، احمد نقده ، مسعود مهرگان ، فتاح احمدی ، فیروز شافع ، محسن اله ویسی ، بیوک فضلی ، ابراهیم علوی ، بهزاد فرضعلی ، فرنوش فضلی ، شبنم حسینی|',\n",
              "  'مسعود رایگان ، نگار فروزنده ، اردلان شجاع کاوه ، علیرضا اوسیوند ، شهناز شهبازی ، منوچهر علیپور ، مرتضی کاظمی ، شیرین ایزدی ، فرانک سعیدی ، تورج فرامرزیان ، محمدعلی ساربان ، مجید عبدالعظیمی ، ترلان پروانه ، امیرعلی رضویان|',\n",
              "  'پرویز پرستویی ، جعفر والی ، آتیلا پسیانی ، پریوش نظریه ، مهتاب کرامتی ، فرهاد اصلانی ، سیما تیرانداز ، مهدی صفوی ، شبنم مقدمی|',\n",
              "  'فرهاد اصلانی ، بهزاد خداویسی ، معصومه میرحسینی ، فاطمه گودرزی ، مریم کاویانی ، پرویز خشنودی|',\n",
              "  'حوریه میرمحمدی ، فاطمه بابایی ، یداله هدایتی ، غلامرضا خورشیدی ، محدثه حیدری ، زینب سهرابی ، مسعود چوبین|',\n",
              "  'نگین صدق گویا ، فرهاد آئیش ، گوهر خیراندیش ، یوسف تیموری ، مرضیه خوشی تراش ، سیدابراهیم بحرالعلومی ، مجید مشیری|',\n",
              "  'ثریا قاسمی ، مهران غفوریان ، یوسف تیموری ، راحله میرزایی|',\n",
              "  'کامران یونس ، گون آی میکاییل اوا ، مهربان خانلار اوا ، قربان اسماعیل اف ، ایلغار جهانگیراف ، فرهاد قائمیان|',\n",
              "  'حبیب اسماعیلی ، لاله اسکندری ، محمدرضا داوودنژاد ، نیکو خردمند ، هیلدا رنجبران ، مهدی صباغی ، ایلیا شهیدی فر ، لادن سلیمانی ، محمود بهرامی ، ابراهیم تفرشی ، مهری ودادیان|',\n",
              "  'ماهایا پطروسیان ، رامبد جوان ، رضا شفیعی جم ، رابعه اسکویی ، بهزاد فراهانی ، مهدی امینی خواه ، منوچهر آذری ، علی برجسته ، افسانه ناصری ، اسداله یکتا ، مهران غفوریان ، جواد انصافی ، فرشاد اسداله پور ، زیبا کاویانی ، عاطفه حیدری|',\n",
              "  'ابوالفضل پورعرب ، سعید تهرانی ، سروش صحت ، عسل بدیعی ، مریم سلطانی ، خسرو فرحزادی ، کاظم نجارزاده ، غلامرضا اصانلو ، ثریا قاسمی|',\n",
              "  'مهدی احمدی ، سپیده گلچین ، علیرضا داوودنژاد ، رضا افشار ، یوسف مرادی ، سینا بلگوری ، شهاب الدین محمدی ، علیرضا شیخ الاسلامی ، رضا صفایی پور|',\n",
              "  'هانیه توسلی ، سیدشهاب الدین حسینی ، سودابه بیضایی ، مهرداد ضیایی ، دانیال عبادی ، سیاوش حکمت شمار|',\n",
              "  'مینا احمدوند ، محمود محکمی ، حمیدرضا هدایتی ، بیتا سحرخیز ، هاله گرجی ، سعید روحانی ، امیرحسین رستمی ، پانته آ اصلانی ، میترا ضیایی کیا|',\n",
              "  'یولیا کرینکه ، کارولینا گروچکا ، سیدشهاب الدین حسینی ، پژمان بازغی ، محمدرضا نجفی ، نیاسا بیضایی ، تینا نمکی یان|',\n",
              "  'تیم روزان ، میترا لهراسب ، کرگ ورونی ، آهو خردمند ، حدیث فولادوند ، منیژه محامدی ، مهتاج نجومی ، ثریا حلی ، فرشاد خدایی ، امیر زارع ، سیاوش فیض اله زاده ، فرح فولادوند ، مرتضی کاظمی|',\n",
              "  'محمدرضا شریفی نیا ، گلشیفته فراهانی ، سارا خوئینی ها ، فهیمه راستکار ، صدرالدین حجازی ، شهره لرستانی ، امیررضا گیتی بان ، محمد خسروی ، یوسف پشندی ، پویا حیدری ، مهدی فقیه ، سودابه بیضایی ، سعید بلندنظر ، مهدی تولایی ، سوگند قهرمانی|',\n",
              "  'سلیمه رنگزن ، غلامرضا امیری ، سعد ادهم ، احمد افضلی ، مجتبی اسودیان ، امیر دشتیان|',\n",
              "  'خسرو شکیبایی ، یکتا ناصر ، افسانه چهره آزاد ، داوود اکرمیان ، السا فیروزآذر ، بابک نوری ، امیر باران لوئی ، آیه ابراهیمی ، ساناز شمس ، سعید لشگری ، بیتا سحرخیز ، محمد الهیاری ، میشا جودت ، فرهاد ارجمندی ، جلال الدین معیریان|',\n",
              "  'محمدرضا شریفی نیا ، مریلا زارعی ، فرهاد آئیش ، شقایق فراهانی ، شهره لرستانی ، مریم امیرجلالی ، بهزاد رحیم خانی ، نادر سلیمانی ، سهیلا گلستانی ، ترلان پروانه ، آلما اسکویی ، روژان آریامنش|',\n",
              "  'محمدرضا ناجی ، حسین سلیمانی ، مرجان شکوفکی ، بهروز پناهنده ، زهرا میرزایی ، حسین جمالی ، محسن مارزی|',\n",
              "  'عزت اله انتظامی ، مهتاب کرامتی ، فرخ نعمتی ، آهو خردمند ، پگاه آهنگرانی ، هوشنگ قوانلو ، مهدی احمدی|',\n",
              "  'حمید فرخ نژاد ، محمد ماهوش ، مینا مصطفی پور ، مهرداد جلوخانی ، عبدالرضا صرامی ، یداله انوری ، محمداسماعیل مختاریان ، حسین صمدی|',\n",
              "  'کوروش تهامی ، آتنه فقیه نصیری ، علی دهکردی ، قربان نجفی ، عبدالرضا زهره کرمانی ، کاوه سماک باشی ، ناصر فخری ، امیر زمستانی ، محمدرضا ایزدی یکتا ، شقایق ناظری ، ملیکا ناظری|',\n",
              "  'شهرام حقیقت دوست ، زیبا بروفه ، مهدی سلوکی ، سحر ریحانی ، شقایق ناظری ، شهرام قائدی ، مهدی امینی خواه ، فرهاد قائمیان ، حسین لبافی ، حشمت اله آرمیده ، افشین هنری ، کریستینا چریخچیان ، علی ترابی ، سیدجلال توکلی ، میثم نکوهید|',\n",
              "  'جمشید هاشم پور ، محسن طنابنده ، احمد مهران فر ، سروناز مستوفی ، علی سرابی ، هاله گرجی ، محمد بزرگمهر ، شیرین زنگنه ، بهروز جلیلی ، فرزانه ارسطو|',\n",
              "  'سعید ابراهیمی فر ، سینا رازانی ، هوتن مکری ، علی سرابی ، سیامک صفری ، رضا بهبودی ، پگاه طبسی نژاد ، صدف احمدی ، هوشنگ قوانلو ، علا محسنی ، محمد عباسی ، امیرحسین آسانی ، حسین فرضی زاده ، مهدی پاکزاد ، حیدر زرقومی|',\n",
              "  'حجت اله قزقزوینی داداشی ، شهاب فرضعلی ، نیلوفر ادیب فر ، مسعود مهرگان ، سعید معظمی ، النا فررت ، ژف ملیجک ، سیدابراهیم بحرالعلومی ، ماه خاتون پیرآکند ، بیژن سیفان ، وحید خدیو|',\n",
              "  'اسماعیل محرابی ، شبنم قلی خانی ، رامین راستاد ، اصغر نقی زاده ، بهروز نیک اخلاق ، فریده دریامج ، مهرداد فلاحتگر ، محمد بیطرفان ، کاظم نجارزاده ، فریبا مهدی ، فریا ثمرانی ، محمد حاج حسینی ، منصوره میرمعرب|',\n",
              "  'حمید گودرزی ، نیوشا ضیغمی ، سیروس گرجستانی ، مهدی امینی خواه ، کیانوش گرامی ، علی کاظمی ، محمد شیری ، بهرام زاهدی ، احمد پورمخبر|',\n",
              "  'پریوش نظریه ، مسعود حشمت ، بهروز جلیلی|',\n",
              "  'حمید فرخ نژاد ، پریوش نظریه ، احمد مهران فر ، مریم رهبری ، یعقوب غفاری ، ستاره چالاکی ، حبیب دهقان نسب|',\n",
              "  'خسرو شکیبایی ، جهانگیر الماسی ، میرطاهر مظلومی ، رویا افشار ، رضا فیض نوروزی ، شقایق فراهانی ، رضا توکلی ، مرتضی ضرابی ، شیرین بینا ، احمد پورمخبر ، زهره مجابی ، سیامک اشعریون ، امیر رهبری ، علیرضا شیخ الاسلامی ، امید مردم بیگی|',\n",
              "  'محمدرضا شریفی نیا ، فرهاد آئیش ، افسانه بایگان ، مرتضی ضرابی ، سعید پیردوست ، حسین عابدینی ، کیانوش گرامی ، آفرین چیت ساز ، اسماعیل سلطانیان ، کوروش ستوده ، مجید مشیری|',\n",
              "  'فرید بهنام ، خسرو شکیبایی ، جمشید مشایخی ، رامتین خداپناهی ، امیرحسین مدرس ، مارال فرجاد ، چکامه چمن ماه ، فخرالدین صدیق شریف ، شیوا خنیاگر ، مهران رجبی ، زهره فکورصبور ، انوشیروان ارجمند|',\n",
              "  'عایشه خلیلی ، فاروق فردوس ، ناصر روئین تن|',\n",
              "  'حسین محجوب ، رضا فیاضی ، محمدرضا حسین آبادی ، وحید زیرکی|',\n",
              "  'بهمن ارازلی ، فاطمه شاکر ، شعبانعلی کمالی ، ابوالفضل سیاح ، سمیه خواجوی ، حسین مقدم ، علی اکبر بنازاده ، علی هاتفی ، حسین پاشایی ، ضیاء مدیرطاهری ، رضا مرتضوی ، محمدعلی فتوحی ، حسین پرند ، محسن فولادی ، سکینه شاکر|',\n",
              "  'علیرضا حاج ملامهدی ، محمود قلندری ، علیرضا نوروزی ، فرشاد همتایی ، عصمت ترکمانیان|',\n",
              "  'کامران یونس ، خالده قلی اوا ، گلزار قربان اوا ، قربان مسیم اف ، اتکم اسکندراف ، مهربان خانلار اوا ، آیشاد محمداف ، آلماز آمان اوا|',\n",
              "  'فاطمه گودرزی ، حدیث فولادوند ، امیرمحمد زند ، حدیث میرامینی ، مجید مشیری|',\n",
              "  'ماهایا پطروسیان ، رامبد جوان ، منوچهر علیپور ، سعید پیردوست ، محمد شیری ، امیر نوری|',\n",
              "  'شبنم مقدمی ، مهتاب نصیرپور ، قاسم زارع ، حمید ابراهیمی ، فائق محمدی ، حسین آهنگر ، علا محسنی ، آذر رجبی ، جلیل محمدویسی ، عباس قلیچ لو ، نادیا روندی ، نسیم رمضانی ، آتیه فدوی|',\n",
              "  'مسعود رایگان ، مهدی پاکدل ، شهرام حقیقت دوست ، لاله اسکندری ، فرهاد قائمیان ، امیررضا دلاوری ، مریم کاویانی ، مهدی میامی ، فرهاد بشارتی ، معصومه میرحسینی|',\n",
              "  'شهرام حقیقت دوست ، ایرج نوذری ، لادن طباطبایی ، ثریا قاسمی ، محمد شیری ، رضا کرم رضایی ، مهدی امینی خواه ، محبوبه بیات ، رز رضوی ، بابک برجسته ، رامین نعمتی ، محمد حاج حسینی ، ماندانا حیدری ، فرناز عبداله نژاد|',\n",
              "  'شهرام پوراسد ، فرهاد مهادیان ، میترا معرفت ، روناک یونسی ، مهدی مقدم ، کاوه سماک باشی ، ملکه رنجبر ، رونا قیصرنژاد ، مریم باطبی ، پروانه باتمان ، الهام صورانی ، پرویز خادمی ، محمد گل شاهی ، علی علیمردانی ، حسین عبادی|',\n",
              "  'مهران گل محمدزاده|',\n",
              "  'احمد ساعتچیان ، رضا مولایی ، رزاق رادان ، حازم شاهی|',\n",
              "  'عبداله البلوشی ، سعید الفقاعی ، علی سیف المشاری ، فرید الجسمی|',\n",
              "  'آناهیتا نعمتی ، لادن مستوفی ، حمیدرضا پگاه ، شاهرخ فروتنیان ، سروش صحت ، رامین راستاد ، نرگس صفدریان ، رامین نعمتی ، مریم سمساری ، تینا چرخچیان ، ترانه کوهستانی ، آذر فرامرزی ، فرانک جلیلی ، یاسمن کاکائی حسین راستی ، مجید رسولیان|',\n",
              "  'محمد تقی نژاد ، علی بکانیان ، حسن چودن ، سعید ولی زاده ، داوود عین آبادی ، رضا نامدار فدیهه ، علی کشوری ، حکیمه خاکسار ، ندا کوهی|',\n",
              "  'پژمان بازغی ، پولاد کیمیایی ، روناک یونسی ، اردلان شجاع کاوه ، محسن احمدی ، احمد یاوری شاد ، علی درخشنده|',\n",
              "  'نیکی کریمی ، مهدی احمدی ، نیره فراهانی ، کیهان ملکی ، هوشنگ قوانلو ، مریم کاویانی ، مهوش وقاری ، افسانه ناصری ، حسین محب اهری ، رویا جاویدنیا ، فلور نظری ، فرحناز منافی ظاهر ، رضا نوروزی ، شیوا خنیاگر ، مریم رهبری|',\n",
              "  'بهروز جلیلی ، حمید حبیبی فر ، مجتبی بیطرفان ، مریم صباغیان ، محمد فصیحی ، محمدرضا سالور|',\n",
              "  'جمشید هاشم پور ، علی عمرانی ، شیوا خنیاگر ، مصطفی طاری ، کاوه کاویان ، تورج فرامرزیان ، حمیدرضا فلاحی ، فرانک حیدریان ، آرتمیس ورزنده ، شاپور کلهر ، رضا راد ، محمد حاج حسینی ، آرزو مفتاحی ، زهرا سعیدی ، علی تاجمیر|',\n",
              "  'امیر سفیری ، علی صلاحی ، کیوان ساکت اف ، آرمان کوچکی|',\n",
              "  'جواد رضویان ، علی صادقی ، بهنوش بختیاری ، یوسف صیادی ، احمد پورمخبر ، رضا شفیعی جم ، بهاره افشاری ، افسانه پاکرو ، پروین قائم مقامی|',\n",
              "  'مهران رجبی ، آتیلا پسیانی ، محمود پاک نیت ، مهرداد صدیقیان ، پرویز پورحسینی ، مهرداد فلاحتگر ، سیامک قاسمی ، حشمت آرمیده ، وحید ملکی ، محمود صحرایی ، محمدحسین زوارکعبه ، کیانوش گرامی|',\n",
              "  'یوسف مرادیان ، الهام چرخنده ، روشنک عجمیان ، مهدی امینی خواه ، محمد سادات ابهری ، فرنوش آل احمد ، ساناز کیهان ، سعیده عرب ، حسن زارع ، ملیحه موسوی ، بهرام فروغی ، سارا میرکمالی|',\n",
              "  'حمید فرخ نژاد ، لادن مستوفی ، باران کوثری ، حبیب دهقان نسب ، آتش تقی پور ، آرتویت زهرابیان|',\n",
              "  'دانیال حکیمی ، سام درخشانی ، پوراندخت مهیمن ، فرهاد قائمیان ، موریس باقداساریان ، حامد آقایی ، ملیسا مارابان|',\n",
              "  'رفیع پیتز ، صبا یعقوبی ، فاطمه علیجانی ، علی اکبر مزینانی ، شجاع الدین غنایی ، ناصر مداحی ، زلیخا شفاهی ، سعید حاج محمدی ، غلامرضا رجب زاده ، حسن قلعه نوعی ، غلامرضا رضایی ، منصور دولتمند ، ابراهیم صفرپور|',\n",
              "  'شهرام حقیقت دوست ، علی اوسیوند ، خسرو فرخ زادی ، داریوش اسدزاده ، کیومرث ملک مطیعی ، محمد پورستار ، حشمت آرمیده ، مهدی درخشان ، عطیه غبیشاوی ، سیامک اشعریون ، مریم یاوری|',\n",
              "  'فریبرز عرب نیا ، رضا عطاران ، محمدرضا شریفی نیا ، پانته آ بهرام ، فریده فرامرزی ، گوهر خیراندیش ، علی مردانه ، یوسف صیادی ، اسداله یکتا ، ملیکا ناظری|',\n",
              "  'هانیه توسلی ، احمد مهران فر ، صغری عبیسی ، سلیمه رنگزن ، عبدالرضا الطائی ، زهره حمیدی ، جواد عاقبت بین ، عطاءاله مرادی ، آرش اسبقی|',\n",
              "  'یکتا ناصر ، رضا توکلی ، رامتین خداپناهی ، محسن اشرافی ، طاها عرب ، شاهین جعفری|',\n",
              "  'امیر جعفری ، مهران رجبی ، مرتضی احمدی ، کیومرث ملک مطیعی ، فردوس کاویانی ، مختار سائقی ، شهرام قائدی ، باقر صحرارودی ، اتابک نادری ، محمدعلی شادمان ، ارسلان قاسمی ، علی سلیمانی ، گوهر خیراندیش ، خسرو خانمحمدی ، آزاده اسماعیل خانی|',\n",
              "  'افشین هاشمی ، سیما خضرآبادی ، سودابه بیضایی ، قاسم زارع ، شبنم مقدمی ، مالک سراج ، علیرضا حسینی ، حسین توشه|',\n",
              "  'شهراد وثوقی ، رضا توکلی ، پرستو گلستانی ، محبوبه بیات ، سعید داخ ، ناصر فروغ ، محمد الهی ، عباس غزالی ، ساسان بهروزیان|',\n",
              "  'شهرام حقیقت دوست ، ماه چهره خلیلی ، آتیلا پسیانی ، یوسف تیموری ، فرامرز روشنایی ، پروین سلیمانی ، شاهد احمدلو ، بهمن دان|',\n",
              "  'مجید حاجی زاده ، شهرزاد کمال زاده ، محمد محکمی ، فرهاد پورگرجانی ، رونا قیصرنژاد ، مژگان بیات ، پریسا رضایی ، هومن سزاوار ، علی اسحابی ، مهدی مرسی ، میترا صفائی ، نجات علیمرادی ، رحیم مهدی خانی ، علی منصوری ، علی ابوالحسنی|',\n",
              "  'لاله اسکندری ، سام درخشانی ، جمشید هاشم پور ، محمد کاسبی ، سیروس گرجستانی ، سیامک اطلسی ، شراره دولت آبادی ، جلیل فرجاد ، آرزو افشار ، مهوش وقاری ، فریده گلشن ، محمد پورستار ، ستاره صفرخانی ، آنا لطیفی ، فرانک زینالی|',\n",
              "  'بهروز بقایی ، لادن طباطبایی ، علی سلیمانی ، امیر آتشانی ، افسر اسدی ، محسن قاضی مرادی ، مهوش وقاری ، سهند جاهدی ، آرمیتا مرادی ، سیامک اشعریون ، نادر سلیمانی ، اصغر صالح کوتاه ، رهبان مسلمی ، عباس توفیقی ، شاپور کلهر|',\n",
              "  'امین تارخ ، شقایق فراهانی ، رامین راستاد ، لیلا اوتادی ، مرتضی ضرابی ، نیکی نصیریان|',\n",
              "  'پوریا پورسرخ ، لیلا اوتادی ، مریم امیرجلالی ، نادر سلیمانی ، سپند امیرسلیمانی ، محسن زهتاب ، شهرزاد کمال زاده ، پرستو مقدم ، نیکی نصیریان|',\n",
              "  'پل سلیمان ، قصی خولی ، ماکسیم خلیل ، لیلیا اطرش ، کیندی علوش|',\n",
              "  'مسعود کرامتی ، محمود جعفری ، بهناز جعفری ، تبسم هاشمی حائری|',\n",
              "  'سحر ولدبیگی ، علی سلیمانی ، فریده دریامج ، شاه علی سرخانی|',\n",
              "  'ایرج نوذری ، سارا خوئینی ها ، ناصر ممدوح ، لیلا بوشهری ، نیما گرانی ، محمد برسوزیان ، محمد سادات ابهری ، مجتبی جمشیدی ، جعفر پهلوان نشان ، واله ضرغامی ، فاطمه شکری|',\n",
              "  'ترانه علیدوستی ، رضا شفیعی جم ، ارژنگ امیرفضلی ، سارا روستاپور ، رزیتا حفیظ ، امید میرعلایی|',\n",
              "  'آهو خردمند ، حسین عابدینی ، سحر دولتشاهی ، زهیر یاری ، سلیمه رنگزن ، مالک سراج ، مرتضی زارع ، محمودرضا قدیریان ، فرزاد حاتمیان ، پارمیدا اسدی|',\n",
              "  'بیژن امکانیان ، مسعود رایگان ، فریبا کامران ، سروش صحت ، شبنم مقدمی ، بهنام تشکر ، نوشین حسن زاده ، آیدا کیان پور ، عارف کرد ، محمدرضا زادسرور|',\n",
              "  'حبیب دهقان نسب ، صادق صفایی ، برزو ارجمند ، غزل صارمی ، احمد کاوری|',\n",
              "  'امین حیایی ، نیکی کریمی ، الناز شاکردوست ، آتیلا پسیانی ، احمد پورمخبر ، مختار سائقی ، ملکه رنجبر ، انوشیروان نعیمی|',\n",
              "  'محسن طنابنده ، اندیشه فولادوند ، مسعود چوبین|',\n",
              "  'مجید صالحی ، مهران غفوریان ، فتحعلی اویسی ، پوریا پورسرخ ، علی صادقی ، افسانه پاکرو ، سیدمحمدرضا وزیری ، فلور نظری ، مهران رجبی ، یوسف صیادی ، حسین رفیعی ، احمد پورمخبر ، محسن قاضی مرادی ، سیدمحمدعلی وزیری ، سیدعلی موسوی|',\n",
              "  'جمشید هاشم پور ، مصطفی زمانی ، مریلا زارعی ، هانیه توسلی ، امیر جعفری ، انوشیروان ارجمند ، مینا جعفرزاده ، پردیس افکاری ، اسماعیل گرامی ، علیرضا نائینی ، میترا تبریزی|',\n",
              "  'جلیل فرجاد ، آرمین یزدانی ، شراره زعیم ، اکرم حیدری ، سحر احتمایی ، عسل ارباب زاده|',\n",
              "  'صابر ابر ، مرضیه برومند ، رعنا آزادی فر ، مسعود کرامتی ، احمدرضا اسعدی ، علیرضا خمسه|',\n",
              "  'پژمان بازغی ، هانیه توسلی ، محسن تنابنده ، مریم بوبانی ، بهرنگ علوی ، کیانوش گرامی ، حشمت آرمیده ، هاشم روحانی ، ایرج سرباز ، حسین مسلمی ، سپیده خدابنده لو ، حسین افشار|',\n",
              "  'بهزاد محمدی ، امید زندگانی ، بهنوش بختیاری ، شراره رخام ، مهران رجبی ، امیر غفارمنش ، آرزو افشار ، گیتی ساعتچی ، آزاده ریاضی ، ملکه رنجبر ، فرزاد حاتمیان ، ساعد هدایتی|',\n",
              "  'مهدی هاشمی ، هانیه توسلی ، شاهرخ فروتنیان ، پگاه آهنگرانی ، لادن مستوفی ، صابر ابر ، مریم سعادت ، سهیلا رضوی ، ستاره اسکندری ، لیلا بلوکات ، مینا خسروانی ، علی میلانی ، محمود راسخ فر ، محمدرضا حسین زاده ، شبنم شعاریان|',\n",
              "  'محمود نظرعلیان ، آزاده زارعی ، حمید حبیبی فر ، محمد فصیحی ، فرزاد حسنی|',\n",
              "  'حسین یاری ، کاظم بلوچی ، یگانه بلوچی ، مهرداد ضیایی ، جمشید شاه محمدی ، شیوا خسرومهر|',\n",
              "  'آناهیتا نعمتی ، دانیال عبادی ، زیبا بروفه ، مجید یاسر ، مهدی فقیه ، هاشم آذرهوا|',\n",
              "  'حسین یاری ، ماه چهره خلیلی ، هوشنگ توکلی ، مهران رجبی ، علی اوسیوند ، رضا فیاضی|',\n",
              "  'آتیلا پسیانی ، مهران غفوریان ، مجید صالحی ، لیلا اوتادی ، سعید آقاخانی ، علی صادقی ، الیزابت امینی ، یوسف صیادی ، محسن قاضی مرادی ، مینا جعفرزاده ، فرهاد بشارتی ، الناز حبیبی ، محمد حبیبی ، سولماز حصاری|',\n",
              "  'مهدی احمدی ، افسانه پاکرو ، حشمت آرمیده ، لادن مستوفی ، نازنین فراهانی ، سیاوش چراغی پور ، مونیا جمالپور ، صدف احمدی|',\n",
              "  'مهدی امینی خواه ، السا فیروزآذر ، فتحعلی اویسی ، کاظم افرندنیا ، مریم امیرجلالی ، کتایون اویسی ، یوسف صیادی ، محمد شیری ، سعید پیردوست|',\n",
              "  'کسری ابراهیمی ، رضا رحمت جیرده ، المیرا ژیان فر ، رامک مجد ، رویا حسینی|',\n",
              "  'رامبد جوان ، نیوشا ضیغمی ، علیرضا خمسه ، نازنین کریمی ، مهران رجبی ، مریم سلطانی ، شاه علی سرخانی|',\n",
              "  'فتحعلی اویسی ، ارژنگ امیرفضلی ، رضا شفیعی جم ، حدیث فولادوند ، رابعه اسکویی ، حمید گودرزی ، محمد شیری ، رضا حسینی ، محمدرضا اسماعیلی ، ناصر سهرابی ، حسینعلی قورچی ، امیررضا زرین بخش ، آرمین نوروزی|',\n",
              "  'بابک حمیدیان ، نادر سلیمانی ، نگار نیکخواه آزاد ، زهره حمیدی ، پروین قائم مقامی ، فرج اله گل سفیدی ، آذر اخوت|',\n",
              "  'فروغ قجابگلی ، رضا نوری ، مقداد اسلامی ، صبا صمیمی ، النا اسبقی ، ایوب شجاعی|',\n",
              "  'علی عزیزی ، عبدالرضا اکبری ، شیوا خنیاگر ، پروین مقدم زاده ، عباس جهانبخش|',\n",
              "  'مهدی پورموسی ، سمانه وفایی ، نگار حسن زاده ، شوکا کریمی|',\n",
              "  'ابوالقاسم کوشا ، محمدرضا عطایی فر ، رحیم شاه مرادخانی ، محمد حاج حسینی|',\n",
              "  'مهران احمدی ، فرشته سرابندی ، مرتضی زارع|',\n",
              "  'چنگیز وثوقی ، علی اوسیوند ، محمد عمرانی ، عزت اله جامعی ، فلور نظری ، فخرالدین صدیق شریف|',\n",
              "  'امین حیایی ، نیلوفر خوش خلق ، سروش گودرزی ، هوشنگ توکلی ، آهو خردمند ، کامبیز دیرباز|',\n",
              "  'حمید لولایی ، اکرم محمدی ، علی اوسیوند ، حامد ملک ، فلور نظری ، زهره فکورصبور ، نعیمه نظام دوست ، ماندانا حیدری ، احمد پورمخبر|',\n",
              "  'اکبر معززی ، کرامت رودساز ، روناک یونسی ، امیرحسین عسگری ، علی اصغر طبسی ، میلاد کی مرام ، نیلوفر شهیدی|',\n",
              "  'سیدمحمدهادی دیباجی ، لادن مستوفی ، سیامک اطلسی ، علی اوسیوند ، ساقی زینتی ، حسن مهمانی ، سیدمحسن نبوی ، میرصلاح حسینی ، نوبر قنبریان|',\n",
              "  'پژمان بازغی ، امیر آقایی ، ماه چهره خلیلی ، مریم بوبانی ، اکبر سنگی ، رامین راستاد|',\n",
              "  'حسین محجوب ، مرضیه خوشی تراش ، امیررضا دلاوری ، علی اسکندری ، مهدی صباغی ، آتش تقی پور|'],\n",
              " ['حسین یاری ، هانیه توسلی ، شبنم مقدمی ، بهناز جعفری ، شیرین یزدان بخش ، امید روحانی ، رویا تیموریان|',\n",
              "  'شاهد احمدلو ، مزدک میرعابدینی ، سحر قریشی ، سروش صحت ، مانی حیدری ، پوراندخت مهیمن|',\n",
              "  'پژمان بازغی ، داریوش ارجمند ، پریوش نظریه ، هومن برق نورد ، حسین سلیمانی ، فرخ نعمتی ، علیرضا کمالی نژاد ، داوود فتحعلی بیگی|',\n",
              "  'اکبر عبدی ، فرهاد آئیش ، بهاره رهنما ، بهنام تشکر ، مجید شهریاری ، مهران رجبی ، مائده طهماسبی ، مریم سلطانی ، سیاوش مفیدی ، حامد کیازال|',\n",
              "  'شبنم قلی خانی ، پویا امینی ، سوگل طهماسبی ، حبیب اله الهیاری ، پرهام دلدار|',\n",
              "  'سعید راد، مهدی سلوکی، ایندا رویا، میتر کوتون، دریاموند رو، سسیله چائولون و مارینه دمونتلیه|',\n",
              "  'محمود پاک نیت ، شبنم قلی خانی ، علی کشوری ، سینا سهیلی ، لاله کریمی ، سعیده عرب ، علی انوریان ، ناصر فروغ ، جواد اصغری|',\n",
              "  'محمدرضا فروتن، سپیده خداوردی، پانته آ بقایی، پیام اینالویی، شیرین شریف نیا|',\n",
              "  'احمد نجفی ، داریوش اسدزاده ، افسر اسدی ، جمشید جهان زاده ، مصطفی طاری ، ارژنگ امیرفضلی ، رامتین خداپناهی ، علیرضا اوسیوند ، رضا توکلی ، مهران رجبی ، آرش نوذری ، فیروز ، میترا دولت آبادی ، نیلا خرم|',\n",
              "  'حمید فرخ نژاد ، سحر قریشی ، امیرحسین آرمان ، احمد کاظمی|',\n",
              "  'نیوشا ضیغمی ، سیروس گرجستانی ، چنگیز جلیلوند ، اصغر سمسارزاده ، گیتی ساعتچی ، احمد ایران دوست ، احمد نجفی|',\n",
              "  'غلامرضا آزادی ، پیام آزادی ، محمدرضا حبیبی ، مرتضی حسینی ، نازنین احمدی|',\n",
              "  'رضا داوودنژاد ، محمدرضا داوودنژاد ، زهرا داوودنژاد ، احترام السادات حبیبیان ، کبری حسن زاده ، علی داوودنژاد|',\n",
              "  'همایون ارشادی ، هومن برق نورد ، کوروش تهامی ، رامبد جوان ، بهاره کیان افشار ، سیاوش چراغی پور ، ملکه رنجبر ، امید روحانی ، رضا رویگری ، محمد ساربان ، قطب الدین صادقی ، حسین فلاح ، شقایق فراهانی ، فرامرز قریبیان ، مهتاج نجومی|',\n",
              "  'گوهر خیراندیش ، سهیلا رضوی ، افشین هاشمی ، هنگامه قاضیانی ، نیکی نصیریان ، پانته آ بهرام ، هدایت هاشمی ، صفا آقاجانی ، حسین سلیمانی ، مجتبی بیطرفان ، تورج فرامرزیان ، نصرت دستمردی ، حمید حبیبی فر|',\n",
              "  'علی صادقی ، سحر ولدبیگی ، رضا شفیعی جم ، یوسف صیادی ، سروش صحت|',\n",
              "  'مهناز افشار ، جعفر والی ، حسن معجونی ، فرزین صابونی ، مهدی عباسی ، مسعود مهرگان|',\n",
              "  'فتحعلی اویسی ، مریم امیرجلالی ، آرام جعفری ، یوسف صیادی ، مهدی احمدی ، محمدرضا امیرصادقی ، کاظم افرندنیا ، علی مولایی ، خسرو امیرصادقی|',\n",
              "  'هنگامه قاضیانی ، نیکی کریمی ، مهدی احمدی ، حمید فرخ نژاد ، بیتا فرهی ، امیرحسین آرمان ، خاطره اسدی ، ساعد سهیلی ، فرخ نعمتی ، شهرزاد کمال زاده|',\n",
              "  'محمود بهروزیان ، علی رامز ، ابوذر غفاری ، مهدی شیردل|',\n",
              "  'رضا ناجی ، حسین محجوب ، محمود پاک نیت ، اتابک نادری ، محمود نظرعلیان ، رضا باقری ، محمدرضا داوودنژاد|',\n",
              "  'میثم فرهومند ، آرمان هوانسیان ، آنا پانوسیان ، ابراهیم تمهید ، عباس جوادی ، تیگران خزمالیان ، عباس باک ، محسن مکاری ، حسین قفلی ، غلام رضا فرح زاده|',\n",
              "  'لینا علم ، مارینا گلبهاری ، رسول ایمان ، قادر آریایی ، فرزانه نوابی ، پانته\\u200cآ تاج\\u200cبخش|',\n",
              "  'پگاه آهنگرانی ، نازنین بیاتی ، احمد مهران فر ، بهرنگ علوی ، فریدالدین سمواتی ، لادن سلیمانی|',\n",
              "  'مهدی هاشمی ، مریلا زارعی ، امین حیایی|',\n",
              "  'اکبر عبدی ، اسماعیل خلج ، محمدرضا شریفی نیا ، امیر نوری ، ابوالفضل همراه ، عباس محبوب ، مجید شهریاری ، مختار سائقی ، یوسف قربانی ، اسداله یکتا ، کامران تفتی ، مجید مشیری ، ارسلان قاسمی ، الناز شاکردوست ، مریم کاویانی|',\n",
              "  'حمید فرخ نژاد ، هنگامه قاضیانی ، پیمان قاسم خانی ، ترانه علیدوستی ، ترلان پروانه|',\n",
              "  'اکبر عبدی ، کامبیز دیرباز ، رضا رویگری ، سارا خوئینی ها ، الیزابت امینی ، زهره حمیدی|',\n",
              "  'امیر جعفری ، امید روحانی ، محمدرضا غفاری ، اشکان خطیبی ، الهه حصاری ، سروش صحت ، مهرداد صدیقیان|',\n",
              "  'الهام حمیدی ، چکامه چمن ماه ، غزل صارمی ، فرحناز منافی ظاهر ، افسر اسدی ، هایده حائری ، مهران رجبی|',\n",
              "  'دانیال عبادی ، مونا فرجاد ، مجید حاجی زاده ، سولماز حصاری ، کیانوش گرامی ، میرطاهر مظلومی|',\n",
              "  'امین حیایی ، الناز شاکردوست ، سحر قریشی ، شقایق دهقان ، میرطاهر مظلومی|',\n",
              "  'رویا تیموریان ، محمدرضا غفاری ، افشین هاشمی ، شیرین یزدان بخش ، آناهیتا افشار ، رابعه مدنی ، مینا ساداتی ، میلاد کی مرام|',\n",
              "  'مهناز افشار ، پانته آ بهرام ، امیر جعفری ، هومن برق نورد ، سیدعلی صالحی|',\n",
              "  'سیدشهاب الدین حسینی ، همایون ارشادی ، امید روحانی ، شیرین بینا ، سحر قریشی ، بهنوش بختیاری ، لیلا بلوکات ، بهناز جعفری|',\n",
              "  'رضا عطاران ، جمال هاشمی ، علی سرتیپی|',\n",
              "  'حامد بهداد ، نیکی کریمی ، یکتا ناصر ، پارسا پیروزفر|',\n",
              "  'شقایق فراهانی ، محمدرضا فروتن|',\n",
              "  'ویشکا آسایش ، امیر جعفری ، آزاده صمدی ، ریما رامین فر ، مهران احمدی ، امیر جدیدی|',\n",
              "  'پیمان آذین، سیزار شکیر، زینب شکیر، رضا بادامچی، کریس روب، آرا پایایا، ریک مایرز، هوشنگ سالک، آیسته بورکایسکایته|',\n",
              "  'ساره بیات ، امین زندگانی ، شهین تسلیمی ، هومن کیایی ، مرجان سپهری|',\n",
              "  'سعید ابراهیمی فر ، سیاوش چراغی پور ، بابک کریمی|',\n",
              "  'پیمان معادی ، نگار جواهریان ، الهام کردا ، ویدا جوان|',\n",
              "  'پرویز پرستویی ، آهو خردمند ، بهروز شعیبی ، سهیلا گلستانی ، محمد صادقی ، مهدی صادقی ، معصومه قاسمی\\u200cپور|',\n",
              "  'پژمان بازغی ، آتیلا پسیانی ، مجید صالحی ، امیرحسین آرمان ، سحر قریشی ، مصطفی طاری|',\n",
              "  'صابر ابر ، محمود نظرعلیان ، مزدک میرعابدینی ، مریلا زارعی ، ساعد سهیلی ، سیداحمد محمدی ، میثاق زارع ، کرامت رودساز ، کاوه قاسم زاده ، بابک اعطاء ، جواد عزتی|',\n",
              "  'شمس لنگرودی ، حبیب پورسیفی ، عیسی حسینی ، پوریا رحیمی ، ارسلان عبدالهی ، مریم مقدم|',\n",
              "  'مهتاب کرامتی ، مهدی احمدی ، آزاده صمدی ، شقایق فراهانی ، الهام کردا ، نسیم ادبی ، مریم بوبانی ، رابعه مدنی|',\n",
              "  'ترانه علیدوستی ، بابک حمیدیان ، مجید صالحی ، رضا عطاران ، فریده فرامرزی ، امیرشهاب رضویان ، علی میلانی|',\n",
              "  'محسن تنابنده ، سحر جعفری جوزانی ، فتح اله جعفری جوزانی ، گوهر خیراندیش ، سعید دلیری ، حمید گودرزی ، شهره لرستانی ، فریبا متخصص ، میرطاهر مظلومی ، احمد مهران فر ، سیروس میمنت ، علی نصیریان ، محمدرضا هدایتی|',\n",
              "  'علیرضا بالدی ، زینب ناصرپور ، آرش مهربان ، ارسلان علی\\u200cپوریان|',\n",
              "  'سیامک ادیب ، پرویز پرستویی ، پانته آ پناهیها ، هومن سیدی ، سهیلا گلستانی|',\n",
              "  'فاطمه معتمدآریا ، احمد حامد ، مریم شیرازی ، امیر نصیری یکتا ، شیرین یزدان بخش|',\n",
              "  'افسر اسدی ، پرهام دلدار ، مهدی فقیه ، بهرام ابراهیمی ، حسین قفلی ، حسن علیرضایی|',\n",
              "  'حمید فرخ نژاد ، مهسا کرامتی ، لادن مستوفی ، علی مصفا ، نوید خداشناس ، امید روحانی ، کریم قربانی ، حسین ملکی|',\n",
              "  'بهرام رادان ، شیلان رحمانی ، بهمن زرین پور ، قطب الدین صادقی|',\n",
              "  'رعنا آزادی ور ، پگاه آهنگرانی ، پردیس احمدیه ، نسیم ادبی ، حامد بهداد ، رویا تیموریان ، بهناز جعفری ، نادر فلاح ، بابک کریمی ، باران کوثری ، محمدرضا هدایتی|',\n",
              "  'سعید آقاخانی ، ابراهیم اشرفی ، ساره بیات ، میترا حجار ، سهی بانو ذوالقدر ، نقی سیف جمالی ، محمدباقر صفانور ، نادر فلاح ، ندا قاسمی ، اکبر مددی مهر ، علی میلانی|',\n",
              "  'پرویز پرستویی ، محمدعلی سجادی ، مهتاب نصیرپور ، محمد ربانی ، مهرانه مهین ترابی ، ارد زند ، سارا قرچه داغی ، مصطفی زندی ، سمیه برجی ، سمانه وفایی|',\n",
              "  'پوریا پورسرخ ، شاهرخ استخری ، بهنوش بختیاری ، رضا رویگری ، سارا منجزی ، هلیا امامی|',\n",
              "  'صابر ابر ، بیژن امکانیان ، نازنین بیاتی ، گوهر خیراندیش ، طناز طباطبایی ، ساعد سهیلی ، امیر جدیدی|',\n",
              "  'بابک حمیدیان ، مرجان شیرمحمدی ، جلال فاطمی ، حمید گودرزی ، آرش مجیدی|',\n",
              "  'علی اوسیوند ، حمیرا ریاضی|',\n",
              "  'هانیه توسلی ، بابک حمیدیان ، پارسا پیروزفر ، سحر دولتشاهی ، علیرضا علویان|',\n",
              "  'محمدرضا فروتن ، لیلا زارع ، سحر قریشی ، امیرحسین آرمان ، ترلان پروانه ، اکبر رحمتی ، روح الله مهرابی ، سعیده عرب|',\n",
              "  'شهاب حسینی ، نازنین بیاتی ، نادر فلاح ، نازنین فراهانی ، پریوش نظریه|',\n",
              "  'بهرام رادان ، فرهاد اصلانی ، آناهیتا نعمتی ، سحر دولتشاهی ، مینا ساداتی ، ژاله صامتی ، محسن کیایی|',\n",
              "  'محمد بحرانی ، حمیدرضا فلاحی ، شکرخدا گودرزی ، علیرضا مهران ، سیروس همتی|',\n",
              "  'همایون ارشادی ، مریلا زارعی ، مصطفی زمانی|',\n",
              "  'نیکی کریمی ، علی مصفا ، پانته آ بهرام ، طناز طباطبایی ، بابک حمیدیان ، ریما رامین فر ، سحر دولتشاهی ، بابک کریمی ، بهرنگ علوی ، حسام محمودی|',\n",
              "  'ساره بیات ، پژمان بازغی ، نوید محمدزاده ، نسرین بابایی ، میلاد حسین پور ، رضا راد|',\n",
              "  'اکبر عبدی ، محمدرضا فروتن|',\n",
              "  'برزو ارجمند ، ماه چهره خلیلی ، کاوه سماک باشی ، رحیم نوروزی|',\n",
              "  'محمدرضا احمدی ، احمد ایران دوست ، بهنوش بختیاری ، یوسف تیموری ، مختار سائقی ، علی صادقی ، سحر قریشی ، اردشیر کاظمی ، صدیقه کیانفر ، سیروس گرجستانی ، بهشاد مختاری ، رضا ناجی|',\n",
              "  'ترلان پروانه ، محسن تنابنده ، سیما تیرانداز ، رضا داوودنژاد|',\n",
              "  'نیما شاهرخ شاهی ، پرستو صالحی ، نرگس محمدی|',\n",
              "  'پژمان بازغی ، رز رضوی ، نیما شاهرخ شاهی ، مجید شهریاری ، سحر قریشی ، نسرین مقانلو|',\n",
              "  'سحر دولتشاهی ، مونا قاسمی ، هادی کاظمی ، میلاد کی مرام ، بهدخت ولیان|',\n",
              "  'پانته آ پناهیها ، بهنام تشکر ، بابک حمیدیان ، علی دهبان ، مینا ساداتی ، ساغر قناعت ، محسن کیایی|',\n",
              "  'الناز حبیبی ، سام درخشانی ، لیندا کیانی ، شهره لرستانی ، شبنم مقدمی ، احمد مهران فر|',\n",
              "  'علیرضا استادی ، محمود جعفری ، امین حیایی ، افشین سنگ چاپ ، مهراوه شریفی نیا ، ژاله صامتی ، نادر فلاح ، جمشید هاشم پور|',\n",
              "  'محمدرضا شریفی\\u200cنیا ، حمید فرخ نژاد|',\n",
              "  'گوهر خیراندیش ، سام درخشانی ، مریم سعادت ، بهرنگ علوی ، بهاره کیان افشار|',\n",
              "  'سعید آقاخانی ، مهناز افشار ، حسن پورشیرازی ، گیتی معینی ، حسین ملکی|',\n",
              "  'مهران احمدی ، محمدحسین امیدی ، پرویز پرستویی ، الناز شاکردوست ، محسن کیایی|']]"
            ]
          },
          "metadata": {},
          "execution_count": 175
        }
      ]
    },
    {
      "cell_type": "code",
      "source": [
        "len(names_list)"
      ],
      "metadata": {
        "colab": {
          "base_uri": "https://localhost:8080/"
        },
        "id": "6_E1Zl2BE-_b",
        "outputId": "df2f62b2-fcb5-4b8b-9f8b-3e6081262e59"
      },
      "id": "6_E1Zl2BE-_b",
      "execution_count": null,
      "outputs": [
        {
          "output_type": "execute_result",
          "data": {
            "text/plain": [
              "8"
            ]
          },
          "metadata": {},
          "execution_count": 176
        }
      ]
    },
    {
      "cell_type": "code",
      "source": [
        "from collections import Counter\n",
        "\n",
        "\n",
        "# count the elements in the list\n",
        "most_common_in_each_list = [Counter(sublist).most_common(1)[0][0] for sublist in names_list]\n",
        "\n",
        "# print the result\n",
        "print(most_common_in_each_list)"
      ],
      "metadata": {
        "colab": {
          "base_uri": "https://localhost:8080/"
        },
        "id": "tRAPFV6eCLJ5",
        "outputId": "75072b6f-f4f2-4b71-f7e3-2f091da20b4d"
      },
      "id": "tRAPFV6eCLJ5",
      "execution_count": null,
      "outputs": [
        {
          "output_type": "stream",
          "name": "stdout",
          "text": [
            "['فخرالزمان جبار وزیری ، عبدالحسین سپنتا ، ایران دفتری ، روح انگیز|', 'ایرج دوستدار ، میشا ، نیکتاج صبری ، مهرانگیز وحدت ، قاجار|', 'روانبخش ، فرانک میرقهاری ، هوشنگ سارنگ ، حیدر صارمی ، آفت ، مصدق ، غلامحسین بهمنیار ، جواد تقدسی|', 'فروزان ، منوچهر وثوق ، آراماییس وارطان یوسفیانس ، علی میری ، منصور متین ، محسن آراسته ، یدی ، محمد عبدی ، سیمین غفاری ، محسن مهدوی ، فرنگیس فروهر|', 'رمضان امیری ، ایراندخت آل بویه|', 'مهدی هاشمی ، محمدعلی کشاورز ، اسماعیل داورفر ، سیامک اطلسی ، حسن رضایی ، فریبا کوثری ، مهین شهابی ، آزیتا صالحی ، عبدالرضا اکبری ، امراله صابری ، محمد سادات ابهری ، جهانگیر فروهر ، اکبر دودکار ، میرصلاح حسینی ، محمد ورشوچی|', 'محمدعلی شمس ، پگاه عسگری ، داریوش مؤدبیان ، ابوالفضل توکلی|', 'حسین یاری ، هانیه توسلی ، شبنم مقدمی ، بهناز جعفری ، شیرین یزدان بخش ، امید روحانی ، رویا تیموریان|']\n"
          ]
        }
      ]
    },
    {
      "cell_type": "code",
      "source": [
        "decades = np.arange(1310,1400,10)\n",
        "decades = np.delete(decades,1)\n",
        "decades\n",
        "df = pd.DataFrame({'decade': decades, 'star': most_common_in_each_list})\n",
        "df"
      ],
      "metadata": {
        "colab": {
          "base_uri": "https://localhost:8080/",
          "height": 300
        },
        "id": "nw4XTmReDSvr",
        "outputId": "a9e42e1f-50b5-48bc-b0c9-40fbfa26c086"
      },
      "id": "nw4XTmReDSvr",
      "execution_count": null,
      "outputs": [
        {
          "output_type": "execute_result",
          "data": {
            "text/plain": [
              "   decade                                               star\n",
              "0    1310  فخرالزمان جبار وزیری ، عبدالحسین سپنتا ، ایران...\n",
              "1    1330  ایرج دوستدار ، میشا ، نیکتاج صبری ، مهرانگیز و...\n",
              "2    1340  روانبخش ، فرانک میرقهاری ، هوشنگ سارنگ ، حیدر ...\n",
              "3    1350  فروزان ، منوچهر وثوق ، آراماییس وارطان یوسفیان...\n",
              "4    1360                    رمضان امیری ، ایراندخت آل بویه|\n",
              "5    1370  مهدی هاشمی ، محمدعلی کشاورز ، اسماعیل داورفر ،...\n",
              "6    1380  محمدعلی شمس ، پگاه عسگری ، داریوش مؤدبیان ، اب...\n",
              "7    1390  حسین یاری ، هانیه توسلی ، شبنم مقدمی ، بهناز ج..."
            ],
            "text/html": [
              "\n",
              "  <div id=\"df-c30659d1-cbe6-4f8a-a5d7-4809068199eb\">\n",
              "    <div class=\"colab-df-container\">\n",
              "      <div>\n",
              "<style scoped>\n",
              "    .dataframe tbody tr th:only-of-type {\n",
              "        vertical-align: middle;\n",
              "    }\n",
              "\n",
              "    .dataframe tbody tr th {\n",
              "        vertical-align: top;\n",
              "    }\n",
              "\n",
              "    .dataframe thead th {\n",
              "        text-align: right;\n",
              "    }\n",
              "</style>\n",
              "<table border=\"1\" class=\"dataframe\">\n",
              "  <thead>\n",
              "    <tr style=\"text-align: right;\">\n",
              "      <th></th>\n",
              "      <th>decade</th>\n",
              "      <th>star</th>\n",
              "    </tr>\n",
              "  </thead>\n",
              "  <tbody>\n",
              "    <tr>\n",
              "      <th>0</th>\n",
              "      <td>1310</td>\n",
              "      <td>فخرالزمان جبار وزیری ، عبدالحسین سپنتا ، ایران...</td>\n",
              "    </tr>\n",
              "    <tr>\n",
              "      <th>1</th>\n",
              "      <td>1330</td>\n",
              "      <td>ایرج دوستدار ، میشا ، نیکتاج صبری ، مهرانگیز و...</td>\n",
              "    </tr>\n",
              "    <tr>\n",
              "      <th>2</th>\n",
              "      <td>1340</td>\n",
              "      <td>روانبخش ، فرانک میرقهاری ، هوشنگ سارنگ ، حیدر ...</td>\n",
              "    </tr>\n",
              "    <tr>\n",
              "      <th>3</th>\n",
              "      <td>1350</td>\n",
              "      <td>فروزان ، منوچهر وثوق ، آراماییس وارطان یوسفیان...</td>\n",
              "    </tr>\n",
              "    <tr>\n",
              "      <th>4</th>\n",
              "      <td>1360</td>\n",
              "      <td>رمضان امیری ، ایراندخت آل بویه|</td>\n",
              "    </tr>\n",
              "    <tr>\n",
              "      <th>5</th>\n",
              "      <td>1370</td>\n",
              "      <td>مهدی هاشمی ، محمدعلی کشاورز ، اسماعیل داورفر ،...</td>\n",
              "    </tr>\n",
              "    <tr>\n",
              "      <th>6</th>\n",
              "      <td>1380</td>\n",
              "      <td>محمدعلی شمس ، پگاه عسگری ، داریوش مؤدبیان ، اب...</td>\n",
              "    </tr>\n",
              "    <tr>\n",
              "      <th>7</th>\n",
              "      <td>1390</td>\n",
              "      <td>حسین یاری ، هانیه توسلی ، شبنم مقدمی ، بهناز ج...</td>\n",
              "    </tr>\n",
              "  </tbody>\n",
              "</table>\n",
              "</div>\n",
              "      <button class=\"colab-df-convert\" onclick=\"convertToInteractive('df-c30659d1-cbe6-4f8a-a5d7-4809068199eb')\"\n",
              "              title=\"Convert this dataframe to an interactive table.\"\n",
              "              style=\"display:none;\">\n",
              "        \n",
              "  <svg xmlns=\"http://www.w3.org/2000/svg\" height=\"24px\"viewBox=\"0 0 24 24\"\n",
              "       width=\"24px\">\n",
              "    <path d=\"M0 0h24v24H0V0z\" fill=\"none\"/>\n",
              "    <path d=\"M18.56 5.44l.94 2.06.94-2.06 2.06-.94-2.06-.94-.94-2.06-.94 2.06-2.06.94zm-11 1L8.5 8.5l.94-2.06 2.06-.94-2.06-.94L8.5 2.5l-.94 2.06-2.06.94zm10 10l.94 2.06.94-2.06 2.06-.94-2.06-.94-.94-2.06-.94 2.06-2.06.94z\"/><path d=\"M17.41 7.96l-1.37-1.37c-.4-.4-.92-.59-1.43-.59-.52 0-1.04.2-1.43.59L10.3 9.45l-7.72 7.72c-.78.78-.78 2.05 0 2.83L4 21.41c.39.39.9.59 1.41.59.51 0 1.02-.2 1.41-.59l7.78-7.78 2.81-2.81c.8-.78.8-2.07 0-2.86zM5.41 20L4 18.59l7.72-7.72 1.47 1.35L5.41 20z\"/>\n",
              "  </svg>\n",
              "      </button>\n",
              "      \n",
              "  <style>\n",
              "    .colab-df-container {\n",
              "      display:flex;\n",
              "      flex-wrap:wrap;\n",
              "      gap: 12px;\n",
              "    }\n",
              "\n",
              "    .colab-df-convert {\n",
              "      background-color: #E8F0FE;\n",
              "      border: none;\n",
              "      border-radius: 50%;\n",
              "      cursor: pointer;\n",
              "      display: none;\n",
              "      fill: #1967D2;\n",
              "      height: 32px;\n",
              "      padding: 0 0 0 0;\n",
              "      width: 32px;\n",
              "    }\n",
              "\n",
              "    .colab-df-convert:hover {\n",
              "      background-color: #E2EBFA;\n",
              "      box-shadow: 0px 1px 2px rgba(60, 64, 67, 0.3), 0px 1px 3px 1px rgba(60, 64, 67, 0.15);\n",
              "      fill: #174EA6;\n",
              "    }\n",
              "\n",
              "    [theme=dark] .colab-df-convert {\n",
              "      background-color: #3B4455;\n",
              "      fill: #D2E3FC;\n",
              "    }\n",
              "\n",
              "    [theme=dark] .colab-df-convert:hover {\n",
              "      background-color: #434B5C;\n",
              "      box-shadow: 0px 1px 3px 1px rgba(0, 0, 0, 0.15);\n",
              "      filter: drop-shadow(0px 1px 2px rgba(0, 0, 0, 0.3));\n",
              "      fill: #FFFFFF;\n",
              "    }\n",
              "  </style>\n",
              "\n",
              "      <script>\n",
              "        const buttonEl =\n",
              "          document.querySelector('#df-c30659d1-cbe6-4f8a-a5d7-4809068199eb button.colab-df-convert');\n",
              "        buttonEl.style.display =\n",
              "          google.colab.kernel.accessAllowed ? 'block' : 'none';\n",
              "\n",
              "        async function convertToInteractive(key) {\n",
              "          const element = document.querySelector('#df-c30659d1-cbe6-4f8a-a5d7-4809068199eb');\n",
              "          const dataTable =\n",
              "            await google.colab.kernel.invokeFunction('convertToInteractive',\n",
              "                                                     [key], {});\n",
              "          if (!dataTable) return;\n",
              "\n",
              "          const docLinkHtml = 'Like what you see? Visit the ' +\n",
              "            '<a target=\"_blank\" href=https://colab.research.google.com/notebooks/data_table.ipynb>data table notebook</a>'\n",
              "            + ' to learn more about interactive tables.';\n",
              "          element.innerHTML = '';\n",
              "          dataTable['output_type'] = 'display_data';\n",
              "          await google.colab.output.renderOutput(dataTable, element);\n",
              "          const docLink = document.createElement('div');\n",
              "          docLink.innerHTML = docLinkHtml;\n",
              "          element.appendChild(docLink);\n",
              "        }\n",
              "      </script>\n",
              "    </div>\n",
              "  </div>\n",
              "  "
            ]
          },
          "metadata": {},
          "execution_count": 187
        }
      ]
    },
    {
      "cell_type": "code",
      "source": [],
      "metadata": {
        "id": "MKkqA2YdERcQ"
      },
      "id": "MKkqA2YdERcQ",
      "execution_count": null,
      "outputs": []
    }
  ],
  "metadata": {
    "kernelspec": {
      "display_name": "Python 3 (ipykernel)",
      "language": "python",
      "name": "python3"
    },
    "language_info": {
      "codemirror_mode": {
        "name": "ipython",
        "version": 3
      },
      "file_extension": ".py",
      "mimetype": "text/x-python",
      "name": "python",
      "nbconvert_exporter": "python",
      "pygments_lexer": "ipython3",
      "version": "3.10.0"
    },
    "colab": {
      "provenance": [],
      "collapsed_sections": [
        "f8a0e5d3-822e-4dff-bc9c-810fce62df8d",
        "ebc855e5-83ee-4c8b-a6e9-f315f2017626",
        "95dfc7c9-a963-4546-b446-d1e04defaa87",
        "44221776-8340-47c8-b891-0e769addc787",
        "55f1fd82-3630-4f4c-84b6-ae6466be7a3d",
        "947a30ab-ba6e-41ab-8357-ed44a521040f",
        "6d90e90a-37fb-4d6b-835d-23158723f004",
        "e89158bf-5d06-41c4-a8c0-bbf4ca824eab",
        "9067cf2e-b624-47e3-8315-c21a007f6aa3"
      ],
      "include_colab_link": true
    }
  },
  "nbformat": 4,
  "nbformat_minor": 5
}